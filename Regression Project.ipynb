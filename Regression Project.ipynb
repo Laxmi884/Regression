{
 "cells": [
  {
   "cell_type": "markdown",
   "metadata": {
    "id": "vncDsAP0Gaoa"
   },
   "source": [
    "# **Project Name**    - \n",
    "\n"
   ]
  },
  {
   "cell_type": "markdown",
   "metadata": {
    "id": "beRrZCGUAJYm"
   },
   "source": [
    "##### **Project Type**    - Regression (Yes Bank Stock Closing Price Prediction)\n",
    "##### **Contribution**    - Individual\n",
    "##### **Team Member 1 -** Laxmikant Mukkawar"
   ]
  },
  {
   "cell_type": "markdown",
   "metadata": {
    "id": "FJNUwmbgGyua"
   },
   "source": [
    "# **Project Summary -**"
   ]
  },
  {
   "cell_type": "markdown",
   "metadata": {
    "id": "F6v_1wHtG2nS"
   },
   "source": [
    "This project focuses on predicting Yes Bank's stock closing prices using regression analysis. The primary objective is to develop a robust predictive model that can accurately forecast future stock prices based on historical data and relevant features.\n",
    "\n",
    "Project Overview\n",
    "Project Type: Regression Analysis\n",
    "Domain: Financial Market Analysis\n",
    "Objective: Predict Yes Bank's stock closing prices\n",
    "Contribution: Individual project by Laxmikant Mukkawar\n",
    "Data Analysis\n",
    "The project begins with comprehensive data analysis, including:\n",
    "\n",
    "Exploratory Data Analysis (EDA) to understand data patterns and distributions\n",
    "Feature engineering to create relevant predictors\n",
    "Data preprocessing and cleaning\n",
    "Time series analysis for temporal patterns\n",
    "Methodology\n",
    "The project employs multiple regression techniques:\n",
    "\n",
    "Linear Regression\n",
    "Decision Tree Regression\n",
    "Random Forest Regression\n",
    "Gradient Boosting Regression\n",
    "Support Vector Regression\n",
    "Model Evaluation\n",
    "Models are evaluated using:\n",
    "\n",
    "Train-test split validation\n",
    "Cross-validation techniques\n",
    "Performance metrics including:\n",
    "Mean Absolute Error (MAE)\n",
    "Mean Squared Error (MSE)\n",
    "Root Mean Squared Error (RMSE)\n",
    "R-squared (R²) score\n",
    "Key Findings\n",
    "Identification of most influential features affecting stock prices\n",
    "Comparison of different regression models' performance\n",
    "Insights into temporal patterns in stock prices\n",
    "Best-performing model selection based on validation metrics\n",
    "Business Impact\n",
    "The predictive model can help:\n",
    "\n",
    "Investors make informed trading decisions\n",
    "Financial analysts forecast market trends\n",
    "Risk management teams assess potential market movements\n",
    "Portfolio managers optimize investment strategies\n",
    "Future Work\n",
    "Incorporating additional external factors (economic indicators, news sentiment)\n",
    "Implementing more advanced time series forecasting techniques\n",
    "Developing a real-time prediction system\n",
    "Enhancing model robustness with ensemble methods\n",
    "This project demonstrates the application of machine learning techniques in financial market analysis, providing valuable insights into stock price prediction using regression analysis."
   ]
  },
  {
   "cell_type": "markdown",
   "metadata": {
    "id": "w6K7xa23Elo4"
   },
   "source": [
    "# **GitHub Link -**"
   ]
  },
  {
   "cell_type": "markdown",
   "metadata": {
    "id": "h1o69JH3Eqqn"
   },
   "source": [
    "Provide your GitHub Link here."
   ]
  },
  {
   "cell_type": "markdown",
   "metadata": {
    "id": "yQaldy8SH6Dl"
   },
   "source": [
    "# **Problem Statement**\n"
   ]
  },
  {
   "cell_type": "markdown",
   "metadata": {
    "id": "DpeJGUA3kjGy"
   },
   "source": [
    "The problem is to predict the closing stock prices of Yes Bank using historical data and relevant features. This involves analyzing patterns, trends, and relationships in the data to build a robust regression model capable of accurate predictions."
   ]
  },
  {
   "cell_type": "markdown",
   "metadata": {
    "id": "mDgbUHAGgjLW"
   },
   "source": [
    "# **General Guidelines** : -  "
   ]
  },
  {
   "cell_type": "markdown",
   "metadata": {
    "id": "ZrxVaUj-hHfC"
   },
   "source": [
    "1.   Well-structured, formatted, and commented code is required. \n",
    "2.   Exception Handling, Production Grade Code & Deployment Ready Code will be a plus. Those students will be awarded some additional credits. \n",
    "     \n",
    "     The additional credits will have advantages over other students during Star Student selection.\n",
    "       \n",
    "             [ Note: - Deployment Ready Code is defined as, the whole .ipynb notebook should be executable in one go\n",
    "                       without a single error logged. ]\n",
    "\n",
    "3.   Each and every logic should have proper comments.\n",
    "4. You may add as many number of charts you want. Make Sure for each and every chart the following format should be answered.\n",
    "        \n",
    "\n",
    "```\n",
    "# Chart visualization code\n",
    "```\n",
    "            \n",
    "\n",
    "*   Why did you pick the specific chart?\n",
    "*   What is/are the insight(s) found from the chart?\n",
    "* Will the gained insights help creating a positive business impact? \n",
    "Are there any insights that lead to negative growth? Justify with specific reason.\n",
    "\n",
    "5. You have to create at least 15 logical & meaningful charts having important insights.\n",
    "\n",
    "\n",
    "[ Hints : - Do the Vizualization in  a structured way while following \"UBM\" Rule. \n",
    "\n",
    "U - Univariate Analysis,\n",
    "\n",
    "B - Bivariate Analysis (Numerical - Categorical, Numerical - Numerical, Categorical - Categorical)\n",
    "\n",
    "M - Multivariate Analysis\n",
    " ]\n",
    "\n",
    "\n",
    "\n",
    "\n",
    "\n",
    "6. You may add more ml algorithms for model creation. Make sure for each and every algorithm, the following format should be answered.\n",
    "\n",
    "\n",
    "*   Explain the ML Model used and it's performance using Evaluation metric Score Chart.\n",
    "\n",
    "\n",
    "*   Cross- Validation & Hyperparameter Tuning\n",
    "\n",
    "*   Have you seen any improvement? Note down the improvement with updates Evaluation metric Score Chart.\n",
    "\n",
    "*   Explain each evaluation metric's indication towards business and the business impact pf the ML model used.\n",
    "\n",
    "\n",
    "\n",
    "\n",
    "\n",
    "\n",
    "\n",
    "\n",
    "\n",
    "\n",
    "\n",
    "\n",
    "\n",
    "\n",
    "\n",
    "\n",
    "\n",
    "\n",
    "\n"
   ]
  },
  {
   "cell_type": "markdown",
   "metadata": {
    "id": "O_i_v8NEhb9l"
   },
   "source": [
    "# ***Let's Begin !***"
   ]
  },
  {
   "cell_type": "markdown",
   "metadata": {
    "id": "HhfV-JJviCcP"
   },
   "source": [
    "## ***1. Know Your Data***"
   ]
  },
  {
   "cell_type": "markdown",
   "metadata": {
    "id": "Y3lxredqlCYt"
   },
   "source": [
    "### Import Libraries"
   ]
  },
  {
   "cell_type": "code",
   "execution_count": 44,
   "metadata": {},
   "outputs": [
    {
     "name": "stdout",
     "output_type": "stream",
     "text": [
      "Requirement already satisfied: scikit-learn in ./.venv/lib/python3.12/site-packages (1.6.1)\n",
      "Requirement already satisfied: numpy>=1.19.5 in ./.venv/lib/python3.12/site-packages (from scikit-learn) (2.2.5)\n",
      "Requirement already satisfied: scipy>=1.6.0 in ./.venv/lib/python3.12/site-packages (from scikit-learn) (1.15.3)\n",
      "Requirement already satisfied: joblib>=1.2.0 in ./.venv/lib/python3.12/site-packages (from scikit-learn) (1.5.0)\n",
      "Requirement already satisfied: threadpoolctl>=3.1.0 in ./.venv/lib/python3.12/site-packages (from scikit-learn) (3.6.0)\n",
      "Note: you may need to restart the kernel to use updated packages.\n",
      "Requirement already satisfied: matplotlib in ./.venv/lib/python3.12/site-packages (3.10.3)\n",
      "Requirement already satisfied: contourpy>=1.0.1 in ./.venv/lib/python3.12/site-packages (from matplotlib) (1.3.2)\n",
      "Requirement already satisfied: cycler>=0.10 in ./.venv/lib/python3.12/site-packages (from matplotlib) (0.12.1)\n",
      "Requirement already satisfied: fonttools>=4.22.0 in ./.venv/lib/python3.12/site-packages (from matplotlib) (4.58.0)\n",
      "Requirement already satisfied: kiwisolver>=1.3.1 in ./.venv/lib/python3.12/site-packages (from matplotlib) (1.4.8)\n",
      "Requirement already satisfied: numpy>=1.23 in ./.venv/lib/python3.12/site-packages (from matplotlib) (2.2.5)\n",
      "Requirement already satisfied: packaging>=20.0 in ./.venv/lib/python3.12/site-packages (from matplotlib) (25.0)\n",
      "Requirement already satisfied: pillow>=8 in ./.venv/lib/python3.12/site-packages (from matplotlib) (11.2.1)\n",
      "Requirement already satisfied: pyparsing>=2.3.1 in ./.venv/lib/python3.12/site-packages (from matplotlib) (3.2.3)\n",
      "Requirement already satisfied: python-dateutil>=2.7 in ./.venv/lib/python3.12/site-packages (from matplotlib) (2.9.0.post0)\n",
      "Requirement already satisfied: six>=1.5 in ./.venv/lib/python3.12/site-packages (from python-dateutil>=2.7->matplotlib) (1.17.0)\n",
      "Note: you may need to restart the kernel to use updated packages.\n",
      "Requirement already satisfied: pandas in ./.venv/lib/python3.12/site-packages (2.2.3)\n",
      "Requirement already satisfied: numpy>=1.26.0 in ./.venv/lib/python3.12/site-packages (from pandas) (2.2.5)\n",
      "Requirement already satisfied: python-dateutil>=2.8.2 in ./.venv/lib/python3.12/site-packages (from pandas) (2.9.0.post0)\n",
      "Requirement already satisfied: pytz>=2020.1 in ./.venv/lib/python3.12/site-packages (from pandas) (2025.2)\n",
      "Requirement already satisfied: tzdata>=2022.7 in ./.venv/lib/python3.12/site-packages (from pandas) (2025.2)\n",
      "Requirement already satisfied: six>=1.5 in ./.venv/lib/python3.12/site-packages (from python-dateutil>=2.8.2->pandas) (1.17.0)\n",
      "Note: you may need to restart the kernel to use updated packages.\n",
      "Requirement already satisfied: seaborn in ./.venv/lib/python3.12/site-packages (0.13.2)\n",
      "Requirement already satisfied: numpy!=1.24.0,>=1.20 in ./.venv/lib/python3.12/site-packages (from seaborn) (2.2.5)\n",
      "Requirement already satisfied: pandas>=1.2 in ./.venv/lib/python3.12/site-packages (from seaborn) (2.2.3)\n",
      "Requirement already satisfied: matplotlib!=3.6.1,>=3.4 in ./.venv/lib/python3.12/site-packages (from seaborn) (3.10.3)\n",
      "Requirement already satisfied: contourpy>=1.0.1 in ./.venv/lib/python3.12/site-packages (from matplotlib!=3.6.1,>=3.4->seaborn) (1.3.2)\n",
      "Requirement already satisfied: cycler>=0.10 in ./.venv/lib/python3.12/site-packages (from matplotlib!=3.6.1,>=3.4->seaborn) (0.12.1)\n",
      "Requirement already satisfied: fonttools>=4.22.0 in ./.venv/lib/python3.12/site-packages (from matplotlib!=3.6.1,>=3.4->seaborn) (4.58.0)\n",
      "Requirement already satisfied: kiwisolver>=1.3.1 in ./.venv/lib/python3.12/site-packages (from matplotlib!=3.6.1,>=3.4->seaborn) (1.4.8)\n",
      "Requirement already satisfied: packaging>=20.0 in ./.venv/lib/python3.12/site-packages (from matplotlib!=3.6.1,>=3.4->seaborn) (25.0)\n",
      "Requirement already satisfied: pillow>=8 in ./.venv/lib/python3.12/site-packages (from matplotlib!=3.6.1,>=3.4->seaborn) (11.2.1)\n",
      "Requirement already satisfied: pyparsing>=2.3.1 in ./.venv/lib/python3.12/site-packages (from matplotlib!=3.6.1,>=3.4->seaborn) (3.2.3)\n",
      "Requirement already satisfied: python-dateutil>=2.7 in ./.venv/lib/python3.12/site-packages (from matplotlib!=3.6.1,>=3.4->seaborn) (2.9.0.post0)\n",
      "Requirement already satisfied: pytz>=2020.1 in ./.venv/lib/python3.12/site-packages (from pandas>=1.2->seaborn) (2025.2)\n",
      "Requirement already satisfied: tzdata>=2022.7 in ./.venv/lib/python3.12/site-packages (from pandas>=1.2->seaborn) (2025.2)\n",
      "Requirement already satisfied: six>=1.5 in ./.venv/lib/python3.12/site-packages (from python-dateutil>=2.7->matplotlib!=3.6.1,>=3.4->seaborn) (1.17.0)\n",
      "Note: you may need to restart the kernel to use updated packages.\n",
      "Requirement already satisfied: numpy in ./.venv/lib/python3.12/site-packages (2.2.5)\n",
      "Note: you may need to restart the kernel to use updated packages.\n",
      "Requirement already satisfied: plotly in ./.venv/lib/python3.12/site-packages (6.0.1)\n",
      "Requirement already satisfied: narwhals>=1.15.1 in ./.venv/lib/python3.12/site-packages (from plotly) (1.38.2)\n",
      "Requirement already satisfied: packaging in ./.venv/lib/python3.12/site-packages (from plotly) (25.0)\n",
      "Note: you may need to restart the kernel to use updated packages.\n",
      "Requirement already satisfied: plotly_express in ./.venv/lib/python3.12/site-packages (0.4.1)\n",
      "Requirement already satisfied: pandas>=0.20.0 in ./.venv/lib/python3.12/site-packages (from plotly_express) (2.2.3)\n",
      "Requirement already satisfied: plotly>=4.1.0 in ./.venv/lib/python3.12/site-packages (from plotly_express) (6.0.1)\n",
      "Requirement already satisfied: statsmodels>=0.9.0 in ./.venv/lib/python3.12/site-packages (from plotly_express) (0.14.4)\n",
      "Requirement already satisfied: scipy>=0.18 in ./.venv/lib/python3.12/site-packages (from plotly_express) (1.15.3)\n",
      "Requirement already satisfied: patsy>=0.5 in ./.venv/lib/python3.12/site-packages (from plotly_express) (1.0.1)\n",
      "Requirement already satisfied: numpy>=1.11 in ./.venv/lib/python3.12/site-packages (from plotly_express) (2.2.5)\n",
      "Requirement already satisfied: python-dateutil>=2.8.2 in ./.venv/lib/python3.12/site-packages (from pandas>=0.20.0->plotly_express) (2.9.0.post0)\n",
      "Requirement already satisfied: pytz>=2020.1 in ./.venv/lib/python3.12/site-packages (from pandas>=0.20.0->plotly_express) (2025.2)\n",
      "Requirement already satisfied: tzdata>=2022.7 in ./.venv/lib/python3.12/site-packages (from pandas>=0.20.0->plotly_express) (2025.2)\n",
      "Requirement already satisfied: narwhals>=1.15.1 in ./.venv/lib/python3.12/site-packages (from plotly>=4.1.0->plotly_express) (1.38.2)\n",
      "Requirement already satisfied: packaging in ./.venv/lib/python3.12/site-packages (from plotly>=4.1.0->plotly_express) (25.0)\n",
      "Requirement already satisfied: six>=1.5 in ./.venv/lib/python3.12/site-packages (from python-dateutil>=2.8.2->pandas>=0.20.0->plotly_express) (1.17.0)\n",
      "Note: you may need to restart the kernel to use updated packages.\n",
      "Requirement already satisfied: numpy in ./.venv/lib/python3.12/site-packages (2.2.5)\n",
      "Note: you may need to restart the kernel to use updated packages.\n",
      "zsh:1: 4.2.0 not found\n",
      "Note: you may need to restart the kernel to use updated packages.\n"
     ]
    }
   ],
   "source": [
    "# install required packages\n",
    "%pip install scikit-learn\n",
    "%pip install matplotlib\n",
    "%pip install pandas\n",
    "%pip install seaborn\n",
    "%pip install numpy\n",
    "%pip install plotly\n",
    "%pip install plotly_express\n",
    "%pip install numpy\n",
    "%pip install nbformat>=4.2.0"
   ]
  },
  {
   "cell_type": "code",
   "execution_count": 29,
   "metadata": {
    "id": "M8Vqi-pPk-HR"
   },
   "outputs": [
    {
     "data": {
      "text/html": [
       "        <script type=\"text/javascript\">\n",
       "        window.PlotlyConfig = {MathJaxConfig: 'local'};\n",
       "        if (window.MathJax && window.MathJax.Hub && window.MathJax.Hub.Config) {window.MathJax.Hub.Config({SVG: {font: \"STIX-Web\"}});}\n",
       "        </script>\n",
       "        <script type=\"module\">import \"https://cdn.plot.ly/plotly-3.0.1.min\"</script>\n",
       "        "
      ]
     },
     "metadata": {},
     "output_type": "display_data"
    }
   ],
   "source": [
    "# Import Libraries\n",
    "import pandas as pd\n",
    "import numpy as np\n",
    "import matplotlib.pyplot as plt\n",
    "import seaborn as sns\n",
    "import statsmodels.api as sm\n",
    "import statsmodels.formula.api as smf\n",
    "import statsmodels.stats.api as sms\n",
    "import statsmodels.stats.proportion as smp  \n",
    "import statsmodels.stats.multitest as smm\n",
    "from sklearn.model_selection import train_test_split\n",
    "from sklearn.linear_model import LogisticRegression\n",
    "from sklearn.metrics import confusion_matrix\n",
    "from sklearn.metrics import classification_report\n",
    "from sklearn.metrics import roc_auc_score\n",
    "from sklearn.metrics import roc_curve\n",
    "from sklearn.metrics import accuracy_score\n",
    "from sklearn.metrics import precision_score\n",
    "from sklearn.metrics import recall_score\n",
    "from sklearn.metrics import f1_score\n",
    "from sklearn.preprocessing import StandardScaler\n",
    "from sklearn.preprocessing import MinMaxScaler  \n",
    "import plotly.graph_objects as go\n",
    "from plotly.offline import init_notebook_mode, iplot\n",
    "init_notebook_mode(connected=True)\n",
    "import matplotlib.dates as mdates # For date formatting and locators\n",
    "from matplotlib.ticker import MaxNLocator\n",
    "import plotly.express as px\n"
   ]
  },
  {
   "cell_type": "markdown",
   "metadata": {
    "id": "3RnN4peoiCZX"
   },
   "source": [
    "### Dataset Loading"
   ]
  },
  {
   "cell_type": "code",
   "execution_count": 3,
   "metadata": {
    "id": "4CkvbW_SlZ_R"
   },
   "outputs": [],
   "source": [
    "# Load Dataset\n",
    "df = pd.read_csv(\"data_YesBank_StockPrices.csv\")"
   ]
  },
  {
   "cell_type": "markdown",
   "metadata": {
    "id": "x71ZqKXriCWQ"
   },
   "source": [
    "### Dataset First View"
   ]
  },
  {
   "cell_type": "code",
   "execution_count": 27,
   "metadata": {
    "id": "LWNFOSvLl09H"
   },
   "outputs": [
    {
     "data": {
      "text/html": [
       "<div>\n",
       "<style scoped>\n",
       "    .dataframe tbody tr th:only-of-type {\n",
       "        vertical-align: middle;\n",
       "    }\n",
       "\n",
       "    .dataframe tbody tr th {\n",
       "        vertical-align: top;\n",
       "    }\n",
       "\n",
       "    .dataframe thead th {\n",
       "        text-align: right;\n",
       "    }\n",
       "</style>\n",
       "<table border=\"1\" class=\"dataframe\">\n",
       "  <thead>\n",
       "    <tr style=\"text-align: right;\">\n",
       "      <th></th>\n",
       "      <th>Date</th>\n",
       "      <th>Open</th>\n",
       "      <th>High</th>\n",
       "      <th>Low</th>\n",
       "      <th>Close</th>\n",
       "    </tr>\n",
       "  </thead>\n",
       "  <tbody>\n",
       "    <tr>\n",
       "      <th>0</th>\n",
       "      <td>Jul-05</td>\n",
       "      <td>13.00</td>\n",
       "      <td>14.00</td>\n",
       "      <td>11.25</td>\n",
       "      <td>12.46</td>\n",
       "    </tr>\n",
       "    <tr>\n",
       "      <th>1</th>\n",
       "      <td>Aug-05</td>\n",
       "      <td>12.58</td>\n",
       "      <td>14.88</td>\n",
       "      <td>12.55</td>\n",
       "      <td>13.42</td>\n",
       "    </tr>\n",
       "    <tr>\n",
       "      <th>2</th>\n",
       "      <td>Sep-05</td>\n",
       "      <td>13.48</td>\n",
       "      <td>14.87</td>\n",
       "      <td>12.27</td>\n",
       "      <td>13.30</td>\n",
       "    </tr>\n",
       "    <tr>\n",
       "      <th>3</th>\n",
       "      <td>Oct-05</td>\n",
       "      <td>13.20</td>\n",
       "      <td>14.47</td>\n",
       "      <td>12.40</td>\n",
       "      <td>12.99</td>\n",
       "    </tr>\n",
       "    <tr>\n",
       "      <th>4</th>\n",
       "      <td>Nov-05</td>\n",
       "      <td>13.35</td>\n",
       "      <td>13.88</td>\n",
       "      <td>12.88</td>\n",
       "      <td>13.41</td>\n",
       "    </tr>\n",
       "  </tbody>\n",
       "</table>\n",
       "</div>"
      ],
      "text/plain": [
       "     Date   Open   High    Low  Close\n",
       "0  Jul-05  13.00  14.00  11.25  12.46\n",
       "1  Aug-05  12.58  14.88  12.55  13.42\n",
       "2  Sep-05  13.48  14.87  12.27  13.30\n",
       "3  Oct-05  13.20  14.47  12.40  12.99\n",
       "4  Nov-05  13.35  13.88  12.88  13.41"
      ]
     },
     "execution_count": 27,
     "metadata": {},
     "output_type": "execute_result"
    }
   ],
   "source": [
    "# Dataset First Look\n",
    "df.head()"
   ]
  },
  {
   "cell_type": "markdown",
   "metadata": {
    "id": "7hBIi_osiCS2"
   },
   "source": [
    "### Dataset Rows & Columns count"
   ]
  },
  {
   "cell_type": "code",
   "execution_count": 28,
   "metadata": {
    "id": "Kllu7SJgmLij"
   },
   "outputs": [
    {
     "data": {
      "text/plain": [
       "(185, 5)"
      ]
     },
     "execution_count": 28,
     "metadata": {},
     "output_type": "execute_result"
    }
   ],
   "source": [
    "# Dataset Rows & Columns count\n",
    "df.shape"
   ]
  },
  {
   "cell_type": "markdown",
   "metadata": {
    "id": "JlHwYmJAmNHm"
   },
   "source": [
    "### Dataset Information"
   ]
  },
  {
   "cell_type": "code",
   "execution_count": 29,
   "metadata": {
    "id": "e9hRXRi6meOf"
   },
   "outputs": [
    {
     "name": "stdout",
     "output_type": "stream",
     "text": [
      "<class 'pandas.core.frame.DataFrame'>\n",
      "RangeIndex: 185 entries, 0 to 184\n",
      "Data columns (total 5 columns):\n",
      " #   Column  Non-Null Count  Dtype  \n",
      "---  ------  --------------  -----  \n",
      " 0   Date    185 non-null    object \n",
      " 1   Open    185 non-null    float64\n",
      " 2   High    185 non-null    float64\n",
      " 3   Low     185 non-null    float64\n",
      " 4   Close   185 non-null    float64\n",
      "dtypes: float64(4), object(1)\n",
      "memory usage: 7.4+ KB\n"
     ]
    }
   ],
   "source": [
    "# Dataset Info\n",
    "df.info()"
   ]
  },
  {
   "cell_type": "markdown",
   "metadata": {
    "id": "35m5QtbWiB9F"
   },
   "source": [
    "#### Duplicate Values"
   ]
  },
  {
   "cell_type": "code",
   "execution_count": 9,
   "metadata": {
    "id": "1sLdpKYkmox0"
   },
   "outputs": [
    {
     "name": "stdout",
     "output_type": "stream",
     "text": [
      "0\n"
     ]
    }
   ],
   "source": [
    "# Dataset Duplicate Value Count\n",
    "print(df.duplicated().sum())"
   ]
  },
  {
   "cell_type": "markdown",
   "metadata": {
    "id": "PoPl-ycgm1ru"
   },
   "source": [
    "#### Missing Values/Null Values"
   ]
  },
  {
   "cell_type": "code",
   "execution_count": 10,
   "metadata": {
    "id": "GgHWkxvamxVg"
   },
   "outputs": [
    {
     "name": "stdout",
     "output_type": "stream",
     "text": [
      "Date     0\n",
      "Open     0\n",
      "High     0\n",
      "Low      0\n",
      "Close    0\n",
      "dtype: int64\n"
     ]
    }
   ],
   "source": [
    "# Missing Values/Null Values Count\n",
    "print(df.isnull().sum())"
   ]
  },
  {
   "cell_type": "code",
   "execution_count": 14,
   "metadata": {
    "id": "3q5wnI3om9sJ"
   },
   "outputs": [],
   "source": [
    "# Visualizing the missing values\n"
   ]
  },
  {
   "cell_type": "markdown",
   "metadata": {
    "id": "H0kj-8xxnORC"
   },
   "source": [
    "### What did you know about your dataset?"
   ]
  },
  {
   "cell_type": "markdown",
   "metadata": {
    "id": "gfoNAAC-nUe_"
   },
   "source": [
    "Answer Here"
   ]
  },
  {
   "cell_type": "markdown",
   "metadata": {
    "id": "nA9Y7ga8ng1Z"
   },
   "source": [
    "## ***2. Understanding Your Variables***"
   ]
  },
  {
   "cell_type": "code",
   "execution_count": 15,
   "metadata": {
    "id": "j7xfkqrt5Ag5"
   },
   "outputs": [
    {
     "data": {
      "text/plain": [
       "Index(['Date', 'Open', 'High', 'Low', 'Close'], dtype='object')"
      ]
     },
     "execution_count": 15,
     "metadata": {},
     "output_type": "execute_result"
    }
   ],
   "source": [
    "# Dataset Columns\n",
    "df.columns"
   ]
  },
  {
   "cell_type": "code",
   "execution_count": 16,
   "metadata": {
    "id": "DnOaZdaE5Q5t"
   },
   "outputs": [
    {
     "data": {
      "text/html": [
       "<div>\n",
       "<style scoped>\n",
       "    .dataframe tbody tr th:only-of-type {\n",
       "        vertical-align: middle;\n",
       "    }\n",
       "\n",
       "    .dataframe tbody tr th {\n",
       "        vertical-align: top;\n",
       "    }\n",
       "\n",
       "    .dataframe thead th {\n",
       "        text-align: right;\n",
       "    }\n",
       "</style>\n",
       "<table border=\"1\" class=\"dataframe\">\n",
       "  <thead>\n",
       "    <tr style=\"text-align: right;\">\n",
       "      <th></th>\n",
       "      <th>Open</th>\n",
       "      <th>High</th>\n",
       "      <th>Low</th>\n",
       "      <th>Close</th>\n",
       "    </tr>\n",
       "  </thead>\n",
       "  <tbody>\n",
       "    <tr>\n",
       "      <th>count</th>\n",
       "      <td>185.000000</td>\n",
       "      <td>185.000000</td>\n",
       "      <td>185.000000</td>\n",
       "      <td>185.000000</td>\n",
       "    </tr>\n",
       "    <tr>\n",
       "      <th>mean</th>\n",
       "      <td>105.541405</td>\n",
       "      <td>116.104324</td>\n",
       "      <td>94.947838</td>\n",
       "      <td>105.204703</td>\n",
       "    </tr>\n",
       "    <tr>\n",
       "      <th>std</th>\n",
       "      <td>98.879850</td>\n",
       "      <td>106.333497</td>\n",
       "      <td>91.219415</td>\n",
       "      <td>98.583153</td>\n",
       "    </tr>\n",
       "    <tr>\n",
       "      <th>min</th>\n",
       "      <td>10.000000</td>\n",
       "      <td>11.240000</td>\n",
       "      <td>5.550000</td>\n",
       "      <td>9.980000</td>\n",
       "    </tr>\n",
       "    <tr>\n",
       "      <th>25%</th>\n",
       "      <td>33.800000</td>\n",
       "      <td>36.140000</td>\n",
       "      <td>28.510000</td>\n",
       "      <td>33.450000</td>\n",
       "    </tr>\n",
       "    <tr>\n",
       "      <th>50%</th>\n",
       "      <td>62.980000</td>\n",
       "      <td>72.550000</td>\n",
       "      <td>58.000000</td>\n",
       "      <td>62.540000</td>\n",
       "    </tr>\n",
       "    <tr>\n",
       "      <th>75%</th>\n",
       "      <td>153.000000</td>\n",
       "      <td>169.190000</td>\n",
       "      <td>138.350000</td>\n",
       "      <td>153.300000</td>\n",
       "    </tr>\n",
       "    <tr>\n",
       "      <th>max</th>\n",
       "      <td>369.950000</td>\n",
       "      <td>404.000000</td>\n",
       "      <td>345.500000</td>\n",
       "      <td>367.900000</td>\n",
       "    </tr>\n",
       "  </tbody>\n",
       "</table>\n",
       "</div>"
      ],
      "text/plain": [
       "             Open        High         Low       Close\n",
       "count  185.000000  185.000000  185.000000  185.000000\n",
       "mean   105.541405  116.104324   94.947838  105.204703\n",
       "std     98.879850  106.333497   91.219415   98.583153\n",
       "min     10.000000   11.240000    5.550000    9.980000\n",
       "25%     33.800000   36.140000   28.510000   33.450000\n",
       "50%     62.980000   72.550000   58.000000   62.540000\n",
       "75%    153.000000  169.190000  138.350000  153.300000\n",
       "max    369.950000  404.000000  345.500000  367.900000"
      ]
     },
     "execution_count": 16,
     "metadata": {},
     "output_type": "execute_result"
    }
   ],
   "source": [
    "# Dataset Describe\n",
    "df.describe()"
   ]
  },
  {
   "cell_type": "markdown",
   "metadata": {
    "id": "PBTbrJXOngz2"
   },
   "source": [
    "### Variables Description "
   ]
  },
  {
   "cell_type": "markdown",
   "metadata": {
    "id": "aJV4KIxSnxay"
   },
   "source": [
    "- **Date**: The date of the stock price record.\n",
    "- **Open**: The opening price of the stock on the given date.\n",
    "- **High**: The highest price of the stock on the given date.\n",
    "- **Low**: The lowest price of the stock on the given date.\n",
    "- **Close**: The closing price of the stock on the given date.\n",
    "- **Volume**: The number of shares traded on the given date."
   ]
  },
  {
   "cell_type": "markdown",
   "metadata": {
    "id": "u3PMJOP6ngxN"
   },
   "source": [
    "### Check Unique Values for each variable."
   ]
  },
  {
   "cell_type": "code",
   "execution_count": 18,
   "metadata": {
    "id": "zms12Yq5n-jE"
   },
   "outputs": [
    {
     "name": "stdout",
     "output_type": "stream",
     "text": [
      "Unique values in Date: 185\n",
      "Unique values in Open: 183\n",
      "Unique values in High: 184\n",
      "Unique values in Low: 183\n",
      "Unique values in Close: 185\n"
     ]
    }
   ],
   "source": [
    "# Check Unique Values for each variable.\n",
    "for col in df.columns:\n",
    "    print(f\"Unique values in {col}: {len(df[col].unique())}\")"
   ]
  },
  {
   "cell_type": "markdown",
   "metadata": {
    "id": "dauF4eBmngu3"
   },
   "source": [
    "## 3. ***Data Wrangling***"
   ]
  },
  {
   "cell_type": "markdown",
   "metadata": {
    "id": "bKJF3rekwFvQ"
   },
   "source": [
    "### Data Wrangling Code"
   ]
  },
  {
   "cell_type": "code",
   "execution_count": 7,
   "metadata": {},
   "outputs": [],
   "source": [
    "df.sort_values(by='Date_new', ascending=True, inplace=True)"
   ]
  },
  {
   "cell_type": "code",
   "execution_count": 19,
   "metadata": {},
   "outputs": [
    {
     "data": {
      "text/html": [
       "<div>\n",
       "<style scoped>\n",
       "    .dataframe tbody tr th:only-of-type {\n",
       "        vertical-align: middle;\n",
       "    }\n",
       "\n",
       "    .dataframe tbody tr th {\n",
       "        vertical-align: top;\n",
       "    }\n",
       "\n",
       "    .dataframe thead th {\n",
       "        text-align: right;\n",
       "    }\n",
       "</style>\n",
       "<table border=\"1\" class=\"dataframe\">\n",
       "  <thead>\n",
       "    <tr style=\"text-align: right;\">\n",
       "      <th></th>\n",
       "      <th>Date</th>\n",
       "      <th>Open</th>\n",
       "      <th>High</th>\n",
       "      <th>Low</th>\n",
       "      <th>Close</th>\n",
       "      <th>Date_new</th>\n",
       "      <th>Month</th>\n",
       "      <th>Day</th>\n",
       "      <th>Day_of_week</th>\n",
       "      <th>MA_3</th>\n",
       "      <th>MA_5</th>\n",
       "      <th>Range</th>\n",
       "      <th>Daily_Return</th>\n",
       "    </tr>\n",
       "  </thead>\n",
       "  <tbody>\n",
       "    <tr>\n",
       "      <th>6</th>\n",
       "      <td>Jan-06</td>\n",
       "      <td>13.68</td>\n",
       "      <td>17.16</td>\n",
       "      <td>13.58</td>\n",
       "      <td>15.33</td>\n",
       "      <td>2023-01-06</td>\n",
       "      <td>1</td>\n",
       "      <td>6</td>\n",
       "      <td>5</td>\n",
       "      <td>NaN</td>\n",
       "      <td>NaN</td>\n",
       "      <td>3.58</td>\n",
       "      <td>NaN</td>\n",
       "    </tr>\n",
       "    <tr>\n",
       "      <th>18</th>\n",
       "      <td>Jan-07</td>\n",
       "      <td>27.40</td>\n",
       "      <td>34.16</td>\n",
       "      <td>27.00</td>\n",
       "      <td>30.16</td>\n",
       "      <td>2023-01-07</td>\n",
       "      <td>1</td>\n",
       "      <td>7</td>\n",
       "      <td>6</td>\n",
       "      <td>NaN</td>\n",
       "      <td>NaN</td>\n",
       "      <td>7.16</td>\n",
       "      <td>96.738421</td>\n",
       "    </tr>\n",
       "    <tr>\n",
       "      <th>30</th>\n",
       "      <td>Jan-08</td>\n",
       "      <td>49.99</td>\n",
       "      <td>55.56</td>\n",
       "      <td>30.24</td>\n",
       "      <td>50.54</td>\n",
       "      <td>2023-01-08</td>\n",
       "      <td>1</td>\n",
       "      <td>8</td>\n",
       "      <td>0</td>\n",
       "      <td>32.01</td>\n",
       "      <td>NaN</td>\n",
       "      <td>25.32</td>\n",
       "      <td>67.572944</td>\n",
       "    </tr>\n",
       "    <tr>\n",
       "      <th>42</th>\n",
       "      <td>Jan-09</td>\n",
       "      <td>15.28</td>\n",
       "      <td>18.34</td>\n",
       "      <td>11.48</td>\n",
       "      <td>12.24</td>\n",
       "      <td>2023-01-09</td>\n",
       "      <td>1</td>\n",
       "      <td>9</td>\n",
       "      <td>1</td>\n",
       "      <td>30.98</td>\n",
       "      <td>NaN</td>\n",
       "      <td>6.86</td>\n",
       "      <td>-75.781559</td>\n",
       "    </tr>\n",
       "    <tr>\n",
       "      <th>54</th>\n",
       "      <td>Jan-10</td>\n",
       "      <td>53.60</td>\n",
       "      <td>57.58</td>\n",
       "      <td>46.42</td>\n",
       "      <td>49.84</td>\n",
       "      <td>2023-01-10</td>\n",
       "      <td>1</td>\n",
       "      <td>10</td>\n",
       "      <td>2</td>\n",
       "      <td>37.54</td>\n",
       "      <td>31.622</td>\n",
       "      <td>11.16</td>\n",
       "      <td>307.189542</td>\n",
       "    </tr>\n",
       "  </tbody>\n",
       "</table>\n",
       "</div>"
      ],
      "text/plain": [
       "      Date   Open   High    Low  Close   Date_new  Month  Day  Day_of_week  \\\n",
       "6   Jan-06  13.68  17.16  13.58  15.33 2023-01-06      1    6            5   \n",
       "18  Jan-07  27.40  34.16  27.00  30.16 2023-01-07      1    7            6   \n",
       "30  Jan-08  49.99  55.56  30.24  50.54 2023-01-08      1    8            0   \n",
       "42  Jan-09  15.28  18.34  11.48  12.24 2023-01-09      1    9            1   \n",
       "54  Jan-10  53.60  57.58  46.42  49.84 2023-01-10      1   10            2   \n",
       "\n",
       "     MA_3    MA_5  Range  Daily_Return  \n",
       "6     NaN     NaN   3.58           NaN  \n",
       "18    NaN     NaN   7.16     96.738421  \n",
       "30  32.01     NaN  25.32     67.572944  \n",
       "42  30.98     NaN   6.86    -75.781559  \n",
       "54  37.54  31.622  11.16    307.189542  "
      ]
     },
     "execution_count": 19,
     "metadata": {},
     "output_type": "execute_result"
    }
   ],
   "source": [
    "df.head()"
   ]
  },
  {
   "cell_type": "code",
   "execution_count": 4,
   "metadata": {
    "id": "wk-9a2fpoLcV"
   },
   "outputs": [],
   "source": [
    "# Write your code to make your dataset analysis ready.\n",
    "# convert the date column to datetime format\n",
    "\n",
    "df['Date_new'] = pd.to_datetime(df['Date'], format='%b-%d')"
   ]
  },
  {
   "cell_type": "code",
   "execution_count": 10,
   "metadata": {},
   "outputs": [],
   "source": [
    "#Get the month and day of the week from the date column\n",
    "df['Month'] = df['Date_new'].dt.month\n",
    "df['Day'] = df['Date_new'].dt.day\n",
    "#Get the day of the week from the date column\n",
    "df['Day_of_week'] = df['Date_new'].dt.dayofweek"
   ]
  },
  {
   "cell_type": "code",
   "execution_count": 14,
   "metadata": {},
   "outputs": [],
   "source": [
    "df['MA_3'] = df['Close'].rolling(3).mean()\n",
    "df['MA_5'] = df['Close'].rolling(5).mean()"
   ]
  },
  {
   "cell_type": "code",
   "execution_count": 15,
   "metadata": {},
   "outputs": [],
   "source": [
    "df['Range'] = df['High'] - df['Low']"
   ]
  },
  {
   "cell_type": "code",
   "execution_count": 16,
   "metadata": {},
   "outputs": [],
   "source": [
    "df['Daily_Return'] = df['Close'].pct_change()*100"
   ]
  },
  {
   "cell_type": "code",
   "execution_count": 18,
   "metadata": {},
   "outputs": [],
   "source": [
    "df['Date_new'] = df['Date_new'].apply(lambda x: x.replace(year=2023))"
   ]
  },
  {
   "cell_type": "markdown",
   "metadata": {
    "id": "MSa1f5Uengrz"
   },
   "source": [
    "### What all manipulations have you done and insights you found?"
   ]
  },
  {
   "cell_type": "markdown",
   "metadata": {
    "id": "LbyXE7I1olp8"
   },
   "source": [
    "Answer Here."
   ]
  },
  {
   "cell_type": "markdown",
   "metadata": {
    "id": "GF8Ens_Soomf"
   },
   "source": [
    "## ***4. Data Vizualization, Storytelling & Experimenting with charts : Understand the relationships between variables***"
   ]
  },
  {
   "cell_type": "markdown",
   "metadata": {
    "id": "0wOQAZs5pc--"
   },
   "source": [
    "#### Chart - 1"
   ]
  },
  {
   "cell_type": "code",
   "execution_count": 6,
   "metadata": {
    "id": "7v_ESjsspbW7"
   },
   "outputs": [
    {
     "data": {
      "application/vnd.plotly.v1+json": {
       "config": {
        "linkText": "Export to plot.ly",
        "plotlyServerURL": "https://plot.ly",
        "showLink": false
       },
       "data": [
        {
         "close": {
          "bdata": "7FG4HoXrKEDXo3A9CtcqQJqZmZmZmSpAexSuR+H6KUBSuB6F69EqQOxRuB6FaytAKVyPwvWoLkAfhetRuB4wQBSuR+F6FDRAPQrXo3B9M0BI4XoUrgcyQD0K16NwPS9AKVyPwvUoMEDXo3A9CtcxQPYoXI/CdTJASOF6FK7HNkBSuB6F61E5QLgehetR+DpAKVyPwvUoPkDhehSuR6E8QKRwPQrXIzxAj8L1KFxPPkDhehSuR8FAQD0K16Nw/UFA16NwPQr3QkAfhetRuH5CQK5H4XoUrkRAPQrXo3C9RUDXo3A9ChdHQEjhehSu50hAhetRuB5FSUD2KFyPwrVIQAAAAAAA4EBASOF6FK4HQUDhehSuRyE/QJqZmZmZ2TZAMzMzMzNzOUAUrkfhetQ6QOF6FK5HIThAKVyPwvUoK0CF61G4HoUoQI/C9ShcDy5AexSuR+F6KECF61G4HoUkQPYoXI/C9SNAZmZmZmbmLkAfhetRuB45QK5H4XoUrj1ArkfhehTuP0CamZmZmblAQB+F61G4fkRASOF6FK6nR0ApXI/C9UhJQBSuR+F6tEpA7FG4HoXrSEApXI/C9ahHQFyPwvUofElAzczMzMyMTEApXI/C9chMQArXo3A96kpAH4XrUbh+TUBcj8L1KBxPQDMzMzMzk1FA16NwPQr3UUB7FK5H4ZpOQIXrUbgeRU9A7FG4HoVLSkCF61G4HqVJQD0K16Nw/U5Aw/UoXI+CTkApXI/C9QhOQHE9CtejME9AcT0K16MQT0CuR+F6FM5LQAAAAAAAQEtAMzMzMzNzT0AfhetRuD5LQFyPwvUo3EdAj8L1KFx/UEApXI/C9UhRQD0K16NwXVJAFK5H4XqEUUDhehSuR4FQQIXrUbge9VBAZmZmZmY2UkCuR+F6FH5QQFyPwvUoHFNAw/UoXI+SVEAfhetRuB5WQPYoXI/CNVdACtejcD0aWkAAAAAAAKBXQD0K16NwbVVAUrgehesRWUCPwvUoXF9YQM3MzMzMDFdAcT0K16MwUEAzMzMzM1NIQAAAAAAAwExAcT0K16NwUkCPwvUoXG9SQOF6FK5HgVJA7FG4HoXLTkCamZmZmXlOQM3MzMzMrFRAKVyPwvUIVkApXI/C9XhcQLgehetRGFtAPQrXo3ANW0CF61G4HpVcQM3MzMzM7FtAw/UoXI8aYUDD9Shcj8JhQArXo3A9UmNAAAAAAACQZUCamZmZmZFlQFK4HoXraWRAH4XrUbj+ZEBxPQrXoxBmQDMzMzMzE2VASOF6FK63ZEDNzMzMzDxhQD0K16NwPWJACtejcD36YkCamZmZmSljQI/C9ShcJ2JAXI/C9SisYkA9CtejcDVhQIXrUbgenWVAj8L1KFyXZ0AUrkfhesxpQJqZmZmZqWtArkfhehRubkApXI/C9QhxQDMzMzMzW29AcT0K16Owb0ApXI/C9UhtQLgehetR6GxAmpmZmZlxcUApXI/C9ShyQIXrUbgeXXNACtejcD1idECuR+F6FOZxQFK4HoXrRXJAj8L1KFyfdkBmZmZmZvJ1QAAAAAAA4HVAmpmZmZmlc0DNzMzMzCxzQM3MzMzMsHNAMzMzMzMndkAAAAAAACR0QGZmZmZmDnNAzczMzMygdkAzMzMzM6N1QJqZmZmZOXVAZmZmZmb+dkBmZmZmZnZ1QGZmZmZm7mZAmpmZmZmBZ0DNzMzMzDRlQAAAAAAAuGZAmpmZmZlJaEBmZmZmZuZsQM3MzMzMMHFAAAAAAAAAZUBmZmZmZn5iQM3MzMzMLFtAMzMzMzPTVkAAAAAAAMBNQJqZmZmZuURAzczMzMycUUAzMzMzMxNRQJqZmZmZeUdAmpmZmZmZQ0BmZmZmZkZBQDMzMzMzczZAMzMzMzPzO0CamZmZmdk6QJqZmZmZmTlAZmZmZmbmJ0A9CtejcL0sQM3MzMzMTCpA16NwPQrXKEDXo3A9ClctQA==",
          "dtype": "f8"
         },
         "high": {
          "bdata": "AAAAAAAALEDD9Shcj8ItQD0K16NwvS1AcT0K16PwLEDD9Shcj8IrQOF6FK5H4SxAKVyPwvUoMUC4HoXrUfgwQDMzMzMz8zRAzczMzMzMNEDNzMzMzMw1QGZmZmZmZjJAMzMzMzMzMUCamZmZmZkyQOF6FK5H4TJAMzMzMzMzOEC4HoXrUXg8QClcj8L1qD1AFK5H4XoUQUDNzMzMzExAQBSuR+F6lD9APQrXo3D9P0BSuB6F6xFCQHE9CtejMEJAhetRuB6FREAAAAAAAIBDQAAAAAAA4ERAZmZmZmamR0A9CtejcH1JQAAAAAAAAEtASOF6FK7HS0Bcj8L1KPxKQDMzMzMzc0hAZmZmZmbmQUBxPQrXo3BCQFyPwvUoHEBAAAAAAACAPkB7FK5H4fo8QM3MzMzMzD1AAAAAAAAAOUDNzMzMzMwxQI/C9ShcjzBA16NwPQpXMkAAAAAAAAApQHsUrkfheiZAw/UoXI+CMUDXo3A9Ctc8QBSuR+F6FD9AFK5H4XqUQEDXo3A9CpdBQGZmZmZmpkRA7FG4HoUrSkA9CtejcH1LQPYoXI/C1UtACtejcD3KTEA9CtejcL1JQEjhehSuB0pAPQrXo3C9TUAK16NwPQpNQDMzMzMz801AuB6F61F4TkC4HoXrUThRQI/C9Shc71FAAAAAAAAAU0BmZmZmZmZTQNejcD0KF1FAhetRuB7FT0C4HoXrUdhMQM3MzMzMTFBAcT0K16MQUUDXo3A9CtdOQFK4HoXrsU9AAAAAAAAAUUB7FK5H4fpPQArXo3A9Ck5AMzMzMzMzUECamZmZmdlPQGZmZmZm5k1AAAAAAACgUEAzMzMzM7NSQLgehetReFNAZmZmZmYGU0D2KFyPwqVRQGZmZmZmplFAXI/C9ShMUkBSuB6F67FSQFyPwvUobFNAzczMzMwMVUBmZmZmZmZWQAAAAAAAwFdAAAAAAADAWkAzMzMzM/NaQJqZmZmZCVlAMzMzMzNzWUDsUbgehVtbQFyPwvUovFlAmpmZmZkZWUCkcD0K1/NQQFyPwvUovFNAXI/C9SgcU0DhehSuR1FTQAAAAAAAwFRAZmZmZmYWU0CamZmZmVlPQNejcD0K11RAH4XrUbi+V0BmZmZmZmZdQBSuR+F6ZF1APQrXo3CdXEBcj8L1KKxdQGZmZmZmtl9AmpmZmZk5YUCF61G4Hv1hQAAAAAAAYGNAAAAAAABgZkBcj8L1KLxlQAAAAAAAwGZAmpmZmZmZZUAfhetRuB5mQM3MzMzMbGZAw/UoXI/yZUCuR+F6FCZlQAAAAAAAcGNArkfhehR+Y0AfhetRuL5jQHE9CtejUGNAzczMzMy8YkAzMzMzM7tjQKRwPQrX42VArkfhehTOZ0AAAAAAACBqQAAAAAAA4GtA9ihcj8LlbkAAAAAAADBxQAAAAAAAIHJAAAAAAACYcEDsUbgehWtwQAAAAAAAoG5AKVyPwvXEcUDXo3A9CmNyQIXrUbgeeXNA4XoUrkepdEDNzMzMzKR0QD0K16NwJXNAAAAAAABAd0C4HoXrUQh3QAAAAAAA9HdAAAAAAAB8d0DNzMzMzJx0QAAAAAAA8HNAAAAAAADgdkAAAAAAAOh2QM3MzMzMXHRAAAAAAAAMd0BmZmZmZsZ2QJqZmZmZ4XVAmpmZmZmVeEAAAAAAAEB5QAAAAAAA4HVAMzMzMzPHcEDNzMzMzOxsQJqZmZmZSWhAmpmZmZmJbUDNzMzMzJxtQM3MzMzMlHFAZmZmZmbecUCamZmZmUFmQJqZmZmZOWNAZmZmZmamW0CamZmZmRlXQDMzMzMzI1JAmpmZmZkpU0BmZmZmZtZSQAAAAAAAoFFAAAAAAABASECamZmZmVlEQM3MzMzM/FVAMzMzMzNzPkCamZmZmZk/QDMzMzMz8z9AzczMzMxMPEApXI/C9SgxQK5H4XoUri5AhetRuB4FLEDNzMzMzMwtQA==",
          "dtype": "f8"
         },
         "low": {
          "bdata": "AAAAAACAJkCamZmZmRkpQArXo3A9iihAzczMzMzMKEDD9Shcj8IpQAAAAAAAACpAKVyPwvUoK0DNzMzMzMwuQIXrUbgeBTBAhetRuB4FMkCamZmZmZkvQM3MzMzMzCpApHA9CtejK0BmZmZmZmYvQM3MzMzMzDBAAAAAAACAMkBmZmZmZmY1QGZmZmZmZjhAAAAAAAAAO0DNzMzMzMw6QI/C9ShcTzdAMzMzMzMzOkBcj8L1KBw9QGZmZmZmZj5Aw/UoXI+CQUAzMzMzMzM+QGZmZmZmpkFAzczMzMzMQEDD9ShcjwJEQAAAAAAAgEZAPQrXo3A9PkAzMzMzMzNGQFyPwvUoHDhAw/UoXI+CPEBI4XoUrgc+QB+F61G4njZAZmZmZmZmNEAfhetRuJ44QDMzMzMzszVAhetRuB4FJkAAAAAAAIAmQMP1KFyPQiZA9ihcj8L1JkDNzMzMzMwjQFK4HoXrUSBA4XoUrkfhI0CF61G4HoUtQAAAAAAAADdAFK5H4XrUOEAAAAAAAAA9QAAAAAAAAEBAZmZmZmZmQkDsUbgehWtFQM3MzMzMTEhA9ihcj8I1R0DNzMzMzExGQGZmZmZmpkdAZmZmZmZmSEAUrkfhelRJQM3MzMzMTEpAw/UoXI+CSkDhehSuR4FNQOF6FK5HQU9APQrXo3ANUUAAAAAAAABNQLgehetRuEtAUrgeheuxSEB7FK5H4VpHQGZmZmZmZklAAAAAAABATkAAAAAAAEBLQGZmZmZmZktArkfhehSuTkDhehSuR0FJQJqZmZmZmUlAzczMzMwMSECF61G4HgVKQDMzMzMzs0dArkfhehQOR0DNzMzMzMxPQM3MzMzMjFBA16NwPQpHUUDNzMzMzGxNQFK4HoXrEU9AFK5H4XrkUEDhehSuR1FQQD0K16NwHVBAZmZmZmbmUkCuR+F6FI5UQHE9CtejAFZAzczMzMxMV0CamZmZmVlXQHsUrkfh2lRA7FG4HoXbVEDNzMzMzExYQJqZmZmZyVVAexSuR+HaTEBcj8L1KJxFQGZmZmZmZkZACtejcD0KTECamZmZmSlQQLgehetR6FFAZmZmZmZmTkD2KFyPwjVNQOxRuB6FK05AMzMzMzMzVEAfhetRuL5VQEjhehSuZ1lAXI/C9SgcWUCkcD0K19NZQOxRuB6Fy1pAzczMzMxMW0CuR+F6FI5gQAAAAAAAwGBA16NwPQrPYkAzMzMzM4NjQJqZmZmZmWNAKVyPwvVQY0CamZmZmbljQM3MzMzM3GNAZmZmZmaOY0AAAAAAAIBdQAAAAAAAwF9Aj8L1KFy3YUApXI/C9QBiQB+F61G4tmBAzczMzMycX0BI4XoUrpdgQDMzMzMzS2FAw/UoXI+qZEApXI/C9ahmQBSuR+F6JGlAMzMzMzOra0D2KFyPwhVuQGZmZmZm5mxAmpmZmZm5bkAzMzMzM2NrQAAAAAAASGtAmpmZmZlJbED2KFyPwjlxQJqZmZmZuXFAMzMzMzPDckBmZmZmZjJxQI/C9Shcg3FAFK5H4XosckBSuB6F6xV1QAAAAAAAmHVAAAAAAACwckAAAAAAAIByQGZmZmZmynJAmpmZmZk1c0BmZmZmZgpzQJqZmZmZ0XFAzczMzMz0ckAzMzMzM1t0QJqZmZmZdXRAMzMzMzPHdEAAAAAAACB1QM3MzMzMxGRAMzMzMzMTZUAAAAAAAGBiQGZmZmZmBmRAzczMzMykZkDNzMzMzPRkQJqZmZmZmWxAmpmZmZmpZECamZmZmaFgQAAAAAAAsFhAAAAAAABwVEAzMzMzM5NKQJqZmZmZeURAzczMzMwMPUCamZmZmflNQJqZmZmZWURAZmZmZmZGQkDNzMzMzMxAQDMzMzMzMxZAzczMzMxMNEAzMzMzMzM5QM3MzMzMjDlAMzMzMzMzJkAzMzMzM7MnQAAAAAAAgClAuB6F61E4KEDsUbgehWsoQA==",
          "dtype": "f8"
         },
         "open": {
          "bdata": "AAAAAAAAKkApXI/C9SgpQPYoXI/C9SpAZmZmZmZmKkAzMzMzM7MqQHsUrkfh+ipAXI/C9ShcK0AAAAAAAAAvQDMzMzMzMzBAj8L1KFyPNEDNzMzMzMwzQDMzMzMzMzJAAAAAAAAAMEDNzMzMzMwvQAAAAAAAADJASOF6FK7HMkDNzMzMzMw2QGZmZmZmZjlAZmZmZmZmO0AzMzMzMzM+QM3MzMzMTD1AAAAAAAAAO0ApXI/C9ag+QFK4HoXr8UBAPQrXo3D9QUAAAAAAAMBCQDMzMzMzs0JAZmZmZmbmREAzMzMzMzNGQDMzMzMzM0dAH4XrUbj+SEBxPQrXo3BJQDMzMzMzc0hAMzMzMzPzQEBmZmZmZiZBQLgehetROD9AmpmZmZnZNkAAAAAAAAA5QK5H4XoUrjpAmpmZmZmZOEAUrkfhepQtQM3MzMzMzChAj8L1KFyPLkDhehSuR2EoQAAAAAAAACRAFK5H4XoUJEDhehSuR+EvQJqZmZmZmTlAMzMzMzOzPUB7FK5H4fo/QGZmZmZm5kBAmpmZmZmZREAK16NwPUpHQD0K16NwfUlAzczMzMzMSkAAAAAAAIBIQGZmZmZm5kdA9ihcj8JVSUC4HoXrUXhMQJqZmZmZWUxAZmZmZmbGSkAzMzMzM7NNQGZmZmZmZk9AmpmZmZm5UUDNzMzMzAxSQGZmZmZm5k5APQrXo3B9T0AAAAAAAIBKQOxRuB6F60lAAAAAAAAAT0DhehSuR6FOQDMzMzMzM05AAAAAAACAT0AzMzMzM3NPQAAAAAAAAExAZmZmZmbmSkCamZmZmRlPQAAAAAAAgExA9ihcj8L1R0CamZmZmXlQQAAAAAAAQFFASOF6FK5nUkCamZmZmZlRQM3MzMzMXFBAmpmZmZkJUUAAAAAAAEBSQM3MzMzMjFBAmpmZmZkZU0DD9Shcj6JUQM3MzMzMTFZAzczMzMxMV0AK16NwPRpaQAAAAAAAgFdAzczMzMxsVUCPwvUoXD9ZQAAAAAAAwFhAmpmZmZkZV0AAAAAAAIBQQJqZmZmZmUhAAAAAAAAATUAAAAAAAIBSQJqZmZmZmVJAj8L1KFyvUkCF61G4HsVOQMP1KFyPQk5AzczMzMzcVEAzMzMzMzNWQDMzMzMzs1xA7FG4HoUbW0CamZmZmdlaQGZmZmZmplxAZmZmZmYGXEAzMzMzMyNhQMP1KFyPwmFAzczMzMxMY0AAAAAAAJBlQJqZmZmZ2WVAmpmZmZlZZEAAAAAAAEBlQAAAAAAAIGZAAAAAAAAgZUDNzMzMzLxkQOxRuB6F82BAH4XrUbheYkCPwvUoXPdiQAAAAAAAIGNAAAAAAAAgYkDNzMzMzMxiQJqZmZmZWWFAcT0K16OAZUCamZmZmblnQM3MzMzMzGlAH4XrUbi+a0AAAAAAAIBuQM3MzMzMFHFAhetRuB6tb0AAAAAAAOBvQM3MzMzMbG1Aj8L1KFz/bEBmZmZmZoZxQJqZmZmZKXJAmpmZmZlZc0AAAAAAAGB0QMP1KFyP6nFAcT0K16NQckAAAAAAALB2QAAAAAAA8HVAmpmZmZkpdkAAAAAAALhzQDMzMzMzM3NAAAAAAACgc0AAAAAAADB2QDMzMzMzC3RAAAAAAAAQc0CamZmZma12QAAAAAAAwHVAAAAAAABAdUAzMzMzMx93QDMzMzMzs3VAAAAAAACAZkAAAAAAAABoQAAAAAAAwGVAMzMzMzPbZkAAAAAAAKBoQDMzMzMzU21AAAAAAABQcUCamZmZmWlkQGZmZmZmfmJAZmZmZmZmW0DNzMzMzExWQAAAAAAAwE1AAAAAAAAARUAAAAAAAMBRQAAAAAAAgFFAMzMzMzNzR0DNzMzMzIxDQJqZmZmZmUFAzczMzMxMNkDNzMzMzMw7QAAAAAAAwDtAmpmZmZmZOUAAAAAAAAAoQJqZmZmZmSxAmpmZmZmZKkBSuB6F69EoQA==",
          "dtype": "f8"
         },
         "type": "candlestick",
         "x": [
          "1900-07-05T00:00:00.000000000",
          "1900-08-05T00:00:00.000000000",
          "1900-09-05T00:00:00.000000000",
          "1900-10-05T00:00:00.000000000",
          "1900-11-05T00:00:00.000000000",
          "1900-12-05T00:00:00.000000000",
          "1900-01-06T00:00:00.000000000",
          "1900-02-06T00:00:00.000000000",
          "1900-03-06T00:00:00.000000000",
          "1900-04-06T00:00:00.000000000",
          "1900-05-06T00:00:00.000000000",
          "1900-06-06T00:00:00.000000000",
          "1900-07-06T00:00:00.000000000",
          "1900-08-06T00:00:00.000000000",
          "1900-09-06T00:00:00.000000000",
          "1900-10-06T00:00:00.000000000",
          "1900-11-06T00:00:00.000000000",
          "1900-12-06T00:00:00.000000000",
          "1900-01-07T00:00:00.000000000",
          "1900-02-07T00:00:00.000000000",
          "1900-03-07T00:00:00.000000000",
          "1900-04-07T00:00:00.000000000",
          "1900-05-07T00:00:00.000000000",
          "1900-06-07T00:00:00.000000000",
          "1900-07-07T00:00:00.000000000",
          "1900-08-07T00:00:00.000000000",
          "1900-09-07T00:00:00.000000000",
          "1900-10-07T00:00:00.000000000",
          "1900-11-07T00:00:00.000000000",
          "1900-12-07T00:00:00.000000000",
          "1900-01-08T00:00:00.000000000",
          "1900-02-08T00:00:00.000000000",
          "1900-03-08T00:00:00.000000000",
          "1900-04-08T00:00:00.000000000",
          "1900-05-08T00:00:00.000000000",
          "1900-06-08T00:00:00.000000000",
          "1900-07-08T00:00:00.000000000",
          "1900-08-08T00:00:00.000000000",
          "1900-09-08T00:00:00.000000000",
          "1900-10-08T00:00:00.000000000",
          "1900-11-08T00:00:00.000000000",
          "1900-12-08T00:00:00.000000000",
          "1900-01-09T00:00:00.000000000",
          "1900-02-09T00:00:00.000000000",
          "1900-03-09T00:00:00.000000000",
          "1900-04-09T00:00:00.000000000",
          "1900-05-09T00:00:00.000000000",
          "1900-06-09T00:00:00.000000000",
          "1900-07-09T00:00:00.000000000",
          "1900-08-09T00:00:00.000000000",
          "1900-09-09T00:00:00.000000000",
          "1900-10-09T00:00:00.000000000",
          "1900-11-09T00:00:00.000000000",
          "1900-12-09T00:00:00.000000000",
          "1900-01-10T00:00:00.000000000",
          "1900-02-10T00:00:00.000000000",
          "1900-03-10T00:00:00.000000000",
          "1900-04-10T00:00:00.000000000",
          "1900-05-10T00:00:00.000000000",
          "1900-06-10T00:00:00.000000000",
          "1900-07-10T00:00:00.000000000",
          "1900-08-10T00:00:00.000000000",
          "1900-09-10T00:00:00.000000000",
          "1900-10-10T00:00:00.000000000",
          "1900-11-10T00:00:00.000000000",
          "1900-12-10T00:00:00.000000000",
          "1900-01-11T00:00:00.000000000",
          "1900-02-11T00:00:00.000000000",
          "1900-03-11T00:00:00.000000000",
          "1900-04-11T00:00:00.000000000",
          "1900-05-11T00:00:00.000000000",
          "1900-06-11T00:00:00.000000000",
          "1900-07-11T00:00:00.000000000",
          "1900-08-11T00:00:00.000000000",
          "1900-09-11T00:00:00.000000000",
          "1900-10-11T00:00:00.000000000",
          "1900-11-11T00:00:00.000000000",
          "1900-12-11T00:00:00.000000000",
          "1900-01-12T00:00:00.000000000",
          "1900-02-12T00:00:00.000000000",
          "1900-03-12T00:00:00.000000000",
          "1900-04-12T00:00:00.000000000",
          "1900-05-12T00:00:00.000000000",
          "1900-06-12T00:00:00.000000000",
          "1900-07-12T00:00:00.000000000",
          "1900-08-12T00:00:00.000000000",
          "1900-09-12T00:00:00.000000000",
          "1900-10-12T00:00:00.000000000",
          "1900-11-12T00:00:00.000000000",
          "1900-12-12T00:00:00.000000000",
          "1900-01-13T00:00:00.000000000",
          "1900-02-13T00:00:00.000000000",
          "1900-03-13T00:00:00.000000000",
          "1900-04-13T00:00:00.000000000",
          "1900-05-13T00:00:00.000000000",
          "1900-06-13T00:00:00.000000000",
          "1900-07-13T00:00:00.000000000",
          "1900-08-13T00:00:00.000000000",
          "1900-09-13T00:00:00.000000000",
          "1900-10-13T00:00:00.000000000",
          "1900-11-13T00:00:00.000000000",
          "1900-12-13T00:00:00.000000000",
          "1900-01-14T00:00:00.000000000",
          "1900-02-14T00:00:00.000000000",
          "1900-03-14T00:00:00.000000000",
          "1900-04-14T00:00:00.000000000",
          "1900-05-14T00:00:00.000000000",
          "1900-06-14T00:00:00.000000000",
          "1900-07-14T00:00:00.000000000",
          "1900-08-14T00:00:00.000000000",
          "1900-09-14T00:00:00.000000000",
          "1900-10-14T00:00:00.000000000",
          "1900-11-14T00:00:00.000000000",
          "1900-12-14T00:00:00.000000000",
          "1900-01-15T00:00:00.000000000",
          "1900-02-15T00:00:00.000000000",
          "1900-03-15T00:00:00.000000000",
          "1900-04-15T00:00:00.000000000",
          "1900-05-15T00:00:00.000000000",
          "1900-06-15T00:00:00.000000000",
          "1900-07-15T00:00:00.000000000",
          "1900-08-15T00:00:00.000000000",
          "1900-09-15T00:00:00.000000000",
          "1900-10-15T00:00:00.000000000",
          "1900-11-15T00:00:00.000000000",
          "1900-12-15T00:00:00.000000000",
          "1900-01-16T00:00:00.000000000",
          "1900-02-16T00:00:00.000000000",
          "1900-03-16T00:00:00.000000000",
          "1900-04-16T00:00:00.000000000",
          "1900-05-16T00:00:00.000000000",
          "1900-06-16T00:00:00.000000000",
          "1900-07-16T00:00:00.000000000",
          "1900-08-16T00:00:00.000000000",
          "1900-09-16T00:00:00.000000000",
          "1900-10-16T00:00:00.000000000",
          "1900-11-16T00:00:00.000000000",
          "1900-12-16T00:00:00.000000000",
          "1900-01-17T00:00:00.000000000",
          "1900-02-17T00:00:00.000000000",
          "1900-03-17T00:00:00.000000000",
          "1900-04-17T00:00:00.000000000",
          "1900-05-17T00:00:00.000000000",
          "1900-06-17T00:00:00.000000000",
          "1900-07-17T00:00:00.000000000",
          "1900-08-17T00:00:00.000000000",
          "1900-09-17T00:00:00.000000000",
          "1900-10-17T00:00:00.000000000",
          "1900-11-17T00:00:00.000000000",
          "1900-12-17T00:00:00.000000000",
          "1900-01-18T00:00:00.000000000",
          "1900-02-18T00:00:00.000000000",
          "1900-03-18T00:00:00.000000000",
          "1900-04-18T00:00:00.000000000",
          "1900-05-18T00:00:00.000000000",
          "1900-06-18T00:00:00.000000000",
          "1900-07-18T00:00:00.000000000",
          "1900-08-18T00:00:00.000000000",
          "1900-09-18T00:00:00.000000000",
          "1900-10-18T00:00:00.000000000",
          "1900-11-18T00:00:00.000000000",
          "1900-12-18T00:00:00.000000000",
          "1900-01-19T00:00:00.000000000",
          "1900-02-19T00:00:00.000000000",
          "1900-03-19T00:00:00.000000000",
          "1900-04-19T00:00:00.000000000",
          "1900-05-19T00:00:00.000000000",
          "1900-06-19T00:00:00.000000000",
          "1900-07-19T00:00:00.000000000",
          "1900-08-19T00:00:00.000000000",
          "1900-09-19T00:00:00.000000000",
          "1900-10-19T00:00:00.000000000",
          "1900-11-19T00:00:00.000000000",
          "1900-12-19T00:00:00.000000000",
          "1900-01-20T00:00:00.000000000",
          "1900-02-20T00:00:00.000000000",
          "1900-03-20T00:00:00.000000000",
          "1900-04-20T00:00:00.000000000",
          "1900-05-20T00:00:00.000000000",
          "1900-06-20T00:00:00.000000000",
          "1900-07-20T00:00:00.000000000",
          "1900-08-20T00:00:00.000000000",
          "1900-09-20T00:00:00.000000000",
          "1900-10-20T00:00:00.000000000",
          "1900-11-20T00:00:00.000000000"
         ]
        }
       ],
       "layout": {
        "template": {
         "data": {
          "bar": [
           {
            "error_x": {
             "color": "#2a3f5f"
            },
            "error_y": {
             "color": "#2a3f5f"
            },
            "marker": {
             "line": {
              "color": "#E5ECF6",
              "width": 0.5
             },
             "pattern": {
              "fillmode": "overlay",
              "size": 10,
              "solidity": 0.2
             }
            },
            "type": "bar"
           }
          ],
          "barpolar": [
           {
            "marker": {
             "line": {
              "color": "#E5ECF6",
              "width": 0.5
             },
             "pattern": {
              "fillmode": "overlay",
              "size": 10,
              "solidity": 0.2
             }
            },
            "type": "barpolar"
           }
          ],
          "carpet": [
           {
            "aaxis": {
             "endlinecolor": "#2a3f5f",
             "gridcolor": "white",
             "linecolor": "white",
             "minorgridcolor": "white",
             "startlinecolor": "#2a3f5f"
            },
            "baxis": {
             "endlinecolor": "#2a3f5f",
             "gridcolor": "white",
             "linecolor": "white",
             "minorgridcolor": "white",
             "startlinecolor": "#2a3f5f"
            },
            "type": "carpet"
           }
          ],
          "choropleth": [
           {
            "colorbar": {
             "outlinewidth": 0,
             "ticks": ""
            },
            "type": "choropleth"
           }
          ],
          "contour": [
           {
            "colorbar": {
             "outlinewidth": 0,
             "ticks": ""
            },
            "colorscale": [
             [
              0,
              "#0d0887"
             ],
             [
              0.1111111111111111,
              "#46039f"
             ],
             [
              0.2222222222222222,
              "#7201a8"
             ],
             [
              0.3333333333333333,
              "#9c179e"
             ],
             [
              0.4444444444444444,
              "#bd3786"
             ],
             [
              0.5555555555555556,
              "#d8576b"
             ],
             [
              0.6666666666666666,
              "#ed7953"
             ],
             [
              0.7777777777777778,
              "#fb9f3a"
             ],
             [
              0.8888888888888888,
              "#fdca26"
             ],
             [
              1,
              "#f0f921"
             ]
            ],
            "type": "contour"
           }
          ],
          "contourcarpet": [
           {
            "colorbar": {
             "outlinewidth": 0,
             "ticks": ""
            },
            "type": "contourcarpet"
           }
          ],
          "heatmap": [
           {
            "colorbar": {
             "outlinewidth": 0,
             "ticks": ""
            },
            "colorscale": [
             [
              0,
              "#0d0887"
             ],
             [
              0.1111111111111111,
              "#46039f"
             ],
             [
              0.2222222222222222,
              "#7201a8"
             ],
             [
              0.3333333333333333,
              "#9c179e"
             ],
             [
              0.4444444444444444,
              "#bd3786"
             ],
             [
              0.5555555555555556,
              "#d8576b"
             ],
             [
              0.6666666666666666,
              "#ed7953"
             ],
             [
              0.7777777777777778,
              "#fb9f3a"
             ],
             [
              0.8888888888888888,
              "#fdca26"
             ],
             [
              1,
              "#f0f921"
             ]
            ],
            "type": "heatmap"
           }
          ],
          "histogram": [
           {
            "marker": {
             "pattern": {
              "fillmode": "overlay",
              "size": 10,
              "solidity": 0.2
             }
            },
            "type": "histogram"
           }
          ],
          "histogram2d": [
           {
            "colorbar": {
             "outlinewidth": 0,
             "ticks": ""
            },
            "colorscale": [
             [
              0,
              "#0d0887"
             ],
             [
              0.1111111111111111,
              "#46039f"
             ],
             [
              0.2222222222222222,
              "#7201a8"
             ],
             [
              0.3333333333333333,
              "#9c179e"
             ],
             [
              0.4444444444444444,
              "#bd3786"
             ],
             [
              0.5555555555555556,
              "#d8576b"
             ],
             [
              0.6666666666666666,
              "#ed7953"
             ],
             [
              0.7777777777777778,
              "#fb9f3a"
             ],
             [
              0.8888888888888888,
              "#fdca26"
             ],
             [
              1,
              "#f0f921"
             ]
            ],
            "type": "histogram2d"
           }
          ],
          "histogram2dcontour": [
           {
            "colorbar": {
             "outlinewidth": 0,
             "ticks": ""
            },
            "colorscale": [
             [
              0,
              "#0d0887"
             ],
             [
              0.1111111111111111,
              "#46039f"
             ],
             [
              0.2222222222222222,
              "#7201a8"
             ],
             [
              0.3333333333333333,
              "#9c179e"
             ],
             [
              0.4444444444444444,
              "#bd3786"
             ],
             [
              0.5555555555555556,
              "#d8576b"
             ],
             [
              0.6666666666666666,
              "#ed7953"
             ],
             [
              0.7777777777777778,
              "#fb9f3a"
             ],
             [
              0.8888888888888888,
              "#fdca26"
             ],
             [
              1,
              "#f0f921"
             ]
            ],
            "type": "histogram2dcontour"
           }
          ],
          "mesh3d": [
           {
            "colorbar": {
             "outlinewidth": 0,
             "ticks": ""
            },
            "type": "mesh3d"
           }
          ],
          "parcoords": [
           {
            "line": {
             "colorbar": {
              "outlinewidth": 0,
              "ticks": ""
             }
            },
            "type": "parcoords"
           }
          ],
          "pie": [
           {
            "automargin": true,
            "type": "pie"
           }
          ],
          "scatter": [
           {
            "fillpattern": {
             "fillmode": "overlay",
             "size": 10,
             "solidity": 0.2
            },
            "type": "scatter"
           }
          ],
          "scatter3d": [
           {
            "line": {
             "colorbar": {
              "outlinewidth": 0,
              "ticks": ""
             }
            },
            "marker": {
             "colorbar": {
              "outlinewidth": 0,
              "ticks": ""
             }
            },
            "type": "scatter3d"
           }
          ],
          "scattercarpet": [
           {
            "marker": {
             "colorbar": {
              "outlinewidth": 0,
              "ticks": ""
             }
            },
            "type": "scattercarpet"
           }
          ],
          "scattergeo": [
           {
            "marker": {
             "colorbar": {
              "outlinewidth": 0,
              "ticks": ""
             }
            },
            "type": "scattergeo"
           }
          ],
          "scattergl": [
           {
            "marker": {
             "colorbar": {
              "outlinewidth": 0,
              "ticks": ""
             }
            },
            "type": "scattergl"
           }
          ],
          "scattermap": [
           {
            "marker": {
             "colorbar": {
              "outlinewidth": 0,
              "ticks": ""
             }
            },
            "type": "scattermap"
           }
          ],
          "scattermapbox": [
           {
            "marker": {
             "colorbar": {
              "outlinewidth": 0,
              "ticks": ""
             }
            },
            "type": "scattermapbox"
           }
          ],
          "scatterpolar": [
           {
            "marker": {
             "colorbar": {
              "outlinewidth": 0,
              "ticks": ""
             }
            },
            "type": "scatterpolar"
           }
          ],
          "scatterpolargl": [
           {
            "marker": {
             "colorbar": {
              "outlinewidth": 0,
              "ticks": ""
             }
            },
            "type": "scatterpolargl"
           }
          ],
          "scatterternary": [
           {
            "marker": {
             "colorbar": {
              "outlinewidth": 0,
              "ticks": ""
             }
            },
            "type": "scatterternary"
           }
          ],
          "surface": [
           {
            "colorbar": {
             "outlinewidth": 0,
             "ticks": ""
            },
            "colorscale": [
             [
              0,
              "#0d0887"
             ],
             [
              0.1111111111111111,
              "#46039f"
             ],
             [
              0.2222222222222222,
              "#7201a8"
             ],
             [
              0.3333333333333333,
              "#9c179e"
             ],
             [
              0.4444444444444444,
              "#bd3786"
             ],
             [
              0.5555555555555556,
              "#d8576b"
             ],
             [
              0.6666666666666666,
              "#ed7953"
             ],
             [
              0.7777777777777778,
              "#fb9f3a"
             ],
             [
              0.8888888888888888,
              "#fdca26"
             ],
             [
              1,
              "#f0f921"
             ]
            ],
            "type": "surface"
           }
          ],
          "table": [
           {
            "cells": {
             "fill": {
              "color": "#EBF0F8"
             },
             "line": {
              "color": "white"
             }
            },
            "header": {
             "fill": {
              "color": "#C8D4E3"
             },
             "line": {
              "color": "white"
             }
            },
            "type": "table"
           }
          ]
         },
         "layout": {
          "annotationdefaults": {
           "arrowcolor": "#2a3f5f",
           "arrowhead": 0,
           "arrowwidth": 1
          },
          "autotypenumbers": "strict",
          "coloraxis": {
           "colorbar": {
            "outlinewidth": 0,
            "ticks": ""
           }
          },
          "colorscale": {
           "diverging": [
            [
             0,
             "#8e0152"
            ],
            [
             0.1,
             "#c51b7d"
            ],
            [
             0.2,
             "#de77ae"
            ],
            [
             0.3,
             "#f1b6da"
            ],
            [
             0.4,
             "#fde0ef"
            ],
            [
             0.5,
             "#f7f7f7"
            ],
            [
             0.6,
             "#e6f5d0"
            ],
            [
             0.7,
             "#b8e186"
            ],
            [
             0.8,
             "#7fbc41"
            ],
            [
             0.9,
             "#4d9221"
            ],
            [
             1,
             "#276419"
            ]
           ],
           "sequential": [
            [
             0,
             "#0d0887"
            ],
            [
             0.1111111111111111,
             "#46039f"
            ],
            [
             0.2222222222222222,
             "#7201a8"
            ],
            [
             0.3333333333333333,
             "#9c179e"
            ],
            [
             0.4444444444444444,
             "#bd3786"
            ],
            [
             0.5555555555555556,
             "#d8576b"
            ],
            [
             0.6666666666666666,
             "#ed7953"
            ],
            [
             0.7777777777777778,
             "#fb9f3a"
            ],
            [
             0.8888888888888888,
             "#fdca26"
            ],
            [
             1,
             "#f0f921"
            ]
           ],
           "sequentialminus": [
            [
             0,
             "#0d0887"
            ],
            [
             0.1111111111111111,
             "#46039f"
            ],
            [
             0.2222222222222222,
             "#7201a8"
            ],
            [
             0.3333333333333333,
             "#9c179e"
            ],
            [
             0.4444444444444444,
             "#bd3786"
            ],
            [
             0.5555555555555556,
             "#d8576b"
            ],
            [
             0.6666666666666666,
             "#ed7953"
            ],
            [
             0.7777777777777778,
             "#fb9f3a"
            ],
            [
             0.8888888888888888,
             "#fdca26"
            ],
            [
             1,
             "#f0f921"
            ]
           ]
          },
          "colorway": [
           "#636efa",
           "#EF553B",
           "#00cc96",
           "#ab63fa",
           "#FFA15A",
           "#19d3f3",
           "#FF6692",
           "#B6E880",
           "#FF97FF",
           "#FECB52"
          ],
          "font": {
           "color": "#2a3f5f"
          },
          "geo": {
           "bgcolor": "white",
           "lakecolor": "white",
           "landcolor": "#E5ECF6",
           "showlakes": true,
           "showland": true,
           "subunitcolor": "white"
          },
          "hoverlabel": {
           "align": "left"
          },
          "hovermode": "closest",
          "mapbox": {
           "style": "light"
          },
          "paper_bgcolor": "white",
          "plot_bgcolor": "#E5ECF6",
          "polar": {
           "angularaxis": {
            "gridcolor": "white",
            "linecolor": "white",
            "ticks": ""
           },
           "bgcolor": "#E5ECF6",
           "radialaxis": {
            "gridcolor": "white",
            "linecolor": "white",
            "ticks": ""
           }
          },
          "scene": {
           "xaxis": {
            "backgroundcolor": "#E5ECF6",
            "gridcolor": "white",
            "gridwidth": 2,
            "linecolor": "white",
            "showbackground": true,
            "ticks": "",
            "zerolinecolor": "white"
           },
           "yaxis": {
            "backgroundcolor": "#E5ECF6",
            "gridcolor": "white",
            "gridwidth": 2,
            "linecolor": "white",
            "showbackground": true,
            "ticks": "",
            "zerolinecolor": "white"
           },
           "zaxis": {
            "backgroundcolor": "#E5ECF6",
            "gridcolor": "white",
            "gridwidth": 2,
            "linecolor": "white",
            "showbackground": true,
            "ticks": "",
            "zerolinecolor": "white"
           }
          },
          "shapedefaults": {
           "line": {
            "color": "#2a3f5f"
           }
          },
          "ternary": {
           "aaxis": {
            "gridcolor": "white",
            "linecolor": "white",
            "ticks": ""
           },
           "baxis": {
            "gridcolor": "white",
            "linecolor": "white",
            "ticks": ""
           },
           "bgcolor": "#E5ECF6",
           "caxis": {
            "gridcolor": "white",
            "linecolor": "white",
            "ticks": ""
           }
          },
          "title": {
           "x": 0.05
          },
          "xaxis": {
           "automargin": true,
           "gridcolor": "white",
           "linecolor": "white",
           "ticks": "",
           "title": {
            "standoff": 15
           },
           "zerolinecolor": "white",
           "zerolinewidth": 2
          },
          "yaxis": {
           "automargin": true,
           "gridcolor": "white",
           "linecolor": "white",
           "ticks": "",
           "title": {
            "standoff": 15
           },
           "zerolinecolor": "white",
           "zerolinewidth": 2
          }
         }
        },
        "title": {
         "text": "Interactive Candlestick Chart"
        },
        "xaxis": {
         "rangeslider": {
          "visible": false
         },
         "title": {
          "text": "Date"
         }
        },
        "yaxis": {
         "title": {
          "text": "Price ($)"
         }
        }
       }
      },
      "text/html": [
       "<div>            <script src=\"https://cdnjs.cloudflare.com/ajax/libs/mathjax/2.7.5/MathJax.js?config=TeX-AMS-MML_SVG\"></script><script type=\"text/javascript\">if (window.MathJax && window.MathJax.Hub && window.MathJax.Hub.Config) {window.MathJax.Hub.Config({SVG: {font: \"STIX-Web\"}});}</script>                <script type=\"text/javascript\">window.PlotlyConfig = {MathJaxConfig: 'local'};</script>\n",
       "        <script charset=\"utf-8\" src=\"https://cdn.plot.ly/plotly-3.0.1.min.js\"></script>                <div id=\"5abad199-e390-44e2-b457-7ebc8f908735\" class=\"plotly-graph-div\" style=\"height:525px; width:100%;\"></div>            <script type=\"text/javascript\">                window.PLOTLYENV=window.PLOTLYENV || {};                                if (document.getElementById(\"5abad199-e390-44e2-b457-7ebc8f908735\")) {                    Plotly.newPlot(                        \"5abad199-e390-44e2-b457-7ebc8f908735\",                        [{\"close\":{\"dtype\":\"f8\",\"bdata\":\"7FG4HoXrKEDXo3A9CtcqQJqZmZmZmSpAexSuR+H6KUBSuB6F69EqQOxRuB6FaytAKVyPwvWoLkAfhetRuB4wQBSuR+F6FDRAPQrXo3B9M0BI4XoUrgcyQD0K16NwPS9AKVyPwvUoMEDXo3A9CtcxQPYoXI\\u002fCdTJASOF6FK7HNkBSuB6F61E5QLgehetR+DpAKVyPwvUoPkDhehSuR6E8QKRwPQrXIzxAj8L1KFxPPkDhehSuR8FAQD0K16Nw\\u002fUFA16NwPQr3QkAfhetRuH5CQK5H4XoUrkRAPQrXo3C9RUDXo3A9ChdHQEjhehSu50hAhetRuB5FSUD2KFyPwrVIQAAAAAAA4EBASOF6FK4HQUDhehSuRyE\\u002fQJqZmZmZ2TZAMzMzMzNzOUAUrkfhetQ6QOF6FK5HIThAKVyPwvUoK0CF61G4HoUoQI\\u002fC9ShcDy5AexSuR+F6KECF61G4HoUkQPYoXI\\u002fC9SNAZmZmZmbmLkAfhetRuB45QK5H4XoUrj1ArkfhehTuP0CamZmZmblAQB+F61G4fkRASOF6FK6nR0ApXI\\u002fC9UhJQBSuR+F6tEpA7FG4HoXrSEApXI\\u002fC9ahHQFyPwvUofElAzczMzMyMTEApXI\\u002fC9chMQArXo3A96kpAH4XrUbh+TUBcj8L1KBxPQDMzMzMzk1FA16NwPQr3UUB7FK5H4ZpOQIXrUbgeRU9A7FG4HoVLSkCF61G4HqVJQD0K16Nw\\u002fU5Aw\\u002fUoXI+CTkApXI\\u002fC9QhOQHE9CtejME9AcT0K16MQT0CuR+F6FM5LQAAAAAAAQEtAMzMzMzNzT0AfhetRuD5LQFyPwvUo3EdAj8L1KFx\\u002fUEApXI\\u002fC9UhRQD0K16NwXVJAFK5H4XqEUUDhehSuR4FQQIXrUbge9VBAZmZmZmY2UkCuR+F6FH5QQFyPwvUoHFNAw\\u002fUoXI+SVEAfhetRuB5WQPYoXI\\u002fCNVdACtejcD0aWkAAAAAAAKBXQD0K16NwbVVAUrgehesRWUCPwvUoXF9YQM3MzMzMDFdAcT0K16MwUEAzMzMzM1NIQAAAAAAAwExAcT0K16NwUkCPwvUoXG9SQOF6FK5HgVJA7FG4HoXLTkCamZmZmXlOQM3MzMzMrFRAKVyPwvUIVkApXI\\u002fC9XhcQLgehetRGFtAPQrXo3ANW0CF61G4HpVcQM3MzMzM7FtAw\\u002fUoXI8aYUDD9Shcj8JhQArXo3A9UmNAAAAAAACQZUCamZmZmZFlQFK4HoXraWRAH4XrUbj+ZEBxPQrXoxBmQDMzMzMzE2VASOF6FK63ZEDNzMzMzDxhQD0K16NwPWJACtejcD36YkCamZmZmSljQI\\u002fC9ShcJ2JAXI\\u002fC9SisYkA9CtejcDVhQIXrUbgenWVAj8L1KFyXZ0AUrkfhesxpQJqZmZmZqWtArkfhehRubkApXI\\u002fC9QhxQDMzMzMzW29AcT0K16Owb0ApXI\\u002fC9UhtQLgehetR6GxAmpmZmZlxcUApXI\\u002fC9ShyQIXrUbgeXXNACtejcD1idECuR+F6FOZxQFK4HoXrRXJAj8L1KFyfdkBmZmZmZvJ1QAAAAAAA4HVAmpmZmZmlc0DNzMzMzCxzQM3MzMzMsHNAMzMzMzMndkAAAAAAACR0QGZmZmZmDnNAzczMzMygdkAzMzMzM6N1QJqZmZmZOXVAZmZmZmb+dkBmZmZmZnZ1QGZmZmZm7mZAmpmZmZmBZ0DNzMzMzDRlQAAAAAAAuGZAmpmZmZlJaEBmZmZmZuZsQM3MzMzMMHFAAAAAAAAAZUBmZmZmZn5iQM3MzMzMLFtAMzMzMzPTVkAAAAAAAMBNQJqZmZmZuURAzczMzMycUUAzMzMzMxNRQJqZmZmZeUdAmpmZmZmZQ0BmZmZmZkZBQDMzMzMzczZAMzMzMzPzO0CamZmZmdk6QJqZmZmZmTlAZmZmZmbmJ0A9CtejcL0sQM3MzMzMTCpA16NwPQrXKEDXo3A9ClctQA==\"},\"high\":{\"dtype\":\"f8\",\"bdata\":\"AAAAAAAALEDD9Shcj8ItQD0K16NwvS1AcT0K16PwLEDD9Shcj8IrQOF6FK5H4SxAKVyPwvUoMUC4HoXrUfgwQDMzMzMz8zRAzczMzMzMNEDNzMzMzMw1QGZmZmZmZjJAMzMzMzMzMUCamZmZmZkyQOF6FK5H4TJAMzMzMzMzOEC4HoXrUXg8QClcj8L1qD1AFK5H4XoUQUDNzMzMzExAQBSuR+F6lD9APQrXo3D9P0BSuB6F6xFCQHE9CtejMEJAhetRuB6FREAAAAAAAIBDQAAAAAAA4ERAZmZmZmamR0A9CtejcH1JQAAAAAAAAEtASOF6FK7HS0Bcj8L1KPxKQDMzMzMzc0hAZmZmZmbmQUBxPQrXo3BCQFyPwvUoHEBAAAAAAACAPkB7FK5H4fo8QM3MzMzMzD1AAAAAAAAAOUDNzMzMzMwxQI\\u002fC9ShcjzBA16NwPQpXMkAAAAAAAAApQHsUrkfheiZAw\\u002fUoXI+CMUDXo3A9Ctc8QBSuR+F6FD9AFK5H4XqUQEDXo3A9CpdBQGZmZmZmpkRA7FG4HoUrSkA9CtejcH1LQPYoXI\\u002fC1UtACtejcD3KTEA9CtejcL1JQEjhehSuB0pAPQrXo3C9TUAK16NwPQpNQDMzMzMz801AuB6F61F4TkC4HoXrUThRQI\\u002fC9Shc71FAAAAAAAAAU0BmZmZmZmZTQNejcD0KF1FAhetRuB7FT0C4HoXrUdhMQM3MzMzMTFBAcT0K16MQUUDXo3A9CtdOQFK4HoXrsU9AAAAAAAAAUUB7FK5H4fpPQArXo3A9Ck5AMzMzMzMzUECamZmZmdlPQGZmZmZm5k1AAAAAAACgUEAzMzMzM7NSQLgehetReFNAZmZmZmYGU0D2KFyPwqVRQGZmZmZmplFAXI\\u002fC9ShMUkBSuB6F67FSQFyPwvUobFNAzczMzMwMVUBmZmZmZmZWQAAAAAAAwFdAAAAAAADAWkAzMzMzM\\u002fNaQJqZmZmZCVlAMzMzMzNzWUDsUbgehVtbQFyPwvUovFlAmpmZmZkZWUCkcD0K1\\u002fNQQFyPwvUovFNAXI\\u002fC9SgcU0DhehSuR1FTQAAAAAAAwFRAZmZmZmYWU0CamZmZmVlPQNejcD0K11RAH4XrUbi+V0BmZmZmZmZdQBSuR+F6ZF1APQrXo3CdXEBcj8L1KKxdQGZmZmZmtl9AmpmZmZk5YUCF61G4Hv1hQAAAAAAAYGNAAAAAAABgZkBcj8L1KLxlQAAAAAAAwGZAmpmZmZmZZUAfhetRuB5mQM3MzMzMbGZAw\\u002fUoXI\\u002fyZUCuR+F6FCZlQAAAAAAAcGNArkfhehR+Y0AfhetRuL5jQHE9CtejUGNAzczMzMy8YkAzMzMzM7tjQKRwPQrX42VArkfhehTOZ0AAAAAAACBqQAAAAAAA4GtA9ihcj8LlbkAAAAAAADBxQAAAAAAAIHJAAAAAAACYcEDsUbgehWtwQAAAAAAAoG5AKVyPwvXEcUDXo3A9CmNyQIXrUbgeeXNA4XoUrkepdEDNzMzMzKR0QD0K16NwJXNAAAAAAABAd0C4HoXrUQh3QAAAAAAA9HdAAAAAAAB8d0DNzMzMzJx0QAAAAAAA8HNAAAAAAADgdkAAAAAAAOh2QM3MzMzMXHRAAAAAAAAMd0BmZmZmZsZ2QJqZmZmZ4XVAmpmZmZmVeEAAAAAAAEB5QAAAAAAA4HVAMzMzMzPHcEDNzMzMzOxsQJqZmZmZSWhAmpmZmZmJbUDNzMzMzJxtQM3MzMzMlHFAZmZmZmbecUCamZmZmUFmQJqZmZmZOWNAZmZmZmamW0CamZmZmRlXQDMzMzMzI1JAmpmZmZkpU0BmZmZmZtZSQAAAAAAAoFFAAAAAAABASECamZmZmVlEQM3MzMzM\\u002fFVAMzMzMzNzPkCamZmZmZk\\u002fQDMzMzMz8z9AzczMzMxMPEApXI\\u002fC9SgxQK5H4XoUri5AhetRuB4FLEDNzMzMzMwtQA==\"},\"low\":{\"dtype\":\"f8\",\"bdata\":\"AAAAAACAJkCamZmZmRkpQArXo3A9iihAzczMzMzMKEDD9Shcj8IpQAAAAAAAACpAKVyPwvUoK0DNzMzMzMwuQIXrUbgeBTBAhetRuB4FMkCamZmZmZkvQM3MzMzMzCpApHA9CtejK0BmZmZmZmYvQM3MzMzMzDBAAAAAAACAMkBmZmZmZmY1QGZmZmZmZjhAAAAAAAAAO0DNzMzMzMw6QI\\u002fC9ShcTzdAMzMzMzMzOkBcj8L1KBw9QGZmZmZmZj5Aw\\u002fUoXI+CQUAzMzMzMzM+QGZmZmZmpkFAzczMzMzMQEDD9ShcjwJEQAAAAAAAgEZAPQrXo3A9PkAzMzMzMzNGQFyPwvUoHDhAw\\u002fUoXI+CPEBI4XoUrgc+QB+F61G4njZAZmZmZmZmNEAfhetRuJ44QDMzMzMzszVAhetRuB4FJkAAAAAAAIAmQMP1KFyPQiZA9ihcj8L1JkDNzMzMzMwjQFK4HoXrUSBA4XoUrkfhI0CF61G4HoUtQAAAAAAAADdAFK5H4XrUOEAAAAAAAAA9QAAAAAAAAEBAZmZmZmZmQkDsUbgehWtFQM3MzMzMTEhA9ihcj8I1R0DNzMzMzExGQGZmZmZmpkdAZmZmZmZmSEAUrkfhelRJQM3MzMzMTEpAw\\u002fUoXI+CSkDhehSuR4FNQOF6FK5HQU9APQrXo3ANUUAAAAAAAABNQLgehetRuEtAUrgeheuxSEB7FK5H4VpHQGZmZmZmZklAAAAAAABATkAAAAAAAEBLQGZmZmZmZktArkfhehSuTkDhehSuR0FJQJqZmZmZmUlAzczMzMwMSECF61G4HgVKQDMzMzMzs0dArkfhehQOR0DNzMzMzMxPQM3MzMzMjFBA16NwPQpHUUDNzMzMzGxNQFK4HoXrEU9AFK5H4XrkUEDhehSuR1FQQD0K16NwHVBAZmZmZmbmUkCuR+F6FI5UQHE9CtejAFZAzczMzMxMV0CamZmZmVlXQHsUrkfh2lRA7FG4HoXbVEDNzMzMzExYQJqZmZmZyVVAexSuR+HaTEBcj8L1KJxFQGZmZmZmZkZACtejcD0KTECamZmZmSlQQLgehetR6FFAZmZmZmZmTkD2KFyPwjVNQOxRuB6FK05AMzMzMzMzVEAfhetRuL5VQEjhehSuZ1lAXI\\u002fC9SgcWUCkcD0K19NZQOxRuB6Fy1pAzczMzMxMW0CuR+F6FI5gQAAAAAAAwGBA16NwPQrPYkAzMzMzM4NjQJqZmZmZmWNAKVyPwvVQY0CamZmZmbljQM3MzMzM3GNAZmZmZmaOY0AAAAAAAIBdQAAAAAAAwF9Aj8L1KFy3YUApXI\\u002fC9QBiQB+F61G4tmBAzczMzMycX0BI4XoUrpdgQDMzMzMzS2FAw\\u002fUoXI+qZEApXI\\u002fC9ahmQBSuR+F6JGlAMzMzMzOra0D2KFyPwhVuQGZmZmZm5mxAmpmZmZm5bkAzMzMzM2NrQAAAAAAASGtAmpmZmZlJbED2KFyPwjlxQJqZmZmZuXFAMzMzMzPDckBmZmZmZjJxQI\\u002fC9Shcg3FAFK5H4XosckBSuB6F6xV1QAAAAAAAmHVAAAAAAACwckAAAAAAAIByQGZmZmZmynJAmpmZmZk1c0BmZmZmZgpzQJqZmZmZ0XFAzczMzMz0ckAzMzMzM1t0QJqZmZmZdXRAMzMzMzPHdEAAAAAAACB1QM3MzMzMxGRAMzMzMzMTZUAAAAAAAGBiQGZmZmZmBmRAzczMzMykZkDNzMzMzPRkQJqZmZmZmWxAmpmZmZmpZECamZmZmaFgQAAAAAAAsFhAAAAAAABwVEAzMzMzM5NKQJqZmZmZeURAzczMzMwMPUCamZmZmflNQJqZmZmZWURAZmZmZmZGQkDNzMzMzMxAQDMzMzMzMxZAzczMzMxMNEAzMzMzMzM5QM3MzMzMjDlAMzMzMzMzJkAzMzMzM7MnQAAAAAAAgClAuB6F61E4KEDsUbgehWsoQA==\"},\"open\":{\"dtype\":\"f8\",\"bdata\":\"AAAAAAAAKkApXI\\u002fC9SgpQPYoXI\\u002fC9SpAZmZmZmZmKkAzMzMzM7MqQHsUrkfh+ipAXI\\u002fC9ShcK0AAAAAAAAAvQDMzMzMzMzBAj8L1KFyPNEDNzMzMzMwzQDMzMzMzMzJAAAAAAAAAMEDNzMzMzMwvQAAAAAAAADJASOF6FK7HMkDNzMzMzMw2QGZmZmZmZjlAZmZmZmZmO0AzMzMzMzM+QM3MzMzMTD1AAAAAAAAAO0ApXI\\u002fC9ag+QFK4HoXr8UBAPQrXo3D9QUAAAAAAAMBCQDMzMzMzs0JAZmZmZmbmREAzMzMzMzNGQDMzMzMzM0dAH4XrUbj+SEBxPQrXo3BJQDMzMzMzc0hAMzMzMzPzQEBmZmZmZiZBQLgehetROD9AmpmZmZnZNkAAAAAAAAA5QK5H4XoUrjpAmpmZmZmZOEAUrkfhepQtQM3MzMzMzChAj8L1KFyPLkDhehSuR2EoQAAAAAAAACRAFK5H4XoUJEDhehSuR+EvQJqZmZmZmTlAMzMzMzOzPUB7FK5H4fo\\u002fQGZmZmZm5kBAmpmZmZmZREAK16NwPUpHQD0K16NwfUlAzczMzMzMSkAAAAAAAIBIQGZmZmZm5kdA9ihcj8JVSUC4HoXrUXhMQJqZmZmZWUxAZmZmZmbGSkAzMzMzM7NNQGZmZmZmZk9AmpmZmZm5UUDNzMzMzAxSQGZmZmZm5k5APQrXo3B9T0AAAAAAAIBKQOxRuB6F60lAAAAAAAAAT0DhehSuR6FOQDMzMzMzM05AAAAAAACAT0AzMzMzM3NPQAAAAAAAAExAZmZmZmbmSkCamZmZmRlPQAAAAAAAgExA9ihcj8L1R0CamZmZmXlQQAAAAAAAQFFASOF6FK5nUkCamZmZmZlRQM3MzMzMXFBAmpmZmZkJUUAAAAAAAEBSQM3MzMzMjFBAmpmZmZkZU0DD9Shcj6JUQM3MzMzMTFZAzczMzMxMV0AK16NwPRpaQAAAAAAAgFdAzczMzMxsVUCPwvUoXD9ZQAAAAAAAwFhAmpmZmZkZV0AAAAAAAIBQQJqZmZmZmUhAAAAAAAAATUAAAAAAAIBSQJqZmZmZmVJAj8L1KFyvUkCF61G4HsVOQMP1KFyPQk5AzczMzMzcVEAzMzMzMzNWQDMzMzMzs1xA7FG4HoUbW0CamZmZmdlaQGZmZmZmplxAZmZmZmYGXEAzMzMzMyNhQMP1KFyPwmFAzczMzMxMY0AAAAAAAJBlQJqZmZmZ2WVAmpmZmZlZZEAAAAAAAEBlQAAAAAAAIGZAAAAAAAAgZUDNzMzMzLxkQOxRuB6F82BAH4XrUbheYkCPwvUoXPdiQAAAAAAAIGNAAAAAAAAgYkDNzMzMzMxiQJqZmZmZWWFAcT0K16OAZUCamZmZmblnQM3MzMzMzGlAH4XrUbi+a0AAAAAAAIBuQM3MzMzMFHFAhetRuB6tb0AAAAAAAOBvQM3MzMzMbG1Aj8L1KFz\\u002fbEBmZmZmZoZxQJqZmZmZKXJAmpmZmZlZc0AAAAAAAGB0QMP1KFyP6nFAcT0K16NQckAAAAAAALB2QAAAAAAA8HVAmpmZmZkpdkAAAAAAALhzQDMzMzMzM3NAAAAAAACgc0AAAAAAADB2QDMzMzMzC3RAAAAAAAAQc0CamZmZma12QAAAAAAAwHVAAAAAAABAdUAzMzMzMx93QDMzMzMzs3VAAAAAAACAZkAAAAAAAABoQAAAAAAAwGVAMzMzMzPbZkAAAAAAAKBoQDMzMzMzU21AAAAAAABQcUCamZmZmWlkQGZmZmZmfmJAZmZmZmZmW0DNzMzMzExWQAAAAAAAwE1AAAAAAAAARUAAAAAAAMBRQAAAAAAAgFFAMzMzMzNzR0DNzMzMzIxDQJqZmZmZmUFAzczMzMxMNkDNzMzMzMw7QAAAAAAAwDtAmpmZmZmZOUAAAAAAAAAoQJqZmZmZmSxAmpmZmZmZKkBSuB6F69EoQA==\"},\"x\":[\"1900-07-05T00:00:00.000000000\",\"1900-08-05T00:00:00.000000000\",\"1900-09-05T00:00:00.000000000\",\"1900-10-05T00:00:00.000000000\",\"1900-11-05T00:00:00.000000000\",\"1900-12-05T00:00:00.000000000\",\"1900-01-06T00:00:00.000000000\",\"1900-02-06T00:00:00.000000000\",\"1900-03-06T00:00:00.000000000\",\"1900-04-06T00:00:00.000000000\",\"1900-05-06T00:00:00.000000000\",\"1900-06-06T00:00:00.000000000\",\"1900-07-06T00:00:00.000000000\",\"1900-08-06T00:00:00.000000000\",\"1900-09-06T00:00:00.000000000\",\"1900-10-06T00:00:00.000000000\",\"1900-11-06T00:00:00.000000000\",\"1900-12-06T00:00:00.000000000\",\"1900-01-07T00:00:00.000000000\",\"1900-02-07T00:00:00.000000000\",\"1900-03-07T00:00:00.000000000\",\"1900-04-07T00:00:00.000000000\",\"1900-05-07T00:00:00.000000000\",\"1900-06-07T00:00:00.000000000\",\"1900-07-07T00:00:00.000000000\",\"1900-08-07T00:00:00.000000000\",\"1900-09-07T00:00:00.000000000\",\"1900-10-07T00:00:00.000000000\",\"1900-11-07T00:00:00.000000000\",\"1900-12-07T00:00:00.000000000\",\"1900-01-08T00:00:00.000000000\",\"1900-02-08T00:00:00.000000000\",\"1900-03-08T00:00:00.000000000\",\"1900-04-08T00:00:00.000000000\",\"1900-05-08T00:00:00.000000000\",\"1900-06-08T00:00:00.000000000\",\"1900-07-08T00:00:00.000000000\",\"1900-08-08T00:00:00.000000000\",\"1900-09-08T00:00:00.000000000\",\"1900-10-08T00:00:00.000000000\",\"1900-11-08T00:00:00.000000000\",\"1900-12-08T00:00:00.000000000\",\"1900-01-09T00:00:00.000000000\",\"1900-02-09T00:00:00.000000000\",\"1900-03-09T00:00:00.000000000\",\"1900-04-09T00:00:00.000000000\",\"1900-05-09T00:00:00.000000000\",\"1900-06-09T00:00:00.000000000\",\"1900-07-09T00:00:00.000000000\",\"1900-08-09T00:00:00.000000000\",\"1900-09-09T00:00:00.000000000\",\"1900-10-09T00:00:00.000000000\",\"1900-11-09T00:00:00.000000000\",\"1900-12-09T00:00:00.000000000\",\"1900-01-10T00:00:00.000000000\",\"1900-02-10T00:00:00.000000000\",\"1900-03-10T00:00:00.000000000\",\"1900-04-10T00:00:00.000000000\",\"1900-05-10T00:00:00.000000000\",\"1900-06-10T00:00:00.000000000\",\"1900-07-10T00:00:00.000000000\",\"1900-08-10T00:00:00.000000000\",\"1900-09-10T00:00:00.000000000\",\"1900-10-10T00:00:00.000000000\",\"1900-11-10T00:00:00.000000000\",\"1900-12-10T00:00:00.000000000\",\"1900-01-11T00:00:00.000000000\",\"1900-02-11T00:00:00.000000000\",\"1900-03-11T00:00:00.000000000\",\"1900-04-11T00:00:00.000000000\",\"1900-05-11T00:00:00.000000000\",\"1900-06-11T00:00:00.000000000\",\"1900-07-11T00:00:00.000000000\",\"1900-08-11T00:00:00.000000000\",\"1900-09-11T00:00:00.000000000\",\"1900-10-11T00:00:00.000000000\",\"1900-11-11T00:00:00.000000000\",\"1900-12-11T00:00:00.000000000\",\"1900-01-12T00:00:00.000000000\",\"1900-02-12T00:00:00.000000000\",\"1900-03-12T00:00:00.000000000\",\"1900-04-12T00:00:00.000000000\",\"1900-05-12T00:00:00.000000000\",\"1900-06-12T00:00:00.000000000\",\"1900-07-12T00:00:00.000000000\",\"1900-08-12T00:00:00.000000000\",\"1900-09-12T00:00:00.000000000\",\"1900-10-12T00:00:00.000000000\",\"1900-11-12T00:00:00.000000000\",\"1900-12-12T00:00:00.000000000\",\"1900-01-13T00:00:00.000000000\",\"1900-02-13T00:00:00.000000000\",\"1900-03-13T00:00:00.000000000\",\"1900-04-13T00:00:00.000000000\",\"1900-05-13T00:00:00.000000000\",\"1900-06-13T00:00:00.000000000\",\"1900-07-13T00:00:00.000000000\",\"1900-08-13T00:00:00.000000000\",\"1900-09-13T00:00:00.000000000\",\"1900-10-13T00:00:00.000000000\",\"1900-11-13T00:00:00.000000000\",\"1900-12-13T00:00:00.000000000\",\"1900-01-14T00:00:00.000000000\",\"1900-02-14T00:00:00.000000000\",\"1900-03-14T00:00:00.000000000\",\"1900-04-14T00:00:00.000000000\",\"1900-05-14T00:00:00.000000000\",\"1900-06-14T00:00:00.000000000\",\"1900-07-14T00:00:00.000000000\",\"1900-08-14T00:00:00.000000000\",\"1900-09-14T00:00:00.000000000\",\"1900-10-14T00:00:00.000000000\",\"1900-11-14T00:00:00.000000000\",\"1900-12-14T00:00:00.000000000\",\"1900-01-15T00:00:00.000000000\",\"1900-02-15T00:00:00.000000000\",\"1900-03-15T00:00:00.000000000\",\"1900-04-15T00:00:00.000000000\",\"1900-05-15T00:00:00.000000000\",\"1900-06-15T00:00:00.000000000\",\"1900-07-15T00:00:00.000000000\",\"1900-08-15T00:00:00.000000000\",\"1900-09-15T00:00:00.000000000\",\"1900-10-15T00:00:00.000000000\",\"1900-11-15T00:00:00.000000000\",\"1900-12-15T00:00:00.000000000\",\"1900-01-16T00:00:00.000000000\",\"1900-02-16T00:00:00.000000000\",\"1900-03-16T00:00:00.000000000\",\"1900-04-16T00:00:00.000000000\",\"1900-05-16T00:00:00.000000000\",\"1900-06-16T00:00:00.000000000\",\"1900-07-16T00:00:00.000000000\",\"1900-08-16T00:00:00.000000000\",\"1900-09-16T00:00:00.000000000\",\"1900-10-16T00:00:00.000000000\",\"1900-11-16T00:00:00.000000000\",\"1900-12-16T00:00:00.000000000\",\"1900-01-17T00:00:00.000000000\",\"1900-02-17T00:00:00.000000000\",\"1900-03-17T00:00:00.000000000\",\"1900-04-17T00:00:00.000000000\",\"1900-05-17T00:00:00.000000000\",\"1900-06-17T00:00:00.000000000\",\"1900-07-17T00:00:00.000000000\",\"1900-08-17T00:00:00.000000000\",\"1900-09-17T00:00:00.000000000\",\"1900-10-17T00:00:00.000000000\",\"1900-11-17T00:00:00.000000000\",\"1900-12-17T00:00:00.000000000\",\"1900-01-18T00:00:00.000000000\",\"1900-02-18T00:00:00.000000000\",\"1900-03-18T00:00:00.000000000\",\"1900-04-18T00:00:00.000000000\",\"1900-05-18T00:00:00.000000000\",\"1900-06-18T00:00:00.000000000\",\"1900-07-18T00:00:00.000000000\",\"1900-08-18T00:00:00.000000000\",\"1900-09-18T00:00:00.000000000\",\"1900-10-18T00:00:00.000000000\",\"1900-11-18T00:00:00.000000000\",\"1900-12-18T00:00:00.000000000\",\"1900-01-19T00:00:00.000000000\",\"1900-02-19T00:00:00.000000000\",\"1900-03-19T00:00:00.000000000\",\"1900-04-19T00:00:00.000000000\",\"1900-05-19T00:00:00.000000000\",\"1900-06-19T00:00:00.000000000\",\"1900-07-19T00:00:00.000000000\",\"1900-08-19T00:00:00.000000000\",\"1900-09-19T00:00:00.000000000\",\"1900-10-19T00:00:00.000000000\",\"1900-11-19T00:00:00.000000000\",\"1900-12-19T00:00:00.000000000\",\"1900-01-20T00:00:00.000000000\",\"1900-02-20T00:00:00.000000000\",\"1900-03-20T00:00:00.000000000\",\"1900-04-20T00:00:00.000000000\",\"1900-05-20T00:00:00.000000000\",\"1900-06-20T00:00:00.000000000\",\"1900-07-20T00:00:00.000000000\",\"1900-08-20T00:00:00.000000000\",\"1900-09-20T00:00:00.000000000\",\"1900-10-20T00:00:00.000000000\",\"1900-11-20T00:00:00.000000000\"],\"type\":\"candlestick\"}],                        {\"template\":{\"data\":{\"barpolar\":[{\"marker\":{\"line\":{\"color\":\"#E5ECF6\",\"width\":0.5},\"pattern\":{\"fillmode\":\"overlay\",\"size\":10,\"solidity\":0.2}},\"type\":\"barpolar\"}],\"bar\":[{\"error_x\":{\"color\":\"#2a3f5f\"},\"error_y\":{\"color\":\"#2a3f5f\"},\"marker\":{\"line\":{\"color\":\"#E5ECF6\",\"width\":0.5},\"pattern\":{\"fillmode\":\"overlay\",\"size\":10,\"solidity\":0.2}},\"type\":\"bar\"}],\"carpet\":[{\"aaxis\":{\"endlinecolor\":\"#2a3f5f\",\"gridcolor\":\"white\",\"linecolor\":\"white\",\"minorgridcolor\":\"white\",\"startlinecolor\":\"#2a3f5f\"},\"baxis\":{\"endlinecolor\":\"#2a3f5f\",\"gridcolor\":\"white\",\"linecolor\":\"white\",\"minorgridcolor\":\"white\",\"startlinecolor\":\"#2a3f5f\"},\"type\":\"carpet\"}],\"choropleth\":[{\"colorbar\":{\"outlinewidth\":0,\"ticks\":\"\"},\"type\":\"choropleth\"}],\"contourcarpet\":[{\"colorbar\":{\"outlinewidth\":0,\"ticks\":\"\"},\"type\":\"contourcarpet\"}],\"contour\":[{\"colorbar\":{\"outlinewidth\":0,\"ticks\":\"\"},\"colorscale\":[[0.0,\"#0d0887\"],[0.1111111111111111,\"#46039f\"],[0.2222222222222222,\"#7201a8\"],[0.3333333333333333,\"#9c179e\"],[0.4444444444444444,\"#bd3786\"],[0.5555555555555556,\"#d8576b\"],[0.6666666666666666,\"#ed7953\"],[0.7777777777777778,\"#fb9f3a\"],[0.8888888888888888,\"#fdca26\"],[1.0,\"#f0f921\"]],\"type\":\"contour\"}],\"heatmap\":[{\"colorbar\":{\"outlinewidth\":0,\"ticks\":\"\"},\"colorscale\":[[0.0,\"#0d0887\"],[0.1111111111111111,\"#46039f\"],[0.2222222222222222,\"#7201a8\"],[0.3333333333333333,\"#9c179e\"],[0.4444444444444444,\"#bd3786\"],[0.5555555555555556,\"#d8576b\"],[0.6666666666666666,\"#ed7953\"],[0.7777777777777778,\"#fb9f3a\"],[0.8888888888888888,\"#fdca26\"],[1.0,\"#f0f921\"]],\"type\":\"heatmap\"}],\"histogram2dcontour\":[{\"colorbar\":{\"outlinewidth\":0,\"ticks\":\"\"},\"colorscale\":[[0.0,\"#0d0887\"],[0.1111111111111111,\"#46039f\"],[0.2222222222222222,\"#7201a8\"],[0.3333333333333333,\"#9c179e\"],[0.4444444444444444,\"#bd3786\"],[0.5555555555555556,\"#d8576b\"],[0.6666666666666666,\"#ed7953\"],[0.7777777777777778,\"#fb9f3a\"],[0.8888888888888888,\"#fdca26\"],[1.0,\"#f0f921\"]],\"type\":\"histogram2dcontour\"}],\"histogram2d\":[{\"colorbar\":{\"outlinewidth\":0,\"ticks\":\"\"},\"colorscale\":[[0.0,\"#0d0887\"],[0.1111111111111111,\"#46039f\"],[0.2222222222222222,\"#7201a8\"],[0.3333333333333333,\"#9c179e\"],[0.4444444444444444,\"#bd3786\"],[0.5555555555555556,\"#d8576b\"],[0.6666666666666666,\"#ed7953\"],[0.7777777777777778,\"#fb9f3a\"],[0.8888888888888888,\"#fdca26\"],[1.0,\"#f0f921\"]],\"type\":\"histogram2d\"}],\"histogram\":[{\"marker\":{\"pattern\":{\"fillmode\":\"overlay\",\"size\":10,\"solidity\":0.2}},\"type\":\"histogram\"}],\"mesh3d\":[{\"colorbar\":{\"outlinewidth\":0,\"ticks\":\"\"},\"type\":\"mesh3d\"}],\"parcoords\":[{\"line\":{\"colorbar\":{\"outlinewidth\":0,\"ticks\":\"\"}},\"type\":\"parcoords\"}],\"pie\":[{\"automargin\":true,\"type\":\"pie\"}],\"scatter3d\":[{\"line\":{\"colorbar\":{\"outlinewidth\":0,\"ticks\":\"\"}},\"marker\":{\"colorbar\":{\"outlinewidth\":0,\"ticks\":\"\"}},\"type\":\"scatter3d\"}],\"scattercarpet\":[{\"marker\":{\"colorbar\":{\"outlinewidth\":0,\"ticks\":\"\"}},\"type\":\"scattercarpet\"}],\"scattergeo\":[{\"marker\":{\"colorbar\":{\"outlinewidth\":0,\"ticks\":\"\"}},\"type\":\"scattergeo\"}],\"scattergl\":[{\"marker\":{\"colorbar\":{\"outlinewidth\":0,\"ticks\":\"\"}},\"type\":\"scattergl\"}],\"scattermapbox\":[{\"marker\":{\"colorbar\":{\"outlinewidth\":0,\"ticks\":\"\"}},\"type\":\"scattermapbox\"}],\"scattermap\":[{\"marker\":{\"colorbar\":{\"outlinewidth\":0,\"ticks\":\"\"}},\"type\":\"scattermap\"}],\"scatterpolargl\":[{\"marker\":{\"colorbar\":{\"outlinewidth\":0,\"ticks\":\"\"}},\"type\":\"scatterpolargl\"}],\"scatterpolar\":[{\"marker\":{\"colorbar\":{\"outlinewidth\":0,\"ticks\":\"\"}},\"type\":\"scatterpolar\"}],\"scatter\":[{\"fillpattern\":{\"fillmode\":\"overlay\",\"size\":10,\"solidity\":0.2},\"type\":\"scatter\"}],\"scatterternary\":[{\"marker\":{\"colorbar\":{\"outlinewidth\":0,\"ticks\":\"\"}},\"type\":\"scatterternary\"}],\"surface\":[{\"colorbar\":{\"outlinewidth\":0,\"ticks\":\"\"},\"colorscale\":[[0.0,\"#0d0887\"],[0.1111111111111111,\"#46039f\"],[0.2222222222222222,\"#7201a8\"],[0.3333333333333333,\"#9c179e\"],[0.4444444444444444,\"#bd3786\"],[0.5555555555555556,\"#d8576b\"],[0.6666666666666666,\"#ed7953\"],[0.7777777777777778,\"#fb9f3a\"],[0.8888888888888888,\"#fdca26\"],[1.0,\"#f0f921\"]],\"type\":\"surface\"}],\"table\":[{\"cells\":{\"fill\":{\"color\":\"#EBF0F8\"},\"line\":{\"color\":\"white\"}},\"header\":{\"fill\":{\"color\":\"#C8D4E3\"},\"line\":{\"color\":\"white\"}},\"type\":\"table\"}]},\"layout\":{\"annotationdefaults\":{\"arrowcolor\":\"#2a3f5f\",\"arrowhead\":0,\"arrowwidth\":1},\"autotypenumbers\":\"strict\",\"coloraxis\":{\"colorbar\":{\"outlinewidth\":0,\"ticks\":\"\"}},\"colorscale\":{\"diverging\":[[0,\"#8e0152\"],[0.1,\"#c51b7d\"],[0.2,\"#de77ae\"],[0.3,\"#f1b6da\"],[0.4,\"#fde0ef\"],[0.5,\"#f7f7f7\"],[0.6,\"#e6f5d0\"],[0.7,\"#b8e186\"],[0.8,\"#7fbc41\"],[0.9,\"#4d9221\"],[1,\"#276419\"]],\"sequential\":[[0.0,\"#0d0887\"],[0.1111111111111111,\"#46039f\"],[0.2222222222222222,\"#7201a8\"],[0.3333333333333333,\"#9c179e\"],[0.4444444444444444,\"#bd3786\"],[0.5555555555555556,\"#d8576b\"],[0.6666666666666666,\"#ed7953\"],[0.7777777777777778,\"#fb9f3a\"],[0.8888888888888888,\"#fdca26\"],[1.0,\"#f0f921\"]],\"sequentialminus\":[[0.0,\"#0d0887\"],[0.1111111111111111,\"#46039f\"],[0.2222222222222222,\"#7201a8\"],[0.3333333333333333,\"#9c179e\"],[0.4444444444444444,\"#bd3786\"],[0.5555555555555556,\"#d8576b\"],[0.6666666666666666,\"#ed7953\"],[0.7777777777777778,\"#fb9f3a\"],[0.8888888888888888,\"#fdca26\"],[1.0,\"#f0f921\"]]},\"colorway\":[\"#636efa\",\"#EF553B\",\"#00cc96\",\"#ab63fa\",\"#FFA15A\",\"#19d3f3\",\"#FF6692\",\"#B6E880\",\"#FF97FF\",\"#FECB52\"],\"font\":{\"color\":\"#2a3f5f\"},\"geo\":{\"bgcolor\":\"white\",\"lakecolor\":\"white\",\"landcolor\":\"#E5ECF6\",\"showlakes\":true,\"showland\":true,\"subunitcolor\":\"white\"},\"hoverlabel\":{\"align\":\"left\"},\"hovermode\":\"closest\",\"mapbox\":{\"style\":\"light\"},\"paper_bgcolor\":\"white\",\"plot_bgcolor\":\"#E5ECF6\",\"polar\":{\"angularaxis\":{\"gridcolor\":\"white\",\"linecolor\":\"white\",\"ticks\":\"\"},\"bgcolor\":\"#E5ECF6\",\"radialaxis\":{\"gridcolor\":\"white\",\"linecolor\":\"white\",\"ticks\":\"\"}},\"scene\":{\"xaxis\":{\"backgroundcolor\":\"#E5ECF6\",\"gridcolor\":\"white\",\"gridwidth\":2,\"linecolor\":\"white\",\"showbackground\":true,\"ticks\":\"\",\"zerolinecolor\":\"white\"},\"yaxis\":{\"backgroundcolor\":\"#E5ECF6\",\"gridcolor\":\"white\",\"gridwidth\":2,\"linecolor\":\"white\",\"showbackground\":true,\"ticks\":\"\",\"zerolinecolor\":\"white\"},\"zaxis\":{\"backgroundcolor\":\"#E5ECF6\",\"gridcolor\":\"white\",\"gridwidth\":2,\"linecolor\":\"white\",\"showbackground\":true,\"ticks\":\"\",\"zerolinecolor\":\"white\"}},\"shapedefaults\":{\"line\":{\"color\":\"#2a3f5f\"}},\"ternary\":{\"aaxis\":{\"gridcolor\":\"white\",\"linecolor\":\"white\",\"ticks\":\"\"},\"baxis\":{\"gridcolor\":\"white\",\"linecolor\":\"white\",\"ticks\":\"\"},\"bgcolor\":\"#E5ECF6\",\"caxis\":{\"gridcolor\":\"white\",\"linecolor\":\"white\",\"ticks\":\"\"}},\"title\":{\"x\":0.05},\"xaxis\":{\"automargin\":true,\"gridcolor\":\"white\",\"linecolor\":\"white\",\"ticks\":\"\",\"title\":{\"standoff\":15},\"zerolinecolor\":\"white\",\"zerolinewidth\":2},\"yaxis\":{\"automargin\":true,\"gridcolor\":\"white\",\"linecolor\":\"white\",\"ticks\":\"\",\"title\":{\"standoff\":15},\"zerolinecolor\":\"white\",\"zerolinewidth\":2}}},\"title\":{\"text\":\"Interactive Candlestick Chart\"},\"xaxis\":{\"rangeslider\":{\"visible\":false},\"title\":{\"text\":\"Date\"}},\"yaxis\":{\"title\":{\"text\":\"Price ($)\"}}},                        {\"responsive\": true}                    ).then(function(){\n",
       "                            \n",
       "var gd = document.getElementById('5abad199-e390-44e2-b457-7ebc8f908735');\n",
       "var x = new MutationObserver(function (mutations, observer) {{\n",
       "        var display = window.getComputedStyle(gd).display;\n",
       "        if (!display || display === 'none') {{\n",
       "            console.log([gd, 'removed!']);\n",
       "            Plotly.purge(gd);\n",
       "            observer.disconnect();\n",
       "        }}\n",
       "}});\n",
       "\n",
       "// Listen for the removal of the full notebook cells\n",
       "var notebookContainer = gd.closest('#notebook-container');\n",
       "if (notebookContainer) {{\n",
       "    x.observe(notebookContainer, {childList: true});\n",
       "}}\n",
       "\n",
       "// Listen for the clearing of the current output cell\n",
       "var outputEl = gd.closest('.output');\n",
       "if (outputEl) {{\n",
       "    x.observe(outputEl, {childList: true});\n",
       "}}\n",
       "\n",
       "                        })                };            </script>        </div>"
      ]
     },
     "metadata": {},
     "output_type": "display_data"
    }
   ],
   "source": [
    "# Chart - 1 visualization code\n",
    "fig = go.Figure(data=[go.Candlestick(\n",
    "    x=df['Date_new'],\n",
    "    open=df['Open'],\n",
    "    high=df['High'],\n",
    "    low=df['Low'],\n",
    "    close=df['Close']\n",
    ")])\n",
    "\n",
    "# Customize layout\n",
    "fig.update_layout(\n",
    "    title='Interactive Candlestick Chart',\n",
    "    yaxis_title='Price ($)',\n",
    "    xaxis_title='Date',\n",
    "    xaxis_rangeslider_visible=False  # Hide range slider\n",
    ")\n",
    "\n",
    "iplot(fig)"
   ]
  },
  {
   "cell_type": "markdown",
   "metadata": {
    "id": "K5QZ13OEpz2H"
   },
   "source": [
    "##### 1. Why did you pick the specific chart?"
   ]
  },
  {
   "cell_type": "markdown",
   "metadata": {
    "id": "XESiWehPqBRc"
   },
   "source": [
    "Answer Here."
   ]
  },
  {
   "cell_type": "markdown",
   "metadata": {
    "id": "lQ7QKXXCp7Bj"
   },
   "source": [
    "##### 2. What is/are the insight(s) found from the chart?"
   ]
  },
  {
   "cell_type": "markdown",
   "metadata": {
    "id": "C_j1G7yiqdRP"
   },
   "source": [
    "Answer Here"
   ]
  },
  {
   "cell_type": "markdown",
   "metadata": {
    "id": "448CDAPjqfQr"
   },
   "source": [
    "##### 3. Will the gained insights help creating a positive business impact? \n",
    "Are there any insights that lead to negative growth? Justify with specific reason."
   ]
  },
  {
   "cell_type": "markdown",
   "metadata": {
    "id": "3cspy4FjqxJW"
   },
   "source": [
    "Answer Here"
   ]
  },
  {
   "cell_type": "markdown",
   "metadata": {
    "id": "KSlN3yHqYklG"
   },
   "source": [
    "#### Chart - 2"
   ]
  },
  {
   "cell_type": "code",
   "execution_count": 9,
   "metadata": {
    "id": "R4YgtaqtYklH"
   },
   "outputs": [
    {
     "data": {
      "image/png": "[encoded data removed]",
      "text/plain": [
       "<Figure size 1200x600 with 1 Axes>"
      ]
     },
     "metadata": {},
     "output_type": "display_data"
    }
   ],
   "source": [
    "# Chart - 2 visualization code\n",
    "#closing price trend line chart\n",
    "plt.figure(figsize=(12, 6))\n",
    "plt.plot(df['Date_new'], df['Close'], label='Closing Price', color='blue')\n",
    "plt.title('Closing Price Trend')\n",
    "plt.xlabel('Date')\n",
    "plt.ylabel('Price ($)')\n",
    "plt.xticks(rotation=45)\n",
    "plt.legend()\n",
    "plt.tight_layout()\n",
    "plt.show()"
   ]
  },
  {
   "cell_type": "markdown",
   "metadata": {
    "id": "t6dVpIINYklI"
   },
   "source": [
    "##### 1. Why did you pick the specific chart?"
   ]
  },
  {
   "cell_type": "markdown",
   "metadata": {
    "id": "5aaW0BYyYklI"
   },
   "source": [
    "Answer Here."
   ]
  },
  {
   "cell_type": "markdown",
   "metadata": {
    "id": "ijmpgYnKYklI"
   },
   "source": [
    "##### 2. What is/are the insight(s) found from the chart?"
   ]
  },
  {
   "cell_type": "markdown",
   "metadata": {
    "id": "PSx9atu2YklI"
   },
   "source": [
    "Answer Here"
   ]
  },
  {
   "cell_type": "markdown",
   "metadata": {
    "id": "-JiQyfWJYklI"
   },
   "source": [
    "##### 3. Will the gained insights help creating a positive business impact? \n",
    "Are there any insights that lead to negative growth? Justify with specific reason."
   ]
  },
  {
   "cell_type": "markdown",
   "metadata": {
    "id": "BcBbebzrYklV"
   },
   "source": [
    "Answer Here"
   ]
  },
  {
   "cell_type": "markdown",
   "metadata": {
    "id": "EM7whBJCYoAo"
   },
   "source": [
    "#### Chart - 3"
   ]
  },
  {
   "cell_type": "code",
   "execution_count": 13,
   "metadata": {
    "id": "t6GMdE67YoAp"
   },
   "outputs": [
    {
     "data": {
      "text/plain": [
       "<Axes: xlabel='Month'>"
      ]
     },
     "execution_count": 13,
     "metadata": {},
     "output_type": "execute_result"
    },
    {
     "data": {
      "image/png": "[encoded data removed]",
      "text/plain": [
       "<Figure size 1000x500 with 1 Axes>"
      ]
     },
     "metadata": {},
     "output_type": "display_data"
    }
   ],
   "source": [
    "# Chart - 3 visualization code\n",
    "df['Month'].value_counts().sort_index().plot(kind='bar', figsize=(10, 5))"
   ]
  },
  {
   "cell_type": "markdown",
   "metadata": {
    "id": "fge-S5ZAYoAp"
   },
   "source": [
    "##### 1. Why did you pick the specific chart?"
   ]
  },
  {
   "cell_type": "markdown",
   "metadata": {
    "id": "5dBItgRVYoAp"
   },
   "source": [
    "Answer Here."
   ]
  },
  {
   "cell_type": "markdown",
   "metadata": {
    "id": "85gYPyotYoAp"
   },
   "source": [
    "##### 2. What is/are the insight(s) found from the chart?"
   ]
  },
  {
   "cell_type": "markdown",
   "metadata": {
    "id": "4jstXR6OYoAp"
   },
   "source": [
    "Answer Here"
   ]
  },
  {
   "cell_type": "markdown",
   "metadata": {
    "id": "RoGjAbkUYoAp"
   },
   "source": [
    "##### 3. Will the gained insights help creating a positive business impact? \n",
    "Are there any insights that lead to negative growth? Justify with specific reason."
   ]
  },
  {
   "cell_type": "markdown",
   "metadata": {
    "id": "zfJ8IqMcYoAp"
   },
   "source": [
    "Answer Here"
   ]
  },
  {
   "cell_type": "markdown",
   "metadata": {
    "id": "4Of9eVA-YrdM"
   },
   "source": [
    "#### Chart - 4"
   ]
  },
  {
   "cell_type": "code",
   "execution_count": 32,
   "metadata": {
    "id": "irlUoxc8YrdO"
   },
   "outputs": [
    {
     "data": {
      "application/vnd.plotly.v1+json": {
       "config": {
        "plotlyServerURL": "https://plot.ly"
       },
       "data": [
        {
         "hovertemplate": "color=red<br>Date=%{x}<br>Daily Return (%)=%{y}<extra></extra>",
         "legendgroup": "red",
         "marker": {
          "color": "red",
          "pattern": {
           "shape": ""
          }
         },
         "name": "red",
         "orientation": "v",
         "showlegend": true,
         "textposition": "auto",
         "type": "bar",
         "x": [
          "2023-01-06T00:00:00.000000000",
          "2023-01-09T00:00:00.000000000",
          "2023-01-14T00:00:00.000000000",
          "2023-01-16T00:00:00.000000000",
          "2023-01-19T00:00:00.000000000",
          "2023-01-20T00:00:00.000000000",
          "2023-02-06T00:00:00.000000000",
          "2023-02-09T00:00:00.000000000",
          "2023-02-14T00:00:00.000000000",
          "2023-02-16T00:00:00.000000000",
          "2023-02-19T00:00:00.000000000",
          "2023-02-20T00:00:00.000000000",
          "2023-03-06T00:00:00.000000000",
          "2023-03-09T00:00:00.000000000",
          "2023-03-14T00:00:00.000000000",
          "2023-03-18T00:00:00.000000000",
          "2023-03-19T00:00:00.000000000",
          "2023-03-20T00:00:00.000000000",
          "2023-04-06T00:00:00.000000000",
          "2023-04-09T00:00:00.000000000",
          "2023-04-14T00:00:00.000000000",
          "2023-04-19T00:00:00.000000000",
          "2023-04-20T00:00:00.000000000",
          "2023-05-06T00:00:00.000000000",
          "2023-05-08T00:00:00.000000000",
          "2023-05-09T00:00:00.000000000",
          "2023-05-19T00:00:00.000000000",
          "2023-05-20T00:00:00.000000000",
          "2023-06-06T00:00:00.000000000",
          "2023-06-08T00:00:00.000000000",
          "2023-06-19T00:00:00.000000000",
          "2023-06-20T00:00:00.000000000",
          "2023-07-05T00:00:00.000000000",
          "2023-07-08T00:00:00.000000000",
          "2023-07-13T00:00:00.000000000",
          "2023-07-19T00:00:00.000000000",
          "2023-07-20T00:00:00.000000000",
          "2023-08-08T00:00:00.000000000",
          "2023-08-11T00:00:00.000000000",
          "2023-08-13T00:00:00.000000000",
          "2023-08-18T00:00:00.000000000",
          "2023-08-19T00:00:00.000000000",
          "2023-08-20T00:00:00.000000000",
          "2023-09-05T00:00:00.000000000",
          "2023-09-08T00:00:00.000000000",
          "2023-09-11T00:00:00.000000000",
          "2023-09-13T00:00:00.000000000",
          "2023-09-18T00:00:00.000000000",
          "2023-09-19T00:00:00.000000000",
          "2023-09-20T00:00:00.000000000",
          "2023-10-05T00:00:00.000000000",
          "2023-10-08T00:00:00.000000000",
          "2023-10-11T00:00:00.000000000",
          "2023-10-13T00:00:00.000000000",
          "2023-10-18T00:00:00.000000000",
          "2023-10-19T00:00:00.000000000",
          "2023-10-20T00:00:00.000000000",
          "2023-11-08T00:00:00.000000000",
          "2023-11-11T00:00:00.000000000",
          "2023-11-13T00:00:00.000000000",
          "2023-11-18T00:00:00.000000000",
          "2023-11-19T00:00:00.000000000",
          "2023-11-20T00:00:00.000000000",
          "2023-12-05T00:00:00.000000000",
          "2023-12-08T00:00:00.000000000",
          "2023-12-11T00:00:00.000000000",
          "2023-12-13T00:00:00.000000000",
          "2023-12-15T00:00:00.000000000",
          "2023-12-18T00:00:00.000000000",
          "2023-12-19T00:00:00.000000000"
         ],
         "xaxis": "x",
         "y": {
          "bdata": "AAAAAAAA+H88KbcQBfJSwMoCHnh1gUTAru8FuEjOKsD2hP74YZdGwKNQxALN9FPAvZyCl1NwTcAaij2iTs9TwAWsFbBWwEHA1oN97OQ2NMB4Ey5YJEE8wDCK5D6ZQ1XAmQyqd8/wRMC4KUYNf5tRwGNaEcFAGAzAECwLdIZo+b/kbr9Yh5QjwAcLz0uf9VbARslfWKVeKsBN/Z2TxlFLwPXI8B5TNijAIoNrJ33MSsD0PM/zPNdUwAyN9Db4vkHAWbjlZ9BoHMA4t2zmXk4zwIqiJ/zdoUzAeaueyoZ2VMCFoxETmOlEwFLRdxoKP0LAFPz86Xj/UMCfY2d3uxxTwP//////qUnAwnm0LoxzQMCQoM7owzUmwG2BxAi+y1LAntCYb1K6VcClGPSjhXc7wOsMZaxHPyXAAN3Nmx1BOsAp1kN1AagBwA9y188Wq1TAwFF2v1H2UsBwfgIaxsgdwAnJ4j5N1ETAmOd8l6B5NsAnWlkDEcc4wLD4iq/4ykfA6AwrO/BZU8DpOxYYmhFRwMLmleq5d/O/nZzZnBoxUcAIRiEF+O8owK1IYHVHuyTARSHBd80WRMCM1rD6rURPwFK97t61l1TAOAL80+hcUsCrKwzVCvUlwFPQDuC8qDDAuy+PrQhaRsB6Lphfzd5NwFJvhdRboVPAP5Y5wgUtGsD4ZUBP0nRRwGNe+bZjsjfAI+8Iv3xFNMC6sthklysYwLZuV3jGJ0XA8mJxcr2KUsA=",
          "dtype": "f8"
         },
         "yaxis": "y"
        },
        {
         "hovertemplate": "color=green<br>Date=%{x}<br>Daily Return (%)=%{y}<extra></extra>",
         "legendgroup": "green",
         "marker": {
          "color": "green",
          "pattern": {
           "shape": ""
          }
         },
         "name": "green",
         "orientation": "v",
         "showlegend": true,
         "textposition": "auto",
         "type": "bar",
         "x": [
          "2023-01-07T00:00:00.000000000",
          "2023-01-08T00:00:00.000000000",
          "2023-01-10T00:00:00.000000000",
          "2023-01-11T00:00:00.000000000",
          "2023-01-12T00:00:00.000000000",
          "2023-01-13T00:00:00.000000000",
          "2023-01-15T00:00:00.000000000",
          "2023-01-17T00:00:00.000000000",
          "2023-01-18T00:00:00.000000000",
          "2023-02-07T00:00:00.000000000",
          "2023-02-08T00:00:00.000000000",
          "2023-02-10T00:00:00.000000000",
          "2023-02-11T00:00:00.000000000",
          "2023-02-12T00:00:00.000000000",
          "2023-02-13T00:00:00.000000000",
          "2023-02-15T00:00:00.000000000",
          "2023-02-17T00:00:00.000000000",
          "2023-02-18T00:00:00.000000000",
          "2023-03-07T00:00:00.000000000",
          "2023-03-08T00:00:00.000000000",
          "2023-03-10T00:00:00.000000000",
          "2023-03-11T00:00:00.000000000",
          "2023-03-12T00:00:00.000000000",
          "2023-03-13T00:00:00.000000000",
          "2023-03-15T00:00:00.000000000",
          "2023-03-16T00:00:00.000000000",
          "2023-03-17T00:00:00.000000000",
          "2023-04-07T00:00:00.000000000",
          "2023-04-08T00:00:00.000000000",
          "2023-04-10T00:00:00.000000000",
          "2023-04-11T00:00:00.000000000",
          "2023-04-12T00:00:00.000000000",
          "2023-04-13T00:00:00.000000000",
          "2023-04-15T00:00:00.000000000",
          "2023-04-16T00:00:00.000000000",
          "2023-04-17T00:00:00.000000000",
          "2023-04-18T00:00:00.000000000",
          "2023-05-07T00:00:00.000000000",
          "2023-05-10T00:00:00.000000000",
          "2023-05-11T00:00:00.000000000",
          "2023-05-12T00:00:00.000000000",
          "2023-05-13T00:00:00.000000000",
          "2023-05-14T00:00:00.000000000",
          "2023-05-15T00:00:00.000000000",
          "2023-05-16T00:00:00.000000000",
          "2023-05-17T00:00:00.000000000",
          "2023-05-18T00:00:00.000000000",
          "2023-06-07T00:00:00.000000000",
          "2023-06-09T00:00:00.000000000",
          "2023-06-10T00:00:00.000000000",
          "2023-06-11T00:00:00.000000000",
          "2023-06-12T00:00:00.000000000",
          "2023-06-13T00:00:00.000000000",
          "2023-06-14T00:00:00.000000000",
          "2023-06-15T00:00:00.000000000",
          "2023-06-16T00:00:00.000000000",
          "2023-06-17T00:00:00.000000000",
          "2023-06-18T00:00:00.000000000",
          "2023-07-06T00:00:00.000000000",
          "2023-07-07T00:00:00.000000000",
          "2023-07-09T00:00:00.000000000",
          "2023-07-10T00:00:00.000000000",
          "2023-07-11T00:00:00.000000000",
          "2023-07-12T00:00:00.000000000",
          "2023-07-14T00:00:00.000000000",
          "2023-07-15T00:00:00.000000000",
          "2023-07-16T00:00:00.000000000",
          "2023-07-17T00:00:00.000000000",
          "2023-07-18T00:00:00.000000000",
          "2023-08-05T00:00:00.000000000",
          "2023-08-06T00:00:00.000000000",
          "2023-08-07T00:00:00.000000000",
          "2023-08-09T00:00:00.000000000",
          "2023-08-10T00:00:00.000000000",
          "2023-08-12T00:00:00.000000000",
          "2023-08-14T00:00:00.000000000",
          "2023-08-15T00:00:00.000000000",
          "2023-08-16T00:00:00.000000000",
          "2023-08-17T00:00:00.000000000",
          "2023-09-06T00:00:00.000000000",
          "2023-09-07T00:00:00.000000000",
          "2023-09-09T00:00:00.000000000",
          "2023-09-10T00:00:00.000000000",
          "2023-09-12T00:00:00.000000000",
          "2023-09-14T00:00:00.000000000",
          "2023-09-15T00:00:00.000000000",
          "2023-09-16T00:00:00.000000000",
          "2023-09-17T00:00:00.000000000",
          "2023-10-06T00:00:00.000000000",
          "2023-10-07T00:00:00.000000000",
          "2023-10-09T00:00:00.000000000",
          "2023-10-10T00:00:00.000000000",
          "2023-10-12T00:00:00.000000000",
          "2023-10-14T00:00:00.000000000",
          "2023-10-15T00:00:00.000000000",
          "2023-10-16T00:00:00.000000000",
          "2023-10-17T00:00:00.000000000",
          "2023-11-05T00:00:00.000000000",
          "2023-11-06T00:00:00.000000000",
          "2023-11-07T00:00:00.000000000",
          "2023-11-09T00:00:00.000000000",
          "2023-11-10T00:00:00.000000000",
          "2023-11-12T00:00:00.000000000",
          "2023-11-14T00:00:00.000000000",
          "2023-11-15T00:00:00.000000000",
          "2023-11-16T00:00:00.000000000",
          "2023-11-17T00:00:00.000000000",
          "2023-12-06T00:00:00.000000000",
          "2023-12-07T00:00:00.000000000",
          "2023-12-09T00:00:00.000000000",
          "2023-12-10T00:00:00.000000000",
          "2023-12-12T00:00:00.000000000",
          "2023-12-14T00:00:00.000000000",
          "2023-12-16T00:00:00.000000000",
          "2023-12-17T00:00:00.000000000"
         ],
         "xaxis": "x",
         "y": {
          "bdata": "85LQS0IvWEB3mY4eq+RQQF8Is10IM3NAAAm2ixQSFkBwlALB6Xo5QCnmldhHHE1AIWT5cH6CZkBBSFQZsbVVQExWtaFb/zpAOUxY179mU0BYlIvJbidSQDaV1VRWk3ZAUDbbFYXHIEB4ERJmq2ZBQBZvJBTwVkJAezyglzrjZkDjw1YKjMNbQMoYjhYk0CVAYhM3PtkRREDpdYjun+8zQCEFsgeLq3lAPf82UdeZNUDc4PqZqIUyQJ6O0mv9rDBAhJWHPkJeWEAhlRngeIMXQBKo+M+Dy1NAirDAyQDCS0D5qqgFi74oQJdihcNE2XBA2sRLlel1G0AW0qhsk6ktQMU0JH+YjkVA7D3axd6jVkACd6CIabsoQB7QGZmxM1JALND8iG4FJkDCa7uI13ZVQH2PyAnCJWBALUvercJeEUB4aZOras8jQEQg4H5s1UdAZTaFM37SMEA9emqr7n5LQJRSMKvt6zBANJQsStxgQ0B96nybaeM0QBzSuw8QS2BAbHhhwv3jPUD7HFITjFdUQGQjKKxExC9A9El1hTp5IUDYKDqFyvZBQEtEmZx+jDFAcra+MSnIS0DIVz3i5UE/QJwakv2wDkBAQSuB4HgnMED02BAZ7bE9QJh0ah7k1mBAXebuSTF2OUDldD5d3S9VQO3QM8KvShVADRTFnQ9BMUAy17U2AsZQQFakRl4jlUpAK5W9WblwR0Ci85C3vldIQOhMG7PNQfo/tkYiID6aKED+2v4czHdAQK95KoX01VpAjz0B6YKsOEADhBPxkoBVQFlA2tM2oTJAdVS7GCrgYEDGweKJop00QHRPnFKhaVhApvBzN4LVPEBg9oDZA2ZDQPQd/AlUA19Axdp6Isd3UUBuBePvVeBRQA6ix3fhIERAWshCFrKQV0BKhi65uKI+QNRZTGcx+lFAh3i2SEfDQ0A0De8RZ9dSQJiNzrOgt1ZA2vv8tygMb0Dd0ATFJfJJQE+cgDSj0z5AvWZjgXNgVUDw04X1D+klQGWA96Muv1BARO3naYH+N0B0RomfUeIfQK3t38cdNFZAfz+7eauYVEANzfF5rIdzQMD7U8VGCjVAQG/AAHAwT0Bbsy+HUytXQF/dYIp8lh9AmIZiGoppSkClDtFxVPQ+QEcH2zHvLVhAJZ4OtvIrVUBmGjv7Y+tvQKoa5P0bGDFAmA5cm0yjV0DSOUyqmjRbQFfeAWJYnk1ADqQqbrAdQkA=",
          "dtype": "f8"
         },
         "yaxis": "y"
        }
       ],
       "layout": {
        "barmode": "relative",
        "legend": {
         "title": {
          "text": "color"
         },
         "tracegroupgap": 0
        },
        "template": {
         "data": {
          "bar": [
           {
            "error_x": {
             "color": "#2a3f5f"
            },
            "error_y": {
             "color": "#2a3f5f"
            },
            "marker": {
             "line": {
              "color": "#E5ECF6",
              "width": 0.5
             },
             "pattern": {
              "fillmode": "overlay",
              "size": 10,
              "solidity": 0.2
             }
            },
            "type": "bar"
           }
          ],
          "barpolar": [
           {
            "marker": {
             "line": {
              "color": "#E5ECF6",
              "width": 0.5
             },
             "pattern": {
              "fillmode": "overlay",
              "size": 10,
              "solidity": 0.2
             }
            },
            "type": "barpolar"
           }
          ],
          "carpet": [
           {
            "aaxis": {
             "endlinecolor": "#2a3f5f",
             "gridcolor": "white",
             "linecolor": "white",
             "minorgridcolor": "white",
             "startlinecolor": "#2a3f5f"
            },
            "baxis": {
             "endlinecolor": "#2a3f5f",
             "gridcolor": "white",
             "linecolor": "white",
             "minorgridcolor": "white",
             "startlinecolor": "#2a3f5f"
            },
            "type": "carpet"
           }
          ],
          "choropleth": [
           {
            "colorbar": {
             "outlinewidth": 0,
             "ticks": ""
            },
            "type": "choropleth"
           }
          ],
          "contour": [
           {
            "colorbar": {
             "outlinewidth": 0,
             "ticks": ""
            },
            "colorscale": [
             [
              0,
              "#0d0887"
             ],
             [
              0.1111111111111111,
              "#46039f"
             ],
             [
              0.2222222222222222,
              "#7201a8"
             ],
             [
              0.3333333333333333,
              "#9c179e"
             ],
             [
              0.4444444444444444,
              "#bd3786"
             ],
             [
              0.5555555555555556,
              "#d8576b"
             ],
             [
              0.6666666666666666,
              "#ed7953"
             ],
             [
              0.7777777777777778,
              "#fb9f3a"
             ],
             [
              0.8888888888888888,
              "#fdca26"
             ],
             [
              1,
              "#f0f921"
             ]
            ],
            "type": "contour"
           }
          ],
          "contourcarpet": [
           {
            "colorbar": {
             "outlinewidth": 0,
             "ticks": ""
            },
            "type": "contourcarpet"
           }
          ],
          "heatmap": [
           {
            "colorbar": {
             "outlinewidth": 0,
             "ticks": ""
            },
            "colorscale": [
             [
              0,
              "#0d0887"
             ],
             [
              0.1111111111111111,
              "#46039f"
             ],
             [
              0.2222222222222222,
              "#7201a8"
             ],
             [
              0.3333333333333333,
              "#9c179e"
             ],
             [
              0.4444444444444444,
              "#bd3786"
             ],
             [
              0.5555555555555556,
              "#d8576b"
             ],
             [
              0.6666666666666666,
              "#ed7953"
             ],
             [
              0.7777777777777778,
              "#fb9f3a"
             ],
             [
              0.8888888888888888,
              "#fdca26"
             ],
             [
              1,
              "#f0f921"
             ]
            ],
            "type": "heatmap"
           }
          ],
          "histogram": [
           {
            "marker": {
             "pattern": {
              "fillmode": "overlay",
              "size": 10,
              "solidity": 0.2
             }
            },
            "type": "histogram"
           }
          ],
          "histogram2d": [
           {
            "colorbar": {
             "outlinewidth": 0,
             "ticks": ""
            },
            "colorscale": [
             [
              0,
              "#0d0887"
             ],
             [
              0.1111111111111111,
              "#46039f"
             ],
             [
              0.2222222222222222,
              "#7201a8"
             ],
             [
              0.3333333333333333,
              "#9c179e"
             ],
             [
              0.4444444444444444,
              "#bd3786"
             ],
             [
              0.5555555555555556,
              "#d8576b"
             ],
             [
              0.6666666666666666,
              "#ed7953"
             ],
             [
              0.7777777777777778,
              "#fb9f3a"
             ],
             [
              0.8888888888888888,
              "#fdca26"
             ],
             [
              1,
              "#f0f921"
             ]
            ],
            "type": "histogram2d"
           }
          ],
          "histogram2dcontour": [
           {
            "colorbar": {
             "outlinewidth": 0,
             "ticks": ""
            },
            "colorscale": [
             [
              0,
              "#0d0887"
             ],
             [
              0.1111111111111111,
              "#46039f"
             ],
             [
              0.2222222222222222,
              "#7201a8"
             ],
             [
              0.3333333333333333,
              "#9c179e"
             ],
             [
              0.4444444444444444,
              "#bd3786"
             ],
             [
              0.5555555555555556,
              "#d8576b"
             ],
             [
              0.6666666666666666,
              "#ed7953"
             ],
             [
              0.7777777777777778,
              "#fb9f3a"
             ],
             [
              0.8888888888888888,
              "#fdca26"
             ],
             [
              1,
              "#f0f921"
             ]
            ],
            "type": "histogram2dcontour"
           }
          ],
          "mesh3d": [
           {
            "colorbar": {
             "outlinewidth": 0,
             "ticks": ""
            },
            "type": "mesh3d"
           }
          ],
          "parcoords": [
           {
            "line": {
             "colorbar": {
              "outlinewidth": 0,
              "ticks": ""
             }
            },
            "type": "parcoords"
           }
          ],
          "pie": [
           {
            "automargin": true,
            "type": "pie"
           }
          ],
          "scatter": [
           {
            "fillpattern": {
             "fillmode": "overlay",
             "size": 10,
             "solidity": 0.2
            },
            "type": "scatter"
           }
          ],
          "scatter3d": [
           {
            "line": {
             "colorbar": {
              "outlinewidth": 0,
              "ticks": ""
             }
            },
            "marker": {
             "colorbar": {
              "outlinewidth": 0,
              "ticks": ""
             }
            },
            "type": "scatter3d"
           }
          ],
          "scattercarpet": [
           {
            "marker": {
             "colorbar": {
              "outlinewidth": 0,
              "ticks": ""
             }
            },
            "type": "scattercarpet"
           }
          ],
          "scattergeo": [
           {
            "marker": {
             "colorbar": {
              "outlinewidth": 0,
              "ticks": ""
             }
            },
            "type": "scattergeo"
           }
          ],
          "scattergl": [
           {
            "marker": {
             "colorbar": {
              "outlinewidth": 0,
              "ticks": ""
             }
            },
            "type": "scattergl"
           }
          ],
          "scattermap": [
           {
            "marker": {
             "colorbar": {
              "outlinewidth": 0,
              "ticks": ""
             }
            },
            "type": "scattermap"
           }
          ],
          "scattermapbox": [
           {
            "marker": {
             "colorbar": {
              "outlinewidth": 0,
              "ticks": ""
             }
            },
            "type": "scattermapbox"
           }
          ],
          "scatterpolar": [
           {
            "marker": {
             "colorbar": {
              "outlinewidth": 0,
              "ticks": ""
             }
            },
            "type": "scatterpolar"
           }
          ],
          "scatterpolargl": [
           {
            "marker": {
             "colorbar": {
              "outlinewidth": 0,
              "ticks": ""
             }
            },
            "type": "scatterpolargl"
           }
          ],
          "scatterternary": [
           {
            "marker": {
             "colorbar": {
              "outlinewidth": 0,
              "ticks": ""
             }
            },
            "type": "scatterternary"
           }
          ],
          "surface": [
           {
            "colorbar": {
             "outlinewidth": 0,
             "ticks": ""
            },
            "colorscale": [
             [
              0,
              "#0d0887"
             ],
             [
              0.1111111111111111,
              "#46039f"
             ],
             [
              0.2222222222222222,
              "#7201a8"
             ],
             [
              0.3333333333333333,
              "#9c179e"
             ],
             [
              0.4444444444444444,
              "#bd3786"
             ],
             [
              0.5555555555555556,
              "#d8576b"
             ],
             [
              0.6666666666666666,
              "#ed7953"
             ],
             [
              0.7777777777777778,
              "#fb9f3a"
             ],
             [
              0.8888888888888888,
              "#fdca26"
             ],
             [
              1,
              "#f0f921"
             ]
            ],
            "type": "surface"
           }
          ],
          "table": [
           {
            "cells": {
             "fill": {
              "color": "#EBF0F8"
             },
             "line": {
              "color": "white"
             }
            },
            "header": {
             "fill": {
              "color": "#C8D4E3"
             },
             "line": {
              "color": "white"
             }
            },
            "type": "table"
           }
          ]
         },
         "layout": {
          "annotationdefaults": {
           "arrowcolor": "#2a3f5f",
           "arrowhead": 0,
           "arrowwidth": 1
          },
          "autotypenumbers": "strict",
          "coloraxis": {
           "colorbar": {
            "outlinewidth": 0,
            "ticks": ""
           }
          },
          "colorscale": {
           "diverging": [
            [
             0,
             "#8e0152"
            ],
            [
             0.1,
             "#c51b7d"
            ],
            [
             0.2,
             "#de77ae"
            ],
            [
             0.3,
             "#f1b6da"
            ],
            [
             0.4,
             "#fde0ef"
            ],
            [
             0.5,
             "#f7f7f7"
            ],
            [
             0.6,
             "#e6f5d0"
            ],
            [
             0.7,
             "#b8e186"
            ],
            [
             0.8,
             "#7fbc41"
            ],
            [
             0.9,
             "#4d9221"
            ],
            [
             1,
             "#276419"
            ]
           ],
           "sequential": [
            [
             0,
             "#0d0887"
            ],
            [
             0.1111111111111111,
             "#46039f"
            ],
            [
             0.2222222222222222,
             "#7201a8"
            ],
            [
             0.3333333333333333,
             "#9c179e"
            ],
            [
             0.4444444444444444,
             "#bd3786"
            ],
            [
             0.5555555555555556,
             "#d8576b"
            ],
            [
             0.6666666666666666,
             "#ed7953"
            ],
            [
             0.7777777777777778,
             "#fb9f3a"
            ],
            [
             0.8888888888888888,
             "#fdca26"
            ],
            [
             1,
             "#f0f921"
            ]
           ],
           "sequentialminus": [
            [
             0,
             "#0d0887"
            ],
            [
             0.1111111111111111,
             "#46039f"
            ],
            [
             0.2222222222222222,
             "#7201a8"
            ],
            [
             0.3333333333333333,
             "#9c179e"
            ],
            [
             0.4444444444444444,
             "#bd3786"
            ],
            [
             0.5555555555555556,
             "#d8576b"
            ],
            [
             0.6666666666666666,
             "#ed7953"
            ],
            [
             0.7777777777777778,
             "#fb9f3a"
            ],
            [
             0.8888888888888888,
             "#fdca26"
            ],
            [
             1,
             "#f0f921"
            ]
           ]
          },
          "colorway": [
           "#636efa",
           "#EF553B",
           "#00cc96",
           "#ab63fa",
           "#FFA15A",
           "#19d3f3",
           "#FF6692",
           "#B6E880",
           "#FF97FF",
           "#FECB52"
          ],
          "font": {
           "color": "#2a3f5f"
          },
          "geo": {
           "bgcolor": "white",
           "lakecolor": "white",
           "landcolor": "#E5ECF6",
           "showlakes": true,
           "showland": true,
           "subunitcolor": "white"
          },
          "hoverlabel": {
           "align": "left"
          },
          "hovermode": "closest",
          "mapbox": {
           "style": "light"
          },
          "paper_bgcolor": "white",
          "plot_bgcolor": "#E5ECF6",
          "polar": {
           "angularaxis": {
            "gridcolor": "white",
            "linecolor": "white",
            "ticks": ""
           },
           "bgcolor": "#E5ECF6",
           "radialaxis": {
            "gridcolor": "white",
            "linecolor": "white",
            "ticks": ""
           }
          },
          "scene": {
           "xaxis": {
            "backgroundcolor": "#E5ECF6",
            "gridcolor": "white",
            "gridwidth": 2,
            "linecolor": "white",
            "showbackground": true,
            "ticks": "",
            "zerolinecolor": "white"
           },
           "yaxis": {
            "backgroundcolor": "#E5ECF6",
            "gridcolor": "white",
            "gridwidth": 2,
            "linecolor": "white",
            "showbackground": true,
            "ticks": "",
            "zerolinecolor": "white"
           },
           "zaxis": {
            "backgroundcolor": "#E5ECF6",
            "gridcolor": "white",
            "gridwidth": 2,
            "linecolor": "white",
            "showbackground": true,
            "ticks": "",
            "zerolinecolor": "white"
           }
          },
          "shapedefaults": {
           "line": {
            "color": "#2a3f5f"
           }
          },
          "ternary": {
           "aaxis": {
            "gridcolor": "white",
            "linecolor": "white",
            "ticks": ""
           },
           "baxis": {
            "gridcolor": "white",
            "linecolor": "white",
            "ticks": ""
           },
           "bgcolor": "#E5ECF6",
           "caxis": {
            "gridcolor": "white",
            "linecolor": "white",
            "ticks": ""
           }
          },
          "title": {
           "x": 0.05
          },
          "xaxis": {
           "automargin": true,
           "gridcolor": "white",
           "linecolor": "white",
           "ticks": "",
           "title": {
            "standoff": 15
           },
           "zerolinecolor": "white",
           "zerolinewidth": 2
          },
          "yaxis": {
           "automargin": true,
           "gridcolor": "white",
           "linecolor": "white",
           "ticks": "",
           "title": {
            "standoff": 15
           },
           "zerolinecolor": "white",
           "zerolinewidth": 2
          }
         }
        },
        "title": {
         "text": "Interactive Daily Percentage Returns"
        },
        "xaxis": {
         "anchor": "y",
         "domain": [
          0,
          1
         ],
         "title": {
          "text": "Date"
         }
        },
        "yaxis": {
         "anchor": "x",
         "domain": [
          0,
          1
         ],
         "title": {
          "text": "Daily Return (%)"
         }
        }
       }
      },
      "text/html": [
       "<div>            <script src=\"https://cdnjs.cloudflare.com/ajax/libs/mathjax/2.7.5/MathJax.js?config=TeX-AMS-MML_SVG\"></script><script type=\"text/javascript\">if (window.MathJax && window.MathJax.Hub && window.MathJax.Hub.Config) {window.MathJax.Hub.Config({SVG: {font: \"STIX-Web\"}});}</script>                <script type=\"text/javascript\">window.PlotlyConfig = {MathJaxConfig: 'local'};</script>\n",
       "        <script charset=\"utf-8\" src=\"https://cdn.plot.ly/plotly-3.0.1.min.js\"></script>                <div id=\"927390e3-3734-48b4-9760-53b77c4a0a41\" class=\"plotly-graph-div\" style=\"height:525px; width:100%;\"></div>            <script type=\"text/javascript\">                window.PLOTLYENV=window.PLOTLYENV || {};                                if (document.getElementById(\"927390e3-3734-48b4-9760-53b77c4a0a41\")) {                    Plotly.newPlot(                        \"927390e3-3734-48b4-9760-53b77c4a0a41\",                        [{\"hovertemplate\":\"color=red\\u003cbr\\u003eDate=%{x}\\u003cbr\\u003eDaily Return (%)=%{y}\\u003cextra\\u003e\\u003c\\u002fextra\\u003e\",\"legendgroup\":\"red\",\"marker\":{\"color\":\"red\",\"pattern\":{\"shape\":\"\"}},\"name\":\"red\",\"orientation\":\"v\",\"showlegend\":true,\"textposition\":\"auto\",\"x\":[\"2023-01-06T00:00:00.000000000\",\"2023-01-09T00:00:00.000000000\",\"2023-01-14T00:00:00.000000000\",\"2023-01-16T00:00:00.000000000\",\"2023-01-19T00:00:00.000000000\",\"2023-01-20T00:00:00.000000000\",\"2023-02-06T00:00:00.000000000\",\"2023-02-09T00:00:00.000000000\",\"2023-02-14T00:00:00.000000000\",\"2023-02-16T00:00:00.000000000\",\"2023-02-19T00:00:00.000000000\",\"2023-02-20T00:00:00.000000000\",\"2023-03-06T00:00:00.000000000\",\"2023-03-09T00:00:00.000000000\",\"2023-03-14T00:00:00.000000000\",\"2023-03-18T00:00:00.000000000\",\"2023-03-19T00:00:00.000000000\",\"2023-03-20T00:00:00.000000000\",\"2023-04-06T00:00:00.000000000\",\"2023-04-09T00:00:00.000000000\",\"2023-04-14T00:00:00.000000000\",\"2023-04-19T00:00:00.000000000\",\"2023-04-20T00:00:00.000000000\",\"2023-05-06T00:00:00.000000000\",\"2023-05-08T00:00:00.000000000\",\"2023-05-09T00:00:00.000000000\",\"2023-05-19T00:00:00.000000000\",\"2023-05-20T00:00:00.000000000\",\"2023-06-06T00:00:00.000000000\",\"2023-06-08T00:00:00.000000000\",\"2023-06-19T00:00:00.000000000\",\"2023-06-20T00:00:00.000000000\",\"2023-07-05T00:00:00.000000000\",\"2023-07-08T00:00:00.000000000\",\"2023-07-13T00:00:00.000000000\",\"2023-07-19T00:00:00.000000000\",\"2023-07-20T00:00:00.000000000\",\"2023-08-08T00:00:00.000000000\",\"2023-08-11T00:00:00.000000000\",\"2023-08-13T00:00:00.000000000\",\"2023-08-18T00:00:00.000000000\",\"2023-08-19T00:00:00.000000000\",\"2023-08-20T00:00:00.000000000\",\"2023-09-05T00:00:00.000000000\",\"2023-09-08T00:00:00.000000000\",\"2023-09-11T00:00:00.000000000\",\"2023-09-13T00:00:00.000000000\",\"2023-09-18T00:00:00.000000000\",\"2023-09-19T00:00:00.000000000\",\"2023-09-20T00:00:00.000000000\",\"2023-10-05T00:00:00.000000000\",\"2023-10-08T00:00:00.000000000\",\"2023-10-11T00:00:00.000000000\",\"2023-10-13T00:00:00.000000000\",\"2023-10-18T00:00:00.000000000\",\"2023-10-19T00:00:00.000000000\",\"2023-10-20T00:00:00.000000000\",\"2023-11-08T00:00:00.000000000\",\"2023-11-11T00:00:00.000000000\",\"2023-11-13T00:00:00.000000000\",\"2023-11-18T00:00:00.000000000\",\"2023-11-19T00:00:00.000000000\",\"2023-11-20T00:00:00.000000000\",\"2023-12-05T00:00:00.000000000\",\"2023-12-08T00:00:00.000000000\",\"2023-12-11T00:00:00.000000000\",\"2023-12-13T00:00:00.000000000\",\"2023-12-15T00:00:00.000000000\",\"2023-12-18T00:00:00.000000000\",\"2023-12-19T00:00:00.000000000\"],\"xaxis\":\"x\",\"y\":{\"dtype\":\"f8\",\"bdata\":\"AAAAAAAA+H88KbcQBfJSwMoCHnh1gUTAru8FuEjOKsD2hP74YZdGwKNQxALN9FPAvZyCl1NwTcAaij2iTs9TwAWsFbBWwEHA1oN97OQ2NMB4Ey5YJEE8wDCK5D6ZQ1XAmQyqd8\\u002fwRMC4KUYNf5tRwGNaEcFAGAzAECwLdIZo+b\\u002fkbr9Yh5QjwAcLz0uf9VbARslfWKVeKsBN\\u002fZ2TxlFLwPXI8B5TNijAIoNrJ33MSsD0PM\\u002fzPNdUwAyN9Db4vkHAWbjlZ9BoHMA4t2zmXk4zwIqiJ\\u002fzdoUzAeaueyoZ2VMCFoxETmOlEwFLRdxoKP0LAFPz86Xj\\u002fUMCfY2d3uxxTwP\\u002f\\u002f\\u002f\\u002f\\u002f\\u002fqUnAwnm0LoxzQMCQoM7owzUmwG2BxAi+y1LAntCYb1K6VcClGPSjhXc7wOsMZaxHPyXAAN3Nmx1BOsAp1kN1AagBwA9y188Wq1TAwFF2v1H2UsBwfgIaxsgdwAnJ4j5N1ETAmOd8l6B5NsAnWlkDEcc4wLD4iq\\u002f4ykfA6AwrO\\u002fBZU8DpOxYYmhFRwMLmleq5d\\u002fO\\u002fnZzZnBoxUcAIRiEF+O8owK1IYHVHuyTARSHBd80WRMCM1rD6rURPwFK97t61l1TAOAL80+hcUsCrKwzVCvUlwFPQDuC8qDDAuy+PrQhaRsB6Lphfzd5NwFJvhdRboVPAP5Y5wgUtGsD4ZUBP0nRRwGNe+bZjsjfAI+8Iv3xFNMC6sthklysYwLZuV3jGJ0XA8mJxcr2KUsA=\"},\"yaxis\":\"y\",\"type\":\"bar\"},{\"hovertemplate\":\"color=green\\u003cbr\\u003eDate=%{x}\\u003cbr\\u003eDaily Return (%)=%{y}\\u003cextra\\u003e\\u003c\\u002fextra\\u003e\",\"legendgroup\":\"green\",\"marker\":{\"color\":\"green\",\"pattern\":{\"shape\":\"\"}},\"name\":\"green\",\"orientation\":\"v\",\"showlegend\":true,\"textposition\":\"auto\",\"x\":[\"2023-01-07T00:00:00.000000000\",\"2023-01-08T00:00:00.000000000\",\"2023-01-10T00:00:00.000000000\",\"2023-01-11T00:00:00.000000000\",\"2023-01-12T00:00:00.000000000\",\"2023-01-13T00:00:00.000000000\",\"2023-01-15T00:00:00.000000000\",\"2023-01-17T00:00:00.000000000\",\"2023-01-18T00:00:00.000000000\",\"2023-02-07T00:00:00.000000000\",\"2023-02-08T00:00:00.000000000\",\"2023-02-10T00:00:00.000000000\",\"2023-02-11T00:00:00.000000000\",\"2023-02-12T00:00:00.000000000\",\"2023-02-13T00:00:00.000000000\",\"2023-02-15T00:00:00.000000000\",\"2023-02-17T00:00:00.000000000\",\"2023-02-18T00:00:00.000000000\",\"2023-03-07T00:00:00.000000000\",\"2023-03-08T00:00:00.000000000\",\"2023-03-10T00:00:00.000000000\",\"2023-03-11T00:00:00.000000000\",\"2023-03-12T00:00:00.000000000\",\"2023-03-13T00:00:00.000000000\",\"2023-03-15T00:00:00.000000000\",\"2023-03-16T00:00:00.000000000\",\"2023-03-17T00:00:00.000000000\",\"2023-04-07T00:00:00.000000000\",\"2023-04-08T00:00:00.000000000\",\"2023-04-10T00:00:00.000000000\",\"2023-04-11T00:00:00.000000000\",\"2023-04-12T00:00:00.000000000\",\"2023-04-13T00:00:00.000000000\",\"2023-04-15T00:00:00.000000000\",\"2023-04-16T00:00:00.000000000\",\"2023-04-17T00:00:00.000000000\",\"2023-04-18T00:00:00.000000000\",\"2023-05-07T00:00:00.000000000\",\"2023-05-10T00:00:00.000000000\",\"2023-05-11T00:00:00.000000000\",\"2023-05-12T00:00:00.000000000\",\"2023-05-13T00:00:00.000000000\",\"2023-05-14T00:00:00.000000000\",\"2023-05-15T00:00:00.000000000\",\"2023-05-16T00:00:00.000000000\",\"2023-05-17T00:00:00.000000000\",\"2023-05-18T00:00:00.000000000\",\"2023-06-07T00:00:00.000000000\",\"2023-06-09T00:00:00.000000000\",\"2023-06-10T00:00:00.000000000\",\"2023-06-11T00:00:00.000000000\",\"2023-06-12T00:00:00.000000000\",\"2023-06-13T00:00:00.000000000\",\"2023-06-14T00:00:00.000000000\",\"2023-06-15T00:00:00.000000000\",\"2023-06-16T00:00:00.000000000\",\"2023-06-17T00:00:00.000000000\",\"2023-06-18T00:00:00.000000000\",\"2023-07-06T00:00:00.000000000\",\"2023-07-07T00:00:00.000000000\",\"2023-07-09T00:00:00.000000000\",\"2023-07-10T00:00:00.000000000\",\"2023-07-11T00:00:00.000000000\",\"2023-07-12T00:00:00.000000000\",\"2023-07-14T00:00:00.000000000\",\"2023-07-15T00:00:00.000000000\",\"2023-07-16T00:00:00.000000000\",\"2023-07-17T00:00:00.000000000\",\"2023-07-18T00:00:00.000000000\",\"2023-08-05T00:00:00.000000000\",\"2023-08-06T00:00:00.000000000\",\"2023-08-07T00:00:00.000000000\",\"2023-08-09T00:00:00.000000000\",\"2023-08-10T00:00:00.000000000\",\"2023-08-12T00:00:00.000000000\",\"2023-08-14T00:00:00.000000000\",\"2023-08-15T00:00:00.000000000\",\"2023-08-16T00:00:00.000000000\",\"2023-08-17T00:00:00.000000000\",\"2023-09-06T00:00:00.000000000\",\"2023-09-07T00:00:00.000000000\",\"2023-09-09T00:00:00.000000000\",\"2023-09-10T00:00:00.000000000\",\"2023-09-12T00:00:00.000000000\",\"2023-09-14T00:00:00.000000000\",\"2023-09-15T00:00:00.000000000\",\"2023-09-16T00:00:00.000000000\",\"2023-09-17T00:00:00.000000000\",\"2023-10-06T00:00:00.000000000\",\"2023-10-07T00:00:00.000000000\",\"2023-10-09T00:00:00.000000000\",\"2023-10-10T00:00:00.000000000\",\"2023-10-12T00:00:00.000000000\",\"2023-10-14T00:00:00.000000000\",\"2023-10-15T00:00:00.000000000\",\"2023-10-16T00:00:00.000000000\",\"2023-10-17T00:00:00.000000000\",\"2023-11-05T00:00:00.000000000\",\"2023-11-06T00:00:00.000000000\",\"2023-11-07T00:00:00.000000000\",\"2023-11-09T00:00:00.000000000\",\"2023-11-10T00:00:00.000000000\",\"2023-11-12T00:00:00.000000000\",\"2023-11-14T00:00:00.000000000\",\"2023-11-15T00:00:00.000000000\",\"2023-11-16T00:00:00.000000000\",\"2023-11-17T00:00:00.000000000\",\"2023-12-06T00:00:00.000000000\",\"2023-12-07T00:00:00.000000000\",\"2023-12-09T00:00:00.000000000\",\"2023-12-10T00:00:00.000000000\",\"2023-12-12T00:00:00.000000000\",\"2023-12-14T00:00:00.000000000\",\"2023-12-16T00:00:00.000000000\",\"2023-12-17T00:00:00.000000000\"],\"xaxis\":\"x\",\"y\":{\"dtype\":\"f8\",\"bdata\":\"85LQS0IvWEB3mY4eq+RQQF8Is10IM3NAAAm2ixQSFkBwlALB6Xo5QCnmldhHHE1AIWT5cH6CZkBBSFQZsbVVQExWtaFb\\u002fzpAOUxY179mU0BYlIvJbidSQDaV1VRWk3ZAUDbbFYXHIEB4ERJmq2ZBQBZvJBTwVkJAezyglzrjZkDjw1YKjMNbQMoYjhYk0CVAYhM3PtkRREDpdYjun+8zQCEFsgeLq3lAPf82UdeZNUDc4PqZqIUyQJ6O0mv9rDBAhJWHPkJeWEAhlRngeIMXQBKo+M+Dy1NAirDAyQDCS0D5qqgFi74oQJdihcNE2XBA2sRLlel1G0AW0qhsk6ktQMU0JH+YjkVA7D3axd6jVkACd6CIabsoQB7QGZmxM1JALND8iG4FJkDCa7uI13ZVQH2PyAnCJWBALUvercJeEUB4aZOras8jQEQg4H5s1UdAZTaFM37SMEA9emqr7n5LQJRSMKvt6zBANJQsStxgQ0B96nybaeM0QBzSuw8QS2BAbHhhwv3jPUD7HFITjFdUQGQjKKxExC9A9El1hTp5IUDYKDqFyvZBQEtEmZx+jDFAcra+MSnIS0DIVz3i5UE\\u002fQJwakv2wDkBAQSuB4HgnMED02BAZ7bE9QJh0ah7k1mBAXebuSTF2OUDldD5d3S9VQO3QM8KvShVADRTFnQ9BMUAy17U2AsZQQFakRl4jlUpAK5W9WblwR0Ci85C3vldIQOhMG7PNQfo\\u002ftkYiID6aKED+2v4czHdAQK95KoX01VpAjz0B6YKsOEADhBPxkoBVQFlA2tM2oTJAdVS7GCrgYEDGweKJop00QHRPnFKhaVhApvBzN4LVPEBg9oDZA2ZDQPQd\\u002fAlUA19Axdp6Isd3UUBuBePvVeBRQA6ix3fhIERAWshCFrKQV0BKhi65uKI+QNRZTGcx+lFAh3i2SEfDQ0A0De8RZ9dSQJiNzrOgt1ZA2vv8tygMb0Dd0ATFJfJJQE+cgDSj0z5AvWZjgXNgVUDw04X1D+klQGWA96Muv1BARO3naYH+N0B0RomfUeIfQK3t38cdNFZAfz+7eauYVEANzfF5rIdzQMD7U8VGCjVAQG\\u002fAAHAwT0Bbsy+HUytXQF\\u002fdYIp8lh9AmIZiGoppSkClDtFxVPQ+QEcH2zHvLVhAJZ4OtvIrVUBmGjv7Y+tvQKoa5P0bGDFAmA5cm0yjV0DSOUyqmjRbQFfeAWJYnk1ADqQqbrAdQkA=\"},\"yaxis\":\"y\",\"type\":\"bar\"}],                        {\"template\":{\"data\":{\"histogram2dcontour\":[{\"type\":\"histogram2dcontour\",\"colorbar\":{\"outlinewidth\":0,\"ticks\":\"\"},\"colorscale\":[[0.0,\"#0d0887\"],[0.1111111111111111,\"#46039f\"],[0.2222222222222222,\"#7201a8\"],[0.3333333333333333,\"#9c179e\"],[0.4444444444444444,\"#bd3786\"],[0.5555555555555556,\"#d8576b\"],[0.6666666666666666,\"#ed7953\"],[0.7777777777777778,\"#fb9f3a\"],[0.8888888888888888,\"#fdca26\"],[1.0,\"#f0f921\"]]}],\"choropleth\":[{\"type\":\"choropleth\",\"colorbar\":{\"outlinewidth\":0,\"ticks\":\"\"}}],\"histogram2d\":[{\"type\":\"histogram2d\",\"colorbar\":{\"outlinewidth\":0,\"ticks\":\"\"},\"colorscale\":[[0.0,\"#0d0887\"],[0.1111111111111111,\"#46039f\"],[0.2222222222222222,\"#7201a8\"],[0.3333333333333333,\"#9c179e\"],[0.4444444444444444,\"#bd3786\"],[0.5555555555555556,\"#d8576b\"],[0.6666666666666666,\"#ed7953\"],[0.7777777777777778,\"#fb9f3a\"],[0.8888888888888888,\"#fdca26\"],[1.0,\"#f0f921\"]]}],\"heatmap\":[{\"type\":\"heatmap\",\"colorbar\":{\"outlinewidth\":0,\"ticks\":\"\"},\"colorscale\":[[0.0,\"#0d0887\"],[0.1111111111111111,\"#46039f\"],[0.2222222222222222,\"#7201a8\"],[0.3333333333333333,\"#9c179e\"],[0.4444444444444444,\"#bd3786\"],[0.5555555555555556,\"#d8576b\"],[0.6666666666666666,\"#ed7953\"],[0.7777777777777778,\"#fb9f3a\"],[0.8888888888888888,\"#fdca26\"],[1.0,\"#f0f921\"]]}],\"contourcarpet\":[{\"type\":\"contourcarpet\",\"colorbar\":{\"outlinewidth\":0,\"ticks\":\"\"}}],\"contour\":[{\"type\":\"contour\",\"colorbar\":{\"outlinewidth\":0,\"ticks\":\"\"},\"colorscale\":[[0.0,\"#0d0887\"],[0.1111111111111111,\"#46039f\"],[0.2222222222222222,\"#7201a8\"],[0.3333333333333333,\"#9c179e\"],[0.4444444444444444,\"#bd3786\"],[0.5555555555555556,\"#d8576b\"],[0.6666666666666666,\"#ed7953\"],[0.7777777777777778,\"#fb9f3a\"],[0.8888888888888888,\"#fdca26\"],[1.0,\"#f0f921\"]]}],\"surface\":[{\"type\":\"surface\",\"colorbar\":{\"outlinewidth\":0,\"ticks\":\"\"},\"colorscale\":[[0.0,\"#0d0887\"],[0.1111111111111111,\"#46039f\"],[0.2222222222222222,\"#7201a8\"],[0.3333333333333333,\"#9c179e\"],[0.4444444444444444,\"#bd3786\"],[0.5555555555555556,\"#d8576b\"],[0.6666666666666666,\"#ed7953\"],[0.7777777777777778,\"#fb9f3a\"],[0.8888888888888888,\"#fdca26\"],[1.0,\"#f0f921\"]]}],\"mesh3d\":[{\"type\":\"mesh3d\",\"colorbar\":{\"outlinewidth\":0,\"ticks\":\"\"}}],\"scatter\":[{\"fillpattern\":{\"fillmode\":\"overlay\",\"size\":10,\"solidity\":0.2},\"type\":\"scatter\"}],\"parcoords\":[{\"type\":\"parcoords\",\"line\":{\"colorbar\":{\"outlinewidth\":0,\"ticks\":\"\"}}}],\"scatterpolargl\":[{\"type\":\"scatterpolargl\",\"marker\":{\"colorbar\":{\"outlinewidth\":0,\"ticks\":\"\"}}}],\"bar\":[{\"error_x\":{\"color\":\"#2a3f5f\"},\"error_y\":{\"color\":\"#2a3f5f\"},\"marker\":{\"line\":{\"color\":\"#E5ECF6\",\"width\":0.5},\"pattern\":{\"fillmode\":\"overlay\",\"size\":10,\"solidity\":0.2}},\"type\":\"bar\"}],\"scattergeo\":[{\"type\":\"scattergeo\",\"marker\":{\"colorbar\":{\"outlinewidth\":0,\"ticks\":\"\"}}}],\"scatterpolar\":[{\"type\":\"scatterpolar\",\"marker\":{\"colorbar\":{\"outlinewidth\":0,\"ticks\":\"\"}}}],\"histogram\":[{\"marker\":{\"pattern\":{\"fillmode\":\"overlay\",\"size\":10,\"solidity\":0.2}},\"type\":\"histogram\"}],\"scattergl\":[{\"type\":\"scattergl\",\"marker\":{\"colorbar\":{\"outlinewidth\":0,\"ticks\":\"\"}}}],\"scatter3d\":[{\"type\":\"scatter3d\",\"line\":{\"colorbar\":{\"outlinewidth\":0,\"ticks\":\"\"}},\"marker\":{\"colorbar\":{\"outlinewidth\":0,\"ticks\":\"\"}}}],\"scattermap\":[{\"type\":\"scattermap\",\"marker\":{\"colorbar\":{\"outlinewidth\":0,\"ticks\":\"\"}}}],\"scattermapbox\":[{\"type\":\"scattermapbox\",\"marker\":{\"colorbar\":{\"outlinewidth\":0,\"ticks\":\"\"}}}],\"scatterternary\":[{\"type\":\"scatterternary\",\"marker\":{\"colorbar\":{\"outlinewidth\":0,\"ticks\":\"\"}}}],\"scattercarpet\":[{\"type\":\"scattercarpet\",\"marker\":{\"colorbar\":{\"outlinewidth\":0,\"ticks\":\"\"}}}],\"carpet\":[{\"aaxis\":{\"endlinecolor\":\"#2a3f5f\",\"gridcolor\":\"white\",\"linecolor\":\"white\",\"minorgridcolor\":\"white\",\"startlinecolor\":\"#2a3f5f\"},\"baxis\":{\"endlinecolor\":\"#2a3f5f\",\"gridcolor\":\"white\",\"linecolor\":\"white\",\"minorgridcolor\":\"white\",\"startlinecolor\":\"#2a3f5f\"},\"type\":\"carpet\"}],\"table\":[{\"cells\":{\"fill\":{\"color\":\"#EBF0F8\"},\"line\":{\"color\":\"white\"}},\"header\":{\"fill\":{\"color\":\"#C8D4E3\"},\"line\":{\"color\":\"white\"}},\"type\":\"table\"}],\"barpolar\":[{\"marker\":{\"line\":{\"color\":\"#E5ECF6\",\"width\":0.5},\"pattern\":{\"fillmode\":\"overlay\",\"size\":10,\"solidity\":0.2}},\"type\":\"barpolar\"}],\"pie\":[{\"automargin\":true,\"type\":\"pie\"}]},\"layout\":{\"autotypenumbers\":\"strict\",\"colorway\":[\"#636efa\",\"#EF553B\",\"#00cc96\",\"#ab63fa\",\"#FFA15A\",\"#19d3f3\",\"#FF6692\",\"#B6E880\",\"#FF97FF\",\"#FECB52\"],\"font\":{\"color\":\"#2a3f5f\"},\"hovermode\":\"closest\",\"hoverlabel\":{\"align\":\"left\"},\"paper_bgcolor\":\"white\",\"plot_bgcolor\":\"#E5ECF6\",\"polar\":{\"bgcolor\":\"#E5ECF6\",\"angularaxis\":{\"gridcolor\":\"white\",\"linecolor\":\"white\",\"ticks\":\"\"},\"radialaxis\":{\"gridcolor\":\"white\",\"linecolor\":\"white\",\"ticks\":\"\"}},\"ternary\":{\"bgcolor\":\"#E5ECF6\",\"aaxis\":{\"gridcolor\":\"white\",\"linecolor\":\"white\",\"ticks\":\"\"},\"baxis\":{\"gridcolor\":\"white\",\"linecolor\":\"white\",\"ticks\":\"\"},\"caxis\":{\"gridcolor\":\"white\",\"linecolor\":\"white\",\"ticks\":\"\"}},\"coloraxis\":{\"colorbar\":{\"outlinewidth\":0,\"ticks\":\"\"}},\"colorscale\":{\"sequential\":[[0.0,\"#0d0887\"],[0.1111111111111111,\"#46039f\"],[0.2222222222222222,\"#7201a8\"],[0.3333333333333333,\"#9c179e\"],[0.4444444444444444,\"#bd3786\"],[0.5555555555555556,\"#d8576b\"],[0.6666666666666666,\"#ed7953\"],[0.7777777777777778,\"#fb9f3a\"],[0.8888888888888888,\"#fdca26\"],[1.0,\"#f0f921\"]],\"sequentialminus\":[[0.0,\"#0d0887\"],[0.1111111111111111,\"#46039f\"],[0.2222222222222222,\"#7201a8\"],[0.3333333333333333,\"#9c179e\"],[0.4444444444444444,\"#bd3786\"],[0.5555555555555556,\"#d8576b\"],[0.6666666666666666,\"#ed7953\"],[0.7777777777777778,\"#fb9f3a\"],[0.8888888888888888,\"#fdca26\"],[1.0,\"#f0f921\"]],\"diverging\":[[0,\"#8e0152\"],[0.1,\"#c51b7d\"],[0.2,\"#de77ae\"],[0.3,\"#f1b6da\"],[0.4,\"#fde0ef\"],[0.5,\"#f7f7f7\"],[0.6,\"#e6f5d0\"],[0.7,\"#b8e186\"],[0.8,\"#7fbc41\"],[0.9,\"#4d9221\"],[1,\"#276419\"]]},\"xaxis\":{\"gridcolor\":\"white\",\"linecolor\":\"white\",\"ticks\":\"\",\"title\":{\"standoff\":15},\"zerolinecolor\":\"white\",\"automargin\":true,\"zerolinewidth\":2},\"yaxis\":{\"gridcolor\":\"white\",\"linecolor\":\"white\",\"ticks\":\"\",\"title\":{\"standoff\":15},\"zerolinecolor\":\"white\",\"automargin\":true,\"zerolinewidth\":2},\"scene\":{\"xaxis\":{\"backgroundcolor\":\"#E5ECF6\",\"gridcolor\":\"white\",\"linecolor\":\"white\",\"showbackground\":true,\"ticks\":\"\",\"zerolinecolor\":\"white\",\"gridwidth\":2},\"yaxis\":{\"backgroundcolor\":\"#E5ECF6\",\"gridcolor\":\"white\",\"linecolor\":\"white\",\"showbackground\":true,\"ticks\":\"\",\"zerolinecolor\":\"white\",\"gridwidth\":2},\"zaxis\":{\"backgroundcolor\":\"#E5ECF6\",\"gridcolor\":\"white\",\"linecolor\":\"white\",\"showbackground\":true,\"ticks\":\"\",\"zerolinecolor\":\"white\",\"gridwidth\":2}},\"shapedefaults\":{\"line\":{\"color\":\"#2a3f5f\"}},\"annotationdefaults\":{\"arrowcolor\":\"#2a3f5f\",\"arrowhead\":0,\"arrowwidth\":1},\"geo\":{\"bgcolor\":\"white\",\"landcolor\":\"#E5ECF6\",\"subunitcolor\":\"white\",\"showland\":true,\"showlakes\":true,\"lakecolor\":\"white\"},\"title\":{\"x\":0.05},\"mapbox\":{\"style\":\"light\"}}},\"xaxis\":{\"anchor\":\"y\",\"domain\":[0.0,1.0],\"title\":{\"text\":\"Date\"}},\"yaxis\":{\"anchor\":\"x\",\"domain\":[0.0,1.0],\"title\":{\"text\":\"Daily Return (%)\"}},\"legend\":{\"title\":{\"text\":\"color\"},\"tracegroupgap\":0},\"title\":{\"text\":\"Interactive Daily Percentage Returns\"},\"barmode\":\"relative\"},                        {\"responsive\": true}                    ).then(function(){\n",
       "                            \n",
       "var gd = document.getElementById('927390e3-3734-48b4-9760-53b77c4a0a41');\n",
       "var x = new MutationObserver(function (mutations, observer) {{\n",
       "        var display = window.getComputedStyle(gd).display;\n",
       "        if (!display || display === 'none') {{\n",
       "            console.log([gd, 'removed!']);\n",
       "            Plotly.purge(gd);\n",
       "            observer.disconnect();\n",
       "        }}\n",
       "}});\n",
       "\n",
       "// Listen for the removal of the full notebook cells\n",
       "var notebookContainer = gd.closest('#notebook-container');\n",
       "if (notebookContainer) {{\n",
       "    x.observe(notebookContainer, {childList: true});\n",
       "}}\n",
       "\n",
       "// Listen for the clearing of the current output cell\n",
       "var outputEl = gd.closest('.output');\n",
       "if (outputEl) {{\n",
       "    x.observe(outputEl, {childList: true});\n",
       "}}\n",
       "\n",
       "                        })                };            </script>        </div>"
      ]
     },
     "metadata": {},
     "output_type": "display_data"
    }
   ],
   "source": [
    "# Chart - 4 visualization code\n",
    "\n",
    "fig = px.bar(df,\n",
    "             x='Date_new',\n",
    "             y='Daily_Return',\n",
    "             title='Interactive Daily Percentage Returns',\n",
    "             color=['green' if x >= 0 else 'red' for x in df['Daily_Return']], # Use the pre-calculated color column\n",
    "             color_discrete_map={'green': 'green', 'red': 'red'}, # Ensures correct colors\n",
    "             labels={'Date_new': 'Date', 'Daily_Return': 'Daily Return (%)'} # Nicer labels\n",
    "            )\n",
    "fig.show()"
   ]
  },
  {
   "cell_type": "markdown",
   "metadata": {
    "id": "iky9q4vBYrdO"
   },
   "source": [
    "##### 1. Why did you pick the specific chart?"
   ]
  },
  {
   "cell_type": "markdown",
   "metadata": {
    "id": "aJRCwT6DYrdO"
   },
   "source": [
    "Answer Here."
   ]
  },
  {
   "cell_type": "markdown",
   "metadata": {
    "id": "F6T5p64dYrdO"
   },
   "source": [
    "##### 2. What is/are the insight(s) found from the chart?"
   ]
  },
  {
   "cell_type": "markdown",
   "metadata": {
    "id": "Xx8WAJvtYrdO"
   },
   "source": [
    "Answer Here"
   ]
  },
  {
   "cell_type": "markdown",
   "metadata": {
    "id": "y-Ehk30pYrdP"
   },
   "source": [
    "##### 3. Will the gained insights help creating a positive business impact? \n",
    "Are there any insights that lead to negative growth? Justify with specific reason."
   ]
  },
  {
   "cell_type": "markdown",
   "metadata": {
    "id": "jLNxxz7MYrdP"
   },
   "source": [
    "Answer Here"
   ]
  },
  {
   "cell_type": "markdown",
   "metadata": {
    "id": "bamQiAODYuh1"
   },
   "source": [
    "#### Chart - 5"
   ]
  },
  {
   "cell_type": "code",
   "execution_count": 31,
   "metadata": {
    "id": "TIJwrbroYuh3"
   },
   "outputs": [
    {
     "data": {
      "application/vnd.plotly.v1+json": {
       "config": {
        "plotlyServerURL": "https://plot.ly"
       },
       "data": [
        {
         "hovertemplate": "color=red<br>Date=%{x}<br>Daily Return (%)=%{y}<extra></extra>",
         "legendgroup": "red",
         "marker": {
          "color": "red",
          "pattern": {
           "shape": ""
          }
         },
         "name": "red",
         "orientation": "v",
         "showlegend": true,
         "textposition": "auto",
         "type": "bar",
         "x": [
          "2023-01-06T00:00:00.000000000",
          "2023-01-09T00:00:00.000000000",
          "2023-01-14T00:00:00.000000000",
          "2023-01-16T00:00:00.000000000",
          "2023-01-19T00:00:00.000000000",
          "2023-01-20T00:00:00.000000000",
          "2023-02-06T00:00:00.000000000",
          "2023-02-09T00:00:00.000000000",
          "2023-02-14T00:00:00.000000000",
          "2023-02-16T00:00:00.000000000",
          "2023-02-19T00:00:00.000000000",
          "2023-02-20T00:00:00.000000000",
          "2023-03-06T00:00:00.000000000",
          "2023-03-09T00:00:00.000000000",
          "2023-03-14T00:00:00.000000000",
          "2023-03-18T00:00:00.000000000",
          "2023-03-19T00:00:00.000000000",
          "2023-03-20T00:00:00.000000000",
          "2023-04-06T00:00:00.000000000",
          "2023-04-09T00:00:00.000000000",
          "2023-04-14T00:00:00.000000000",
          "2023-04-19T00:00:00.000000000",
          "2023-04-20T00:00:00.000000000",
          "2023-05-06T00:00:00.000000000",
          "2023-05-08T00:00:00.000000000",
          "2023-05-09T00:00:00.000000000",
          "2023-05-19T00:00:00.000000000",
          "2023-05-20T00:00:00.000000000",
          "2023-06-06T00:00:00.000000000",
          "2023-06-08T00:00:00.000000000",
          "2023-06-19T00:00:00.000000000",
          "2023-06-20T00:00:00.000000000",
          "2023-07-05T00:00:00.000000000",
          "2023-07-08T00:00:00.000000000",
          "2023-07-13T00:00:00.000000000",
          "2023-07-19T00:00:00.000000000",
          "2023-07-20T00:00:00.000000000",
          "2023-08-08T00:00:00.000000000",
          "2023-08-11T00:00:00.000000000",
          "2023-08-13T00:00:00.000000000",
          "2023-08-18T00:00:00.000000000",
          "2023-08-19T00:00:00.000000000",
          "2023-08-20T00:00:00.000000000",
          "2023-09-05T00:00:00.000000000",
          "2023-09-08T00:00:00.000000000",
          "2023-09-11T00:00:00.000000000",
          "2023-09-13T00:00:00.000000000",
          "2023-09-18T00:00:00.000000000",
          "2023-09-19T00:00:00.000000000",
          "2023-09-20T00:00:00.000000000",
          "2023-10-05T00:00:00.000000000",
          "2023-10-08T00:00:00.000000000",
          "2023-10-11T00:00:00.000000000",
          "2023-10-13T00:00:00.000000000",
          "2023-10-18T00:00:00.000000000",
          "2023-10-19T00:00:00.000000000",
          "2023-10-20T00:00:00.000000000",
          "2023-11-08T00:00:00.000000000",
          "2023-11-11T00:00:00.000000000",
          "2023-11-13T00:00:00.000000000",
          "2023-11-18T00:00:00.000000000",
          "2023-11-19T00:00:00.000000000",
          "2023-11-20T00:00:00.000000000",
          "2023-12-05T00:00:00.000000000",
          "2023-12-08T00:00:00.000000000",
          "2023-12-11T00:00:00.000000000",
          "2023-12-13T00:00:00.000000000",
          "2023-12-15T00:00:00.000000000",
          "2023-12-18T00:00:00.000000000",
          "2023-12-19T00:00:00.000000000"
         ],
         "xaxis": "x",
         "y": {
          "bdata": "AAAAAAAA+H88KbcQBfJSwMoCHnh1gUTAru8FuEjOKsD2hP74YZdGwKNQxALN9FPAvZyCl1NwTcAaij2iTs9TwAWsFbBWwEHA1oN97OQ2NMB4Ey5YJEE8wDCK5D6ZQ1XAmQyqd8/wRMC4KUYNf5tRwGNaEcFAGAzAECwLdIZo+b/kbr9Yh5QjwAcLz0uf9VbARslfWKVeKsBN/Z2TxlFLwPXI8B5TNijAIoNrJ33MSsD0PM/zPNdUwAyN9Db4vkHAWbjlZ9BoHMA4t2zmXk4zwIqiJ/zdoUzAeaueyoZ2VMCFoxETmOlEwFLRdxoKP0LAFPz86Xj/UMCfY2d3uxxTwP//////qUnAwnm0LoxzQMCQoM7owzUmwG2BxAi+y1LAntCYb1K6VcClGPSjhXc7wOsMZaxHPyXAAN3Nmx1BOsAp1kN1AagBwA9y188Wq1TAwFF2v1H2UsBwfgIaxsgdwAnJ4j5N1ETAmOd8l6B5NsAnWlkDEcc4wLD4iq/4ykfA6AwrO/BZU8DpOxYYmhFRwMLmleq5d/O/nZzZnBoxUcAIRiEF+O8owK1IYHVHuyTARSHBd80WRMCM1rD6rURPwFK97t61l1TAOAL80+hcUsCrKwzVCvUlwFPQDuC8qDDAuy+PrQhaRsB6Lphfzd5NwFJvhdRboVPAP5Y5wgUtGsD4ZUBP0nRRwGNe+bZjsjfAI+8Iv3xFNMC6sthklysYwLZuV3jGJ0XA8mJxcr2KUsA=",
          "dtype": "f8"
         },
         "yaxis": "y"
        },
        {
         "hovertemplate": "color=green<br>Date=%{x}<br>Daily Return (%)=%{y}<extra></extra>",
         "legendgroup": "green",
         "marker": {
          "color": "green",
          "pattern": {
           "shape": ""
          }
         },
         "name": "green",
         "orientation": "v",
         "showlegend": true,
         "textposition": "auto",
         "type": "bar",
         "x": [
          "2023-01-07T00:00:00.000000000",
          "2023-01-08T00:00:00.000000000",
          "2023-01-10T00:00:00.000000000",
          "2023-01-11T00:00:00.000000000",
          "2023-01-12T00:00:00.000000000",
          "2023-01-13T00:00:00.000000000",
          "2023-01-15T00:00:00.000000000",
          "2023-01-17T00:00:00.000000000",
          "2023-01-18T00:00:00.000000000",
          "2023-02-07T00:00:00.000000000",
          "2023-02-08T00:00:00.000000000",
          "2023-02-10T00:00:00.000000000",
          "2023-02-11T00:00:00.000000000",
          "2023-02-12T00:00:00.000000000",
          "2023-02-13T00:00:00.000000000",
          "2023-02-15T00:00:00.000000000",
          "2023-02-17T00:00:00.000000000",
          "2023-02-18T00:00:00.000000000",
          "2023-03-07T00:00:00.000000000",
          "2023-03-08T00:00:00.000000000",
          "2023-03-10T00:00:00.000000000",
          "2023-03-11T00:00:00.000000000",
          "2023-03-12T00:00:00.000000000",
          "2023-03-13T00:00:00.000000000",
          "2023-03-15T00:00:00.000000000",
          "2023-03-16T00:00:00.000000000",
          "2023-03-17T00:00:00.000000000",
          "2023-04-07T00:00:00.000000000",
          "2023-04-08T00:00:00.000000000",
          "2023-04-10T00:00:00.000000000",
          "2023-04-11T00:00:00.000000000",
          "2023-04-12T00:00:00.000000000",
          "2023-04-13T00:00:00.000000000",
          "2023-04-15T00:00:00.000000000",
          "2023-04-16T00:00:00.000000000",
          "2023-04-17T00:00:00.000000000",
          "2023-04-18T00:00:00.000000000",
          "2023-05-07T00:00:00.000000000",
          "2023-05-10T00:00:00.000000000",
          "2023-05-11T00:00:00.000000000",
          "2023-05-12T00:00:00.000000000",
          "2023-05-13T00:00:00.000000000",
          "2023-05-14T00:00:00.000000000",
          "2023-05-15T00:00:00.000000000",
          "2023-05-16T00:00:00.000000000",
          "2023-05-17T00:00:00.000000000",
          "2023-05-18T00:00:00.000000000",
          "2023-06-07T00:00:00.000000000",
          "2023-06-09T00:00:00.000000000",
          "2023-06-10T00:00:00.000000000",
          "2023-06-11T00:00:00.000000000",
          "2023-06-12T00:00:00.000000000",
          "2023-06-13T00:00:00.000000000",
          "2023-06-14T00:00:00.000000000",
          "2023-06-15T00:00:00.000000000",
          "2023-06-16T00:00:00.000000000",
          "2023-06-17T00:00:00.000000000",
          "2023-06-18T00:00:00.000000000",
          "2023-07-06T00:00:00.000000000",
          "2023-07-07T00:00:00.000000000",
          "2023-07-09T00:00:00.000000000",
          "2023-07-10T00:00:00.000000000",
          "2023-07-11T00:00:00.000000000",
          "2023-07-12T00:00:00.000000000",
          "2023-07-14T00:00:00.000000000",
          "2023-07-15T00:00:00.000000000",
          "2023-07-16T00:00:00.000000000",
          "2023-07-17T00:00:00.000000000",
          "2023-07-18T00:00:00.000000000",
          "2023-08-05T00:00:00.000000000",
          "2023-08-06T00:00:00.000000000",
          "2023-08-07T00:00:00.000000000",
          "2023-08-09T00:00:00.000000000",
          "2023-08-10T00:00:00.000000000",
          "2023-08-12T00:00:00.000000000",
          "2023-08-14T00:00:00.000000000",
          "2023-08-15T00:00:00.000000000",
          "2023-08-16T00:00:00.000000000",
          "2023-08-17T00:00:00.000000000",
          "2023-09-06T00:00:00.000000000",
          "2023-09-07T00:00:00.000000000",
          "2023-09-09T00:00:00.000000000",
          "2023-09-10T00:00:00.000000000",
          "2023-09-12T00:00:00.000000000",
          "2023-09-14T00:00:00.000000000",
          "2023-09-15T00:00:00.000000000",
          "2023-09-16T00:00:00.000000000",
          "2023-09-17T00:00:00.000000000",
          "2023-10-06T00:00:00.000000000",
          "2023-10-07T00:00:00.000000000",
          "2023-10-09T00:00:00.000000000",
          "2023-10-10T00:00:00.000000000",
          "2023-10-12T00:00:00.000000000",
          "2023-10-14T00:00:00.000000000",
          "2023-10-15T00:00:00.000000000",
          "2023-10-16T00:00:00.000000000",
          "2023-10-17T00:00:00.000000000",
          "2023-11-05T00:00:00.000000000",
          "2023-11-06T00:00:00.000000000",
          "2023-11-07T00:00:00.000000000",
          "2023-11-09T00:00:00.000000000",
          "2023-11-10T00:00:00.000000000",
          "2023-11-12T00:00:00.000000000",
          "2023-11-14T00:00:00.000000000",
          "2023-11-15T00:00:00.000000000",
          "2023-11-16T00:00:00.000000000",
          "2023-11-17T00:00:00.000000000",
          "2023-12-06T00:00:00.000000000",
          "2023-12-07T00:00:00.000000000",
          "2023-12-09T00:00:00.000000000",
          "2023-12-10T00:00:00.000000000",
          "2023-12-12T00:00:00.000000000",
          "2023-12-14T00:00:00.000000000",
          "2023-12-16T00:00:00.000000000",
          "2023-12-17T00:00:00.000000000"
         ],
         "xaxis": "x",
         "y": {
          "bdata": "85LQS0IvWEB3mY4eq+RQQF8Is10IM3NAAAm2ixQSFkBwlALB6Xo5QCnmldhHHE1AIWT5cH6CZkBBSFQZsbVVQExWtaFb/zpAOUxY179mU0BYlIvJbidSQDaV1VRWk3ZAUDbbFYXHIEB4ERJmq2ZBQBZvJBTwVkJAezyglzrjZkDjw1YKjMNbQMoYjhYk0CVAYhM3PtkRREDpdYjun+8zQCEFsgeLq3lAPf82UdeZNUDc4PqZqIUyQJ6O0mv9rDBAhJWHPkJeWEAhlRngeIMXQBKo+M+Dy1NAirDAyQDCS0D5qqgFi74oQJdihcNE2XBA2sRLlel1G0AW0qhsk6ktQMU0JH+YjkVA7D3axd6jVkACd6CIabsoQB7QGZmxM1JALND8iG4FJkDCa7uI13ZVQH2PyAnCJWBALUvercJeEUB4aZOras8jQEQg4H5s1UdAZTaFM37SMEA9emqr7n5LQJRSMKvt6zBANJQsStxgQ0B96nybaeM0QBzSuw8QS2BAbHhhwv3jPUD7HFITjFdUQGQjKKxExC9A9El1hTp5IUDYKDqFyvZBQEtEmZx+jDFAcra+MSnIS0DIVz3i5UE/QJwakv2wDkBAQSuB4HgnMED02BAZ7bE9QJh0ah7k1mBAXebuSTF2OUDldD5d3S9VQO3QM8KvShVADRTFnQ9BMUAy17U2AsZQQFakRl4jlUpAK5W9WblwR0Ci85C3vldIQOhMG7PNQfo/tkYiID6aKED+2v4czHdAQK95KoX01VpAjz0B6YKsOEADhBPxkoBVQFlA2tM2oTJAdVS7GCrgYEDGweKJop00QHRPnFKhaVhApvBzN4LVPEBg9oDZA2ZDQPQd/AlUA19Axdp6Isd3UUBuBePvVeBRQA6ix3fhIERAWshCFrKQV0BKhi65uKI+QNRZTGcx+lFAh3i2SEfDQ0A0De8RZ9dSQJiNzrOgt1ZA2vv8tygMb0Dd0ATFJfJJQE+cgDSj0z5AvWZjgXNgVUDw04X1D+klQGWA96Muv1BARO3naYH+N0B0RomfUeIfQK3t38cdNFZAfz+7eauYVEANzfF5rIdzQMD7U8VGCjVAQG/AAHAwT0Bbsy+HUytXQF/dYIp8lh9AmIZiGoppSkClDtFxVPQ+QEcH2zHvLVhAJZ4OtvIrVUBmGjv7Y+tvQKoa5P0bGDFAmA5cm0yjV0DSOUyqmjRbQFfeAWJYnk1ADqQqbrAdQkA=",
          "dtype": "f8"
         },
         "yaxis": "y"
        }
       ],
       "layout": {
        "barmode": "relative",
        "legend": {
         "title": {
          "text": "color"
         },
         "tracegroupgap": 0
        },
        "template": {
         "data": {
          "bar": [
           {
            "error_x": {
             "color": "#2a3f5f"
            },
            "error_y": {
             "color": "#2a3f5f"
            },
            "marker": {
             "line": {
              "color": "#E5ECF6",
              "width": 0.5
             },
             "pattern": {
              "fillmode": "overlay",
              "size": 10,
              "solidity": 0.2
             }
            },
            "type": "bar"
           }
          ],
          "barpolar": [
           {
            "marker": {
             "line": {
              "color": "#E5ECF6",
              "width": 0.5
             },
             "pattern": {
              "fillmode": "overlay",
              "size": 10,
              "solidity": 0.2
             }
            },
            "type": "barpolar"
           }
          ],
          "carpet": [
           {
            "aaxis": {
             "endlinecolor": "#2a3f5f",
             "gridcolor": "white",
             "linecolor": "white",
             "minorgridcolor": "white",
             "startlinecolor": "#2a3f5f"
            },
            "baxis": {
             "endlinecolor": "#2a3f5f",
             "gridcolor": "white",
             "linecolor": "white",
             "minorgridcolor": "white",
             "startlinecolor": "#2a3f5f"
            },
            "type": "carpet"
           }
          ],
          "choropleth": [
           {
            "colorbar": {
             "outlinewidth": 0,
             "ticks": ""
            },
            "type": "choropleth"
           }
          ],
          "contour": [
           {
            "colorbar": {
             "outlinewidth": 0,
             "ticks": ""
            },
            "colorscale": [
             [
              0,
              "#0d0887"
             ],
             [
              0.1111111111111111,
              "#46039f"
             ],
             [
              0.2222222222222222,
              "#7201a8"
             ],
             [
              0.3333333333333333,
              "#9c179e"
             ],
             [
              0.4444444444444444,
              "#bd3786"
             ],
             [
              0.5555555555555556,
              "#d8576b"
             ],
             [
              0.6666666666666666,
              "#ed7953"
             ],
             [
              0.7777777777777778,
              "#fb9f3a"
             ],
             [
              0.8888888888888888,
              "#fdca26"
             ],
             [
              1,
              "#f0f921"
             ]
            ],
            "type": "contour"
           }
          ],
          "contourcarpet": [
           {
            "colorbar": {
             "outlinewidth": 0,
             "ticks": ""
            },
            "type": "contourcarpet"
           }
          ],
          "heatmap": [
           {
            "colorbar": {
             "outlinewidth": 0,
             "ticks": ""
            },
            "colorscale": [
             [
              0,
              "#0d0887"
             ],
             [
              0.1111111111111111,
              "#46039f"
             ],
             [
              0.2222222222222222,
              "#7201a8"
             ],
             [
              0.3333333333333333,
              "#9c179e"
             ],
             [
              0.4444444444444444,
              "#bd3786"
             ],
             [
              0.5555555555555556,
              "#d8576b"
             ],
             [
              0.6666666666666666,
              "#ed7953"
             ],
             [
              0.7777777777777778,
              "#fb9f3a"
             ],
             [
              0.8888888888888888,
              "#fdca26"
             ],
             [
              1,
              "#f0f921"
             ]
            ],
            "type": "heatmap"
           }
          ],
          "histogram": [
           {
            "marker": {
             "pattern": {
              "fillmode": "overlay",
              "size": 10,
              "solidity": 0.2
             }
            },
            "type": "histogram"
           }
          ],
          "histogram2d": [
           {
            "colorbar": {
             "outlinewidth": 0,
             "ticks": ""
            },
            "colorscale": [
             [
              0,
              "#0d0887"
             ],
             [
              0.1111111111111111,
              "#46039f"
             ],
             [
              0.2222222222222222,
              "#7201a8"
             ],
             [
              0.3333333333333333,
              "#9c179e"
             ],
             [
              0.4444444444444444,
              "#bd3786"
             ],
             [
              0.5555555555555556,
              "#d8576b"
             ],
             [
              0.6666666666666666,
              "#ed7953"
             ],
             [
              0.7777777777777778,
              "#fb9f3a"
             ],
             [
              0.8888888888888888,
              "#fdca26"
             ],
             [
              1,
              "#f0f921"
             ]
            ],
            "type": "histogram2d"
           }
          ],
          "histogram2dcontour": [
           {
            "colorbar": {
             "outlinewidth": 0,
             "ticks": ""
            },
            "colorscale": [
             [
              0,
              "#0d0887"
             ],
             [
              0.1111111111111111,
              "#46039f"
             ],
             [
              0.2222222222222222,
              "#7201a8"
             ],
             [
              0.3333333333333333,
              "#9c179e"
             ],
             [
              0.4444444444444444,
              "#bd3786"
             ],
             [
              0.5555555555555556,
              "#d8576b"
             ],
             [
              0.6666666666666666,
              "#ed7953"
             ],
             [
              0.7777777777777778,
              "#fb9f3a"
             ],
             [
              0.8888888888888888,
              "#fdca26"
             ],
             [
              1,
              "#f0f921"
             ]
            ],
            "type": "histogram2dcontour"
           }
          ],
          "mesh3d": [
           {
            "colorbar": {
             "outlinewidth": 0,
             "ticks": ""
            },
            "type": "mesh3d"
           }
          ],
          "parcoords": [
           {
            "line": {
             "colorbar": {
              "outlinewidth": 0,
              "ticks": ""
             }
            },
            "type": "parcoords"
           }
          ],
          "pie": [
           {
            "automargin": true,
            "type": "pie"
           }
          ],
          "scatter": [
           {
            "fillpattern": {
             "fillmode": "overlay",
             "size": 10,
             "solidity": 0.2
            },
            "type": "scatter"
           }
          ],
          "scatter3d": [
           {
            "line": {
             "colorbar": {
              "outlinewidth": 0,
              "ticks": ""
             }
            },
            "marker": {
             "colorbar": {
              "outlinewidth": 0,
              "ticks": ""
             }
            },
            "type": "scatter3d"
           }
          ],
          "scattercarpet": [
           {
            "marker": {
             "colorbar": {
              "outlinewidth": 0,
              "ticks": ""
             }
            },
            "type": "scattercarpet"
           }
          ],
          "scattergeo": [
           {
            "marker": {
             "colorbar": {
              "outlinewidth": 0,
              "ticks": ""
             }
            },
            "type": "scattergeo"
           }
          ],
          "scattergl": [
           {
            "marker": {
             "colorbar": {
              "outlinewidth": 0,
              "ticks": ""
             }
            },
            "type": "scattergl"
           }
          ],
          "scattermap": [
           {
            "marker": {
             "colorbar": {
              "outlinewidth": 0,
              "ticks": ""
             }
            },
            "type": "scattermap"
           }
          ],
          "scattermapbox": [
           {
            "marker": {
             "colorbar": {
              "outlinewidth": 0,
              "ticks": ""
             }
            },
            "type": "scattermapbox"
           }
          ],
          "scatterpolar": [
           {
            "marker": {
             "colorbar": {
              "outlinewidth": 0,
              "ticks": ""
             }
            },
            "type": "scatterpolar"
           }
          ],
          "scatterpolargl": [
           {
            "marker": {
             "colorbar": {
              "outlinewidth": 0,
              "ticks": ""
             }
            },
            "type": "scatterpolargl"
           }
          ],
          "scatterternary": [
           {
            "marker": {
             "colorbar": {
              "outlinewidth": 0,
              "ticks": ""
             }
            },
            "type": "scatterternary"
           }
          ],
          "surface": [
           {
            "colorbar": {
             "outlinewidth": 0,
             "ticks": ""
            },
            "colorscale": [
             [
              0,
              "#0d0887"
             ],
             [
              0.1111111111111111,
              "#46039f"
             ],
             [
              0.2222222222222222,
              "#7201a8"
             ],
             [
              0.3333333333333333,
              "#9c179e"
             ],
             [
              0.4444444444444444,
              "#bd3786"
             ],
             [
              0.5555555555555556,
              "#d8576b"
             ],
             [
              0.6666666666666666,
              "#ed7953"
             ],
             [
              0.7777777777777778,
              "#fb9f3a"
             ],
             [
              0.8888888888888888,
              "#fdca26"
             ],
             [
              1,
              "#f0f921"
             ]
            ],
            "type": "surface"
           }
          ],
          "table": [
           {
            "cells": {
             "fill": {
              "color": "#EBF0F8"
             },
             "line": {
              "color": "white"
             }
            },
            "header": {
             "fill": {
              "color": "#C8D4E3"
             },
             "line": {
              "color": "white"
             }
            },
            "type": "table"
           }
          ]
         },
         "layout": {
          "annotationdefaults": {
           "arrowcolor": "#2a3f5f",
           "arrowhead": 0,
           "arrowwidth": 1
          },
          "autotypenumbers": "strict",
          "coloraxis": {
           "colorbar": {
            "outlinewidth": 0,
            "ticks": ""
           }
          },
          "colorscale": {
           "diverging": [
            [
             0,
             "#8e0152"
            ],
            [
             0.1,
             "#c51b7d"
            ],
            [
             0.2,
             "#de77ae"
            ],
            [
             0.3,
             "#f1b6da"
            ],
            [
             0.4,
             "#fde0ef"
            ],
            [
             0.5,
             "#f7f7f7"
            ],
            [
             0.6,
             "#e6f5d0"
            ],
            [
             0.7,
             "#b8e186"
            ],
            [
             0.8,
             "#7fbc41"
            ],
            [
             0.9,
             "#4d9221"
            ],
            [
             1,
             "#276419"
            ]
           ],
           "sequential": [
            [
             0,
             "#0d0887"
            ],
            [
             0.1111111111111111,
             "#46039f"
            ],
            [
             0.2222222222222222,
             "#7201a8"
            ],
            [
             0.3333333333333333,
             "#9c179e"
            ],
            [
             0.4444444444444444,
             "#bd3786"
            ],
            [
             0.5555555555555556,
             "#d8576b"
            ],
            [
             0.6666666666666666,
             "#ed7953"
            ],
            [
             0.7777777777777778,
             "#fb9f3a"
            ],
            [
             0.8888888888888888,
             "#fdca26"
            ],
            [
             1,
             "#f0f921"
            ]
           ],
           "sequentialminus": [
            [
             0,
             "#0d0887"
            ],
            [
             0.1111111111111111,
             "#46039f"
            ],
            [
             0.2222222222222222,
             "#7201a8"
            ],
            [
             0.3333333333333333,
             "#9c179e"
            ],
            [
             0.4444444444444444,
             "#bd3786"
            ],
            [
             0.5555555555555556,
             "#d8576b"
            ],
            [
             0.6666666666666666,
             "#ed7953"
            ],
            [
             0.7777777777777778,
             "#fb9f3a"
            ],
            [
             0.8888888888888888,
             "#fdca26"
            ],
            [
             1,
             "#f0f921"
            ]
           ]
          },
          "colorway": [
           "#636efa",
           "#EF553B",
           "#00cc96",
           "#ab63fa",
           "#FFA15A",
           "#19d3f3",
           "#FF6692",
           "#B6E880",
           "#FF97FF",
           "#FECB52"
          ],
          "font": {
           "color": "#2a3f5f"
          },
          "geo": {
           "bgcolor": "white",
           "lakecolor": "white",
           "landcolor": "#E5ECF6",
           "showlakes": true,
           "showland": true,
           "subunitcolor": "white"
          },
          "hoverlabel": {
           "align": "left"
          },
          "hovermode": "closest",
          "mapbox": {
           "style": "light"
          },
          "paper_bgcolor": "white",
          "plot_bgcolor": "#E5ECF6",
          "polar": {
           "angularaxis": {
            "gridcolor": "white",
            "linecolor": "white",
            "ticks": ""
           },
           "bgcolor": "#E5ECF6",
           "radialaxis": {
            "gridcolor": "white",
            "linecolor": "white",
            "ticks": ""
           }
          },
          "scene": {
           "xaxis": {
            "backgroundcolor": "#E5ECF6",
            "gridcolor": "white",
            "gridwidth": 2,
            "linecolor": "white",
            "showbackground": true,
            "ticks": "",
            "zerolinecolor": "white"
           },
           "yaxis": {
            "backgroundcolor": "#E5ECF6",
            "gridcolor": "white",
            "gridwidth": 2,
            "linecolor": "white",
            "showbackground": true,
            "ticks": "",
            "zerolinecolor": "white"
           },
           "zaxis": {
            "backgroundcolor": "#E5ECF6",
            "gridcolor": "white",
            "gridwidth": 2,
            "linecolor": "white",
            "showbackground": true,
            "ticks": "",
            "zerolinecolor": "white"
           }
          },
          "shapedefaults": {
           "line": {
            "color": "#2a3f5f"
           }
          },
          "ternary": {
           "aaxis": {
            "gridcolor": "white",
            "linecolor": "white",
            "ticks": ""
           },
           "baxis": {
            "gridcolor": "white",
            "linecolor": "white",
            "ticks": ""
           },
           "bgcolor": "#E5ECF6",
           "caxis": {
            "gridcolor": "white",
            "linecolor": "white",
            "ticks": ""
           }
          },
          "title": {
           "x": 0.05
          },
          "xaxis": {
           "automargin": true,
           "gridcolor": "white",
           "linecolor": "white",
           "ticks": "",
           "title": {
            "standoff": 15
           },
           "zerolinecolor": "white",
           "zerolinewidth": 2
          },
          "yaxis": {
           "automargin": true,
           "gridcolor": "white",
           "linecolor": "white",
           "ticks": "",
           "title": {
            "standoff": 15
           },
           "zerolinecolor": "white",
           "zerolinewidth": 2
          }
         }
        },
        "title": {
         "text": "Interactive Daily Percentage Returns"
        },
        "xaxis": {
         "anchor": "y",
         "domain": [
          0,
          1
         ],
         "title": {
          "text": "Date"
         }
        },
        "yaxis": {
         "anchor": "x",
         "domain": [
          0,
          1
         ],
         "title": {
          "text": "Daily Return (%)"
         }
        }
       }
      },
      "text/html": [
       "<div>            <script src=\"https://cdnjs.cloudflare.com/ajax/libs/mathjax/2.7.5/MathJax.js?config=TeX-AMS-MML_SVG\"></script><script type=\"text/javascript\">if (window.MathJax && window.MathJax.Hub && window.MathJax.Hub.Config) {window.MathJax.Hub.Config({SVG: {font: \"STIX-Web\"}});}</script>                <script type=\"text/javascript\">window.PlotlyConfig = {MathJaxConfig: 'local'};</script>\n",
       "        <script charset=\"utf-8\" src=\"https://cdn.plot.ly/plotly-3.0.1.min.js\"></script>                <div id=\"226936a5-45ab-4f05-9bac-023eddd9dc98\" class=\"plotly-graph-div\" style=\"height:525px; width:100%;\"></div>            <script type=\"text/javascript\">                window.PLOTLYENV=window.PLOTLYENV || {};                                if (document.getElementById(\"226936a5-45ab-4f05-9bac-023eddd9dc98\")) {                    Plotly.newPlot(                        \"226936a5-45ab-4f05-9bac-023eddd9dc98\",                        [{\"hovertemplate\":\"color=red\\u003cbr\\u003eDate=%{x}\\u003cbr\\u003eDaily Return (%)=%{y}\\u003cextra\\u003e\\u003c\\u002fextra\\u003e\",\"legendgroup\":\"red\",\"marker\":{\"color\":\"red\",\"pattern\":{\"shape\":\"\"}},\"name\":\"red\",\"orientation\":\"v\",\"showlegend\":true,\"textposition\":\"auto\",\"x\":[\"2023-01-06T00:00:00.000000000\",\"2023-01-09T00:00:00.000000000\",\"2023-01-14T00:00:00.000000000\",\"2023-01-16T00:00:00.000000000\",\"2023-01-19T00:00:00.000000000\",\"2023-01-20T00:00:00.000000000\",\"2023-02-06T00:00:00.000000000\",\"2023-02-09T00:00:00.000000000\",\"2023-02-14T00:00:00.000000000\",\"2023-02-16T00:00:00.000000000\",\"2023-02-19T00:00:00.000000000\",\"2023-02-20T00:00:00.000000000\",\"2023-03-06T00:00:00.000000000\",\"2023-03-09T00:00:00.000000000\",\"2023-03-14T00:00:00.000000000\",\"2023-03-18T00:00:00.000000000\",\"2023-03-19T00:00:00.000000000\",\"2023-03-20T00:00:00.000000000\",\"2023-04-06T00:00:00.000000000\",\"2023-04-09T00:00:00.000000000\",\"2023-04-14T00:00:00.000000000\",\"2023-04-19T00:00:00.000000000\",\"2023-04-20T00:00:00.000000000\",\"2023-05-06T00:00:00.000000000\",\"2023-05-08T00:00:00.000000000\",\"2023-05-09T00:00:00.000000000\",\"2023-05-19T00:00:00.000000000\",\"2023-05-20T00:00:00.000000000\",\"2023-06-06T00:00:00.000000000\",\"2023-06-08T00:00:00.000000000\",\"2023-06-19T00:00:00.000000000\",\"2023-06-20T00:00:00.000000000\",\"2023-07-05T00:00:00.000000000\",\"2023-07-08T00:00:00.000000000\",\"2023-07-13T00:00:00.000000000\",\"2023-07-19T00:00:00.000000000\",\"2023-07-20T00:00:00.000000000\",\"2023-08-08T00:00:00.000000000\",\"2023-08-11T00:00:00.000000000\",\"2023-08-13T00:00:00.000000000\",\"2023-08-18T00:00:00.000000000\",\"2023-08-19T00:00:00.000000000\",\"2023-08-20T00:00:00.000000000\",\"2023-09-05T00:00:00.000000000\",\"2023-09-08T00:00:00.000000000\",\"2023-09-11T00:00:00.000000000\",\"2023-09-13T00:00:00.000000000\",\"2023-09-18T00:00:00.000000000\",\"2023-09-19T00:00:00.000000000\",\"2023-09-20T00:00:00.000000000\",\"2023-10-05T00:00:00.000000000\",\"2023-10-08T00:00:00.000000000\",\"2023-10-11T00:00:00.000000000\",\"2023-10-13T00:00:00.000000000\",\"2023-10-18T00:00:00.000000000\",\"2023-10-19T00:00:00.000000000\",\"2023-10-20T00:00:00.000000000\",\"2023-11-08T00:00:00.000000000\",\"2023-11-11T00:00:00.000000000\",\"2023-11-13T00:00:00.000000000\",\"2023-11-18T00:00:00.000000000\",\"2023-11-19T00:00:00.000000000\",\"2023-11-20T00:00:00.000000000\",\"2023-12-05T00:00:00.000000000\",\"2023-12-08T00:00:00.000000000\",\"2023-12-11T00:00:00.000000000\",\"2023-12-13T00:00:00.000000000\",\"2023-12-15T00:00:00.000000000\",\"2023-12-18T00:00:00.000000000\",\"2023-12-19T00:00:00.000000000\"],\"xaxis\":\"x\",\"y\":{\"dtype\":\"f8\",\"bdata\":\"AAAAAAAA+H88KbcQBfJSwMoCHnh1gUTAru8FuEjOKsD2hP74YZdGwKNQxALN9FPAvZyCl1NwTcAaij2iTs9TwAWsFbBWwEHA1oN97OQ2NMB4Ey5YJEE8wDCK5D6ZQ1XAmQyqd8\\u002fwRMC4KUYNf5tRwGNaEcFAGAzAECwLdIZo+b\\u002fkbr9Yh5QjwAcLz0uf9VbARslfWKVeKsBN\\u002fZ2TxlFLwPXI8B5TNijAIoNrJ33MSsD0PM\\u002fzPNdUwAyN9Db4vkHAWbjlZ9BoHMA4t2zmXk4zwIqiJ\\u002fzdoUzAeaueyoZ2VMCFoxETmOlEwFLRdxoKP0LAFPz86Xj\\u002fUMCfY2d3uxxTwP\\u002f\\u002f\\u002f\\u002f\\u002f\\u002fqUnAwnm0LoxzQMCQoM7owzUmwG2BxAi+y1LAntCYb1K6VcClGPSjhXc7wOsMZaxHPyXAAN3Nmx1BOsAp1kN1AagBwA9y188Wq1TAwFF2v1H2UsBwfgIaxsgdwAnJ4j5N1ETAmOd8l6B5NsAnWlkDEcc4wLD4iq\\u002f4ykfA6AwrO\\u002fBZU8DpOxYYmhFRwMLmleq5d\\u002fO\\u002fnZzZnBoxUcAIRiEF+O8owK1IYHVHuyTARSHBd80WRMCM1rD6rURPwFK97t61l1TAOAL80+hcUsCrKwzVCvUlwFPQDuC8qDDAuy+PrQhaRsB6Lphfzd5NwFJvhdRboVPAP5Y5wgUtGsD4ZUBP0nRRwGNe+bZjsjfAI+8Iv3xFNMC6sthklysYwLZuV3jGJ0XA8mJxcr2KUsA=\"},\"yaxis\":\"y\",\"type\":\"bar\"},{\"hovertemplate\":\"color=green\\u003cbr\\u003eDate=%{x}\\u003cbr\\u003eDaily Return (%)=%{y}\\u003cextra\\u003e\\u003c\\u002fextra\\u003e\",\"legendgroup\":\"green\",\"marker\":{\"color\":\"green\",\"pattern\":{\"shape\":\"\"}},\"name\":\"green\",\"orientation\":\"v\",\"showlegend\":true,\"textposition\":\"auto\",\"x\":[\"2023-01-07T00:00:00.000000000\",\"2023-01-08T00:00:00.000000000\",\"2023-01-10T00:00:00.000000000\",\"2023-01-11T00:00:00.000000000\",\"2023-01-12T00:00:00.000000000\",\"2023-01-13T00:00:00.000000000\",\"2023-01-15T00:00:00.000000000\",\"2023-01-17T00:00:00.000000000\",\"2023-01-18T00:00:00.000000000\",\"2023-02-07T00:00:00.000000000\",\"2023-02-08T00:00:00.000000000\",\"2023-02-10T00:00:00.000000000\",\"2023-02-11T00:00:00.000000000\",\"2023-02-12T00:00:00.000000000\",\"2023-02-13T00:00:00.000000000\",\"2023-02-15T00:00:00.000000000\",\"2023-02-17T00:00:00.000000000\",\"2023-02-18T00:00:00.000000000\",\"2023-03-07T00:00:00.000000000\",\"2023-03-08T00:00:00.000000000\",\"2023-03-10T00:00:00.000000000\",\"2023-03-11T00:00:00.000000000\",\"2023-03-12T00:00:00.000000000\",\"2023-03-13T00:00:00.000000000\",\"2023-03-15T00:00:00.000000000\",\"2023-03-16T00:00:00.000000000\",\"2023-03-17T00:00:00.000000000\",\"2023-04-07T00:00:00.000000000\",\"2023-04-08T00:00:00.000000000\",\"2023-04-10T00:00:00.000000000\",\"2023-04-11T00:00:00.000000000\",\"2023-04-12T00:00:00.000000000\",\"2023-04-13T00:00:00.000000000\",\"2023-04-15T00:00:00.000000000\",\"2023-04-16T00:00:00.000000000\",\"2023-04-17T00:00:00.000000000\",\"2023-04-18T00:00:00.000000000\",\"2023-05-07T00:00:00.000000000\",\"2023-05-10T00:00:00.000000000\",\"2023-05-11T00:00:00.000000000\",\"2023-05-12T00:00:00.000000000\",\"2023-05-13T00:00:00.000000000\",\"2023-05-14T00:00:00.000000000\",\"2023-05-15T00:00:00.000000000\",\"2023-05-16T00:00:00.000000000\",\"2023-05-17T00:00:00.000000000\",\"2023-05-18T00:00:00.000000000\",\"2023-06-07T00:00:00.000000000\",\"2023-06-09T00:00:00.000000000\",\"2023-06-10T00:00:00.000000000\",\"2023-06-11T00:00:00.000000000\",\"2023-06-12T00:00:00.000000000\",\"2023-06-13T00:00:00.000000000\",\"2023-06-14T00:00:00.000000000\",\"2023-06-15T00:00:00.000000000\",\"2023-06-16T00:00:00.000000000\",\"2023-06-17T00:00:00.000000000\",\"2023-06-18T00:00:00.000000000\",\"2023-07-06T00:00:00.000000000\",\"2023-07-07T00:00:00.000000000\",\"2023-07-09T00:00:00.000000000\",\"2023-07-10T00:00:00.000000000\",\"2023-07-11T00:00:00.000000000\",\"2023-07-12T00:00:00.000000000\",\"2023-07-14T00:00:00.000000000\",\"2023-07-15T00:00:00.000000000\",\"2023-07-16T00:00:00.000000000\",\"2023-07-17T00:00:00.000000000\",\"2023-07-18T00:00:00.000000000\",\"2023-08-05T00:00:00.000000000\",\"2023-08-06T00:00:00.000000000\",\"2023-08-07T00:00:00.000000000\",\"2023-08-09T00:00:00.000000000\",\"2023-08-10T00:00:00.000000000\",\"2023-08-12T00:00:00.000000000\",\"2023-08-14T00:00:00.000000000\",\"2023-08-15T00:00:00.000000000\",\"2023-08-16T00:00:00.000000000\",\"2023-08-17T00:00:00.000000000\",\"2023-09-06T00:00:00.000000000\",\"2023-09-07T00:00:00.000000000\",\"2023-09-09T00:00:00.000000000\",\"2023-09-10T00:00:00.000000000\",\"2023-09-12T00:00:00.000000000\",\"2023-09-14T00:00:00.000000000\",\"2023-09-15T00:00:00.000000000\",\"2023-09-16T00:00:00.000000000\",\"2023-09-17T00:00:00.000000000\",\"2023-10-06T00:00:00.000000000\",\"2023-10-07T00:00:00.000000000\",\"2023-10-09T00:00:00.000000000\",\"2023-10-10T00:00:00.000000000\",\"2023-10-12T00:00:00.000000000\",\"2023-10-14T00:00:00.000000000\",\"2023-10-15T00:00:00.000000000\",\"2023-10-16T00:00:00.000000000\",\"2023-10-17T00:00:00.000000000\",\"2023-11-05T00:00:00.000000000\",\"2023-11-06T00:00:00.000000000\",\"2023-11-07T00:00:00.000000000\",\"2023-11-09T00:00:00.000000000\",\"2023-11-10T00:00:00.000000000\",\"2023-11-12T00:00:00.000000000\",\"2023-11-14T00:00:00.000000000\",\"2023-11-15T00:00:00.000000000\",\"2023-11-16T00:00:00.000000000\",\"2023-11-17T00:00:00.000000000\",\"2023-12-06T00:00:00.000000000\",\"2023-12-07T00:00:00.000000000\",\"2023-12-09T00:00:00.000000000\",\"2023-12-10T00:00:00.000000000\",\"2023-12-12T00:00:00.000000000\",\"2023-12-14T00:00:00.000000000\",\"2023-12-16T00:00:00.000000000\",\"2023-12-17T00:00:00.000000000\"],\"xaxis\":\"x\",\"y\":{\"dtype\":\"f8\",\"bdata\":\"85LQS0IvWEB3mY4eq+RQQF8Is10IM3NAAAm2ixQSFkBwlALB6Xo5QCnmldhHHE1AIWT5cH6CZkBBSFQZsbVVQExWtaFb\\u002fzpAOUxY179mU0BYlIvJbidSQDaV1VRWk3ZAUDbbFYXHIEB4ERJmq2ZBQBZvJBTwVkJAezyglzrjZkDjw1YKjMNbQMoYjhYk0CVAYhM3PtkRREDpdYjun+8zQCEFsgeLq3lAPf82UdeZNUDc4PqZqIUyQJ6O0mv9rDBAhJWHPkJeWEAhlRngeIMXQBKo+M+Dy1NAirDAyQDCS0D5qqgFi74oQJdihcNE2XBA2sRLlel1G0AW0qhsk6ktQMU0JH+YjkVA7D3axd6jVkACd6CIabsoQB7QGZmxM1JALND8iG4FJkDCa7uI13ZVQH2PyAnCJWBALUvercJeEUB4aZOras8jQEQg4H5s1UdAZTaFM37SMEA9emqr7n5LQJRSMKvt6zBANJQsStxgQ0B96nybaeM0QBzSuw8QS2BAbHhhwv3jPUD7HFITjFdUQGQjKKxExC9A9El1hTp5IUDYKDqFyvZBQEtEmZx+jDFAcra+MSnIS0DIVz3i5UE\\u002fQJwakv2wDkBAQSuB4HgnMED02BAZ7bE9QJh0ah7k1mBAXebuSTF2OUDldD5d3S9VQO3QM8KvShVADRTFnQ9BMUAy17U2AsZQQFakRl4jlUpAK5W9WblwR0Ci85C3vldIQOhMG7PNQfo\\u002ftkYiID6aKED+2v4czHdAQK95KoX01VpAjz0B6YKsOEADhBPxkoBVQFlA2tM2oTJAdVS7GCrgYEDGweKJop00QHRPnFKhaVhApvBzN4LVPEBg9oDZA2ZDQPQd\\u002fAlUA19Axdp6Isd3UUBuBePvVeBRQA6ix3fhIERAWshCFrKQV0BKhi65uKI+QNRZTGcx+lFAh3i2SEfDQ0A0De8RZ9dSQJiNzrOgt1ZA2vv8tygMb0Dd0ATFJfJJQE+cgDSj0z5AvWZjgXNgVUDw04X1D+klQGWA96Muv1BARO3naYH+N0B0RomfUeIfQK3t38cdNFZAfz+7eauYVEANzfF5rIdzQMD7U8VGCjVAQG\\u002fAAHAwT0Bbsy+HUytXQF\\u002fdYIp8lh9AmIZiGoppSkClDtFxVPQ+QEcH2zHvLVhAJZ4OtvIrVUBmGjv7Y+tvQKoa5P0bGDFAmA5cm0yjV0DSOUyqmjRbQFfeAWJYnk1ADqQqbrAdQkA=\"},\"yaxis\":\"y\",\"type\":\"bar\"}],                        {\"template\":{\"data\":{\"histogram2dcontour\":[{\"type\":\"histogram2dcontour\",\"colorbar\":{\"outlinewidth\":0,\"ticks\":\"\"},\"colorscale\":[[0.0,\"#0d0887\"],[0.1111111111111111,\"#46039f\"],[0.2222222222222222,\"#7201a8\"],[0.3333333333333333,\"#9c179e\"],[0.4444444444444444,\"#bd3786\"],[0.5555555555555556,\"#d8576b\"],[0.6666666666666666,\"#ed7953\"],[0.7777777777777778,\"#fb9f3a\"],[0.8888888888888888,\"#fdca26\"],[1.0,\"#f0f921\"]]}],\"choropleth\":[{\"type\":\"choropleth\",\"colorbar\":{\"outlinewidth\":0,\"ticks\":\"\"}}],\"histogram2d\":[{\"type\":\"histogram2d\",\"colorbar\":{\"outlinewidth\":0,\"ticks\":\"\"},\"colorscale\":[[0.0,\"#0d0887\"],[0.1111111111111111,\"#46039f\"],[0.2222222222222222,\"#7201a8\"],[0.3333333333333333,\"#9c179e\"],[0.4444444444444444,\"#bd3786\"],[0.5555555555555556,\"#d8576b\"],[0.6666666666666666,\"#ed7953\"],[0.7777777777777778,\"#fb9f3a\"],[0.8888888888888888,\"#fdca26\"],[1.0,\"#f0f921\"]]}],\"heatmap\":[{\"type\":\"heatmap\",\"colorbar\":{\"outlinewidth\":0,\"ticks\":\"\"},\"colorscale\":[[0.0,\"#0d0887\"],[0.1111111111111111,\"#46039f\"],[0.2222222222222222,\"#7201a8\"],[0.3333333333333333,\"#9c179e\"],[0.4444444444444444,\"#bd3786\"],[0.5555555555555556,\"#d8576b\"],[0.6666666666666666,\"#ed7953\"],[0.7777777777777778,\"#fb9f3a\"],[0.8888888888888888,\"#fdca26\"],[1.0,\"#f0f921\"]]}],\"contourcarpet\":[{\"type\":\"contourcarpet\",\"colorbar\":{\"outlinewidth\":0,\"ticks\":\"\"}}],\"contour\":[{\"type\":\"contour\",\"colorbar\":{\"outlinewidth\":0,\"ticks\":\"\"},\"colorscale\":[[0.0,\"#0d0887\"],[0.1111111111111111,\"#46039f\"],[0.2222222222222222,\"#7201a8\"],[0.3333333333333333,\"#9c179e\"],[0.4444444444444444,\"#bd3786\"],[0.5555555555555556,\"#d8576b\"],[0.6666666666666666,\"#ed7953\"],[0.7777777777777778,\"#fb9f3a\"],[0.8888888888888888,\"#fdca26\"],[1.0,\"#f0f921\"]]}],\"surface\":[{\"type\":\"surface\",\"colorbar\":{\"outlinewidth\":0,\"ticks\":\"\"},\"colorscale\":[[0.0,\"#0d0887\"],[0.1111111111111111,\"#46039f\"],[0.2222222222222222,\"#7201a8\"],[0.3333333333333333,\"#9c179e\"],[0.4444444444444444,\"#bd3786\"],[0.5555555555555556,\"#d8576b\"],[0.6666666666666666,\"#ed7953\"],[0.7777777777777778,\"#fb9f3a\"],[0.8888888888888888,\"#fdca26\"],[1.0,\"#f0f921\"]]}],\"mesh3d\":[{\"type\":\"mesh3d\",\"colorbar\":{\"outlinewidth\":0,\"ticks\":\"\"}}],\"scatter\":[{\"fillpattern\":{\"fillmode\":\"overlay\",\"size\":10,\"solidity\":0.2},\"type\":\"scatter\"}],\"parcoords\":[{\"type\":\"parcoords\",\"line\":{\"colorbar\":{\"outlinewidth\":0,\"ticks\":\"\"}}}],\"scatterpolargl\":[{\"type\":\"scatterpolargl\",\"marker\":{\"colorbar\":{\"outlinewidth\":0,\"ticks\":\"\"}}}],\"bar\":[{\"error_x\":{\"color\":\"#2a3f5f\"},\"error_y\":{\"color\":\"#2a3f5f\"},\"marker\":{\"line\":{\"color\":\"#E5ECF6\",\"width\":0.5},\"pattern\":{\"fillmode\":\"overlay\",\"size\":10,\"solidity\":0.2}},\"type\":\"bar\"}],\"scattergeo\":[{\"type\":\"scattergeo\",\"marker\":{\"colorbar\":{\"outlinewidth\":0,\"ticks\":\"\"}}}],\"scatterpolar\":[{\"type\":\"scatterpolar\",\"marker\":{\"colorbar\":{\"outlinewidth\":0,\"ticks\":\"\"}}}],\"histogram\":[{\"marker\":{\"pattern\":{\"fillmode\":\"overlay\",\"size\":10,\"solidity\":0.2}},\"type\":\"histogram\"}],\"scattergl\":[{\"type\":\"scattergl\",\"marker\":{\"colorbar\":{\"outlinewidth\":0,\"ticks\":\"\"}}}],\"scatter3d\":[{\"type\":\"scatter3d\",\"line\":{\"colorbar\":{\"outlinewidth\":0,\"ticks\":\"\"}},\"marker\":{\"colorbar\":{\"outlinewidth\":0,\"ticks\":\"\"}}}],\"scattermap\":[{\"type\":\"scattermap\",\"marker\":{\"colorbar\":{\"outlinewidth\":0,\"ticks\":\"\"}}}],\"scattermapbox\":[{\"type\":\"scattermapbox\",\"marker\":{\"colorbar\":{\"outlinewidth\":0,\"ticks\":\"\"}}}],\"scatterternary\":[{\"type\":\"scatterternary\",\"marker\":{\"colorbar\":{\"outlinewidth\":0,\"ticks\":\"\"}}}],\"scattercarpet\":[{\"type\":\"scattercarpet\",\"marker\":{\"colorbar\":{\"outlinewidth\":0,\"ticks\":\"\"}}}],\"carpet\":[{\"aaxis\":{\"endlinecolor\":\"#2a3f5f\",\"gridcolor\":\"white\",\"linecolor\":\"white\",\"minorgridcolor\":\"white\",\"startlinecolor\":\"#2a3f5f\"},\"baxis\":{\"endlinecolor\":\"#2a3f5f\",\"gridcolor\":\"white\",\"linecolor\":\"white\",\"minorgridcolor\":\"white\",\"startlinecolor\":\"#2a3f5f\"},\"type\":\"carpet\"}],\"table\":[{\"cells\":{\"fill\":{\"color\":\"#EBF0F8\"},\"line\":{\"color\":\"white\"}},\"header\":{\"fill\":{\"color\":\"#C8D4E3\"},\"line\":{\"color\":\"white\"}},\"type\":\"table\"}],\"barpolar\":[{\"marker\":{\"line\":{\"color\":\"#E5ECF6\",\"width\":0.5},\"pattern\":{\"fillmode\":\"overlay\",\"size\":10,\"solidity\":0.2}},\"type\":\"barpolar\"}],\"pie\":[{\"automargin\":true,\"type\":\"pie\"}]},\"layout\":{\"autotypenumbers\":\"strict\",\"colorway\":[\"#636efa\",\"#EF553B\",\"#00cc96\",\"#ab63fa\",\"#FFA15A\",\"#19d3f3\",\"#FF6692\",\"#B6E880\",\"#FF97FF\",\"#FECB52\"],\"font\":{\"color\":\"#2a3f5f\"},\"hovermode\":\"closest\",\"hoverlabel\":{\"align\":\"left\"},\"paper_bgcolor\":\"white\",\"plot_bgcolor\":\"#E5ECF6\",\"polar\":{\"bgcolor\":\"#E5ECF6\",\"angularaxis\":{\"gridcolor\":\"white\",\"linecolor\":\"white\",\"ticks\":\"\"},\"radialaxis\":{\"gridcolor\":\"white\",\"linecolor\":\"white\",\"ticks\":\"\"}},\"ternary\":{\"bgcolor\":\"#E5ECF6\",\"aaxis\":{\"gridcolor\":\"white\",\"linecolor\":\"white\",\"ticks\":\"\"},\"baxis\":{\"gridcolor\":\"white\",\"linecolor\":\"white\",\"ticks\":\"\"},\"caxis\":{\"gridcolor\":\"white\",\"linecolor\":\"white\",\"ticks\":\"\"}},\"coloraxis\":{\"colorbar\":{\"outlinewidth\":0,\"ticks\":\"\"}},\"colorscale\":{\"sequential\":[[0.0,\"#0d0887\"],[0.1111111111111111,\"#46039f\"],[0.2222222222222222,\"#7201a8\"],[0.3333333333333333,\"#9c179e\"],[0.4444444444444444,\"#bd3786\"],[0.5555555555555556,\"#d8576b\"],[0.6666666666666666,\"#ed7953\"],[0.7777777777777778,\"#fb9f3a\"],[0.8888888888888888,\"#fdca26\"],[1.0,\"#f0f921\"]],\"sequentialminus\":[[0.0,\"#0d0887\"],[0.1111111111111111,\"#46039f\"],[0.2222222222222222,\"#7201a8\"],[0.3333333333333333,\"#9c179e\"],[0.4444444444444444,\"#bd3786\"],[0.5555555555555556,\"#d8576b\"],[0.6666666666666666,\"#ed7953\"],[0.7777777777777778,\"#fb9f3a\"],[0.8888888888888888,\"#fdca26\"],[1.0,\"#f0f921\"]],\"diverging\":[[0,\"#8e0152\"],[0.1,\"#c51b7d\"],[0.2,\"#de77ae\"],[0.3,\"#f1b6da\"],[0.4,\"#fde0ef\"],[0.5,\"#f7f7f7\"],[0.6,\"#e6f5d0\"],[0.7,\"#b8e186\"],[0.8,\"#7fbc41\"],[0.9,\"#4d9221\"],[1,\"#276419\"]]},\"xaxis\":{\"gridcolor\":\"white\",\"linecolor\":\"white\",\"ticks\":\"\",\"title\":{\"standoff\":15},\"zerolinecolor\":\"white\",\"automargin\":true,\"zerolinewidth\":2},\"yaxis\":{\"gridcolor\":\"white\",\"linecolor\":\"white\",\"ticks\":\"\",\"title\":{\"standoff\":15},\"zerolinecolor\":\"white\",\"automargin\":true,\"zerolinewidth\":2},\"scene\":{\"xaxis\":{\"backgroundcolor\":\"#E5ECF6\",\"gridcolor\":\"white\",\"linecolor\":\"white\",\"showbackground\":true,\"ticks\":\"\",\"zerolinecolor\":\"white\",\"gridwidth\":2},\"yaxis\":{\"backgroundcolor\":\"#E5ECF6\",\"gridcolor\":\"white\",\"linecolor\":\"white\",\"showbackground\":true,\"ticks\":\"\",\"zerolinecolor\":\"white\",\"gridwidth\":2},\"zaxis\":{\"backgroundcolor\":\"#E5ECF6\",\"gridcolor\":\"white\",\"linecolor\":\"white\",\"showbackground\":true,\"ticks\":\"\",\"zerolinecolor\":\"white\",\"gridwidth\":2}},\"shapedefaults\":{\"line\":{\"color\":\"#2a3f5f\"}},\"annotationdefaults\":{\"arrowcolor\":\"#2a3f5f\",\"arrowhead\":0,\"arrowwidth\":1},\"geo\":{\"bgcolor\":\"white\",\"landcolor\":\"#E5ECF6\",\"subunitcolor\":\"white\",\"showland\":true,\"showlakes\":true,\"lakecolor\":\"white\"},\"title\":{\"x\":0.05},\"mapbox\":{\"style\":\"light\"}}},\"xaxis\":{\"anchor\":\"y\",\"domain\":[0.0,1.0],\"title\":{\"text\":\"Date\"}},\"yaxis\":{\"anchor\":\"x\",\"domain\":[0.0,1.0],\"title\":{\"text\":\"Daily Return (%)\"}},\"legend\":{\"title\":{\"text\":\"color\"},\"tracegroupgap\":0},\"title\":{\"text\":\"Interactive Daily Percentage Returns\"},\"barmode\":\"relative\"},                        {\"responsive\": true}                    ).then(function(){\n",
       "                            \n",
       "var gd = document.getElementById('226936a5-45ab-4f05-9bac-023eddd9dc98');\n",
       "var x = new MutationObserver(function (mutations, observer) {{\n",
       "        var display = window.getComputedStyle(gd).display;\n",
       "        if (!display || display === 'none') {{\n",
       "            console.log([gd, 'removed!']);\n",
       "            Plotly.purge(gd);\n",
       "            observer.disconnect();\n",
       "        }}\n",
       "}});\n",
       "\n",
       "// Listen for the removal of the full notebook cells\n",
       "var notebookContainer = gd.closest('#notebook-container');\n",
       "if (notebookContainer) {{\n",
       "    x.observe(notebookContainer, {childList: true});\n",
       "}}\n",
       "\n",
       "// Listen for the clearing of the current output cell\n",
       "var outputEl = gd.closest('.output');\n",
       "if (outputEl) {{\n",
       "    x.observe(outputEl, {childList: true});\n",
       "}}\n",
       "\n",
       "                        })                };            </script>        </div>"
      ]
     },
     "metadata": {},
     "output_type": "display_data"
    }
   ],
   "source": [
    "# Chart - 5 visualization code\n",
    "fig = px.bar(df,\n",
    "             x='Date_new',\n",
    "             y='Daily_Return',\n",
    "             title='Interactive Daily Percentage Returns',\n",
    "             color=['green' if x >= 0 else 'red' for x in df['Daily_Return']], # Use the pre-calculated color column\n",
    "             color_discrete_map={'green': 'green', 'red': 'red'}, # Ensures correct colors\n",
    "             labels={'Date_new': 'Date', 'Daily_Return': 'Daily Return (%)'} # Nicer labels\n",
    "            )\n",
    "fig.show()"
   ]
  },
  {
   "cell_type": "markdown",
   "metadata": {
    "id": "QHF8YVU7Yuh3"
   },
   "source": [
    "##### 1. Why did you pick the specific chart?"
   ]
  },
  {
   "cell_type": "markdown",
   "metadata": {
    "id": "dcxuIMRPYuh3"
   },
   "source": [
    "Answer Here."
   ]
  },
  {
   "cell_type": "markdown",
   "metadata": {
    "id": "GwzvFGzlYuh3"
   },
   "source": [
    "##### 2. What is/are the insight(s) found from the chart?"
   ]
  },
  {
   "cell_type": "markdown",
   "metadata": {
    "id": "uyqkiB8YYuh3"
   },
   "source": [
    "Answer Here"
   ]
  },
  {
   "cell_type": "markdown",
   "metadata": {
    "id": "qYpmQ266Yuh3"
   },
   "source": [
    "##### 3. Will the gained insights help creating a positive business impact? \n",
    "Are there any insights that lead to negative growth? Justify with specific reason."
   ]
  },
  {
   "cell_type": "markdown",
   "metadata": {
    "id": "_WtzZ_hCYuh4"
   },
   "source": [
    "Answer Here"
   ]
  },
  {
   "cell_type": "markdown",
   "metadata": {
    "id": "OH-pJp9IphqM"
   },
   "source": [
    "#### Chart - 6"
   ]
  },
  {
   "cell_type": "code",
   "execution_count": 35,
   "metadata": {
    "id": "kuRf4wtuphqN"
   },
   "outputs": [
    {
     "data": {
      "application/vnd.plotly.v1+json": {
       "config": {
        "linkText": "Export to plot.ly",
        "plotlyServerURL": "https://plot.ly",
        "showLink": false
       },
       "data": [
        {
         "hovertemplate": "Range=%{x}<br>Close=%{y}<br>size=%{marker.size}<br>color=%{marker.color}<extra></extra>",
         "legendgroup": "",
         "marker": {
          "color": {
           "bdata": "KVyPwvWoLkApXI/C9Sg+QIXrUbgeRUlAexSuR+F6KEDsUbgehetIQOxRuB6FS0pAj8L1KFx/UEAK16NwPRpaQOxRuB6Fy05AAAAAAACQZUBcj8L1KKxiQJqZmZmZcXFAMzMzMzMndkCamZmZmUloQJqZmZmZmUNAH4XrUbgeMEDhehSuR6E8QPYoXI/CtUhAhetRuB6FJEApXI/C9ahHQIXrUbgepUlAKVyPwvVIUUAAAAAAAKBXQJqZmZmZeU5AmpmZmZmRZUA9CtejcDVhQClcj8L1KHJAAAAAAAAkdEBmZmZmZuZsQGZmZmZmRkFAFK5H4XoUNECkcD0K1yM8QAAAAAAA4EBA9ihcj8L1I0Bcj8L1KHxJQD0K16Nw/U5APQrXo3BdUkA9CtejcG1VQM3MzMzMrFRAUrgehetpZECF61G4Hp1lQIXrUbgeXXNAZmZmZmYOc0DNzMzMzDBxQDMzMzMzczZAPQrXo3B9M0CPwvUoXE8+QEjhehSuB0FAZmZmZmbmLkDNzMzMzIxMQMP1KFyPgk5AFK5H4XqEUUBSuB6F6xFZQClcj8L1CFZAH4XrUbj+ZECPwvUoXJdnQArXo3A9YnRAzczMzMygdkAAAAAAAABlQDMzMzMz8ztASOF6FK4HMkDhehSuR8FAQOF6FK5HIT9AH4XrUbgeOUApXI/C9chMQClcj8L1CE5A4XoUrkeBUECPwvUoXF9YQClcj8L1eFxAcT0K16MQZkAUrkfhesxpQK5H4XoU5nFAMzMzMzOjdUBmZmZmZn5iQJqZmZmZ2TpAPQrXo3A9L0A9CtejcP1BQJqZmZmZ2TZArkfhehSuPUAK16NwPepKQHE9CtejME9AhetRuB71UEDNzMzMzAxXQLgehetRGFtAMzMzMzMTZUCamZmZmalrQFK4HoXrRXJAmpmZmZk5dUDNzMzMzCxbQJqZmZmZmTlA7FG4HoXrKEApXI/C9SgwQNejcD0K90JAMzMzMzNzOUCuR+F6FO4/QB+F61G4fk1AcT0K16MQT0BmZmZmZjZSQHE9CtejMFBAPQrXo3ANW0BI4XoUrrdkQK5H4XoUbm5Aj8L1KFyfdkBmZmZmZv52QDMzMzMz01ZAZmZmZmbmJ0DXo3A9CtcqQNejcD0K1zFAH4XrUbh+QkAUrkfhetQ6QJqZmZmZuUBAXI/C9SgcT0CuR+F6FM5LQK5H4XoUflBAMzMzMzNTSECF61G4HpVcQM3MzMzMPGFAKVyPwvUIcUBmZmZmZvJ1QGZmZmZmdnVAAAAAAADATUA9CtejcL0sQJqZmZmZmSpA9ihcj8J1MkCuR+F6FK5EQOF6FK5HIThAH4XrUbh+REAzMzMzM5NRQAAAAAAAQEtAXI/C9SgcU0AAAAAAAMBMQM3MzMzM7FtAPQrXo3A9YkAzMzMzM1tvQAAAAAAA4HVAZmZmZmbuZkCamZmZmblEQM3MzMzMTCpAexSuR+H6KUBI4XoUrsc2QD0K16NwvUVAKVyPwvUoK0BI4XoUrqdHQNejcD0K91FAMzMzMzNzT0DD9Shcj5JUQHE9CtejcFJAw/UoXI8aYUAK16NwPfpiQHE9CtejsG9AmpmZmZmlc0CamZmZmYFnQM3MzMzMnFFA16NwPQrXKEBSuB6F69EqQFK4HoXrUTlA16NwPQoXR0CF61G4HoUoQClcj8L1SElAexSuR+GaTkAfhetRuD5LQB+F61G4HlZAj8L1KFxvUkDD9Shcj8JhQJqZmZmZKWNAKVyPwvVIbUDNzMzMzCxzQM3MzMzMNGVAMzMzMzMTUUDXo3A9ClctQOxRuB6FaytAuB6F61H4OkBI4XoUrudIQI/C9ShcDy5AFK5H4Xq0SkCF61G4HkVPQFyPwvUo3EdA9ihcj8I1V0DhehSuR4FSQArXo3A9UmNAj8L1KFwnYkC4HoXrUehsQM3MzMzMsHNAAAAAAAC4ZkCamZmZmXlHQA==",
           "dtype": "f8"
          },
          "coloraxis": "coloraxis",
          "opacity": 0.5,
          "size": {
           "bdata": "pHA9CtejDECgcD0K16McQFO4HoXrUTlAcD0K16NwG0BQuB6F61EmQMzMzMzMTCxApHA9CtdjNECYmZmZmZkrQJiZmZmZGS9ASOF6FK6HPEA0MzMzM3M3QOB6FK5HAU1AMDMzMzNTTUA0MzMzM5NLQGhmZmZm5idAGIXrUbge+T80MzMzMzMXQKRwPQrXIyNAzMzMzMzMBECA61G4HoUbQPQoXI/C9SVAZGZmZmZmJkDIzMzMzMwsQCCF61G4HhFASOF6FK7HMUBYj8L1KBw5QBCuR+F6lDJA0MzMzMzsTkAAAAAAAFBRQGhmZmZmZhxAuB6F61G4E0AK16NwPYogQArXo3A9yjhApHA9CtejCEAQ16NwPQoTQNDMzMzMzCxAWI/C9ShcJ0B8FK5H4bowQITrUbgeBTdAMDMzMzMzOUDE9Shcj2JCQLAehetR+DtAmJmZmZlZREAAAAAAAEBKQJqZmZmZmVRAQArXo3A9BkAoXI/C9SgXQCRcj8L1KB1ASuF6FK5HHkBcj8L1KFwlQBDXo3A9Ch9A8Chcj8L1G0AchetRuF4yQGCPwvUoXCxAiOtRuB5FMkBYj8L1KBw5QOB6FK5HYT5AzMzMzMxcUEBkZmZmZiZeQMzMzMzMTCRAAAAAAAAAGEAghetRuB4cQGhmZmZmZhtAKVyPwvUoLECwR+F6FK4dQLgehetRuBxAfBSuR+F6J0D4KFyPwnUoQByF61G4nj5AKFyPwvUoM0C4HoXrUbg7QDgzMzMzk0tAmJmZmZlZQ0AAAAAAAIBGQJyZmZmZmRlA/v//////E0DwUbgehesXQDIzMzMzMyNAKFyPwvUoIEAwMzMzMzMdQLBH4XoULiFA6FG4HoXrIEAQrkfhepQvQGBmZmZm5i9AAAAAAACANEBgj8L1KNw1QOB6FK5HITpAAAAAAADANkBoZmZmZoZLQJiZmZmZmRlAAAAAAAAABkAI16NwPQoLQBCuR+F6FBhANDMzMzMzJEAoXI/C9aggQKhH4XoUrh9AkML1KFyPGkCAFK5H4XoWQLkehetRWEVACNejcD0KLEDoehSuRyEzQBiuR+F61DlAsEfhehROVEA4MzMzM3NOQJiZmZmZ2TxANDMzMzMzMUCkcD0K16MCQDgzMzMzMwdAmpmZmZmZIUBwPQrXo3ARQLgehetRuBhAPArXo3C9I0BoZmZmZuYqQIjrUbgeBSNA2KNwPQqXOEDA9Shcj8IuQLgehetRmElAKFyPwvUoQUBgZmZmZiY/QAAAAAAAgFBAAQAAAACgQ0A+CtejcD0VQMzMzMzMzARAoHA9CtejAEDQzMzMzMwZQDQzMzMzMyBAmJmZmZmZIkD0KFyPwnUiQMD1KFyPwiFA+Chcj8J1KkBSuB6F6xFBQOhRuB6FqzNAAAAAAACAPEBoZmZmZmZNQAAAAAAA4EJAMzMzMzP7ZkCYmZmZmZk/QLgehetRuARAkML1KFyPAEDMzMzMzMwWQGRmZmZmZitAexSuR+H6K0AYrkfhehQvQDBcj8L1KB9AMjMzMzOzMEA4MzMzMzMhQFyPwvUoXDRAnJmZmZmZPEDwUbgehWssQDAzMzMzszNAAAAAAAAwU0BmZmZmZvZYQM7MzMzMzEdAaGZmZmZm/j8AAAAAAADwP0jhehSuRxxA6FG4HoXrJUA0MzMzMzMaQEThehSuRyhAmJmZmZmZM0BUuB6F61EnQIDrUbgehR1AOArXo3A9KUBwPQrXo/AmQGCPwvUo3CtAlML1KFzPRUBoZmZmZuZAQJqZmZmZGVVAyMzMzMzMLkCE61G4HoUFQAjXo3A9Cvc/DNejcD0KFUAAAAAAAAAiQLYehetRuBVASOF6FK5HHEDYo3A9CtcpQMzMzMzMzChA8Chcj8L1G0BACtejcL0mQAAAAAAAADVAkML1KFzPNEAAAAAAAMA6QKCZmZmZWTJA0MzMzMwMQUDMzMzMzMw9QA==",
           "dtype": "f8"
          },
          "sizemode": "area",
          "sizeref": 0.459625,
          "symbol": "circle"
         },
         "mode": "markers",
         "name": "",
         "orientation": "v",
         "showlegend": false,
         "type": "scatter",
         "x": {
          "bdata": "pHA9CtejDECgcD0K16McQFO4HoXrUTlAcD0K16NwG0BQuB6F61EmQMzMzMzMTCxApHA9CtdjNECYmZmZmZkrQJiZmZmZGS9ASOF6FK6HPEA0MzMzM3M3QOB6FK5HAU1AMDMzMzNTTUA0MzMzM5NLQGhmZmZm5idAGIXrUbge+T80MzMzMzMXQKRwPQrXIyNAzMzMzMzMBECA61G4HoUbQPQoXI/C9SVAZGZmZmZmJkDIzMzMzMwsQCCF61G4HhFASOF6FK7HMUBYj8L1KBw5QBCuR+F6lDJA0MzMzMzsTkAAAAAAAFBRQGhmZmZmZhxAuB6F61G4E0AK16NwPYogQArXo3A9yjhApHA9CtejCEAQ16NwPQoTQNDMzMzMzCxAWI/C9ShcJ0B8FK5H4bowQITrUbgeBTdAMDMzMzMzOUDE9Shcj2JCQLAehetR+DtAmJmZmZlZREAAAAAAAEBKQJqZmZmZmVRAQArXo3A9BkAoXI/C9SgXQCRcj8L1KB1ASuF6FK5HHkBcj8L1KFwlQBDXo3A9Ch9A8Chcj8L1G0AchetRuF4yQGCPwvUoXCxAiOtRuB5FMkBYj8L1KBw5QOB6FK5HYT5AzMzMzMxcUEBkZmZmZiZeQMzMzMzMTCRAAAAAAAAAGEAghetRuB4cQGhmZmZmZhtAKVyPwvUoLECwR+F6FK4dQLgehetRuBxAfBSuR+F6J0D4KFyPwnUoQByF61G4nj5AKFyPwvUoM0C4HoXrUbg7QDgzMzMzk0tAmJmZmZlZQ0AAAAAAAIBGQJyZmZmZmRlA/v//////E0DwUbgehesXQDIzMzMzMyNAKFyPwvUoIEAwMzMzMzMdQLBH4XoULiFA6FG4HoXrIEAQrkfhepQvQGBmZmZm5i9AAAAAAACANEBgj8L1KNw1QOB6FK5HITpAAAAAAADANkBoZmZmZoZLQJiZmZmZmRlAAAAAAAAABkAI16NwPQoLQBCuR+F6FBhANDMzMzMzJEAoXI/C9aggQKhH4XoUrh9AkML1KFyPGkCAFK5H4XoWQLkehetRWEVACNejcD0KLEDoehSuRyEzQBiuR+F61DlAsEfhehROVEA4MzMzM3NOQJiZmZmZ2TxANDMzMzMzMUCkcD0K16MCQDgzMzMzMwdAmpmZmZmZIUBwPQrXo3ARQLgehetRuBhAPArXo3C9I0BoZmZmZuYqQIjrUbgeBSNA2KNwPQqXOEDA9Shcj8IuQLgehetRmElAKFyPwvUoQUBgZmZmZiY/QAAAAAAAgFBAAQAAAACgQ0A+CtejcD0VQMzMzMzMzARAoHA9CtejAEDQzMzMzMwZQDQzMzMzMyBAmJmZmZmZIkD0KFyPwnUiQMD1KFyPwiFA+Chcj8J1KkBSuB6F6xFBQOhRuB6FqzNAAAAAAACAPEBoZmZmZmZNQAAAAAAA4EJAMzMzMzP7ZkCYmZmZmZk/QLgehetRuARAkML1KFyPAEDMzMzMzMwWQGRmZmZmZitAexSuR+H6K0AYrkfhehQvQDBcj8L1KB9AMjMzMzOzMEA4MzMzMzMhQFyPwvUoXDRAnJmZmZmZPEDwUbgehWssQDAzMzMzszNAAAAAAAAwU0BmZmZmZvZYQM7MzMzMzEdAaGZmZmZm/j8AAAAAAADwP0jhehSuRxxA6FG4HoXrJUA0MzMzMzMaQEThehSuRyhAmJmZmZmZM0BUuB6F61EnQIDrUbgehR1AOArXo3A9KUBwPQrXo/AmQGCPwvUo3CtAlML1KFzPRUBoZmZmZuZAQJqZmZmZGVVAyMzMzMzMLkCE61G4HoUFQAjXo3A9Cvc/DNejcD0KFUAAAAAAAAAiQLYehetRuBVASOF6FK5HHEDYo3A9CtcpQMzMzMzMzChA8Chcj8L1G0BACtejcL0mQAAAAAAAADVAkML1KFzPNEAAAAAAAMA6QKCZmZmZWTJA0MzMzMwMQUDMzMzMzMw9QA==",
          "dtype": "f8"
         },
         "xaxis": "x",
         "y": {
          "bdata": "KVyPwvWoLkApXI/C9Sg+QIXrUbgeRUlAexSuR+F6KEDsUbgehetIQOxRuB6FS0pAj8L1KFx/UEAK16NwPRpaQOxRuB6Fy05AAAAAAACQZUBcj8L1KKxiQJqZmZmZcXFAMzMzMzMndkCamZmZmUloQJqZmZmZmUNAH4XrUbgeMEDhehSuR6E8QPYoXI/CtUhAhetRuB6FJEApXI/C9ahHQIXrUbgepUlAKVyPwvVIUUAAAAAAAKBXQJqZmZmZeU5AmpmZmZmRZUA9CtejcDVhQClcj8L1KHJAAAAAAAAkdEBmZmZmZuZsQGZmZmZmRkFAFK5H4XoUNECkcD0K1yM8QAAAAAAA4EBA9ihcj8L1I0Bcj8L1KHxJQD0K16Nw/U5APQrXo3BdUkA9CtejcG1VQM3MzMzMrFRAUrgehetpZECF61G4Hp1lQIXrUbgeXXNAZmZmZmYOc0DNzMzMzDBxQDMzMzMzczZAPQrXo3B9M0CPwvUoXE8+QEjhehSuB0FAZmZmZmbmLkDNzMzMzIxMQMP1KFyPgk5AFK5H4XqEUUBSuB6F6xFZQClcj8L1CFZAH4XrUbj+ZECPwvUoXJdnQArXo3A9YnRAzczMzMygdkAAAAAAAABlQDMzMzMz8ztASOF6FK4HMkDhehSuR8FAQOF6FK5HIT9AH4XrUbgeOUApXI/C9chMQClcj8L1CE5A4XoUrkeBUECPwvUoXF9YQClcj8L1eFxAcT0K16MQZkAUrkfhesxpQK5H4XoU5nFAMzMzMzOjdUBmZmZmZn5iQJqZmZmZ2TpAPQrXo3A9L0A9CtejcP1BQJqZmZmZ2TZArkfhehSuPUAK16NwPepKQHE9CtejME9AhetRuB71UEDNzMzMzAxXQLgehetRGFtAMzMzMzMTZUCamZmZmalrQFK4HoXrRXJAmpmZmZk5dUDNzMzMzCxbQJqZmZmZmTlA7FG4HoXrKEApXI/C9SgwQNejcD0K90JAMzMzMzNzOUCuR+F6FO4/QB+F61G4fk1AcT0K16MQT0BmZmZmZjZSQHE9CtejMFBAPQrXo3ANW0BI4XoUrrdkQK5H4XoUbm5Aj8L1KFyfdkBmZmZmZv52QDMzMzMz01ZAZmZmZmbmJ0DXo3A9CtcqQNejcD0K1zFAH4XrUbh+QkAUrkfhetQ6QJqZmZmZuUBAXI/C9SgcT0CuR+F6FM5LQK5H4XoUflBAMzMzMzNTSECF61G4HpVcQM3MzMzMPGFAKVyPwvUIcUBmZmZmZvJ1QGZmZmZmdnVAAAAAAADATUA9CtejcL0sQJqZmZmZmSpA9ihcj8J1MkCuR+F6FK5EQOF6FK5HIThAH4XrUbh+REAzMzMzM5NRQAAAAAAAQEtAXI/C9SgcU0AAAAAAAMBMQM3MzMzM7FtAPQrXo3A9YkAzMzMzM1tvQAAAAAAA4HVAZmZmZmbuZkCamZmZmblEQM3MzMzMTCpAexSuR+H6KUBI4XoUrsc2QD0K16NwvUVAKVyPwvUoK0BI4XoUrqdHQNejcD0K91FAMzMzMzNzT0DD9Shcj5JUQHE9CtejcFJAw/UoXI8aYUAK16NwPfpiQHE9CtejsG9AmpmZmZmlc0CamZmZmYFnQM3MzMzMnFFA16NwPQrXKEBSuB6F69EqQFK4HoXrUTlA16NwPQoXR0CF61G4HoUoQClcj8L1SElAexSuR+GaTkAfhetRuD5LQB+F61G4HlZAj8L1KFxvUkDD9Shcj8JhQJqZmZmZKWNAKVyPwvVIbUDNzMzMzCxzQM3MzMzMNGVAMzMzMzMTUUDXo3A9ClctQOxRuB6FaytAuB6F61H4OkBI4XoUrudIQI/C9ShcDy5AFK5H4Xq0SkCF61G4HkVPQFyPwvUo3EdA9ihcj8I1V0DhehSuR4FSQArXo3A9UmNAj8L1KFwnYkC4HoXrUehsQM3MzMzMsHNAAAAAAAC4ZkCamZmZmXlHQA==",
          "dtype": "f8"
         },
         "yaxis": "y"
        }
       ],
       "layout": {
        "coloraxis": {
         "colorbar": {
          "title": {
           "text": "color"
          }
         },
         "colorscale": [
          [
           0,
           "#0d0887"
          ],
          [
           0.1111111111111111,
           "#46039f"
          ],
          [
           0.2222222222222222,
           "#7201a8"
          ],
          [
           0.3333333333333333,
           "#9c179e"
          ],
          [
           0.4444444444444444,
           "#bd3786"
          ],
          [
           0.5555555555555556,
           "#d8576b"
          ],
          [
           0.6666666666666666,
           "#ed7953"
          ],
          [
           0.7777777777777778,
           "#fb9f3a"
          ],
          [
           0.8888888888888888,
           "#fdca26"
          ],
          [
           1,
           "#f0f921"
          ]
         ]
        },
        "legend": {
         "itemsizing": "constant",
         "tracegroupgap": 0
        },
        "template": {
         "data": {
          "bar": [
           {
            "error_x": {
             "color": "#2a3f5f"
            },
            "error_y": {
             "color": "#2a3f5f"
            },
            "marker": {
             "line": {
              "color": "#E5ECF6",
              "width": 0.5
             },
             "pattern": {
              "fillmode": "overlay",
              "size": 10,
              "solidity": 0.2
             }
            },
            "type": "bar"
           }
          ],
          "barpolar": [
           {
            "marker": {
             "line": {
              "color": "#E5ECF6",
              "width": 0.5
             },
             "pattern": {
              "fillmode": "overlay",
              "size": 10,
              "solidity": 0.2
             }
            },
            "type": "barpolar"
           }
          ],
          "carpet": [
           {
            "aaxis": {
             "endlinecolor": "#2a3f5f",
             "gridcolor": "white",
             "linecolor": "white",
             "minorgridcolor": "white",
             "startlinecolor": "#2a3f5f"
            },
            "baxis": {
             "endlinecolor": "#2a3f5f",
             "gridcolor": "white",
             "linecolor": "white",
             "minorgridcolor": "white",
             "startlinecolor": "#2a3f5f"
            },
            "type": "carpet"
           }
          ],
          "choropleth": [
           {
            "colorbar": {
             "outlinewidth": 0,
             "ticks": ""
            },
            "type": "choropleth"
           }
          ],
          "contour": [
           {
            "colorbar": {
             "outlinewidth": 0,
             "ticks": ""
            },
            "colorscale": [
             [
              0,
              "#0d0887"
             ],
             [
              0.1111111111111111,
              "#46039f"
             ],
             [
              0.2222222222222222,
              "#7201a8"
             ],
             [
              0.3333333333333333,
              "#9c179e"
             ],
             [
              0.4444444444444444,
              "#bd3786"
             ],
             [
              0.5555555555555556,
              "#d8576b"
             ],
             [
              0.6666666666666666,
              "#ed7953"
             ],
             [
              0.7777777777777778,
              "#fb9f3a"
             ],
             [
              0.8888888888888888,
              "#fdca26"
             ],
             [
              1,
              "#f0f921"
             ]
            ],
            "type": "contour"
           }
          ],
          "contourcarpet": [
           {
            "colorbar": {
             "outlinewidth": 0,
             "ticks": ""
            },
            "type": "contourcarpet"
           }
          ],
          "heatmap": [
           {
            "colorbar": {
             "outlinewidth": 0,
             "ticks": ""
            },
            "colorscale": [
             [
              0,
              "#0d0887"
             ],
             [
              0.1111111111111111,
              "#46039f"
             ],
             [
              0.2222222222222222,
              "#7201a8"
             ],
             [
              0.3333333333333333,
              "#9c179e"
             ],
             [
              0.4444444444444444,
              "#bd3786"
             ],
             [
              0.5555555555555556,
              "#d8576b"
             ],
             [
              0.6666666666666666,
              "#ed7953"
             ],
             [
              0.7777777777777778,
              "#fb9f3a"
             ],
             [
              0.8888888888888888,
              "#fdca26"
             ],
             [
              1,
              "#f0f921"
             ]
            ],
            "type": "heatmap"
           }
          ],
          "histogram": [
           {
            "marker": {
             "pattern": {
              "fillmode": "overlay",
              "size": 10,
              "solidity": 0.2
             }
            },
            "type": "histogram"
           }
          ],
          "histogram2d": [
           {
            "colorbar": {
             "outlinewidth": 0,
             "ticks": ""
            },
            "colorscale": [
             [
              0,
              "#0d0887"
             ],
             [
              0.1111111111111111,
              "#46039f"
             ],
             [
              0.2222222222222222,
              "#7201a8"
             ],
             [
              0.3333333333333333,
              "#9c179e"
             ],
             [
              0.4444444444444444,
              "#bd3786"
             ],
             [
              0.5555555555555556,
              "#d8576b"
             ],
             [
              0.6666666666666666,
              "#ed7953"
             ],
             [
              0.7777777777777778,
              "#fb9f3a"
             ],
             [
              0.8888888888888888,
              "#fdca26"
             ],
             [
              1,
              "#f0f921"
             ]
            ],
            "type": "histogram2d"
           }
          ],
          "histogram2dcontour": [
           {
            "colorbar": {
             "outlinewidth": 0,
             "ticks": ""
            },
            "colorscale": [
             [
              0,
              "#0d0887"
             ],
             [
              0.1111111111111111,
              "#46039f"
             ],
             [
              0.2222222222222222,
              "#7201a8"
             ],
             [
              0.3333333333333333,
              "#9c179e"
             ],
             [
              0.4444444444444444,
              "#bd3786"
             ],
             [
              0.5555555555555556,
              "#d8576b"
             ],
             [
              0.6666666666666666,
              "#ed7953"
             ],
             [
              0.7777777777777778,
              "#fb9f3a"
             ],
             [
              0.8888888888888888,
              "#fdca26"
             ],
             [
              1,
              "#f0f921"
             ]
            ],
            "type": "histogram2dcontour"
           }
          ],
          "mesh3d": [
           {
            "colorbar": {
             "outlinewidth": 0,
             "ticks": ""
            },
            "type": "mesh3d"
           }
          ],
          "parcoords": [
           {
            "line": {
             "colorbar": {
              "outlinewidth": 0,
              "ticks": ""
             }
            },
            "type": "parcoords"
           }
          ],
          "pie": [
           {
            "automargin": true,
            "type": "pie"
           }
          ],
          "scatter": [
           {
            "fillpattern": {
             "fillmode": "overlay",
             "size": 10,
             "solidity": 0.2
            },
            "type": "scatter"
           }
          ],
          "scatter3d": [
           {
            "line": {
             "colorbar": {
              "outlinewidth": 0,
              "ticks": ""
             }
            },
            "marker": {
             "colorbar": {
              "outlinewidth": 0,
              "ticks": ""
             }
            },
            "type": "scatter3d"
           }
          ],
          "scattercarpet": [
           {
            "marker": {
             "colorbar": {
              "outlinewidth": 0,
              "ticks": ""
             }
            },
            "type": "scattercarpet"
           }
          ],
          "scattergeo": [
           {
            "marker": {
             "colorbar": {
              "outlinewidth": 0,
              "ticks": ""
             }
            },
            "type": "scattergeo"
           }
          ],
          "scattergl": [
           {
            "marker": {
             "colorbar": {
              "outlinewidth": 0,
              "ticks": ""
             }
            },
            "type": "scattergl"
           }
          ],
          "scattermap": [
           {
            "marker": {
             "colorbar": {
              "outlinewidth": 0,
              "ticks": ""
             }
            },
            "type": "scattermap"
           }
          ],
          "scattermapbox": [
           {
            "marker": {
             "colorbar": {
              "outlinewidth": 0,
              "ticks": ""
             }
            },
            "type": "scattermapbox"
           }
          ],
          "scatterpolar": [
           {
            "marker": {
             "colorbar": {
              "outlinewidth": 0,
              "ticks": ""
             }
            },
            "type": "scatterpolar"
           }
          ],
          "scatterpolargl": [
           {
            "marker": {
             "colorbar": {
              "outlinewidth": 0,
              "ticks": ""
             }
            },
            "type": "scatterpolargl"
           }
          ],
          "scatterternary": [
           {
            "marker": {
             "colorbar": {
              "outlinewidth": 0,
              "ticks": ""
             }
            },
            "type": "scatterternary"
           }
          ],
          "surface": [
           {
            "colorbar": {
             "outlinewidth": 0,
             "ticks": ""
            },
            "colorscale": [
             [
              0,
              "#0d0887"
             ],
             [
              0.1111111111111111,
              "#46039f"
             ],
             [
              0.2222222222222222,
              "#7201a8"
             ],
             [
              0.3333333333333333,
              "#9c179e"
             ],
             [
              0.4444444444444444,
              "#bd3786"
             ],
             [
              0.5555555555555556,
              "#d8576b"
             ],
             [
              0.6666666666666666,
              "#ed7953"
             ],
             [
              0.7777777777777778,
              "#fb9f3a"
             ],
             [
              0.8888888888888888,
              "#fdca26"
             ],
             [
              1,
              "#f0f921"
             ]
            ],
            "type": "surface"
           }
          ],
          "table": [
           {
            "cells": {
             "fill": {
              "color": "#EBF0F8"
             },
             "line": {
              "color": "white"
             }
            },
            "header": {
             "fill": {
              "color": "#C8D4E3"
             },
             "line": {
              "color": "white"
             }
            },
            "type": "table"
           }
          ]
         },
         "layout": {
          "annotationdefaults": {
           "arrowcolor": "#2a3f5f",
           "arrowhead": 0,
           "arrowwidth": 1
          },
          "autotypenumbers": "strict",
          "coloraxis": {
           "colorbar": {
            "outlinewidth": 0,
            "ticks": ""
           }
          },
          "colorscale": {
           "diverging": [
            [
             0,
             "#8e0152"
            ],
            [
             0.1,
             "#c51b7d"
            ],
            [
             0.2,
             "#de77ae"
            ],
            [
             0.3,
             "#f1b6da"
            ],
            [
             0.4,
             "#fde0ef"
            ],
            [
             0.5,
             "#f7f7f7"
            ],
            [
             0.6,
             "#e6f5d0"
            ],
            [
             0.7,
             "#b8e186"
            ],
            [
             0.8,
             "#7fbc41"
            ],
            [
             0.9,
             "#4d9221"
            ],
            [
             1,
             "#276419"
            ]
           ],
           "sequential": [
            [
             0,
             "#0d0887"
            ],
            [
             0.1111111111111111,
             "#46039f"
            ],
            [
             0.2222222222222222,
             "#7201a8"
            ],
            [
             0.3333333333333333,
             "#9c179e"
            ],
            [
             0.4444444444444444,
             "#bd3786"
            ],
            [
             0.5555555555555556,
             "#d8576b"
            ],
            [
             0.6666666666666666,
             "#ed7953"
            ],
            [
             0.7777777777777778,
             "#fb9f3a"
            ],
            [
             0.8888888888888888,
             "#fdca26"
            ],
            [
             1,
             "#f0f921"
            ]
           ],
           "sequentialminus": [
            [
             0,
             "#0d0887"
            ],
            [
             0.1111111111111111,
             "#46039f"
            ],
            [
             0.2222222222222222,
             "#7201a8"
            ],
            [
             0.3333333333333333,
             "#9c179e"
            ],
            [
             0.4444444444444444,
             "#bd3786"
            ],
            [
             0.5555555555555556,
             "#d8576b"
            ],
            [
             0.6666666666666666,
             "#ed7953"
            ],
            [
             0.7777777777777778,
             "#fb9f3a"
            ],
            [
             0.8888888888888888,
             "#fdca26"
            ],
            [
             1,
             "#f0f921"
            ]
           ]
          },
          "colorway": [
           "#636efa",
           "#EF553B",
           "#00cc96",
           "#ab63fa",
           "#FFA15A",
           "#19d3f3",
           "#FF6692",
           "#B6E880",
           "#FF97FF",
           "#FECB52"
          ],
          "font": {
           "color": "#2a3f5f"
          },
          "geo": {
           "bgcolor": "white",
           "lakecolor": "white",
           "landcolor": "#E5ECF6",
           "showlakes": true,
           "showland": true,
           "subunitcolor": "white"
          },
          "hoverlabel": {
           "align": "left"
          },
          "hovermode": "closest",
          "mapbox": {
           "style": "light"
          },
          "paper_bgcolor": "white",
          "plot_bgcolor": "#E5ECF6",
          "polar": {
           "angularaxis": {
            "gridcolor": "white",
            "linecolor": "white",
            "ticks": ""
           },
           "bgcolor": "#E5ECF6",
           "radialaxis": {
            "gridcolor": "white",
            "linecolor": "white",
            "ticks": ""
           }
          },
          "scene": {
           "xaxis": {
            "backgroundcolor": "#E5ECF6",
            "gridcolor": "white",
            "gridwidth": 2,
            "linecolor": "white",
            "showbackground": true,
            "ticks": "",
            "zerolinecolor": "white"
           },
           "yaxis": {
            "backgroundcolor": "#E5ECF6",
            "gridcolor": "white",
            "gridwidth": 2,
            "linecolor": "white",
            "showbackground": true,
            "ticks": "",
            "zerolinecolor": "white"
           },
           "zaxis": {
            "backgroundcolor": "#E5ECF6",
            "gridcolor": "white",
            "gridwidth": 2,
            "linecolor": "white",
            "showbackground": true,
            "ticks": "",
            "zerolinecolor": "white"
           }
          },
          "shapedefaults": {
           "line": {
            "color": "#2a3f5f"
           }
          },
          "ternary": {
           "aaxis": {
            "gridcolor": "white",
            "linecolor": "white",
            "ticks": ""
           },
           "baxis": {
            "gridcolor": "white",
            "linecolor": "white",
            "ticks": ""
           },
           "bgcolor": "#E5ECF6",
           "caxis": {
            "gridcolor": "white",
            "linecolor": "white",
            "ticks": ""
           }
          },
          "title": {
           "x": 0.05
          },
          "xaxis": {
           "automargin": true,
           "gridcolor": "white",
           "linecolor": "white",
           "ticks": "",
           "title": {
            "standoff": 15
           },
           "zerolinecolor": "white",
           "zerolinewidth": 2
          },
          "yaxis": {
           "automargin": true,
           "gridcolor": "white",
           "linecolor": "white",
           "ticks": "",
           "title": {
            "standoff": 15
           },
           "zerolinecolor": "white",
           "zerolinewidth": 2
          }
         }
        },
        "title": {
         "text": "Trading Range vs Closing Price"
        },
        "xaxis": {
         "anchor": "y",
         "domain": [
          0,
          1
         ],
         "title": {
          "text": "Range"
         }
        },
        "yaxis": {
         "anchor": "x",
         "domain": [
          0,
          1
         ],
         "title": {
          "text": "Close"
         }
        }
       }
      },
      "text/html": [
       "<div>            <script src=\"https://cdnjs.cloudflare.com/ajax/libs/mathjax/2.7.5/MathJax.js?config=TeX-AMS-MML_SVG\"></script><script type=\"text/javascript\">if (window.MathJax && window.MathJax.Hub && window.MathJax.Hub.Config) {window.MathJax.Hub.Config({SVG: {font: \"STIX-Web\"}});}</script>                <script type=\"text/javascript\">window.PlotlyConfig = {MathJaxConfig: 'local'};</script>\n",
       "        <script charset=\"utf-8\" src=\"https://cdn.plot.ly/plotly-3.0.1.min.js\"></script>                <div id=\"d9a724ac-a15e-42ca-9057-76da91e4a4a5\" class=\"plotly-graph-div\" style=\"height:525px; width:100%;\"></div>            <script type=\"text/javascript\">                window.PLOTLYENV=window.PLOTLYENV || {};                                if (document.getElementById(\"d9a724ac-a15e-42ca-9057-76da91e4a4a5\")) {                    Plotly.newPlot(                        \"d9a724ac-a15e-42ca-9057-76da91e4a4a5\",                        [{\"hovertemplate\":\"Range=%{x}\\u003cbr\\u003eClose=%{y}\\u003cbr\\u003esize=%{marker.size}\\u003cbr\\u003ecolor=%{marker.color}\\u003cextra\\u003e\\u003c\\u002fextra\\u003e\",\"legendgroup\":\"\",\"marker\":{\"color\":{\"dtype\":\"f8\",\"bdata\":\"KVyPwvWoLkApXI\\u002fC9Sg+QIXrUbgeRUlAexSuR+F6KEDsUbgehetIQOxRuB6FS0pAj8L1KFx\\u002fUEAK16NwPRpaQOxRuB6Fy05AAAAAAACQZUBcj8L1KKxiQJqZmZmZcXFAMzMzMzMndkCamZmZmUloQJqZmZmZmUNAH4XrUbgeMEDhehSuR6E8QPYoXI\\u002fCtUhAhetRuB6FJEApXI\\u002fC9ahHQIXrUbgepUlAKVyPwvVIUUAAAAAAAKBXQJqZmZmZeU5AmpmZmZmRZUA9CtejcDVhQClcj8L1KHJAAAAAAAAkdEBmZmZmZuZsQGZmZmZmRkFAFK5H4XoUNECkcD0K1yM8QAAAAAAA4EBA9ihcj8L1I0Bcj8L1KHxJQD0K16Nw\\u002fU5APQrXo3BdUkA9CtejcG1VQM3MzMzMrFRAUrgehetpZECF61G4Hp1lQIXrUbgeXXNAZmZmZmYOc0DNzMzMzDBxQDMzMzMzczZAPQrXo3B9M0CPwvUoXE8+QEjhehSuB0FAZmZmZmbmLkDNzMzMzIxMQMP1KFyPgk5AFK5H4XqEUUBSuB6F6xFZQClcj8L1CFZAH4XrUbj+ZECPwvUoXJdnQArXo3A9YnRAzczMzMygdkAAAAAAAABlQDMzMzMz8ztASOF6FK4HMkDhehSuR8FAQOF6FK5HIT9AH4XrUbgeOUApXI\\u002fC9chMQClcj8L1CE5A4XoUrkeBUECPwvUoXF9YQClcj8L1eFxAcT0K16MQZkAUrkfhesxpQK5H4XoU5nFAMzMzMzOjdUBmZmZmZn5iQJqZmZmZ2TpAPQrXo3A9L0A9CtejcP1BQJqZmZmZ2TZArkfhehSuPUAK16NwPepKQHE9CtejME9AhetRuB71UEDNzMzMzAxXQLgehetRGFtAMzMzMzMTZUCamZmZmalrQFK4HoXrRXJAmpmZmZk5dUDNzMzMzCxbQJqZmZmZmTlA7FG4HoXrKEApXI\\u002fC9SgwQNejcD0K90JAMzMzMzNzOUCuR+F6FO4\\u002fQB+F61G4fk1AcT0K16MQT0BmZmZmZjZSQHE9CtejMFBAPQrXo3ANW0BI4XoUrrdkQK5H4XoUbm5Aj8L1KFyfdkBmZmZmZv52QDMzMzMz01ZAZmZmZmbmJ0DXo3A9CtcqQNejcD0K1zFAH4XrUbh+QkAUrkfhetQ6QJqZmZmZuUBAXI\\u002fC9SgcT0CuR+F6FM5LQK5H4XoUflBAMzMzMzNTSECF61G4HpVcQM3MzMzMPGFAKVyPwvUIcUBmZmZmZvJ1QGZmZmZmdnVAAAAAAADATUA9CtejcL0sQJqZmZmZmSpA9ihcj8J1MkCuR+F6FK5EQOF6FK5HIThAH4XrUbh+REAzMzMzM5NRQAAAAAAAQEtAXI\\u002fC9SgcU0AAAAAAAMBMQM3MzMzM7FtAPQrXo3A9YkAzMzMzM1tvQAAAAAAA4HVAZmZmZmbuZkCamZmZmblEQM3MzMzMTCpAexSuR+H6KUBI4XoUrsc2QD0K16NwvUVAKVyPwvUoK0BI4XoUrqdHQNejcD0K91FAMzMzMzNzT0DD9Shcj5JUQHE9CtejcFJAw\\u002fUoXI8aYUAK16NwPfpiQHE9CtejsG9AmpmZmZmlc0CamZmZmYFnQM3MzMzMnFFA16NwPQrXKEBSuB6F69EqQFK4HoXrUTlA16NwPQoXR0CF61G4HoUoQClcj8L1SElAexSuR+GaTkAfhetRuD5LQB+F61G4HlZAj8L1KFxvUkDD9Shcj8JhQJqZmZmZKWNAKVyPwvVIbUDNzMzMzCxzQM3MzMzMNGVAMzMzMzMTUUDXo3A9ClctQOxRuB6FaytAuB6F61H4OkBI4XoUrudIQI\\u002fC9ShcDy5AFK5H4Xq0SkCF61G4HkVPQFyPwvUo3EdA9ihcj8I1V0DhehSuR4FSQArXo3A9UmNAj8L1KFwnYkC4HoXrUehsQM3MzMzMsHNAAAAAAAC4ZkCamZmZmXlHQA==\"},\"coloraxis\":\"coloraxis\",\"opacity\":0.5,\"size\":{\"dtype\":\"f8\",\"bdata\":\"pHA9CtejDECgcD0K16McQFO4HoXrUTlAcD0K16NwG0BQuB6F61EmQMzMzMzMTCxApHA9CtdjNECYmZmZmZkrQJiZmZmZGS9ASOF6FK6HPEA0MzMzM3M3QOB6FK5HAU1AMDMzMzNTTUA0MzMzM5NLQGhmZmZm5idAGIXrUbge+T80MzMzMzMXQKRwPQrXIyNAzMzMzMzMBECA61G4HoUbQPQoXI\\u002fC9SVAZGZmZmZmJkDIzMzMzMwsQCCF61G4HhFASOF6FK7HMUBYj8L1KBw5QBCuR+F6lDJA0MzMzMzsTkAAAAAAAFBRQGhmZmZmZhxAuB6F61G4E0AK16NwPYogQArXo3A9yjhApHA9CtejCEAQ16NwPQoTQNDMzMzMzCxAWI\\u002fC9ShcJ0B8FK5H4bowQITrUbgeBTdAMDMzMzMzOUDE9Shcj2JCQLAehetR+DtAmJmZmZlZREAAAAAAAEBKQJqZmZmZmVRAQArXo3A9BkAoXI\\u002fC9SgXQCRcj8L1KB1ASuF6FK5HHkBcj8L1KFwlQBDXo3A9Ch9A8Chcj8L1G0AchetRuF4yQGCPwvUoXCxAiOtRuB5FMkBYj8L1KBw5QOB6FK5HYT5AzMzMzMxcUEBkZmZmZiZeQMzMzMzMTCRAAAAAAAAAGEAghetRuB4cQGhmZmZmZhtAKVyPwvUoLECwR+F6FK4dQLgehetRuBxAfBSuR+F6J0D4KFyPwnUoQByF61G4nj5AKFyPwvUoM0C4HoXrUbg7QDgzMzMzk0tAmJmZmZlZQ0AAAAAAAIBGQJyZmZmZmRlA\\u002fv\\u002f\\u002f\\u002f\\u002f\\u002f\\u002fE0DwUbgehesXQDIzMzMzMyNAKFyPwvUoIEAwMzMzMzMdQLBH4XoULiFA6FG4HoXrIEAQrkfhepQvQGBmZmZm5i9AAAAAAACANEBgj8L1KNw1QOB6FK5HITpAAAAAAADANkBoZmZmZoZLQJiZmZmZmRlAAAAAAAAABkAI16NwPQoLQBCuR+F6FBhANDMzMzMzJEAoXI\\u002fC9aggQKhH4XoUrh9AkML1KFyPGkCAFK5H4XoWQLkehetRWEVACNejcD0KLEDoehSuRyEzQBiuR+F61DlAsEfhehROVEA4MzMzM3NOQJiZmZmZ2TxANDMzMzMzMUCkcD0K16MCQDgzMzMzMwdAmpmZmZmZIUBwPQrXo3ARQLgehetRuBhAPArXo3C9I0BoZmZmZuYqQIjrUbgeBSNA2KNwPQqXOEDA9Shcj8IuQLgehetRmElAKFyPwvUoQUBgZmZmZiY\\u002fQAAAAAAAgFBAAQAAAACgQ0A+CtejcD0VQMzMzMzMzARAoHA9CtejAEDQzMzMzMwZQDQzMzMzMyBAmJmZmZmZIkD0KFyPwnUiQMD1KFyPwiFA+Chcj8J1KkBSuB6F6xFBQOhRuB6FqzNAAAAAAACAPEBoZmZmZmZNQAAAAAAA4EJAMzMzMzP7ZkCYmZmZmZk\\u002fQLgehetRuARAkML1KFyPAEDMzMzMzMwWQGRmZmZmZitAexSuR+H6K0AYrkfhehQvQDBcj8L1KB9AMjMzMzOzMEA4MzMzMzMhQFyPwvUoXDRAnJmZmZmZPEDwUbgehWssQDAzMzMzszNAAAAAAAAwU0BmZmZmZvZYQM7MzMzMzEdAaGZmZmZm\\u002fj8AAAAAAADwP0jhehSuRxxA6FG4HoXrJUA0MzMzMzMaQEThehSuRyhAmJmZmZmZM0BUuB6F61EnQIDrUbgehR1AOArXo3A9KUBwPQrXo\\u002fAmQGCPwvUo3CtAlML1KFzPRUBoZmZmZuZAQJqZmZmZGVVAyMzMzMzMLkCE61G4HoUFQAjXo3A9Cvc\\u002fDNejcD0KFUAAAAAAAAAiQLYehetRuBVASOF6FK5HHEDYo3A9CtcpQMzMzMzMzChA8Chcj8L1G0BACtejcL0mQAAAAAAAADVAkML1KFzPNEAAAAAAAMA6QKCZmZmZWTJA0MzMzMwMQUDMzMzMzMw9QA==\"},\"sizemode\":\"area\",\"sizeref\":0.459625,\"symbol\":\"circle\"},\"mode\":\"markers\",\"name\":\"\",\"orientation\":\"v\",\"showlegend\":false,\"x\":{\"dtype\":\"f8\",\"bdata\":\"pHA9CtejDECgcD0K16McQFO4HoXrUTlAcD0K16NwG0BQuB6F61EmQMzMzMzMTCxApHA9CtdjNECYmZmZmZkrQJiZmZmZGS9ASOF6FK6HPEA0MzMzM3M3QOB6FK5HAU1AMDMzMzNTTUA0MzMzM5NLQGhmZmZm5idAGIXrUbge+T80MzMzMzMXQKRwPQrXIyNAzMzMzMzMBECA61G4HoUbQPQoXI\\u002fC9SVAZGZmZmZmJkDIzMzMzMwsQCCF61G4HhFASOF6FK7HMUBYj8L1KBw5QBCuR+F6lDJA0MzMzMzsTkAAAAAAAFBRQGhmZmZmZhxAuB6F61G4E0AK16NwPYogQArXo3A9yjhApHA9CtejCEAQ16NwPQoTQNDMzMzMzCxAWI\\u002fC9ShcJ0B8FK5H4bowQITrUbgeBTdAMDMzMzMzOUDE9Shcj2JCQLAehetR+DtAmJmZmZlZREAAAAAAAEBKQJqZmZmZmVRAQArXo3A9BkAoXI\\u002fC9SgXQCRcj8L1KB1ASuF6FK5HHkBcj8L1KFwlQBDXo3A9Ch9A8Chcj8L1G0AchetRuF4yQGCPwvUoXCxAiOtRuB5FMkBYj8L1KBw5QOB6FK5HYT5AzMzMzMxcUEBkZmZmZiZeQMzMzMzMTCRAAAAAAAAAGEAghetRuB4cQGhmZmZmZhtAKVyPwvUoLECwR+F6FK4dQLgehetRuBxAfBSuR+F6J0D4KFyPwnUoQByF61G4nj5AKFyPwvUoM0C4HoXrUbg7QDgzMzMzk0tAmJmZmZlZQ0AAAAAAAIBGQJyZmZmZmRlA\\u002fv\\u002f\\u002f\\u002f\\u002f\\u002f\\u002fE0DwUbgehesXQDIzMzMzMyNAKFyPwvUoIEAwMzMzMzMdQLBH4XoULiFA6FG4HoXrIEAQrkfhepQvQGBmZmZm5i9AAAAAAACANEBgj8L1KNw1QOB6FK5HITpAAAAAAADANkBoZmZmZoZLQJiZmZmZmRlAAAAAAAAABkAI16NwPQoLQBCuR+F6FBhANDMzMzMzJEAoXI\\u002fC9aggQKhH4XoUrh9AkML1KFyPGkCAFK5H4XoWQLkehetRWEVACNejcD0KLEDoehSuRyEzQBiuR+F61DlAsEfhehROVEA4MzMzM3NOQJiZmZmZ2TxANDMzMzMzMUCkcD0K16MCQDgzMzMzMwdAmpmZmZmZIUBwPQrXo3ARQLgehetRuBhAPArXo3C9I0BoZmZmZuYqQIjrUbgeBSNA2KNwPQqXOEDA9Shcj8IuQLgehetRmElAKFyPwvUoQUBgZmZmZiY\\u002fQAAAAAAAgFBAAQAAAACgQ0A+CtejcD0VQMzMzMzMzARAoHA9CtejAEDQzMzMzMwZQDQzMzMzMyBAmJmZmZmZIkD0KFyPwnUiQMD1KFyPwiFA+Chcj8J1KkBSuB6F6xFBQOhRuB6FqzNAAAAAAACAPEBoZmZmZmZNQAAAAAAA4EJAMzMzMzP7ZkCYmZmZmZk\\u002fQLgehetRuARAkML1KFyPAEDMzMzMzMwWQGRmZmZmZitAexSuR+H6K0AYrkfhehQvQDBcj8L1KB9AMjMzMzOzMEA4MzMzMzMhQFyPwvUoXDRAnJmZmZmZPEDwUbgehWssQDAzMzMzszNAAAAAAAAwU0BmZmZmZvZYQM7MzMzMzEdAaGZmZmZm\\u002fj8AAAAAAADwP0jhehSuRxxA6FG4HoXrJUA0MzMzMzMaQEThehSuRyhAmJmZmZmZM0BUuB6F61EnQIDrUbgehR1AOArXo3A9KUBwPQrXo\\u002fAmQGCPwvUo3CtAlML1KFzPRUBoZmZmZuZAQJqZmZmZGVVAyMzMzMzMLkCE61G4HoUFQAjXo3A9Cvc\\u002fDNejcD0KFUAAAAAAAAAiQLYehetRuBVASOF6FK5HHEDYo3A9CtcpQMzMzMzMzChA8Chcj8L1G0BACtejcL0mQAAAAAAAADVAkML1KFzPNEAAAAAAAMA6QKCZmZmZWTJA0MzMzMwMQUDMzMzMzMw9QA==\"},\"xaxis\":\"x\",\"y\":{\"dtype\":\"f8\",\"bdata\":\"KVyPwvWoLkApXI\\u002fC9Sg+QIXrUbgeRUlAexSuR+F6KEDsUbgehetIQOxRuB6FS0pAj8L1KFx\\u002fUEAK16NwPRpaQOxRuB6Fy05AAAAAAACQZUBcj8L1KKxiQJqZmZmZcXFAMzMzMzMndkCamZmZmUloQJqZmZmZmUNAH4XrUbgeMEDhehSuR6E8QPYoXI\\u002fCtUhAhetRuB6FJEApXI\\u002fC9ahHQIXrUbgepUlAKVyPwvVIUUAAAAAAAKBXQJqZmZmZeU5AmpmZmZmRZUA9CtejcDVhQClcj8L1KHJAAAAAAAAkdEBmZmZmZuZsQGZmZmZmRkFAFK5H4XoUNECkcD0K1yM8QAAAAAAA4EBA9ihcj8L1I0Bcj8L1KHxJQD0K16Nw\\u002fU5APQrXo3BdUkA9CtejcG1VQM3MzMzMrFRAUrgehetpZECF61G4Hp1lQIXrUbgeXXNAZmZmZmYOc0DNzMzMzDBxQDMzMzMzczZAPQrXo3B9M0CPwvUoXE8+QEjhehSuB0FAZmZmZmbmLkDNzMzMzIxMQMP1KFyPgk5AFK5H4XqEUUBSuB6F6xFZQClcj8L1CFZAH4XrUbj+ZECPwvUoXJdnQArXo3A9YnRAzczMzMygdkAAAAAAAABlQDMzMzMz8ztASOF6FK4HMkDhehSuR8FAQOF6FK5HIT9AH4XrUbgeOUApXI\\u002fC9chMQClcj8L1CE5A4XoUrkeBUECPwvUoXF9YQClcj8L1eFxAcT0K16MQZkAUrkfhesxpQK5H4XoU5nFAMzMzMzOjdUBmZmZmZn5iQJqZmZmZ2TpAPQrXo3A9L0A9CtejcP1BQJqZmZmZ2TZArkfhehSuPUAK16NwPepKQHE9CtejME9AhetRuB71UEDNzMzMzAxXQLgehetRGFtAMzMzMzMTZUCamZmZmalrQFK4HoXrRXJAmpmZmZk5dUDNzMzMzCxbQJqZmZmZmTlA7FG4HoXrKEApXI\\u002fC9SgwQNejcD0K90JAMzMzMzNzOUCuR+F6FO4\\u002fQB+F61G4fk1AcT0K16MQT0BmZmZmZjZSQHE9CtejMFBAPQrXo3ANW0BI4XoUrrdkQK5H4XoUbm5Aj8L1KFyfdkBmZmZmZv52QDMzMzMz01ZAZmZmZmbmJ0DXo3A9CtcqQNejcD0K1zFAH4XrUbh+QkAUrkfhetQ6QJqZmZmZuUBAXI\\u002fC9SgcT0CuR+F6FM5LQK5H4XoUflBAMzMzMzNTSECF61G4HpVcQM3MzMzMPGFAKVyPwvUIcUBmZmZmZvJ1QGZmZmZmdnVAAAAAAADATUA9CtejcL0sQJqZmZmZmSpA9ihcj8J1MkCuR+F6FK5EQOF6FK5HIThAH4XrUbh+REAzMzMzM5NRQAAAAAAAQEtAXI\\u002fC9SgcU0AAAAAAAMBMQM3MzMzM7FtAPQrXo3A9YkAzMzMzM1tvQAAAAAAA4HVAZmZmZmbuZkCamZmZmblEQM3MzMzMTCpAexSuR+H6KUBI4XoUrsc2QD0K16NwvUVAKVyPwvUoK0BI4XoUrqdHQNejcD0K91FAMzMzMzNzT0DD9Shcj5JUQHE9CtejcFJAw\\u002fUoXI8aYUAK16NwPfpiQHE9CtejsG9AmpmZmZmlc0CamZmZmYFnQM3MzMzMnFFA16NwPQrXKEBSuB6F69EqQFK4HoXrUTlA16NwPQoXR0CF61G4HoUoQClcj8L1SElAexSuR+GaTkAfhetRuD5LQB+F61G4HlZAj8L1KFxvUkDD9Shcj8JhQJqZmZmZKWNAKVyPwvVIbUDNzMzMzCxzQM3MzMzMNGVAMzMzMzMTUUDXo3A9ClctQOxRuB6FaytAuB6F61H4OkBI4XoUrudIQI\\u002fC9ShcDy5AFK5H4Xq0SkCF61G4HkVPQFyPwvUo3EdA9ihcj8I1V0DhehSuR4FSQArXo3A9UmNAj8L1KFwnYkC4HoXrUehsQM3MzMzMsHNAAAAAAAC4ZkCamZmZmXlHQA==\"},\"yaxis\":\"y\",\"type\":\"scatter\"}],                        {\"coloraxis\":{\"colorbar\":{\"title\":{\"text\":\"color\"}},\"colorscale\":[[0.0,\"#0d0887\"],[0.1111111111111111,\"#46039f\"],[0.2222222222222222,\"#7201a8\"],[0.3333333333333333,\"#9c179e\"],[0.4444444444444444,\"#bd3786\"],[0.5555555555555556,\"#d8576b\"],[0.6666666666666666,\"#ed7953\"],[0.7777777777777778,\"#fb9f3a\"],[0.8888888888888888,\"#fdca26\"],[1.0,\"#f0f921\"]]},\"legend\":{\"itemsizing\":\"constant\",\"tracegroupgap\":0},\"template\":{\"data\":{\"barpolar\":[{\"marker\":{\"line\":{\"color\":\"#E5ECF6\",\"width\":0.5},\"pattern\":{\"fillmode\":\"overlay\",\"size\":10,\"solidity\":0.2}},\"type\":\"barpolar\"}],\"bar\":[{\"error_x\":{\"color\":\"#2a3f5f\"},\"error_y\":{\"color\":\"#2a3f5f\"},\"marker\":{\"line\":{\"color\":\"#E5ECF6\",\"width\":0.5},\"pattern\":{\"fillmode\":\"overlay\",\"size\":10,\"solidity\":0.2}},\"type\":\"bar\"}],\"carpet\":[{\"aaxis\":{\"endlinecolor\":\"#2a3f5f\",\"gridcolor\":\"white\",\"linecolor\":\"white\",\"minorgridcolor\":\"white\",\"startlinecolor\":\"#2a3f5f\"},\"baxis\":{\"endlinecolor\":\"#2a3f5f\",\"gridcolor\":\"white\",\"linecolor\":\"white\",\"minorgridcolor\":\"white\",\"startlinecolor\":\"#2a3f5f\"},\"type\":\"carpet\"}],\"choropleth\":[{\"colorbar\":{\"outlinewidth\":0,\"ticks\":\"\"},\"type\":\"choropleth\"}],\"contourcarpet\":[{\"colorbar\":{\"outlinewidth\":0,\"ticks\":\"\"},\"type\":\"contourcarpet\"}],\"contour\":[{\"colorbar\":{\"outlinewidth\":0,\"ticks\":\"\"},\"colorscale\":[[0.0,\"#0d0887\"],[0.1111111111111111,\"#46039f\"],[0.2222222222222222,\"#7201a8\"],[0.3333333333333333,\"#9c179e\"],[0.4444444444444444,\"#bd3786\"],[0.5555555555555556,\"#d8576b\"],[0.6666666666666666,\"#ed7953\"],[0.7777777777777778,\"#fb9f3a\"],[0.8888888888888888,\"#fdca26\"],[1.0,\"#f0f921\"]],\"type\":\"contour\"}],\"heatmap\":[{\"colorbar\":{\"outlinewidth\":0,\"ticks\":\"\"},\"colorscale\":[[0.0,\"#0d0887\"],[0.1111111111111111,\"#46039f\"],[0.2222222222222222,\"#7201a8\"],[0.3333333333333333,\"#9c179e\"],[0.4444444444444444,\"#bd3786\"],[0.5555555555555556,\"#d8576b\"],[0.6666666666666666,\"#ed7953\"],[0.7777777777777778,\"#fb9f3a\"],[0.8888888888888888,\"#fdca26\"],[1.0,\"#f0f921\"]],\"type\":\"heatmap\"}],\"histogram2dcontour\":[{\"colorbar\":{\"outlinewidth\":0,\"ticks\":\"\"},\"colorscale\":[[0.0,\"#0d0887\"],[0.1111111111111111,\"#46039f\"],[0.2222222222222222,\"#7201a8\"],[0.3333333333333333,\"#9c179e\"],[0.4444444444444444,\"#bd3786\"],[0.5555555555555556,\"#d8576b\"],[0.6666666666666666,\"#ed7953\"],[0.7777777777777778,\"#fb9f3a\"],[0.8888888888888888,\"#fdca26\"],[1.0,\"#f0f921\"]],\"type\":\"histogram2dcontour\"}],\"histogram2d\":[{\"colorbar\":{\"outlinewidth\":0,\"ticks\":\"\"},\"colorscale\":[[0.0,\"#0d0887\"],[0.1111111111111111,\"#46039f\"],[0.2222222222222222,\"#7201a8\"],[0.3333333333333333,\"#9c179e\"],[0.4444444444444444,\"#bd3786\"],[0.5555555555555556,\"#d8576b\"],[0.6666666666666666,\"#ed7953\"],[0.7777777777777778,\"#fb9f3a\"],[0.8888888888888888,\"#fdca26\"],[1.0,\"#f0f921\"]],\"type\":\"histogram2d\"}],\"histogram\":[{\"marker\":{\"pattern\":{\"fillmode\":\"overlay\",\"size\":10,\"solidity\":0.2}},\"type\":\"histogram\"}],\"mesh3d\":[{\"colorbar\":{\"outlinewidth\":0,\"ticks\":\"\"},\"type\":\"mesh3d\"}],\"parcoords\":[{\"line\":{\"colorbar\":{\"outlinewidth\":0,\"ticks\":\"\"}},\"type\":\"parcoords\"}],\"pie\":[{\"automargin\":true,\"type\":\"pie\"}],\"scatter3d\":[{\"line\":{\"colorbar\":{\"outlinewidth\":0,\"ticks\":\"\"}},\"marker\":{\"colorbar\":{\"outlinewidth\":0,\"ticks\":\"\"}},\"type\":\"scatter3d\"}],\"scattercarpet\":[{\"marker\":{\"colorbar\":{\"outlinewidth\":0,\"ticks\":\"\"}},\"type\":\"scattercarpet\"}],\"scattergeo\":[{\"marker\":{\"colorbar\":{\"outlinewidth\":0,\"ticks\":\"\"}},\"type\":\"scattergeo\"}],\"scattergl\":[{\"marker\":{\"colorbar\":{\"outlinewidth\":0,\"ticks\":\"\"}},\"type\":\"scattergl\"}],\"scattermapbox\":[{\"marker\":{\"colorbar\":{\"outlinewidth\":0,\"ticks\":\"\"}},\"type\":\"scattermapbox\"}],\"scattermap\":[{\"marker\":{\"colorbar\":{\"outlinewidth\":0,\"ticks\":\"\"}},\"type\":\"scattermap\"}],\"scatterpolargl\":[{\"marker\":{\"colorbar\":{\"outlinewidth\":0,\"ticks\":\"\"}},\"type\":\"scatterpolargl\"}],\"scatterpolar\":[{\"marker\":{\"colorbar\":{\"outlinewidth\":0,\"ticks\":\"\"}},\"type\":\"scatterpolar\"}],\"scatter\":[{\"fillpattern\":{\"fillmode\":\"overlay\",\"size\":10,\"solidity\":0.2},\"type\":\"scatter\"}],\"scatterternary\":[{\"marker\":{\"colorbar\":{\"outlinewidth\":0,\"ticks\":\"\"}},\"type\":\"scatterternary\"}],\"surface\":[{\"colorbar\":{\"outlinewidth\":0,\"ticks\":\"\"},\"colorscale\":[[0.0,\"#0d0887\"],[0.1111111111111111,\"#46039f\"],[0.2222222222222222,\"#7201a8\"],[0.3333333333333333,\"#9c179e\"],[0.4444444444444444,\"#bd3786\"],[0.5555555555555556,\"#d8576b\"],[0.6666666666666666,\"#ed7953\"],[0.7777777777777778,\"#fb9f3a\"],[0.8888888888888888,\"#fdca26\"],[1.0,\"#f0f921\"]],\"type\":\"surface\"}],\"table\":[{\"cells\":{\"fill\":{\"color\":\"#EBF0F8\"},\"line\":{\"color\":\"white\"}},\"header\":{\"fill\":{\"color\":\"#C8D4E3\"},\"line\":{\"color\":\"white\"}},\"type\":\"table\"}]},\"layout\":{\"annotationdefaults\":{\"arrowcolor\":\"#2a3f5f\",\"arrowhead\":0,\"arrowwidth\":1},\"autotypenumbers\":\"strict\",\"coloraxis\":{\"colorbar\":{\"outlinewidth\":0,\"ticks\":\"\"}},\"colorscale\":{\"diverging\":[[0,\"#8e0152\"],[0.1,\"#c51b7d\"],[0.2,\"#de77ae\"],[0.3,\"#f1b6da\"],[0.4,\"#fde0ef\"],[0.5,\"#f7f7f7\"],[0.6,\"#e6f5d0\"],[0.7,\"#b8e186\"],[0.8,\"#7fbc41\"],[0.9,\"#4d9221\"],[1,\"#276419\"]],\"sequential\":[[0.0,\"#0d0887\"],[0.1111111111111111,\"#46039f\"],[0.2222222222222222,\"#7201a8\"],[0.3333333333333333,\"#9c179e\"],[0.4444444444444444,\"#bd3786\"],[0.5555555555555556,\"#d8576b\"],[0.6666666666666666,\"#ed7953\"],[0.7777777777777778,\"#fb9f3a\"],[0.8888888888888888,\"#fdca26\"],[1.0,\"#f0f921\"]],\"sequentialminus\":[[0.0,\"#0d0887\"],[0.1111111111111111,\"#46039f\"],[0.2222222222222222,\"#7201a8\"],[0.3333333333333333,\"#9c179e\"],[0.4444444444444444,\"#bd3786\"],[0.5555555555555556,\"#d8576b\"],[0.6666666666666666,\"#ed7953\"],[0.7777777777777778,\"#fb9f3a\"],[0.8888888888888888,\"#fdca26\"],[1.0,\"#f0f921\"]]},\"colorway\":[\"#636efa\",\"#EF553B\",\"#00cc96\",\"#ab63fa\",\"#FFA15A\",\"#19d3f3\",\"#FF6692\",\"#B6E880\",\"#FF97FF\",\"#FECB52\"],\"font\":{\"color\":\"#2a3f5f\"},\"geo\":{\"bgcolor\":\"white\",\"lakecolor\":\"white\",\"landcolor\":\"#E5ECF6\",\"showlakes\":true,\"showland\":true,\"subunitcolor\":\"white\"},\"hoverlabel\":{\"align\":\"left\"},\"hovermode\":\"closest\",\"mapbox\":{\"style\":\"light\"},\"paper_bgcolor\":\"white\",\"plot_bgcolor\":\"#E5ECF6\",\"polar\":{\"angularaxis\":{\"gridcolor\":\"white\",\"linecolor\":\"white\",\"ticks\":\"\"},\"bgcolor\":\"#E5ECF6\",\"radialaxis\":{\"gridcolor\":\"white\",\"linecolor\":\"white\",\"ticks\":\"\"}},\"scene\":{\"xaxis\":{\"backgroundcolor\":\"#E5ECF6\",\"gridcolor\":\"white\",\"gridwidth\":2,\"linecolor\":\"white\",\"showbackground\":true,\"ticks\":\"\",\"zerolinecolor\":\"white\"},\"yaxis\":{\"backgroundcolor\":\"#E5ECF6\",\"gridcolor\":\"white\",\"gridwidth\":2,\"linecolor\":\"white\",\"showbackground\":true,\"ticks\":\"\",\"zerolinecolor\":\"white\"},\"zaxis\":{\"backgroundcolor\":\"#E5ECF6\",\"gridcolor\":\"white\",\"gridwidth\":2,\"linecolor\":\"white\",\"showbackground\":true,\"ticks\":\"\",\"zerolinecolor\":\"white\"}},\"shapedefaults\":{\"line\":{\"color\":\"#2a3f5f\"}},\"ternary\":{\"aaxis\":{\"gridcolor\":\"white\",\"linecolor\":\"white\",\"ticks\":\"\"},\"baxis\":{\"gridcolor\":\"white\",\"linecolor\":\"white\",\"ticks\":\"\"},\"bgcolor\":\"#E5ECF6\",\"caxis\":{\"gridcolor\":\"white\",\"linecolor\":\"white\",\"ticks\":\"\"}},\"title\":{\"x\":0.05},\"xaxis\":{\"automargin\":true,\"gridcolor\":\"white\",\"linecolor\":\"white\",\"ticks\":\"\",\"title\":{\"standoff\":15},\"zerolinecolor\":\"white\",\"zerolinewidth\":2},\"yaxis\":{\"automargin\":true,\"gridcolor\":\"white\",\"linecolor\":\"white\",\"ticks\":\"\",\"title\":{\"standoff\":15},\"zerolinecolor\":\"white\",\"zerolinewidth\":2}}},\"title\":{\"text\":\"Trading Range vs Closing Price\"},\"xaxis\":{\"anchor\":\"y\",\"domain\":[0.0,1.0],\"title\":{\"text\":\"Range\"}},\"yaxis\":{\"anchor\":\"x\",\"domain\":[0.0,1.0],\"title\":{\"text\":\"Close\"}}},                        {\"responsive\": true}                    ).then(function(){\n",
       "                            \n",
       "var gd = document.getElementById('d9a724ac-a15e-42ca-9057-76da91e4a4a5');\n",
       "var x = new MutationObserver(function (mutations, observer) {{\n",
       "        var display = window.getComputedStyle(gd).display;\n",
       "        if (!display || display === 'none') {{\n",
       "            console.log([gd, 'removed!']);\n",
       "            Plotly.purge(gd);\n",
       "            observer.disconnect();\n",
       "        }}\n",
       "}});\n",
       "\n",
       "// Listen for the removal of the full notebook cells\n",
       "var notebookContainer = gd.closest('#notebook-container');\n",
       "if (notebookContainer) {{\n",
       "    x.observe(notebookContainer, {childList: true});\n",
       "}}\n",
       "\n",
       "// Listen for the clearing of the current output cell\n",
       "var outputEl = gd.closest('.output');\n",
       "if (outputEl) {{\n",
       "    x.observe(outputEl, {childList: true});\n",
       "}}\n",
       "\n",
       "                        })                };            </script>        </div>"
      ]
     },
     "metadata": {},
     "output_type": "display_data"
    }
   ],
   "source": [
    "# Chart - 6 visualization code\n",
    "fig = px.scatter(x=df['Range'], y=df['Close'], color=df['Close'],\n",
    "                 size=df['Range'], title='Trading Range vs Closing Price',\n",
    "                 labels={'x': 'Range', 'y': 'Close'})\n",
    "fig.update_traces(marker=dict(opacity=0.5))\n",
    "iplot(fig)"
   ]
  },
  {
   "cell_type": "markdown",
   "metadata": {
    "id": "bbFf2-_FphqN"
   },
   "source": [
    "##### 1. Why did you pick the specific chart?"
   ]
  },
  {
   "cell_type": "markdown",
   "metadata": {
    "id": "loh7H2nzphqN"
   },
   "source": [
    "Answer Here."
   ]
  },
  {
   "cell_type": "markdown",
   "metadata": {
    "id": "_ouA3fa0phqN"
   },
   "source": [
    "##### 2. What is/are the insight(s) found from the chart?"
   ]
  },
  {
   "cell_type": "markdown",
   "metadata": {
    "id": "VECbqPI7phqN"
   },
   "source": [
    "Answer Here"
   ]
  },
  {
   "cell_type": "markdown",
   "metadata": {
    "id": "Seke61FWphqN"
   },
   "source": [
    "##### 3. Will the gained insights help creating a positive business impact? \n",
    "Are there any insights that lead to negative growth? Justify with specific reason."
   ]
  },
  {
   "cell_type": "markdown",
   "metadata": {
    "id": "DW4_bGpfphqN"
   },
   "source": [
    "Answer Here"
   ]
  },
  {
   "cell_type": "markdown",
   "metadata": {
    "id": "PIIx-8_IphqN"
   },
   "source": [
    "#### Chart - 7"
   ]
  },
  {
   "cell_type": "code",
   "execution_count": 38,
   "metadata": {
    "id": "lqAIGUfyphqO"
   },
   "outputs": [
    {
     "data": {
      "application/vnd.plotly.v1+json": {
       "config": {
        "linkText": "Export to plot.ly",
        "plotlyServerURL": "https://plot.ly",
        "showLink": false
       },
       "data": [
        {
         "hovertemplate": "variable=Close<br>Date_new=%{x}<br>value=%{y}<extra></extra>",
         "legendgroup": "Close",
         "line": {
          "color": "#636efa",
          "dash": "solid"
         },
         "marker": {
          "symbol": "circle"
         },
         "mode": "lines+markers",
         "name": "Close",
         "orientation": "v",
         "showlegend": true,
         "type": "scatter",
         "x": [
          "2023-01-06T00:00:00.000000000",
          "2023-01-07T00:00:00.000000000",
          "2023-01-08T00:00:00.000000000",
          "2023-01-09T00:00:00.000000000",
          "2023-01-10T00:00:00.000000000",
          "2023-01-11T00:00:00.000000000",
          "2023-01-12T00:00:00.000000000",
          "2023-01-13T00:00:00.000000000",
          "2023-01-14T00:00:00.000000000",
          "2023-01-15T00:00:00.000000000",
          "2023-01-16T00:00:00.000000000",
          "2023-01-17T00:00:00.000000000",
          "2023-01-18T00:00:00.000000000",
          "2023-01-19T00:00:00.000000000",
          "2023-01-20T00:00:00.000000000",
          "2023-02-06T00:00:00.000000000",
          "2023-02-07T00:00:00.000000000",
          "2023-02-08T00:00:00.000000000",
          "2023-02-09T00:00:00.000000000",
          "2023-02-10T00:00:00.000000000",
          "2023-02-11T00:00:00.000000000",
          "2023-02-12T00:00:00.000000000",
          "2023-02-13T00:00:00.000000000",
          "2023-02-14T00:00:00.000000000",
          "2023-02-15T00:00:00.000000000",
          "2023-02-16T00:00:00.000000000",
          "2023-02-17T00:00:00.000000000",
          "2023-02-18T00:00:00.000000000",
          "2023-02-19T00:00:00.000000000",
          "2023-02-20T00:00:00.000000000",
          "2023-03-06T00:00:00.000000000",
          "2023-03-07T00:00:00.000000000",
          "2023-03-08T00:00:00.000000000",
          "2023-03-09T00:00:00.000000000",
          "2023-03-10T00:00:00.000000000",
          "2023-03-11T00:00:00.000000000",
          "2023-03-12T00:00:00.000000000",
          "2023-03-13T00:00:00.000000000",
          "2023-03-14T00:00:00.000000000",
          "2023-03-15T00:00:00.000000000",
          "2023-03-16T00:00:00.000000000",
          "2023-03-17T00:00:00.000000000",
          "2023-03-18T00:00:00.000000000",
          "2023-03-19T00:00:00.000000000",
          "2023-03-20T00:00:00.000000000",
          "2023-04-06T00:00:00.000000000",
          "2023-04-07T00:00:00.000000000",
          "2023-04-08T00:00:00.000000000",
          "2023-04-09T00:00:00.000000000",
          "2023-04-10T00:00:00.000000000",
          "2023-04-11T00:00:00.000000000",
          "2023-04-12T00:00:00.000000000",
          "2023-04-13T00:00:00.000000000",
          "2023-04-14T00:00:00.000000000",
          "2023-04-15T00:00:00.000000000",
          "2023-04-16T00:00:00.000000000",
          "2023-04-17T00:00:00.000000000",
          "2023-04-18T00:00:00.000000000",
          "2023-04-19T00:00:00.000000000",
          "2023-04-20T00:00:00.000000000",
          "2023-05-06T00:00:00.000000000",
          "2023-05-07T00:00:00.000000000",
          "2023-05-08T00:00:00.000000000",
          "2023-05-09T00:00:00.000000000",
          "2023-05-10T00:00:00.000000000",
          "2023-05-11T00:00:00.000000000",
          "2023-05-12T00:00:00.000000000",
          "2023-05-13T00:00:00.000000000",
          "2023-05-14T00:00:00.000000000",
          "2023-05-15T00:00:00.000000000",
          "2023-05-16T00:00:00.000000000",
          "2023-05-17T00:00:00.000000000",
          "2023-05-18T00:00:00.000000000",
          "2023-05-19T00:00:00.000000000",
          "2023-05-20T00:00:00.000000000",
          "2023-06-06T00:00:00.000000000",
          "2023-06-07T00:00:00.000000000",
          "2023-06-08T00:00:00.000000000",
          "2023-06-09T00:00:00.000000000",
          "2023-06-10T00:00:00.000000000",
          "2023-06-11T00:00:00.000000000",
          "2023-06-12T00:00:00.000000000",
          "2023-06-13T00:00:00.000000000",
          "2023-06-14T00:00:00.000000000",
          "2023-06-15T00:00:00.000000000",
          "2023-06-16T00:00:00.000000000",
          "2023-06-17T00:00:00.000000000",
          "2023-06-18T00:00:00.000000000",
          "2023-06-19T00:00:00.000000000",
          "2023-06-20T00:00:00.000000000",
          "2023-07-05T00:00:00.000000000",
          "2023-07-06T00:00:00.000000000",
          "2023-07-07T00:00:00.000000000",
          "2023-07-08T00:00:00.000000000",
          "2023-07-09T00:00:00.000000000",
          "2023-07-10T00:00:00.000000000",
          "2023-07-11T00:00:00.000000000",
          "2023-07-12T00:00:00.000000000",
          "2023-07-13T00:00:00.000000000",
          "2023-07-14T00:00:00.000000000",
          "2023-07-15T00:00:00.000000000",
          "2023-07-16T00:00:00.000000000",
          "2023-07-17T00:00:00.000000000",
          "2023-07-18T00:00:00.000000000",
          "2023-07-19T00:00:00.000000000",
          "2023-07-20T00:00:00.000000000",
          "2023-08-05T00:00:00.000000000",
          "2023-08-06T00:00:00.000000000",
          "2023-08-07T00:00:00.000000000",
          "2023-08-08T00:00:00.000000000",
          "2023-08-09T00:00:00.000000000",
          "2023-08-10T00:00:00.000000000",
          "2023-08-11T00:00:00.000000000",
          "2023-08-12T00:00:00.000000000",
          "2023-08-13T00:00:00.000000000",
          "2023-08-14T00:00:00.000000000",
          "2023-08-15T00:00:00.000000000",
          "2023-08-16T00:00:00.000000000",
          "2023-08-17T00:00:00.000000000",
          "2023-08-18T00:00:00.000000000",
          "2023-08-19T00:00:00.000000000",
          "2023-08-20T00:00:00.000000000",
          "2023-09-05T00:00:00.000000000",
          "2023-09-06T00:00:00.000000000",
          "2023-09-07T00:00:00.000000000",
          "2023-09-08T00:00:00.000000000",
          "2023-09-09T00:00:00.000000000",
          "2023-09-10T00:00:00.000000000",
          "2023-09-11T00:00:00.000000000",
          "2023-09-12T00:00:00.000000000",
          "2023-09-13T00:00:00.000000000",
          "2023-09-14T00:00:00.000000000",
          "2023-09-15T00:00:00.000000000",
          "2023-09-16T00:00:00.000000000",
          "2023-09-17T00:00:00.000000000",
          "2023-09-18T00:00:00.000000000",
          "2023-09-19T00:00:00.000000000",
          "2023-09-20T00:00:00.000000000",
          "2023-10-05T00:00:00.000000000",
          "2023-10-06T00:00:00.000000000",
          "2023-10-07T00:00:00.000000000",
          "2023-10-08T00:00:00.000000000",
          "2023-10-09T00:00:00.000000000",
          "2023-10-10T00:00:00.000000000",
          "2023-10-11T00:00:00.000000000",
          "2023-10-12T00:00:00.000000000",
          "2023-10-13T00:00:00.000000000",
          "2023-10-14T00:00:00.000000000",
          "2023-10-15T00:00:00.000000000",
          "2023-10-16T00:00:00.000000000",
          "2023-10-17T00:00:00.000000000",
          "2023-10-18T00:00:00.000000000",
          "2023-10-19T00:00:00.000000000",
          "2023-10-20T00:00:00.000000000",
          "2023-11-05T00:00:00.000000000",
          "2023-11-06T00:00:00.000000000",
          "2023-11-07T00:00:00.000000000",
          "2023-11-08T00:00:00.000000000",
          "2023-11-09T00:00:00.000000000",
          "2023-11-10T00:00:00.000000000",
          "2023-11-11T00:00:00.000000000",
          "2023-11-12T00:00:00.000000000",
          "2023-11-13T00:00:00.000000000",
          "2023-11-14T00:00:00.000000000",
          "2023-11-15T00:00:00.000000000",
          "2023-11-16T00:00:00.000000000",
          "2023-11-17T00:00:00.000000000",
          "2023-11-18T00:00:00.000000000",
          "2023-11-19T00:00:00.000000000",
          "2023-11-20T00:00:00.000000000",
          "2023-12-05T00:00:00.000000000",
          "2023-12-06T00:00:00.000000000",
          "2023-12-07T00:00:00.000000000",
          "2023-12-08T00:00:00.000000000",
          "2023-12-09T00:00:00.000000000",
          "2023-12-10T00:00:00.000000000",
          "2023-12-11T00:00:00.000000000",
          "2023-12-12T00:00:00.000000000",
          "2023-12-13T00:00:00.000000000",
          "2023-12-14T00:00:00.000000000",
          "2023-12-15T00:00:00.000000000",
          "2023-12-16T00:00:00.000000000",
          "2023-12-17T00:00:00.000000000",
          "2023-12-18T00:00:00.000000000",
          "2023-12-19T00:00:00.000000000"
         ],
         "xaxis": "x",
         "y": {
          "bdata": "KVyPwvWoLkApXI/C9Sg+QIXrUbgeRUlAexSuR+F6KEDsUbgehetIQOxRuB6FS0pAj8L1KFx/UEAK16NwPRpaQOxRuB6Fy05AAAAAAACQZUBcj8L1KKxiQJqZmZmZcXFAMzMzMzMndkCamZmZmUloQJqZmZmZmUNAH4XrUbgeMEDhehSuR6E8QPYoXI/CtUhAhetRuB6FJEApXI/C9ahHQIXrUbgepUlAKVyPwvVIUUAAAAAAAKBXQJqZmZmZeU5AmpmZmZmRZUA9CtejcDVhQClcj8L1KHJAAAAAAAAkdEBmZmZmZuZsQGZmZmZmRkFAFK5H4XoUNECkcD0K1yM8QAAAAAAA4EBA9ihcj8L1I0Bcj8L1KHxJQD0K16Nw/U5APQrXo3BdUkA9CtejcG1VQM3MzMzMrFRAUrgehetpZECF61G4Hp1lQIXrUbgeXXNAZmZmZmYOc0DNzMzMzDBxQDMzMzMzczZAPQrXo3B9M0CPwvUoXE8+QEjhehSuB0FAZmZmZmbmLkDNzMzMzIxMQMP1KFyPgk5AFK5H4XqEUUBSuB6F6xFZQClcj8L1CFZAH4XrUbj+ZECPwvUoXJdnQArXo3A9YnRAzczMzMygdkAAAAAAAABlQDMzMzMz8ztASOF6FK4HMkDhehSuR8FAQOF6FK5HIT9AH4XrUbgeOUApXI/C9chMQClcj8L1CE5A4XoUrkeBUECPwvUoXF9YQClcj8L1eFxAcT0K16MQZkAUrkfhesxpQK5H4XoU5nFAMzMzMzOjdUBmZmZmZn5iQJqZmZmZ2TpAPQrXo3A9L0A9CtejcP1BQJqZmZmZ2TZArkfhehSuPUAK16NwPepKQHE9CtejME9AhetRuB71UEDNzMzMzAxXQLgehetRGFtAMzMzMzMTZUCamZmZmalrQFK4HoXrRXJAmpmZmZk5dUDNzMzMzCxbQJqZmZmZmTlA7FG4HoXrKEApXI/C9SgwQNejcD0K90JAMzMzMzNzOUCuR+F6FO4/QB+F61G4fk1AcT0K16MQT0BmZmZmZjZSQHE9CtejMFBAPQrXo3ANW0BI4XoUrrdkQK5H4XoUbm5Aj8L1KFyfdkBmZmZmZv52QDMzMzMz01ZAZmZmZmbmJ0DXo3A9CtcqQNejcD0K1zFAH4XrUbh+QkAUrkfhetQ6QJqZmZmZuUBAXI/C9SgcT0CuR+F6FM5LQK5H4XoUflBAMzMzMzNTSECF61G4HpVcQM3MzMzMPGFAKVyPwvUIcUBmZmZmZvJ1QGZmZmZmdnVAAAAAAADATUA9CtejcL0sQJqZmZmZmSpA9ihcj8J1MkCuR+F6FK5EQOF6FK5HIThAH4XrUbh+REAzMzMzM5NRQAAAAAAAQEtAXI/C9SgcU0AAAAAAAMBMQM3MzMzM7FtAPQrXo3A9YkAzMzMzM1tvQAAAAAAA4HVAZmZmZmbuZkCamZmZmblEQM3MzMzMTCpAexSuR+H6KUBI4XoUrsc2QD0K16NwvUVAKVyPwvUoK0BI4XoUrqdHQNejcD0K91FAMzMzMzNzT0DD9Shcj5JUQHE9CtejcFJAw/UoXI8aYUAK16NwPfpiQHE9CtejsG9AmpmZmZmlc0CamZmZmYFnQM3MzMzMnFFA16NwPQrXKEBSuB6F69EqQFK4HoXrUTlA16NwPQoXR0CF61G4HoUoQClcj8L1SElAexSuR+GaTkAfhetRuD5LQB+F61G4HlZAj8L1KFxvUkDD9Shcj8JhQJqZmZmZKWNAKVyPwvVIbUDNzMzMzCxzQM3MzMzMNGVAMzMzMzMTUUDXo3A9ClctQOxRuB6FaytAuB6F61H4OkBI4XoUrudIQI/C9ShcDy5AFK5H4Xq0SkCF61G4HkVPQFyPwvUo3EdA9ihcj8I1V0DhehSuR4FSQArXo3A9UmNAj8L1KFwnYkC4HoXrUehsQM3MzMzMsHNAAAAAAAC4ZkCamZmZmXlHQA==",
          "dtype": "f8"
         },
         "yaxis": "y"
        },
        {
         "hovertemplate": "variable=MA_3<br>Date_new=%{x}<br>value=%{y}<extra></extra>",
         "legendgroup": "MA_3",
         "line": {
          "color": "#EF553B",
          "dash": "solid"
         },
         "marker": {
          "symbol": "circle"
         },
         "mode": "lines+markers",
         "name": "MA_3",
         "orientation": "v",
         "showlegend": true,
         "type": "scatter",
         "x": [
          "2023-01-06T00:00:00.000000000",
          "2023-01-07T00:00:00.000000000",
          "2023-01-08T00:00:00.000000000",
          "2023-01-09T00:00:00.000000000",
          "2023-01-10T00:00:00.000000000",
          "2023-01-11T00:00:00.000000000",
          "2023-01-12T00:00:00.000000000",
          "2023-01-13T00:00:00.000000000",
          "2023-01-14T00:00:00.000000000",
          "2023-01-15T00:00:00.000000000",
          "2023-01-16T00:00:00.000000000",
          "2023-01-17T00:00:00.000000000",
          "2023-01-18T00:00:00.000000000",
          "2023-01-19T00:00:00.000000000",
          "2023-01-20T00:00:00.000000000",
          "2023-02-06T00:00:00.000000000",
          "2023-02-07T00:00:00.000000000",
          "2023-02-08T00:00:00.000000000",
          "2023-02-09T00:00:00.000000000",
          "2023-02-10T00:00:00.000000000",
          "2023-02-11T00:00:00.000000000",
          "2023-02-12T00:00:00.000000000",
          "2023-02-13T00:00:00.000000000",
          "2023-02-14T00:00:00.000000000",
          "2023-02-15T00:00:00.000000000",
          "2023-02-16T00:00:00.000000000",
          "2023-02-17T00:00:00.000000000",
          "2023-02-18T00:00:00.000000000",
          "2023-02-19T00:00:00.000000000",
          "2023-02-20T00:00:00.000000000",
          "2023-03-06T00:00:00.000000000",
          "2023-03-07T00:00:00.000000000",
          "2023-03-08T00:00:00.000000000",
          "2023-03-09T00:00:00.000000000",
          "2023-03-10T00:00:00.000000000",
          "2023-03-11T00:00:00.000000000",
          "2023-03-12T00:00:00.000000000",
          "2023-03-13T00:00:00.000000000",
          "2023-03-14T00:00:00.000000000",
          "2023-03-15T00:00:00.000000000",
          "2023-03-16T00:00:00.000000000",
          "2023-03-17T00:00:00.000000000",
          "2023-03-18T00:00:00.000000000",
          "2023-03-19T00:00:00.000000000",
          "2023-03-20T00:00:00.000000000",
          "2023-04-06T00:00:00.000000000",
          "2023-04-07T00:00:00.000000000",
          "2023-04-08T00:00:00.000000000",
          "2023-04-09T00:00:00.000000000",
          "2023-04-10T00:00:00.000000000",
          "2023-04-11T00:00:00.000000000",
          "2023-04-12T00:00:00.000000000",
          "2023-04-13T00:00:00.000000000",
          "2023-04-14T00:00:00.000000000",
          "2023-04-15T00:00:00.000000000",
          "2023-04-16T00:00:00.000000000",
          "2023-04-17T00:00:00.000000000",
          "2023-04-18T00:00:00.000000000",
          "2023-04-19T00:00:00.000000000",
          "2023-04-20T00:00:00.000000000",
          "2023-05-06T00:00:00.000000000",
          "2023-05-07T00:00:00.000000000",
          "2023-05-08T00:00:00.000000000",
          "2023-05-09T00:00:00.000000000",
          "2023-05-10T00:00:00.000000000",
          "2023-05-11T00:00:00.000000000",
          "2023-05-12T00:00:00.000000000",
          "2023-05-13T00:00:00.000000000",
          "2023-05-14T00:00:00.000000000",
          "2023-05-15T00:00:00.000000000",
          "2023-05-16T00:00:00.000000000",
          "2023-05-17T00:00:00.000000000",
          "2023-05-18T00:00:00.000000000",
          "2023-05-19T00:00:00.000000000",
          "2023-05-20T00:00:00.000000000",
          "2023-06-06T00:00:00.000000000",
          "2023-06-07T00:00:00.000000000",
          "2023-06-08T00:00:00.000000000",
          "2023-06-09T00:00:00.000000000",
          "2023-06-10T00:00:00.000000000",
          "2023-06-11T00:00:00.000000000",
          "2023-06-12T00:00:00.000000000",
          "2023-06-13T00:00:00.000000000",
          "2023-06-14T00:00:00.000000000",
          "2023-06-15T00:00:00.000000000",
          "2023-06-16T00:00:00.000000000",
          "2023-06-17T00:00:00.000000000",
          "2023-06-18T00:00:00.000000000",
          "2023-06-19T00:00:00.000000000",
          "2023-06-20T00:00:00.000000000",
          "2023-07-05T00:00:00.000000000",
          "2023-07-06T00:00:00.000000000",
          "2023-07-07T00:00:00.000000000",
          "2023-07-08T00:00:00.000000000",
          "2023-07-09T00:00:00.000000000",
          "2023-07-10T00:00:00.000000000",
          "2023-07-11T00:00:00.000000000",
          "2023-07-12T00:00:00.000000000",
          "2023-07-13T00:00:00.000000000",
          "2023-07-14T00:00:00.000000000",
          "2023-07-15T00:00:00.000000000",
          "2023-07-16T00:00:00.000000000",
          "2023-07-17T00:00:00.000000000",
          "2023-07-18T00:00:00.000000000",
          "2023-07-19T00:00:00.000000000",
          "2023-07-20T00:00:00.000000000",
          "2023-08-05T00:00:00.000000000",
          "2023-08-06T00:00:00.000000000",
          "2023-08-07T00:00:00.000000000",
          "2023-08-08T00:00:00.000000000",
          "2023-08-09T00:00:00.000000000",
          "2023-08-10T00:00:00.000000000",
          "2023-08-11T00:00:00.000000000",
          "2023-08-12T00:00:00.000000000",
          "2023-08-13T00:00:00.000000000",
          "2023-08-14T00:00:00.000000000",
          "2023-08-15T00:00:00.000000000",
          "2023-08-16T00:00:00.000000000",
          "2023-08-17T00:00:00.000000000",
          "2023-08-18T00:00:00.000000000",
          "2023-08-19T00:00:00.000000000",
          "2023-08-20T00:00:00.000000000",
          "2023-09-05T00:00:00.000000000",
          "2023-09-06T00:00:00.000000000",
          "2023-09-07T00:00:00.000000000",
          "2023-09-08T00:00:00.000000000",
          "2023-09-09T00:00:00.000000000",
          "2023-09-10T00:00:00.000000000",
          "2023-09-11T00:00:00.000000000",
          "2023-09-12T00:00:00.000000000",
          "2023-09-13T00:00:00.000000000",
          "2023-09-14T00:00:00.000000000",
          "2023-09-15T00:00:00.000000000",
          "2023-09-16T00:00:00.000000000",
          "2023-09-17T00:00:00.000000000",
          "2023-09-18T00:00:00.000000000",
          "2023-09-19T00:00:00.000000000",
          "2023-09-20T00:00:00.000000000",
          "2023-10-05T00:00:00.000000000",
          "2023-10-06T00:00:00.000000000",
          "2023-10-07T00:00:00.000000000",
          "2023-10-08T00:00:00.000000000",
          "2023-10-09T00:00:00.000000000",
          "2023-10-10T00:00:00.000000000",
          "2023-10-11T00:00:00.000000000",
          "2023-10-12T00:00:00.000000000",
          "2023-10-13T00:00:00.000000000",
          "2023-10-14T00:00:00.000000000",
          "2023-10-15T00:00:00.000000000",
          "2023-10-16T00:00:00.000000000",
          "2023-10-17T00:00:00.000000000",
          "2023-10-18T00:00:00.000000000",
          "2023-10-19T00:00:00.000000000",
          "2023-10-20T00:00:00.000000000",
          "2023-11-05T00:00:00.000000000",
          "2023-11-06T00:00:00.000000000",
          "2023-11-07T00:00:00.000000000",
          "2023-11-08T00:00:00.000000000",
          "2023-11-09T00:00:00.000000000",
          "2023-11-10T00:00:00.000000000",
          "2023-11-11T00:00:00.000000000",
          "2023-11-12T00:00:00.000000000",
          "2023-11-13T00:00:00.000000000",
          "2023-11-14T00:00:00.000000000",
          "2023-11-15T00:00:00.000000000",
          "2023-11-16T00:00:00.000000000",
          "2023-11-17T00:00:00.000000000",
          "2023-11-18T00:00:00.000000000",
          "2023-11-19T00:00:00.000000000",
          "2023-11-20T00:00:00.000000000",
          "2023-12-05T00:00:00.000000000",
          "2023-12-06T00:00:00.000000000",
          "2023-12-07T00:00:00.000000000",
          "2023-12-08T00:00:00.000000000",
          "2023-12-09T00:00:00.000000000",
          "2023-12-10T00:00:00.000000000",
          "2023-12-11T00:00:00.000000000",
          "2023-12-12T00:00:00.000000000",
          "2023-12-13T00:00:00.000000000",
          "2023-12-14T00:00:00.000000000",
          "2023-12-15T00:00:00.000000000",
          "2023-12-16T00:00:00.000000000",
          "2023-12-17T00:00:00.000000000",
          "2023-12-18T00:00:00.000000000",
          "2023-12-19T00:00:00.000000000"
         ],
         "xaxis": "x",
         "y": {
          "bdata": "AAAAAAAA+H8AAAAAAAD4f+F6FK5HAUBAexSuR+H6PkCF61G4HsVCQP1iyS+WHENAU7gehesRTECF61G4HpVSQIXrUbgeVVNAVVVVVVU1XEDlF0t+sfRfQNtApw10CmlA1AY6baBPcEAzMzMzMz9xQHh3d3d3f2hAbaDTBjrNVEC8u7u7u/s7QKRwPQrXYz9AMJb8YslvPUBVVVVVVdVBQIXrUbgeJUJAVVVVVVX1S0D5xZJfLOlRQKcNdNpAt1JAVVVVVVVVW0B9seQXS+5eQLgehetRCGlAhetRuB5Fb0DJL5b8YpVxQAAAAAAAgGhAgU4b6LTRV0DXo3A9Cpc7QJNfLPnFUjtAtYFOG+j0N0AREREREZE/QJ020GkDfURAsOQXS34RT0Dd3d3d3W1SQBhLfrHkJ1RA5RdLfrGkW0AVrkfhenRhQEt+seQX62pA5BdLfrFocEA9CtejcIlyQJuZmZmZGWlA20CnDXRqWkBVVVVVVRU4QHTaQKcN9DtAHOi0gU6bOkDlF0t+scRBQGPJL5b8QkZAPQrXo3BdT0AYS36x5EdTQNtApw10ilVAk18s+cWyXUBBpw102ohiQOtRuB6Fc2xAtYFOG+hEckDziyW/WNZxQAEAAAAAQGdAtoFOG+jUUUDEWPKLJX86QFMb6LSBjjtA8FG4HoXrPUC7HoXrUfhCQE1+seQXy0dAX4/C9SicTkCDThvotKFSQODd3d3dHVdAm5mZmZkpYEA0MzMzM7NkQEx+seQX42tATxvotIF6cUAHOm2g00JwQFdVVVVVtWVAAWPJL5a8T0BwZmZmZiY6QBsRERER0ThAS6cNdNqAPUA/baDTBrpBQHU9CtejUEhAM/nFkl+sTkBc8oslv4hSQLBH4XoUXlZAp3A9CtfDXkBlyS+W/MJkQCi/WPKLbWxAlF8s+cXGcUAXrkfhetxuQPHu7u7uvmNA+yhcj8J1SECdXyz5xRIyQPvu7u7uLjZAD5020GmDOkCQ61G4HsU/QIvrUbgeZUNAKCIiIiKCSUA9baDTBipQQIjrUbgepVBAX4/C9Sh8VEBtA5020DlcQAg6baDTjmVAWfKLJb8QcEDv7u7u7kZ0QOxRuB6FG3FAm5mZmZmhY0BXuB6F63FDQGQb6LSBzixACwAAAADANkDDHoXrUTg7QJz8YskvNkBAsKqqqqpqREA80GkDnTZJQCgiIiIiok5AxFjyiyVfTEBHRERERBRTQJVfLPnFEllA+Chcj8LdZUClcD0K17tvQFO4HoXrJXRANTMzMzNrb0B9FK5H4WJhQF8b6LSBDj1AYacNdNrALkBwLPnFkl84QMy7u7u7+ztAx1jyiyW/QUBbuB6F65FGQIlOG+i0oUtAietRuB7FUEDwtIFOG2hPQLwehetReFRAxfUoXI9CWkBJ4XoUri9lQCi/WPKLHW9A8O7u7u5WcEBHRERERPRnQGpmZmZm1lNAWOF6FK6HNkBfG+i0gU4wQLuqqqqqajpArDbQaQOdOkCN61G4HmVBQAgAAAAAIEZAwB6F61FYTkBrZmZmZhZSQPPu7u7uPlJA7bSBThtoWEAInTbQaTNeQMFY8osll2ZA5xdLfrH8bUDAWPKLJX9vQGhmZmZm3mdA1wY6baCTVkCRJb9Y8gtAQNfMzMzMDDFAGHTaQKdNPED3Ubgehes7QFB+seQXK0JAMfnFkl+sRECb/GLJL7ZLQKdwPQrXA1FAwVjyiyUPUkC/u7u7u1tZQMX1KFyPwl5Ag04b6LQRZkAghetRuO5sQIjrUbgenW1ArKqqqqqyZkBxoNMGOg1VQKU20GkDHUBAQzMzMzNzMkB7A5020Ck+QOtApw10mj5AXVVVVVW1Q0AdrkfhetRFQLANdNpAR0tA0czMzMzsUECFThvotOFRQP3Fkl8syVpACzptoNMmX0BzPQrXoyBmQKPTBjpt0GxAyJJfLPlVbkABAAAAAKhmQA==",
          "dtype": "f8"
         },
         "yaxis": "y"
        },
        {
         "hovertemplate": "variable=MA_5<br>Date_new=%{x}<br>value=%{y}<extra></extra>",
         "legendgroup": "MA_5",
         "line": {
          "color": "#00cc96",
          "dash": "solid"
         },
         "marker": {
          "symbol": "circle"
         },
         "mode": "lines+markers",
         "name": "MA_5",
         "orientation": "v",
         "showlegend": true,
         "type": "scatter",
         "x": [
          "2023-01-06T00:00:00.000000000",
          "2023-01-07T00:00:00.000000000",
          "2023-01-08T00:00:00.000000000",
          "2023-01-09T00:00:00.000000000",
          "2023-01-10T00:00:00.000000000",
          "2023-01-11T00:00:00.000000000",
          "2023-01-12T00:00:00.000000000",
          "2023-01-13T00:00:00.000000000",
          "2023-01-14T00:00:00.000000000",
          "2023-01-15T00:00:00.000000000",
          "2023-01-16T00:00:00.000000000",
          "2023-01-17T00:00:00.000000000",
          "2023-01-18T00:00:00.000000000",
          "2023-01-19T00:00:00.000000000",
          "2023-01-20T00:00:00.000000000",
          "2023-02-06T00:00:00.000000000",
          "2023-02-07T00:00:00.000000000",
          "2023-02-08T00:00:00.000000000",
          "2023-02-09T00:00:00.000000000",
          "2023-02-10T00:00:00.000000000",
          "2023-02-11T00:00:00.000000000",
          "2023-02-12T00:00:00.000000000",
          "2023-02-13T00:00:00.000000000",
          "2023-02-14T00:00:00.000000000",
          "2023-02-15T00:00:00.000000000",
          "2023-02-16T00:00:00.000000000",
          "2023-02-17T00:00:00.000000000",
          "2023-02-18T00:00:00.000000000",
          "2023-02-19T00:00:00.000000000",
          "2023-02-20T00:00:00.000000000",
          "2023-03-06T00:00:00.000000000",
          "2023-03-07T00:00:00.000000000",
          "2023-03-08T00:00:00.000000000",
          "2023-03-09T00:00:00.000000000",
          "2023-03-10T00:00:00.000000000",
          "2023-03-11T00:00:00.000000000",
          "2023-03-12T00:00:00.000000000",
          "2023-03-13T00:00:00.000000000",
          "2023-03-14T00:00:00.000000000",
          "2023-03-15T00:00:00.000000000",
          "2023-03-16T00:00:00.000000000",
          "2023-03-17T00:00:00.000000000",
          "2023-03-18T00:00:00.000000000",
          "2023-03-19T00:00:00.000000000",
          "2023-03-20T00:00:00.000000000",
          "2023-04-06T00:00:00.000000000",
          "2023-04-07T00:00:00.000000000",
          "2023-04-08T00:00:00.000000000",
          "2023-04-09T00:00:00.000000000",
          "2023-04-10T00:00:00.000000000",
          "2023-04-11T00:00:00.000000000",
          "2023-04-12T00:00:00.000000000",
          "2023-04-13T00:00:00.000000000",
          "2023-04-14T00:00:00.000000000",
          "2023-04-15T00:00:00.000000000",
          "2023-04-16T00:00:00.000000000",
          "2023-04-17T00:00:00.000000000",
          "2023-04-18T00:00:00.000000000",
          "2023-04-19T00:00:00.000000000",
          "2023-04-20T00:00:00.000000000",
          "2023-05-06T00:00:00.000000000",
          "2023-05-07T00:00:00.000000000",
          "2023-05-08T00:00:00.000000000",
          "2023-05-09T00:00:00.000000000",
          "2023-05-10T00:00:00.000000000",
          "2023-05-11T00:00:00.000000000",
          "2023-05-12T00:00:00.000000000",
          "2023-05-13T00:00:00.000000000",
          "2023-05-14T00:00:00.000000000",
          "2023-05-15T00:00:00.000000000",
          "2023-05-16T00:00:00.000000000",
          "2023-05-17T00:00:00.000000000",
          "2023-05-18T00:00:00.000000000",
          "2023-05-19T00:00:00.000000000",
          "2023-05-20T00:00:00.000000000",
          "2023-06-06T00:00:00.000000000",
          "2023-06-07T00:00:00.000000000",
          "2023-06-08T00:00:00.000000000",
          "2023-06-09T00:00:00.000000000",
          "2023-06-10T00:00:00.000000000",
          "2023-06-11T00:00:00.000000000",
          "2023-06-12T00:00:00.000000000",
          "2023-06-13T00:00:00.000000000",
          "2023-06-14T00:00:00.000000000",
          "2023-06-15T00:00:00.000000000",
          "2023-06-16T00:00:00.000000000",
          "2023-06-17T00:00:00.000000000",
          "2023-06-18T00:00:00.000000000",
          "2023-06-19T00:00:00.000000000",
          "2023-06-20T00:00:00.000000000",
          "2023-07-05T00:00:00.000000000",
          "2023-07-06T00:00:00.000000000",
          "2023-07-07T00:00:00.000000000",
          "2023-07-08T00:00:00.000000000",
          "2023-07-09T00:00:00.000000000",
          "2023-07-10T00:00:00.000000000",
          "2023-07-11T00:00:00.000000000",
          "2023-07-12T00:00:00.000000000",
          "2023-07-13T00:00:00.000000000",
          "2023-07-14T00:00:00.000000000",
          "2023-07-15T00:00:00.000000000",
          "2023-07-16T00:00:00.000000000",
          "2023-07-17T00:00:00.000000000",
          "2023-07-18T00:00:00.000000000",
          "2023-07-19T00:00:00.000000000",
          "2023-07-20T00:00:00.000000000",
          "2023-08-05T00:00:00.000000000",
          "2023-08-06T00:00:00.000000000",
          "2023-08-07T00:00:00.000000000",
          "2023-08-08T00:00:00.000000000",
          "2023-08-09T00:00:00.000000000",
          "2023-08-10T00:00:00.000000000",
          "2023-08-11T00:00:00.000000000",
          "2023-08-12T00:00:00.000000000",
          "2023-08-13T00:00:00.000000000",
          "2023-08-14T00:00:00.000000000",
          "2023-08-15T00:00:00.000000000",
          "2023-08-16T00:00:00.000000000",
          "2023-08-17T00:00:00.000000000",
          "2023-08-18T00:00:00.000000000",
          "2023-08-19T00:00:00.000000000",
          "2023-08-20T00:00:00.000000000",
          "2023-09-05T00:00:00.000000000",
          "2023-09-06T00:00:00.000000000",
          "2023-09-07T00:00:00.000000000",
          "2023-09-08T00:00:00.000000000",
          "2023-09-09T00:00:00.000000000",
          "2023-09-10T00:00:00.000000000",
          "2023-09-11T00:00:00.000000000",
          "2023-09-12T00:00:00.000000000",
          "2023-09-13T00:00:00.000000000",
          "2023-09-14T00:00:00.000000000",
          "2023-09-15T00:00:00.000000000",
          "2023-09-16T00:00:00.000000000",
          "2023-09-17T00:00:00.000000000",
          "2023-09-18T00:00:00.000000000",
          "2023-09-19T00:00:00.000000000",
          "2023-09-20T00:00:00.000000000",
          "2023-10-05T00:00:00.000000000",
          "2023-10-06T00:00:00.000000000",
          "2023-10-07T00:00:00.000000000",
          "2023-10-08T00:00:00.000000000",
          "2023-10-09T00:00:00.000000000",
          "2023-10-10T00:00:00.000000000",
          "2023-10-11T00:00:00.000000000",
          "2023-10-12T00:00:00.000000000",
          "2023-10-13T00:00:00.000000000",
          "2023-10-14T00:00:00.000000000",
          "2023-10-15T00:00:00.000000000",
          "2023-10-16T00:00:00.000000000",
          "2023-10-17T00:00:00.000000000",
          "2023-10-18T00:00:00.000000000",
          "2023-10-19T00:00:00.000000000",
          "2023-10-20T00:00:00.000000000",
          "2023-11-05T00:00:00.000000000",
          "2023-11-06T00:00:00.000000000",
          "2023-11-07T00:00:00.000000000",
          "2023-11-08T00:00:00.000000000",
          "2023-11-09T00:00:00.000000000",
          "2023-11-10T00:00:00.000000000",
          "2023-11-11T00:00:00.000000000",
          "2023-11-12T00:00:00.000000000",
          "2023-11-13T00:00:00.000000000",
          "2023-11-14T00:00:00.000000000",
          "2023-11-15T00:00:00.000000000",
          "2023-11-16T00:00:00.000000000",
          "2023-11-17T00:00:00.000000000",
          "2023-11-18T00:00:00.000000000",
          "2023-11-19T00:00:00.000000000",
          "2023-11-20T00:00:00.000000000",
          "2023-12-05T00:00:00.000000000",
          "2023-12-06T00:00:00.000000000",
          "2023-12-07T00:00:00.000000000",
          "2023-12-08T00:00:00.000000000",
          "2023-12-09T00:00:00.000000000",
          "2023-12-10T00:00:00.000000000",
          "2023-12-11T00:00:00.000000000",
          "2023-12-12T00:00:00.000000000",
          "2023-12-13T00:00:00.000000000",
          "2023-12-14T00:00:00.000000000",
          "2023-12-15T00:00:00.000000000",
          "2023-12-16T00:00:00.000000000",
          "2023-12-17T00:00:00.000000000",
          "2023-12-18T00:00:00.000000000",
          "2023-12-19T00:00:00.000000000"
         ],
         "xaxis": "x",
         "y": {
          "bdata": "AAAAAAAA+H8AAAAAAAD4fwAAAAAAAPh/AAAAAAAA+H+tHFpkO58/QLbz/dR4iUNAHoXrUbgeR0BuEoPAyoFMQH5qvHSTuFBAtch2vp/aVkCoxks3ibFbQOomMQisLGNAsHJoke1saUCDwMqhRb5sQP7UeOkmaWlAQDVeukkUZkDD9Shcj6JfQBkEVg4tYlBAYOXQItu5PECamZmZmVk+QP7UeOkmsUJAku18PzW+RkDGSzeJQUBLQClcj8L1KFBAlkOLbOdrVkAgsHJokb1aQB1aZDvf52JAtvP91HiZaEBQjZduEttsQB1aZDvfZ2lAnu+nxkt3ZkBWDi2ync9fQIlBYOXQYlFAzczMzMxMOUAw3SQGgZU8QAisHFpke0JA3iQGgZUDR0D1KFyPwjVMQAVWDi2yvVFAzvdT46VbV0BjO99PjedcQBWuR+F6XGRAne+nxkvXaUB1kxgEVqZuQEa28/3UIGtAbef7qfFKZ0CuR+F6FE5gQMUgsHJoEVNAJzEIrBxaOEDVeOkmMUg/QCYGgZVDy0NAhutRuB7FR0AwCKwcWmROQPhT46Wb1FJAVg4tsp1fWED7qfHSTcJeQP//////x2VAFtnO91NTbEDgT42XblJuQO58PzVe0mpA2c73U+ONZkAmMQisHHpeQOomMQis3EtA2s73U+MlO0Dvp8ZLN4lAQD0K16NwvURABFYOLbL9R0CNl24Sg6BOQI2XbhKDwFNAUI2XbhKzWUBDi2zn+4FgQEA1XrpJBGZAeukmMQg8bEC9dJMYBBZtQOOlm8QgWGlAMjMzMzOTZEDgehSuR6FcQM3MzMzM7EhAGARWDi0yOkBlO99PjZc/QEa28/3UeERA1XjpJjGoR0BjO99PjZdOQEJg5dAiO1NA1XjpJjH4WEB2vp8aL3VgQArXo3A9EmZAmpmZmZlBbEDQ91PjpUNsQJzEILBysGhAHVpkO993Y0DHSzeJQSBZQPYoXI/CFURAhutRuB6FN0Dvp8ZLN8k4QLKd76fGC0FA+FPjpZukRUDC9ShcjyJJQDiJQWDlEE1ARrbz/dRYUkCsHFpkO69XQAAAAAAAYGBA+6nx0k2aZ0BmZmZmZi5vQBgEVg4twm5AUrgehevpakBuEoPAyillQAIrhxbZHllAZmZmZmYmQUAOLbKd72c1QNv5fmq8tDlAzvdT46W7QUDC9Shcj4JFQJzEILByaEhA1qNwPQqXSkAQWDm0yFZRQHJoke18H1VAncQgsHL4X0BLN4lBYB1nQLKd76fGe25Avp8aL90cbUCDwMqhRQZqQF66SQwCi2NA3SQGgZVzVkDazvdT42U9QG3n+6nxUjZA2s73U+OlO0CgGi/dJIZDQFPjpZvEIEdAikFg5dCiSkANAiuHFvlNQBKDwMqhhVJAILByaJFNVkCBlUOLbA9gQJLtfD815mZAQDVeukkMakCmm8QgsEpoQClcj8L1+GRAWmQ7308NXkBuEoPAymFLQIXrUbgexTpAGQRWDi0yNUC6SQwCKwc8QC2yne+n5kNAfT81XrrpR0AmBoGVQ8tLQA8tsp3v51BAbxKDwMphVUDiehSuR2FZQPhT46WbdGFAbxKDwMpBZ0Boke18Px1qQCPb+X5qdGhAxks3iUH4ZEDKdr6fGu9dQNijcD0K905AukkMAivHQEBeukkMAus1QEA1XrpJjD1A5/up8dKNQ0B/arx0k3hGQPp+arx0s0pA6iYxCKxsUEAAAAAAAABVQJhuEoPAmllAeekmMQhMYUDiehSuR8FmQMl2vp8aJ2lA9P3UeOlOZ0BH4XoUrtdjQPLSTWIQqFxAFa5H4XpUTUB/arx0k1hBQH0/NV66CThA8KfGSzfJP0Atsp3vp8ZEQGDl0CLb2UZAgJVDi2wnS0ARWDm0yIZQQBKDwMqhlVVA8tJNYhC4WUCmm8QgsHJhQEa28/3UAGdA/anx0k2yaUCpxks3iQFnQA==",
          "dtype": "f8"
         },
         "yaxis": "y"
        }
       ],
       "layout": {
        "legend": {
         "title": {
          "text": "variable"
         },
         "tracegroupgap": 0
        },
        "template": {
         "data": {
          "bar": [
           {
            "error_x": {
             "color": "#2a3f5f"
            },
            "error_y": {
             "color": "#2a3f5f"
            },
            "marker": {
             "line": {
              "color": "#E5ECF6",
              "width": 0.5
             },
             "pattern": {
              "fillmode": "overlay",
              "size": 10,
              "solidity": 0.2
             }
            },
            "type": "bar"
           }
          ],
          "barpolar": [
           {
            "marker": {
             "line": {
              "color": "#E5ECF6",
              "width": 0.5
             },
             "pattern": {
              "fillmode": "overlay",
              "size": 10,
              "solidity": 0.2
             }
            },
            "type": "barpolar"
           }
          ],
          "carpet": [
           {
            "aaxis": {
             "endlinecolor": "#2a3f5f",
             "gridcolor": "white",
             "linecolor": "white",
             "minorgridcolor": "white",
             "startlinecolor": "#2a3f5f"
            },
            "baxis": {
             "endlinecolor": "#2a3f5f",
             "gridcolor": "white",
             "linecolor": "white",
             "minorgridcolor": "white",
             "startlinecolor": "#2a3f5f"
            },
            "type": "carpet"
           }
          ],
          "choropleth": [
           {
            "colorbar": {
             "outlinewidth": 0,
             "ticks": ""
            },
            "type": "choropleth"
           }
          ],
          "contour": [
           {
            "colorbar": {
             "outlinewidth": 0,
             "ticks": ""
            },
            "colorscale": [
             [
              0,
              "#0d0887"
             ],
             [
              0.1111111111111111,
              "#46039f"
             ],
             [
              0.2222222222222222,
              "#7201a8"
             ],
             [
              0.3333333333333333,
              "#9c179e"
             ],
             [
              0.4444444444444444,
              "#bd3786"
             ],
             [
              0.5555555555555556,
              "#d8576b"
             ],
             [
              0.6666666666666666,
              "#ed7953"
             ],
             [
              0.7777777777777778,
              "#fb9f3a"
             ],
             [
              0.8888888888888888,
              "#fdca26"
             ],
             [
              1,
              "#f0f921"
             ]
            ],
            "type": "contour"
           }
          ],
          "contourcarpet": [
           {
            "colorbar": {
             "outlinewidth": 0,
             "ticks": ""
            },
            "type": "contourcarpet"
           }
          ],
          "heatmap": [
           {
            "colorbar": {
             "outlinewidth": 0,
             "ticks": ""
            },
            "colorscale": [
             [
              0,
              "#0d0887"
             ],
             [
              0.1111111111111111,
              "#46039f"
             ],
             [
              0.2222222222222222,
              "#7201a8"
             ],
             [
              0.3333333333333333,
              "#9c179e"
             ],
             [
              0.4444444444444444,
              "#bd3786"
             ],
             [
              0.5555555555555556,
              "#d8576b"
             ],
             [
              0.6666666666666666,
              "#ed7953"
             ],
             [
              0.7777777777777778,
              "#fb9f3a"
             ],
             [
              0.8888888888888888,
              "#fdca26"
             ],
             [
              1,
              "#f0f921"
             ]
            ],
            "type": "heatmap"
           }
          ],
          "histogram": [
           {
            "marker": {
             "pattern": {
              "fillmode": "overlay",
              "size": 10,
              "solidity": 0.2
             }
            },
            "type": "histogram"
           }
          ],
          "histogram2d": [
           {
            "colorbar": {
             "outlinewidth": 0,
             "ticks": ""
            },
            "colorscale": [
             [
              0,
              "#0d0887"
             ],
             [
              0.1111111111111111,
              "#46039f"
             ],
             [
              0.2222222222222222,
              "#7201a8"
             ],
             [
              0.3333333333333333,
              "#9c179e"
             ],
             [
              0.4444444444444444,
              "#bd3786"
             ],
             [
              0.5555555555555556,
              "#d8576b"
             ],
             [
              0.6666666666666666,
              "#ed7953"
             ],
             [
              0.7777777777777778,
              "#fb9f3a"
             ],
             [
              0.8888888888888888,
              "#fdca26"
             ],
             [
              1,
              "#f0f921"
             ]
            ],
            "type": "histogram2d"
           }
          ],
          "histogram2dcontour": [
           {
            "colorbar": {
             "outlinewidth": 0,
             "ticks": ""
            },
            "colorscale": [
             [
              0,
              "#0d0887"
             ],
             [
              0.1111111111111111,
              "#46039f"
             ],
             [
              0.2222222222222222,
              "#7201a8"
             ],
             [
              0.3333333333333333,
              "#9c179e"
             ],
             [
              0.4444444444444444,
              "#bd3786"
             ],
             [
              0.5555555555555556,
              "#d8576b"
             ],
             [
              0.6666666666666666,
              "#ed7953"
             ],
             [
              0.7777777777777778,
              "#fb9f3a"
             ],
             [
              0.8888888888888888,
              "#fdca26"
             ],
             [
              1,
              "#f0f921"
             ]
            ],
            "type": "histogram2dcontour"
           }
          ],
          "mesh3d": [
           {
            "colorbar": {
             "outlinewidth": 0,
             "ticks": ""
            },
            "type": "mesh3d"
           }
          ],
          "parcoords": [
           {
            "line": {
             "colorbar": {
              "outlinewidth": 0,
              "ticks": ""
             }
            },
            "type": "parcoords"
           }
          ],
          "pie": [
           {
            "automargin": true,
            "type": "pie"
           }
          ],
          "scatter": [
           {
            "fillpattern": {
             "fillmode": "overlay",
             "size": 10,
             "solidity": 0.2
            },
            "type": "scatter"
           }
          ],
          "scatter3d": [
           {
            "line": {
             "colorbar": {
              "outlinewidth": 0,
              "ticks": ""
             }
            },
            "marker": {
             "colorbar": {
              "outlinewidth": 0,
              "ticks": ""
             }
            },
            "type": "scatter3d"
           }
          ],
          "scattercarpet": [
           {
            "marker": {
             "colorbar": {
              "outlinewidth": 0,
              "ticks": ""
             }
            },
            "type": "scattercarpet"
           }
          ],
          "scattergeo": [
           {
            "marker": {
             "colorbar": {
              "outlinewidth": 0,
              "ticks": ""
             }
            },
            "type": "scattergeo"
           }
          ],
          "scattergl": [
           {
            "marker": {
             "colorbar": {
              "outlinewidth": 0,
              "ticks": ""
             }
            },
            "type": "scattergl"
           }
          ],
          "scattermap": [
           {
            "marker": {
             "colorbar": {
              "outlinewidth": 0,
              "ticks": ""
             }
            },
            "type": "scattermap"
           }
          ],
          "scattermapbox": [
           {
            "marker": {
             "colorbar": {
              "outlinewidth": 0,
              "ticks": ""
             }
            },
            "type": "scattermapbox"
           }
          ],
          "scatterpolar": [
           {
            "marker": {
             "colorbar": {
              "outlinewidth": 0,
              "ticks": ""
             }
            },
            "type": "scatterpolar"
           }
          ],
          "scatterpolargl": [
           {
            "marker": {
             "colorbar": {
              "outlinewidth": 0,
              "ticks": ""
             }
            },
            "type": "scatterpolargl"
           }
          ],
          "scatterternary": [
           {
            "marker": {
             "colorbar": {
              "outlinewidth": 0,
              "ticks": ""
             }
            },
            "type": "scatterternary"
           }
          ],
          "surface": [
           {
            "colorbar": {
             "outlinewidth": 0,
             "ticks": ""
            },
            "colorscale": [
             [
              0,
              "#0d0887"
             ],
             [
              0.1111111111111111,
              "#46039f"
             ],
             [
              0.2222222222222222,
              "#7201a8"
             ],
             [
              0.3333333333333333,
              "#9c179e"
             ],
             [
              0.4444444444444444,
              "#bd3786"
             ],
             [
              0.5555555555555556,
              "#d8576b"
             ],
             [
              0.6666666666666666,
              "#ed7953"
             ],
             [
              0.7777777777777778,
              "#fb9f3a"
             ],
             [
              0.8888888888888888,
              "#fdca26"
             ],
             [
              1,
              "#f0f921"
             ]
            ],
            "type": "surface"
           }
          ],
          "table": [
           {
            "cells": {
             "fill": {
              "color": "#EBF0F8"
             },
             "line": {
              "color": "white"
             }
            },
            "header": {
             "fill": {
              "color": "#C8D4E3"
             },
             "line": {
              "color": "white"
             }
            },
            "type": "table"
           }
          ]
         },
         "layout": {
          "annotationdefaults": {
           "arrowcolor": "#2a3f5f",
           "arrowhead": 0,
           "arrowwidth": 1
          },
          "autotypenumbers": "strict",
          "coloraxis": {
           "colorbar": {
            "outlinewidth": 0,
            "ticks": ""
           }
          },
          "colorscale": {
           "diverging": [
            [
             0,
             "#8e0152"
            ],
            [
             0.1,
             "#c51b7d"
            ],
            [
             0.2,
             "#de77ae"
            ],
            [
             0.3,
             "#f1b6da"
            ],
            [
             0.4,
             "#fde0ef"
            ],
            [
             0.5,
             "#f7f7f7"
            ],
            [
             0.6,
             "#e6f5d0"
            ],
            [
             0.7,
             "#b8e186"
            ],
            [
             0.8,
             "#7fbc41"
            ],
            [
             0.9,
             "#4d9221"
            ],
            [
             1,
             "#276419"
            ]
           ],
           "sequential": [
            [
             0,
             "#0d0887"
            ],
            [
             0.1111111111111111,
             "#46039f"
            ],
            [
             0.2222222222222222,
             "#7201a8"
            ],
            [
             0.3333333333333333,
             "#9c179e"
            ],
            [
             0.4444444444444444,
             "#bd3786"
            ],
            [
             0.5555555555555556,
             "#d8576b"
            ],
            [
             0.6666666666666666,
             "#ed7953"
            ],
            [
             0.7777777777777778,
             "#fb9f3a"
            ],
            [
             0.8888888888888888,
             "#fdca26"
            ],
            [
             1,
             "#f0f921"
            ]
           ],
           "sequentialminus": [
            [
             0,
             "#0d0887"
            ],
            [
             0.1111111111111111,
             "#46039f"
            ],
            [
             0.2222222222222222,
             "#7201a8"
            ],
            [
             0.3333333333333333,
             "#9c179e"
            ],
            [
             0.4444444444444444,
             "#bd3786"
            ],
            [
             0.5555555555555556,
             "#d8576b"
            ],
            [
             0.6666666666666666,
             "#ed7953"
            ],
            [
             0.7777777777777778,
             "#fb9f3a"
            ],
            [
             0.8888888888888888,
             "#fdca26"
            ],
            [
             1,
             "#f0f921"
            ]
           ]
          },
          "colorway": [
           "#636efa",
           "#EF553B",
           "#00cc96",
           "#ab63fa",
           "#FFA15A",
           "#19d3f3",
           "#FF6692",
           "#B6E880",
           "#FF97FF",
           "#FECB52"
          ],
          "font": {
           "color": "#2a3f5f"
          },
          "geo": {
           "bgcolor": "white",
           "lakecolor": "white",
           "landcolor": "#E5ECF6",
           "showlakes": true,
           "showland": true,
           "subunitcolor": "white"
          },
          "hoverlabel": {
           "align": "left"
          },
          "hovermode": "closest",
          "mapbox": {
           "style": "light"
          },
          "paper_bgcolor": "white",
          "plot_bgcolor": "#E5ECF6",
          "polar": {
           "angularaxis": {
            "gridcolor": "white",
            "linecolor": "white",
            "ticks": ""
           },
           "bgcolor": "#E5ECF6",
           "radialaxis": {
            "gridcolor": "white",
            "linecolor": "white",
            "ticks": ""
           }
          },
          "scene": {
           "xaxis": {
            "backgroundcolor": "#E5ECF6",
            "gridcolor": "white",
            "gridwidth": 2,
            "linecolor": "white",
            "showbackground": true,
            "ticks": "",
            "zerolinecolor": "white"
           },
           "yaxis": {
            "backgroundcolor": "#E5ECF6",
            "gridcolor": "white",
            "gridwidth": 2,
            "linecolor": "white",
            "showbackground": true,
            "ticks": "",
            "zerolinecolor": "white"
           },
           "zaxis": {
            "backgroundcolor": "#E5ECF6",
            "gridcolor": "white",
            "gridwidth": 2,
            "linecolor": "white",
            "showbackground": true,
            "ticks": "",
            "zerolinecolor": "white"
           }
          },
          "shapedefaults": {
           "line": {
            "color": "#2a3f5f"
           }
          },
          "ternary": {
           "aaxis": {
            "gridcolor": "white",
            "linecolor": "white",
            "ticks": ""
           },
           "baxis": {
            "gridcolor": "white",
            "linecolor": "white",
            "ticks": ""
           },
           "bgcolor": "#E5ECF6",
           "caxis": {
            "gridcolor": "white",
            "linecolor": "white",
            "ticks": ""
           }
          },
          "title": {
           "x": 0.05
          },
          "xaxis": {
           "automargin": true,
           "gridcolor": "white",
           "linecolor": "white",
           "ticks": "",
           "title": {
            "standoff": 15
           },
           "zerolinecolor": "white",
           "zerolinewidth": 2
          },
          "yaxis": {
           "automargin": true,
           "gridcolor": "white",
           "linecolor": "white",
           "ticks": "",
           "title": {
            "standoff": 15
           },
           "zerolinecolor": "white",
           "zerolinewidth": 2
          }
         }
        },
        "title": {
         "text": "Moving Averages"
        },
        "xaxis": {
         "anchor": "y",
         "domain": [
          0,
          1
         ],
         "title": {
          "text": "Date_new"
         }
        },
        "yaxis": {
         "anchor": "x",
         "domain": [
          0,
          1
         ],
         "title": {
          "text": "value"
         }
        }
       }
      },
      "text/html": [
       "<div>            <script src=\"https://cdnjs.cloudflare.com/ajax/libs/mathjax/2.7.5/MathJax.js?config=TeX-AMS-MML_SVG\"></script><script type=\"text/javascript\">if (window.MathJax && window.MathJax.Hub && window.MathJax.Hub.Config) {window.MathJax.Hub.Config({SVG: {font: \"STIX-Web\"}});}</script>                <script type=\"text/javascript\">window.PlotlyConfig = {MathJaxConfig: 'local'};</script>\n",
       "        <script charset=\"utf-8\" src=\"https://cdn.plot.ly/plotly-3.0.1.min.js\"></script>                <div id=\"1462f341-eeb4-4bcb-b566-2d461a09ca7a\" class=\"plotly-graph-div\" style=\"height:525px; width:100%;\"></div>            <script type=\"text/javascript\">                window.PLOTLYENV=window.PLOTLYENV || {};                                if (document.getElementById(\"1462f341-eeb4-4bcb-b566-2d461a09ca7a\")) {                    Plotly.newPlot(                        \"1462f341-eeb4-4bcb-b566-2d461a09ca7a\",                        [{\"hovertemplate\":\"variable=Close\\u003cbr\\u003eDate_new=%{x}\\u003cbr\\u003evalue=%{y}\\u003cextra\\u003e\\u003c\\u002fextra\\u003e\",\"legendgroup\":\"Close\",\"line\":{\"color\":\"#636efa\",\"dash\":\"solid\"},\"marker\":{\"symbol\":\"circle\"},\"mode\":\"lines+markers\",\"name\":\"Close\",\"orientation\":\"v\",\"showlegend\":true,\"x\":[\"2023-01-06T00:00:00.000000000\",\"2023-01-07T00:00:00.000000000\",\"2023-01-08T00:00:00.000000000\",\"2023-01-09T00:00:00.000000000\",\"2023-01-10T00:00:00.000000000\",\"2023-01-11T00:00:00.000000000\",\"2023-01-12T00:00:00.000000000\",\"2023-01-13T00:00:00.000000000\",\"2023-01-14T00:00:00.000000000\",\"2023-01-15T00:00:00.000000000\",\"2023-01-16T00:00:00.000000000\",\"2023-01-17T00:00:00.000000000\",\"2023-01-18T00:00:00.000000000\",\"2023-01-19T00:00:00.000000000\",\"2023-01-20T00:00:00.000000000\",\"2023-02-06T00:00:00.000000000\",\"2023-02-07T00:00:00.000000000\",\"2023-02-08T00:00:00.000000000\",\"2023-02-09T00:00:00.000000000\",\"2023-02-10T00:00:00.000000000\",\"2023-02-11T00:00:00.000000000\",\"2023-02-12T00:00:00.000000000\",\"2023-02-13T00:00:00.000000000\",\"2023-02-14T00:00:00.000000000\",\"2023-02-15T00:00:00.000000000\",\"2023-02-16T00:00:00.000000000\",\"2023-02-17T00:00:00.000000000\",\"2023-02-18T00:00:00.000000000\",\"2023-02-19T00:00:00.000000000\",\"2023-02-20T00:00:00.000000000\",\"2023-03-06T00:00:00.000000000\",\"2023-03-07T00:00:00.000000000\",\"2023-03-08T00:00:00.000000000\",\"2023-03-09T00:00:00.000000000\",\"2023-03-10T00:00:00.000000000\",\"2023-03-11T00:00:00.000000000\",\"2023-03-12T00:00:00.000000000\",\"2023-03-13T00:00:00.000000000\",\"2023-03-14T00:00:00.000000000\",\"2023-03-15T00:00:00.000000000\",\"2023-03-16T00:00:00.000000000\",\"2023-03-17T00:00:00.000000000\",\"2023-03-18T00:00:00.000000000\",\"2023-03-19T00:00:00.000000000\",\"2023-03-20T00:00:00.000000000\",\"2023-04-06T00:00:00.000000000\",\"2023-04-07T00:00:00.000000000\",\"2023-04-08T00:00:00.000000000\",\"2023-04-09T00:00:00.000000000\",\"2023-04-10T00:00:00.000000000\",\"2023-04-11T00:00:00.000000000\",\"2023-04-12T00:00:00.000000000\",\"2023-04-13T00:00:00.000000000\",\"2023-04-14T00:00:00.000000000\",\"2023-04-15T00:00:00.000000000\",\"2023-04-16T00:00:00.000000000\",\"2023-04-17T00:00:00.000000000\",\"2023-04-18T00:00:00.000000000\",\"2023-04-19T00:00:00.000000000\",\"2023-04-20T00:00:00.000000000\",\"2023-05-06T00:00:00.000000000\",\"2023-05-07T00:00:00.000000000\",\"2023-05-08T00:00:00.000000000\",\"2023-05-09T00:00:00.000000000\",\"2023-05-10T00:00:00.000000000\",\"2023-05-11T00:00:00.000000000\",\"2023-05-12T00:00:00.000000000\",\"2023-05-13T00:00:00.000000000\",\"2023-05-14T00:00:00.000000000\",\"2023-05-15T00:00:00.000000000\",\"2023-05-16T00:00:00.000000000\",\"2023-05-17T00:00:00.000000000\",\"2023-05-18T00:00:00.000000000\",\"2023-05-19T00:00:00.000000000\",\"2023-05-20T00:00:00.000000000\",\"2023-06-06T00:00:00.000000000\",\"2023-06-07T00:00:00.000000000\",\"2023-06-08T00:00:00.000000000\",\"2023-06-09T00:00:00.000000000\",\"2023-06-10T00:00:00.000000000\",\"2023-06-11T00:00:00.000000000\",\"2023-06-12T00:00:00.000000000\",\"2023-06-13T00:00:00.000000000\",\"2023-06-14T00:00:00.000000000\",\"2023-06-15T00:00:00.000000000\",\"2023-06-16T00:00:00.000000000\",\"2023-06-17T00:00:00.000000000\",\"2023-06-18T00:00:00.000000000\",\"2023-06-19T00:00:00.000000000\",\"2023-06-20T00:00:00.000000000\",\"2023-07-05T00:00:00.000000000\",\"2023-07-06T00:00:00.000000000\",\"2023-07-07T00:00:00.000000000\",\"2023-07-08T00:00:00.000000000\",\"2023-07-09T00:00:00.000000000\",\"2023-07-10T00:00:00.000000000\",\"2023-07-11T00:00:00.000000000\",\"2023-07-12T00:00:00.000000000\",\"2023-07-13T00:00:00.000000000\",\"2023-07-14T00:00:00.000000000\",\"2023-07-15T00:00:00.000000000\",\"2023-07-16T00:00:00.000000000\",\"2023-07-17T00:00:00.000000000\",\"2023-07-18T00:00:00.000000000\",\"2023-07-19T00:00:00.000000000\",\"2023-07-20T00:00:00.000000000\",\"2023-08-05T00:00:00.000000000\",\"2023-08-06T00:00:00.000000000\",\"2023-08-07T00:00:00.000000000\",\"2023-08-08T00:00:00.000000000\",\"2023-08-09T00:00:00.000000000\",\"2023-08-10T00:00:00.000000000\",\"2023-08-11T00:00:00.000000000\",\"2023-08-12T00:00:00.000000000\",\"2023-08-13T00:00:00.000000000\",\"2023-08-14T00:00:00.000000000\",\"2023-08-15T00:00:00.000000000\",\"2023-08-16T00:00:00.000000000\",\"2023-08-17T00:00:00.000000000\",\"2023-08-18T00:00:00.000000000\",\"2023-08-19T00:00:00.000000000\",\"2023-08-20T00:00:00.000000000\",\"2023-09-05T00:00:00.000000000\",\"2023-09-06T00:00:00.000000000\",\"2023-09-07T00:00:00.000000000\",\"2023-09-08T00:00:00.000000000\",\"2023-09-09T00:00:00.000000000\",\"2023-09-10T00:00:00.000000000\",\"2023-09-11T00:00:00.000000000\",\"2023-09-12T00:00:00.000000000\",\"2023-09-13T00:00:00.000000000\",\"2023-09-14T00:00:00.000000000\",\"2023-09-15T00:00:00.000000000\",\"2023-09-16T00:00:00.000000000\",\"2023-09-17T00:00:00.000000000\",\"2023-09-18T00:00:00.000000000\",\"2023-09-19T00:00:00.000000000\",\"2023-09-20T00:00:00.000000000\",\"2023-10-05T00:00:00.000000000\",\"2023-10-06T00:00:00.000000000\",\"2023-10-07T00:00:00.000000000\",\"2023-10-08T00:00:00.000000000\",\"2023-10-09T00:00:00.000000000\",\"2023-10-10T00:00:00.000000000\",\"2023-10-11T00:00:00.000000000\",\"2023-10-12T00:00:00.000000000\",\"2023-10-13T00:00:00.000000000\",\"2023-10-14T00:00:00.000000000\",\"2023-10-15T00:00:00.000000000\",\"2023-10-16T00:00:00.000000000\",\"2023-10-17T00:00:00.000000000\",\"2023-10-18T00:00:00.000000000\",\"2023-10-19T00:00:00.000000000\",\"2023-10-20T00:00:00.000000000\",\"2023-11-05T00:00:00.000000000\",\"2023-11-06T00:00:00.000000000\",\"2023-11-07T00:00:00.000000000\",\"2023-11-08T00:00:00.000000000\",\"2023-11-09T00:00:00.000000000\",\"2023-11-10T00:00:00.000000000\",\"2023-11-11T00:00:00.000000000\",\"2023-11-12T00:00:00.000000000\",\"2023-11-13T00:00:00.000000000\",\"2023-11-14T00:00:00.000000000\",\"2023-11-15T00:00:00.000000000\",\"2023-11-16T00:00:00.000000000\",\"2023-11-17T00:00:00.000000000\",\"2023-11-18T00:00:00.000000000\",\"2023-11-19T00:00:00.000000000\",\"2023-11-20T00:00:00.000000000\",\"2023-12-05T00:00:00.000000000\",\"2023-12-06T00:00:00.000000000\",\"2023-12-07T00:00:00.000000000\",\"2023-12-08T00:00:00.000000000\",\"2023-12-09T00:00:00.000000000\",\"2023-12-10T00:00:00.000000000\",\"2023-12-11T00:00:00.000000000\",\"2023-12-12T00:00:00.000000000\",\"2023-12-13T00:00:00.000000000\",\"2023-12-14T00:00:00.000000000\",\"2023-12-15T00:00:00.000000000\",\"2023-12-16T00:00:00.000000000\",\"2023-12-17T00:00:00.000000000\",\"2023-12-18T00:00:00.000000000\",\"2023-12-19T00:00:00.000000000\"],\"xaxis\":\"x\",\"y\":{\"dtype\":\"f8\",\"bdata\":\"KVyPwvWoLkApXI\\u002fC9Sg+QIXrUbgeRUlAexSuR+F6KEDsUbgehetIQOxRuB6FS0pAj8L1KFx\\u002fUEAK16NwPRpaQOxRuB6Fy05AAAAAAACQZUBcj8L1KKxiQJqZmZmZcXFAMzMzMzMndkCamZmZmUloQJqZmZmZmUNAH4XrUbgeMEDhehSuR6E8QPYoXI\\u002fCtUhAhetRuB6FJEApXI\\u002fC9ahHQIXrUbgepUlAKVyPwvVIUUAAAAAAAKBXQJqZmZmZeU5AmpmZmZmRZUA9CtejcDVhQClcj8L1KHJAAAAAAAAkdEBmZmZmZuZsQGZmZmZmRkFAFK5H4XoUNECkcD0K1yM8QAAAAAAA4EBA9ihcj8L1I0Bcj8L1KHxJQD0K16Nw\\u002fU5APQrXo3BdUkA9CtejcG1VQM3MzMzMrFRAUrgehetpZECF61G4Hp1lQIXrUbgeXXNAZmZmZmYOc0DNzMzMzDBxQDMzMzMzczZAPQrXo3B9M0CPwvUoXE8+QEjhehSuB0FAZmZmZmbmLkDNzMzMzIxMQMP1KFyPgk5AFK5H4XqEUUBSuB6F6xFZQClcj8L1CFZAH4XrUbj+ZECPwvUoXJdnQArXo3A9YnRAzczMzMygdkAAAAAAAABlQDMzMzMz8ztASOF6FK4HMkDhehSuR8FAQOF6FK5HIT9AH4XrUbgeOUApXI\\u002fC9chMQClcj8L1CE5A4XoUrkeBUECPwvUoXF9YQClcj8L1eFxAcT0K16MQZkAUrkfhesxpQK5H4XoU5nFAMzMzMzOjdUBmZmZmZn5iQJqZmZmZ2TpAPQrXo3A9L0A9CtejcP1BQJqZmZmZ2TZArkfhehSuPUAK16NwPepKQHE9CtejME9AhetRuB71UEDNzMzMzAxXQLgehetRGFtAMzMzMzMTZUCamZmZmalrQFK4HoXrRXJAmpmZmZk5dUDNzMzMzCxbQJqZmZmZmTlA7FG4HoXrKEApXI\\u002fC9SgwQNejcD0K90JAMzMzMzNzOUCuR+F6FO4\\u002fQB+F61G4fk1AcT0K16MQT0BmZmZmZjZSQHE9CtejMFBAPQrXo3ANW0BI4XoUrrdkQK5H4XoUbm5Aj8L1KFyfdkBmZmZmZv52QDMzMzMz01ZAZmZmZmbmJ0DXo3A9CtcqQNejcD0K1zFAH4XrUbh+QkAUrkfhetQ6QJqZmZmZuUBAXI\\u002fC9SgcT0CuR+F6FM5LQK5H4XoUflBAMzMzMzNTSECF61G4HpVcQM3MzMzMPGFAKVyPwvUIcUBmZmZmZvJ1QGZmZmZmdnVAAAAAAADATUA9CtejcL0sQJqZmZmZmSpA9ihcj8J1MkCuR+F6FK5EQOF6FK5HIThAH4XrUbh+REAzMzMzM5NRQAAAAAAAQEtAXI\\u002fC9SgcU0AAAAAAAMBMQM3MzMzM7FtAPQrXo3A9YkAzMzMzM1tvQAAAAAAA4HVAZmZmZmbuZkCamZmZmblEQM3MzMzMTCpAexSuR+H6KUBI4XoUrsc2QD0K16NwvUVAKVyPwvUoK0BI4XoUrqdHQNejcD0K91FAMzMzMzNzT0DD9Shcj5JUQHE9CtejcFJAw\\u002fUoXI8aYUAK16NwPfpiQHE9CtejsG9AmpmZmZmlc0CamZmZmYFnQM3MzMzMnFFA16NwPQrXKEBSuB6F69EqQFK4HoXrUTlA16NwPQoXR0CF61G4HoUoQClcj8L1SElAexSuR+GaTkAfhetRuD5LQB+F61G4HlZAj8L1KFxvUkDD9Shcj8JhQJqZmZmZKWNAKVyPwvVIbUDNzMzMzCxzQM3MzMzMNGVAMzMzMzMTUUDXo3A9ClctQOxRuB6FaytAuB6F61H4OkBI4XoUrudIQI\\u002fC9ShcDy5AFK5H4Xq0SkCF61G4HkVPQFyPwvUo3EdA9ihcj8I1V0DhehSuR4FSQArXo3A9UmNAj8L1KFwnYkC4HoXrUehsQM3MzMzMsHNAAAAAAAC4ZkCamZmZmXlHQA==\"},\"yaxis\":\"y\",\"type\":\"scatter\"},{\"hovertemplate\":\"variable=MA_3\\u003cbr\\u003eDate_new=%{x}\\u003cbr\\u003evalue=%{y}\\u003cextra\\u003e\\u003c\\u002fextra\\u003e\",\"legendgroup\":\"MA_3\",\"line\":{\"color\":\"#EF553B\",\"dash\":\"solid\"},\"marker\":{\"symbol\":\"circle\"},\"mode\":\"lines+markers\",\"name\":\"MA_3\",\"orientation\":\"v\",\"showlegend\":true,\"x\":[\"2023-01-06T00:00:00.000000000\",\"2023-01-07T00:00:00.000000000\",\"2023-01-08T00:00:00.000000000\",\"2023-01-09T00:00:00.000000000\",\"2023-01-10T00:00:00.000000000\",\"2023-01-11T00:00:00.000000000\",\"2023-01-12T00:00:00.000000000\",\"2023-01-13T00:00:00.000000000\",\"2023-01-14T00:00:00.000000000\",\"2023-01-15T00:00:00.000000000\",\"2023-01-16T00:00:00.000000000\",\"2023-01-17T00:00:00.000000000\",\"2023-01-18T00:00:00.000000000\",\"2023-01-19T00:00:00.000000000\",\"2023-01-20T00:00:00.000000000\",\"2023-02-06T00:00:00.000000000\",\"2023-02-07T00:00:00.000000000\",\"2023-02-08T00:00:00.000000000\",\"2023-02-09T00:00:00.000000000\",\"2023-02-10T00:00:00.000000000\",\"2023-02-11T00:00:00.000000000\",\"2023-02-12T00:00:00.000000000\",\"2023-02-13T00:00:00.000000000\",\"2023-02-14T00:00:00.000000000\",\"2023-02-15T00:00:00.000000000\",\"2023-02-16T00:00:00.000000000\",\"2023-02-17T00:00:00.000000000\",\"2023-02-18T00:00:00.000000000\",\"2023-02-19T00:00:00.000000000\",\"2023-02-20T00:00:00.000000000\",\"2023-03-06T00:00:00.000000000\",\"2023-03-07T00:00:00.000000000\",\"2023-03-08T00:00:00.000000000\",\"2023-03-09T00:00:00.000000000\",\"2023-03-10T00:00:00.000000000\",\"2023-03-11T00:00:00.000000000\",\"2023-03-12T00:00:00.000000000\",\"2023-03-13T00:00:00.000000000\",\"2023-03-14T00:00:00.000000000\",\"2023-03-15T00:00:00.000000000\",\"2023-03-16T00:00:00.000000000\",\"2023-03-17T00:00:00.000000000\",\"2023-03-18T00:00:00.000000000\",\"2023-03-19T00:00:00.000000000\",\"2023-03-20T00:00:00.000000000\",\"2023-04-06T00:00:00.000000000\",\"2023-04-07T00:00:00.000000000\",\"2023-04-08T00:00:00.000000000\",\"2023-04-09T00:00:00.000000000\",\"2023-04-10T00:00:00.000000000\",\"2023-04-11T00:00:00.000000000\",\"2023-04-12T00:00:00.000000000\",\"2023-04-13T00:00:00.000000000\",\"2023-04-14T00:00:00.000000000\",\"2023-04-15T00:00:00.000000000\",\"2023-04-16T00:00:00.000000000\",\"2023-04-17T00:00:00.000000000\",\"2023-04-18T00:00:00.000000000\",\"2023-04-19T00:00:00.000000000\",\"2023-04-20T00:00:00.000000000\",\"2023-05-06T00:00:00.000000000\",\"2023-05-07T00:00:00.000000000\",\"2023-05-08T00:00:00.000000000\",\"2023-05-09T00:00:00.000000000\",\"2023-05-10T00:00:00.000000000\",\"2023-05-11T00:00:00.000000000\",\"2023-05-12T00:00:00.000000000\",\"2023-05-13T00:00:00.000000000\",\"2023-05-14T00:00:00.000000000\",\"2023-05-15T00:00:00.000000000\",\"2023-05-16T00:00:00.000000000\",\"2023-05-17T00:00:00.000000000\",\"2023-05-18T00:00:00.000000000\",\"2023-05-19T00:00:00.000000000\",\"2023-05-20T00:00:00.000000000\",\"2023-06-06T00:00:00.000000000\",\"2023-06-07T00:00:00.000000000\",\"2023-06-08T00:00:00.000000000\",\"2023-06-09T00:00:00.000000000\",\"2023-06-10T00:00:00.000000000\",\"2023-06-11T00:00:00.000000000\",\"2023-06-12T00:00:00.000000000\",\"2023-06-13T00:00:00.000000000\",\"2023-06-14T00:00:00.000000000\",\"2023-06-15T00:00:00.000000000\",\"2023-06-16T00:00:00.000000000\",\"2023-06-17T00:00:00.000000000\",\"2023-06-18T00:00:00.000000000\",\"2023-06-19T00:00:00.000000000\",\"2023-06-20T00:00:00.000000000\",\"2023-07-05T00:00:00.000000000\",\"2023-07-06T00:00:00.000000000\",\"2023-07-07T00:00:00.000000000\",\"2023-07-08T00:00:00.000000000\",\"2023-07-09T00:00:00.000000000\",\"2023-07-10T00:00:00.000000000\",\"2023-07-11T00:00:00.000000000\",\"2023-07-12T00:00:00.000000000\",\"2023-07-13T00:00:00.000000000\",\"2023-07-14T00:00:00.000000000\",\"2023-07-15T00:00:00.000000000\",\"2023-07-16T00:00:00.000000000\",\"2023-07-17T00:00:00.000000000\",\"2023-07-18T00:00:00.000000000\",\"2023-07-19T00:00:00.000000000\",\"2023-07-20T00:00:00.000000000\",\"2023-08-05T00:00:00.000000000\",\"2023-08-06T00:00:00.000000000\",\"2023-08-07T00:00:00.000000000\",\"2023-08-08T00:00:00.000000000\",\"2023-08-09T00:00:00.000000000\",\"2023-08-10T00:00:00.000000000\",\"2023-08-11T00:00:00.000000000\",\"2023-08-12T00:00:00.000000000\",\"2023-08-13T00:00:00.000000000\",\"2023-08-14T00:00:00.000000000\",\"2023-08-15T00:00:00.000000000\",\"2023-08-16T00:00:00.000000000\",\"2023-08-17T00:00:00.000000000\",\"2023-08-18T00:00:00.000000000\",\"2023-08-19T00:00:00.000000000\",\"2023-08-20T00:00:00.000000000\",\"2023-09-05T00:00:00.000000000\",\"2023-09-06T00:00:00.000000000\",\"2023-09-07T00:00:00.000000000\",\"2023-09-08T00:00:00.000000000\",\"2023-09-09T00:00:00.000000000\",\"2023-09-10T00:00:00.000000000\",\"2023-09-11T00:00:00.000000000\",\"2023-09-12T00:00:00.000000000\",\"2023-09-13T00:00:00.000000000\",\"2023-09-14T00:00:00.000000000\",\"2023-09-15T00:00:00.000000000\",\"2023-09-16T00:00:00.000000000\",\"2023-09-17T00:00:00.000000000\",\"2023-09-18T00:00:00.000000000\",\"2023-09-19T00:00:00.000000000\",\"2023-09-20T00:00:00.000000000\",\"2023-10-05T00:00:00.000000000\",\"2023-10-06T00:00:00.000000000\",\"2023-10-07T00:00:00.000000000\",\"2023-10-08T00:00:00.000000000\",\"2023-10-09T00:00:00.000000000\",\"2023-10-10T00:00:00.000000000\",\"2023-10-11T00:00:00.000000000\",\"2023-10-12T00:00:00.000000000\",\"2023-10-13T00:00:00.000000000\",\"2023-10-14T00:00:00.000000000\",\"2023-10-15T00:00:00.000000000\",\"2023-10-16T00:00:00.000000000\",\"2023-10-17T00:00:00.000000000\",\"2023-10-18T00:00:00.000000000\",\"2023-10-19T00:00:00.000000000\",\"2023-10-20T00:00:00.000000000\",\"2023-11-05T00:00:00.000000000\",\"2023-11-06T00:00:00.000000000\",\"2023-11-07T00:00:00.000000000\",\"2023-11-08T00:00:00.000000000\",\"2023-11-09T00:00:00.000000000\",\"2023-11-10T00:00:00.000000000\",\"2023-11-11T00:00:00.000000000\",\"2023-11-12T00:00:00.000000000\",\"2023-11-13T00:00:00.000000000\",\"2023-11-14T00:00:00.000000000\",\"2023-11-15T00:00:00.000000000\",\"2023-11-16T00:00:00.000000000\",\"2023-11-17T00:00:00.000000000\",\"2023-11-18T00:00:00.000000000\",\"2023-11-19T00:00:00.000000000\",\"2023-11-20T00:00:00.000000000\",\"2023-12-05T00:00:00.000000000\",\"2023-12-06T00:00:00.000000000\",\"2023-12-07T00:00:00.000000000\",\"2023-12-08T00:00:00.000000000\",\"2023-12-09T00:00:00.000000000\",\"2023-12-10T00:00:00.000000000\",\"2023-12-11T00:00:00.000000000\",\"2023-12-12T00:00:00.000000000\",\"2023-12-13T00:00:00.000000000\",\"2023-12-14T00:00:00.000000000\",\"2023-12-15T00:00:00.000000000\",\"2023-12-16T00:00:00.000000000\",\"2023-12-17T00:00:00.000000000\",\"2023-12-18T00:00:00.000000000\",\"2023-12-19T00:00:00.000000000\"],\"xaxis\":\"x\",\"y\":{\"dtype\":\"f8\",\"bdata\":\"AAAAAAAA+H8AAAAAAAD4f+F6FK5HAUBAexSuR+H6PkCF61G4HsVCQP1iyS+WHENAU7gehesRTECF61G4HpVSQIXrUbgeVVNAVVVVVVU1XEDlF0t+sfRfQNtApw10CmlA1AY6baBPcEAzMzMzMz9xQHh3d3d3f2hAbaDTBjrNVEC8u7u7u\\u002fs7QKRwPQrXYz9AMJb8YslvPUBVVVVVVdVBQIXrUbgeJUJAVVVVVVX1S0D5xZJfLOlRQKcNdNpAt1JAVVVVVVVVW0B9seQXS+5eQLgehetRCGlAhetRuB5Fb0DJL5b8YpVxQAAAAAAAgGhAgU4b6LTRV0DXo3A9Cpc7QJNfLPnFUjtAtYFOG+j0N0AREREREZE\\u002fQJ020GkDfURAsOQXS34RT0Dd3d3d3W1SQBhLfrHkJ1RA5RdLfrGkW0AVrkfhenRhQEt+seQX62pA5BdLfrFocEA9CtejcIlyQJuZmZmZGWlA20CnDXRqWkBVVVVVVRU4QHTaQKcN9DtAHOi0gU6bOkDlF0t+scRBQGPJL5b8QkZAPQrXo3BdT0AYS36x5EdTQNtApw10ilVAk18s+cWyXUBBpw102ohiQOtRuB6Fc2xAtYFOG+hEckDziyW\\u002fWNZxQAEAAAAAQGdAtoFOG+jUUUDEWPKLJX86QFMb6LSBjjtA8FG4HoXrPUC7HoXrUfhCQE1+seQXy0dAX4\\u002fC9SicTkCDThvotKFSQODd3d3dHVdAm5mZmZkpYEA0MzMzM7NkQEx+seQX42tATxvotIF6cUAHOm2g00JwQFdVVVVVtWVAAWPJL5a8T0BwZmZmZiY6QBsRERER0ThAS6cNdNqAPUA\\u002fbaDTBrpBQHU9CtejUEhAM\\u002fnFkl+sTkBc8oslv4hSQLBH4XoUXlZAp3A9CtfDXkBlyS+W\\u002fMJkQCi\\u002fWPKLbWxAlF8s+cXGcUAXrkfhetxuQPHu7u7uvmNA+yhcj8J1SECdXyz5xRIyQPvu7u7uLjZAD5020GmDOkCQ61G4HsU\\u002fQIvrUbgeZUNAKCIiIiKCSUA9baDTBipQQIjrUbgepVBAX4\\u002fC9Sh8VEBtA5020DlcQAg6baDTjmVAWfKLJb8QcEDv7u7u7kZ0QOxRuB6FG3FAm5mZmZmhY0BXuB6F63FDQGQb6LSBzixACwAAAADANkDDHoXrUTg7QJz8YskvNkBAsKqqqqpqREA80GkDnTZJQCgiIiIiok5AxFjyiyVfTEBHRERERBRTQJVfLPnFEllA+Chcj8LdZUClcD0K17tvQFO4HoXrJXRANTMzMzNrb0B9FK5H4WJhQF8b6LSBDj1AYacNdNrALkBwLPnFkl84QMy7u7u7+ztAx1jyiyW\\u002fQUBbuB6F65FGQIlOG+i0oUtAietRuB7FUEDwtIFOG2hPQLwehetReFRAxfUoXI9CWkBJ4XoUri9lQCi\\u002fWPKLHW9A8O7u7u5WcEBHRERERPRnQGpmZmZm1lNAWOF6FK6HNkBfG+i0gU4wQLuqqqqqajpArDbQaQOdOkCN61G4HmVBQAgAAAAAIEZAwB6F61FYTkBrZmZmZhZSQPPu7u7uPlJA7bSBThtoWEAInTbQaTNeQMFY8osll2ZA5xdLfrH8bUDAWPKLJX9vQGhmZmZm3mdA1wY6baCTVkCRJb9Y8gtAQNfMzMzMDDFAGHTaQKdNPED3Ubgehes7QFB+seQXK0JAMfnFkl+sRECb\\u002fGLJL7ZLQKdwPQrXA1FAwVjyiyUPUkC\\u002fu7u7u1tZQMX1KFyPwl5Ag04b6LQRZkAghetRuO5sQIjrUbgenW1ArKqqqqqyZkBxoNMGOg1VQKU20GkDHUBAQzMzMzNzMkB7A5020Ck+QOtApw10mj5AXVVVVVW1Q0AdrkfhetRFQLANdNpAR0tA0czMzMzsUECFThvotOFRQP3Fkl8syVpACzptoNMmX0BzPQrXoyBmQKPTBjpt0GxAyJJfLPlVbkABAAAAAKhmQA==\"},\"yaxis\":\"y\",\"type\":\"scatter\"},{\"hovertemplate\":\"variable=MA_5\\u003cbr\\u003eDate_new=%{x}\\u003cbr\\u003evalue=%{y}\\u003cextra\\u003e\\u003c\\u002fextra\\u003e\",\"legendgroup\":\"MA_5\",\"line\":{\"color\":\"#00cc96\",\"dash\":\"solid\"},\"marker\":{\"symbol\":\"circle\"},\"mode\":\"lines+markers\",\"name\":\"MA_5\",\"orientation\":\"v\",\"showlegend\":true,\"x\":[\"2023-01-06T00:00:00.000000000\",\"2023-01-07T00:00:00.000000000\",\"2023-01-08T00:00:00.000000000\",\"2023-01-09T00:00:00.000000000\",\"2023-01-10T00:00:00.000000000\",\"2023-01-11T00:00:00.000000000\",\"2023-01-12T00:00:00.000000000\",\"2023-01-13T00:00:00.000000000\",\"2023-01-14T00:00:00.000000000\",\"2023-01-15T00:00:00.000000000\",\"2023-01-16T00:00:00.000000000\",\"2023-01-17T00:00:00.000000000\",\"2023-01-18T00:00:00.000000000\",\"2023-01-19T00:00:00.000000000\",\"2023-01-20T00:00:00.000000000\",\"2023-02-06T00:00:00.000000000\",\"2023-02-07T00:00:00.000000000\",\"2023-02-08T00:00:00.000000000\",\"2023-02-09T00:00:00.000000000\",\"2023-02-10T00:00:00.000000000\",\"2023-02-11T00:00:00.000000000\",\"2023-02-12T00:00:00.000000000\",\"2023-02-13T00:00:00.000000000\",\"2023-02-14T00:00:00.000000000\",\"2023-02-15T00:00:00.000000000\",\"2023-02-16T00:00:00.000000000\",\"2023-02-17T00:00:00.000000000\",\"2023-02-18T00:00:00.000000000\",\"2023-02-19T00:00:00.000000000\",\"2023-02-20T00:00:00.000000000\",\"2023-03-06T00:00:00.000000000\",\"2023-03-07T00:00:00.000000000\",\"2023-03-08T00:00:00.000000000\",\"2023-03-09T00:00:00.000000000\",\"2023-03-10T00:00:00.000000000\",\"2023-03-11T00:00:00.000000000\",\"2023-03-12T00:00:00.000000000\",\"2023-03-13T00:00:00.000000000\",\"2023-03-14T00:00:00.000000000\",\"2023-03-15T00:00:00.000000000\",\"2023-03-16T00:00:00.000000000\",\"2023-03-17T00:00:00.000000000\",\"2023-03-18T00:00:00.000000000\",\"2023-03-19T00:00:00.000000000\",\"2023-03-20T00:00:00.000000000\",\"2023-04-06T00:00:00.000000000\",\"2023-04-07T00:00:00.000000000\",\"2023-04-08T00:00:00.000000000\",\"2023-04-09T00:00:00.000000000\",\"2023-04-10T00:00:00.000000000\",\"2023-04-11T00:00:00.000000000\",\"2023-04-12T00:00:00.000000000\",\"2023-04-13T00:00:00.000000000\",\"2023-04-14T00:00:00.000000000\",\"2023-04-15T00:00:00.000000000\",\"2023-04-16T00:00:00.000000000\",\"2023-04-17T00:00:00.000000000\",\"2023-04-18T00:00:00.000000000\",\"2023-04-19T00:00:00.000000000\",\"2023-04-20T00:00:00.000000000\",\"2023-05-06T00:00:00.000000000\",\"2023-05-07T00:00:00.000000000\",\"2023-05-08T00:00:00.000000000\",\"2023-05-09T00:00:00.000000000\",\"2023-05-10T00:00:00.000000000\",\"2023-05-11T00:00:00.000000000\",\"2023-05-12T00:00:00.000000000\",\"2023-05-13T00:00:00.000000000\",\"2023-05-14T00:00:00.000000000\",\"2023-05-15T00:00:00.000000000\",\"2023-05-16T00:00:00.000000000\",\"2023-05-17T00:00:00.000000000\",\"2023-05-18T00:00:00.000000000\",\"2023-05-19T00:00:00.000000000\",\"2023-05-20T00:00:00.000000000\",\"2023-06-06T00:00:00.000000000\",\"2023-06-07T00:00:00.000000000\",\"2023-06-08T00:00:00.000000000\",\"2023-06-09T00:00:00.000000000\",\"2023-06-10T00:00:00.000000000\",\"2023-06-11T00:00:00.000000000\",\"2023-06-12T00:00:00.000000000\",\"2023-06-13T00:00:00.000000000\",\"2023-06-14T00:00:00.000000000\",\"2023-06-15T00:00:00.000000000\",\"2023-06-16T00:00:00.000000000\",\"2023-06-17T00:00:00.000000000\",\"2023-06-18T00:00:00.000000000\",\"2023-06-19T00:00:00.000000000\",\"2023-06-20T00:00:00.000000000\",\"2023-07-05T00:00:00.000000000\",\"2023-07-06T00:00:00.000000000\",\"2023-07-07T00:00:00.000000000\",\"2023-07-08T00:00:00.000000000\",\"2023-07-09T00:00:00.000000000\",\"2023-07-10T00:00:00.000000000\",\"2023-07-11T00:00:00.000000000\",\"2023-07-12T00:00:00.000000000\",\"2023-07-13T00:00:00.000000000\",\"2023-07-14T00:00:00.000000000\",\"2023-07-15T00:00:00.000000000\",\"2023-07-16T00:00:00.000000000\",\"2023-07-17T00:00:00.000000000\",\"2023-07-18T00:00:00.000000000\",\"2023-07-19T00:00:00.000000000\",\"2023-07-20T00:00:00.000000000\",\"2023-08-05T00:00:00.000000000\",\"2023-08-06T00:00:00.000000000\",\"2023-08-07T00:00:00.000000000\",\"2023-08-08T00:00:00.000000000\",\"2023-08-09T00:00:00.000000000\",\"2023-08-10T00:00:00.000000000\",\"2023-08-11T00:00:00.000000000\",\"2023-08-12T00:00:00.000000000\",\"2023-08-13T00:00:00.000000000\",\"2023-08-14T00:00:00.000000000\",\"2023-08-15T00:00:00.000000000\",\"2023-08-16T00:00:00.000000000\",\"2023-08-17T00:00:00.000000000\",\"2023-08-18T00:00:00.000000000\",\"2023-08-19T00:00:00.000000000\",\"2023-08-20T00:00:00.000000000\",\"2023-09-05T00:00:00.000000000\",\"2023-09-06T00:00:00.000000000\",\"2023-09-07T00:00:00.000000000\",\"2023-09-08T00:00:00.000000000\",\"2023-09-09T00:00:00.000000000\",\"2023-09-10T00:00:00.000000000\",\"2023-09-11T00:00:00.000000000\",\"2023-09-12T00:00:00.000000000\",\"2023-09-13T00:00:00.000000000\",\"2023-09-14T00:00:00.000000000\",\"2023-09-15T00:00:00.000000000\",\"2023-09-16T00:00:00.000000000\",\"2023-09-17T00:00:00.000000000\",\"2023-09-18T00:00:00.000000000\",\"2023-09-19T00:00:00.000000000\",\"2023-09-20T00:00:00.000000000\",\"2023-10-05T00:00:00.000000000\",\"2023-10-06T00:00:00.000000000\",\"2023-10-07T00:00:00.000000000\",\"2023-10-08T00:00:00.000000000\",\"2023-10-09T00:00:00.000000000\",\"2023-10-10T00:00:00.000000000\",\"2023-10-11T00:00:00.000000000\",\"2023-10-12T00:00:00.000000000\",\"2023-10-13T00:00:00.000000000\",\"2023-10-14T00:00:00.000000000\",\"2023-10-15T00:00:00.000000000\",\"2023-10-16T00:00:00.000000000\",\"2023-10-17T00:00:00.000000000\",\"2023-10-18T00:00:00.000000000\",\"2023-10-19T00:00:00.000000000\",\"2023-10-20T00:00:00.000000000\",\"2023-11-05T00:00:00.000000000\",\"2023-11-06T00:00:00.000000000\",\"2023-11-07T00:00:00.000000000\",\"2023-11-08T00:00:00.000000000\",\"2023-11-09T00:00:00.000000000\",\"2023-11-10T00:00:00.000000000\",\"2023-11-11T00:00:00.000000000\",\"2023-11-12T00:00:00.000000000\",\"2023-11-13T00:00:00.000000000\",\"2023-11-14T00:00:00.000000000\",\"2023-11-15T00:00:00.000000000\",\"2023-11-16T00:00:00.000000000\",\"2023-11-17T00:00:00.000000000\",\"2023-11-18T00:00:00.000000000\",\"2023-11-19T00:00:00.000000000\",\"2023-11-20T00:00:00.000000000\",\"2023-12-05T00:00:00.000000000\",\"2023-12-06T00:00:00.000000000\",\"2023-12-07T00:00:00.000000000\",\"2023-12-08T00:00:00.000000000\",\"2023-12-09T00:00:00.000000000\",\"2023-12-10T00:00:00.000000000\",\"2023-12-11T00:00:00.000000000\",\"2023-12-12T00:00:00.000000000\",\"2023-12-13T00:00:00.000000000\",\"2023-12-14T00:00:00.000000000\",\"2023-12-15T00:00:00.000000000\",\"2023-12-16T00:00:00.000000000\",\"2023-12-17T00:00:00.000000000\",\"2023-12-18T00:00:00.000000000\",\"2023-12-19T00:00:00.000000000\"],\"xaxis\":\"x\",\"y\":{\"dtype\":\"f8\",\"bdata\":\"AAAAAAAA+H8AAAAAAAD4fwAAAAAAAPh\\u002fAAAAAAAA+H+tHFpkO58\\u002fQLbz\\u002fdR4iUNAHoXrUbgeR0BuEoPAyoFMQH5qvHSTuFBAtch2vp\\u002faVkCoxks3ibFbQOomMQisLGNAsHJoke1saUCDwMqhRb5sQP7UeOkmaWlAQDVeukkUZkDD9Shcj6JfQBkEVg4tYlBAYOXQItu5PECamZmZmVk+QP7UeOkmsUJAku18PzW+RkDGSzeJQUBLQClcj8L1KFBAlkOLbOdrVkAgsHJokb1aQB1aZDvf52JAtvP91HiZaEBQjZduEttsQB1aZDvfZ2lAnu+nxkt3ZkBWDi2ync9fQIlBYOXQYlFAzczMzMxMOUAw3SQGgZU8QAisHFpke0JA3iQGgZUDR0D1KFyPwjVMQAVWDi2yvVFAzvdT46VbV0BjO99PjedcQBWuR+F6XGRAne+nxkvXaUB1kxgEVqZuQEa28\\u002f3UIGtAbef7qfFKZ0CuR+F6FE5gQMUgsHJoEVNAJzEIrBxaOEDVeOkmMUg\\u002fQCYGgZVDy0NAhutRuB7FR0AwCKwcWmROQPhT46Wb1FJAVg4tsp1fWED7qfHSTcJeQP\\u002f\\u002f\\u002f\\u002f\\u002f\\u002fx2VAFtnO91NTbEDgT42XblJuQO58PzVe0mpA2c73U+ONZkAmMQisHHpeQOomMQis3EtA2s73U+MlO0Dvp8ZLN4lAQD0K16NwvURABFYOLbL9R0CNl24Sg6BOQI2XbhKDwFNAUI2XbhKzWUBDi2zn+4FgQEA1XrpJBGZAeukmMQg8bEC9dJMYBBZtQOOlm8QgWGlAMjMzMzOTZEDgehSuR6FcQM3MzMzM7EhAGARWDi0yOkBlO99PjZc\\u002fQEa28\\u002f3UeERA1XjpJjGoR0BjO99PjZdOQEJg5dAiO1NA1XjpJjH4WEB2vp8aL3VgQArXo3A9EmZAmpmZmZlBbEDQ91PjpUNsQJzEILBysGhAHVpkO993Y0DHSzeJQSBZQPYoXI\\u002fCFURAhutRuB6FN0Dvp8ZLN8k4QLKd76fGC0FA+FPjpZukRUDC9ShcjyJJQDiJQWDlEE1ARrbz\\u002fdRYUkCsHFpkO69XQAAAAAAAYGBA+6nx0k2aZ0BmZmZmZi5vQBgEVg4twm5AUrgehevpakBuEoPAyillQAIrhxbZHllAZmZmZmYmQUAOLbKd72c1QNv5fmq8tDlAzvdT46W7QUDC9Shcj4JFQJzEILByaEhA1qNwPQqXSkAQWDm0yFZRQHJoke18H1VAncQgsHL4X0BLN4lBYB1nQLKd76fGe25Avp8aL90cbUCDwMqhRQZqQF66SQwCi2NA3SQGgZVzVkDazvdT42U9QG3n+6nxUjZA2s73U+OlO0CgGi\\u002fdJIZDQFPjpZvEIEdAikFg5dCiSkANAiuHFvlNQBKDwMqhhVJAILByaJFNVkCBlUOLbA9gQJLtfD815mZAQDVeukkMakCmm8QgsEpoQClcj8L1+GRAWmQ7308NXkBuEoPAymFLQIXrUbgexTpAGQRWDi0yNUC6SQwCKwc8QC2yne+n5kNAfT81XrrpR0AmBoGVQ8tLQA8tsp3v51BAbxKDwMphVUDiehSuR2FZQPhT46WbdGFAbxKDwMpBZ0Boke18Px1qQCPb+X5qdGhAxks3iUH4ZEDKdr6fGu9dQNijcD0K905AukkMAivHQEBeukkMAus1QEA1XrpJjD1A5\\u002fup8dKNQ0B\\u002farx0k3hGQPp+arx0s0pA6iYxCKxsUEAAAAAAAABVQJhuEoPAmllAeekmMQhMYUDiehSuR8FmQMl2vp8aJ2lA9P3UeOlOZ0BH4XoUrtdjQPLSTWIQqFxAFa5H4XpUTUB\\u002farx0k1hBQH0\\u002fNV66CThA8KfGSzfJP0Atsp3vp8ZEQGDl0CLb2UZAgJVDi2wnS0ARWDm0yIZQQBKDwMqhlVVA8tJNYhC4WUCmm8QgsHJhQEa28\\u002f3UAGdA\\u002fanx0k2yaUCpxks3iQFnQA==\"},\"yaxis\":\"y\",\"type\":\"scatter\"}],                        {\"legend\":{\"title\":{\"text\":\"variable\"},\"tracegroupgap\":0},\"template\":{\"data\":{\"barpolar\":[{\"marker\":{\"line\":{\"color\":\"#E5ECF6\",\"width\":0.5},\"pattern\":{\"fillmode\":\"overlay\",\"size\":10,\"solidity\":0.2}},\"type\":\"barpolar\"}],\"bar\":[{\"error_x\":{\"color\":\"#2a3f5f\"},\"error_y\":{\"color\":\"#2a3f5f\"},\"marker\":{\"line\":{\"color\":\"#E5ECF6\",\"width\":0.5},\"pattern\":{\"fillmode\":\"overlay\",\"size\":10,\"solidity\":0.2}},\"type\":\"bar\"}],\"carpet\":[{\"aaxis\":{\"endlinecolor\":\"#2a3f5f\",\"gridcolor\":\"white\",\"linecolor\":\"white\",\"minorgridcolor\":\"white\",\"startlinecolor\":\"#2a3f5f\"},\"baxis\":{\"endlinecolor\":\"#2a3f5f\",\"gridcolor\":\"white\",\"linecolor\":\"white\",\"minorgridcolor\":\"white\",\"startlinecolor\":\"#2a3f5f\"},\"type\":\"carpet\"}],\"choropleth\":[{\"colorbar\":{\"outlinewidth\":0,\"ticks\":\"\"},\"type\":\"choropleth\"}],\"contourcarpet\":[{\"colorbar\":{\"outlinewidth\":0,\"ticks\":\"\"},\"type\":\"contourcarpet\"}],\"contour\":[{\"colorbar\":{\"outlinewidth\":0,\"ticks\":\"\"},\"colorscale\":[[0.0,\"#0d0887\"],[0.1111111111111111,\"#46039f\"],[0.2222222222222222,\"#7201a8\"],[0.3333333333333333,\"#9c179e\"],[0.4444444444444444,\"#bd3786\"],[0.5555555555555556,\"#d8576b\"],[0.6666666666666666,\"#ed7953\"],[0.7777777777777778,\"#fb9f3a\"],[0.8888888888888888,\"#fdca26\"],[1.0,\"#f0f921\"]],\"type\":\"contour\"}],\"heatmap\":[{\"colorbar\":{\"outlinewidth\":0,\"ticks\":\"\"},\"colorscale\":[[0.0,\"#0d0887\"],[0.1111111111111111,\"#46039f\"],[0.2222222222222222,\"#7201a8\"],[0.3333333333333333,\"#9c179e\"],[0.4444444444444444,\"#bd3786\"],[0.5555555555555556,\"#d8576b\"],[0.6666666666666666,\"#ed7953\"],[0.7777777777777778,\"#fb9f3a\"],[0.8888888888888888,\"#fdca26\"],[1.0,\"#f0f921\"]],\"type\":\"heatmap\"}],\"histogram2dcontour\":[{\"colorbar\":{\"outlinewidth\":0,\"ticks\":\"\"},\"colorscale\":[[0.0,\"#0d0887\"],[0.1111111111111111,\"#46039f\"],[0.2222222222222222,\"#7201a8\"],[0.3333333333333333,\"#9c179e\"],[0.4444444444444444,\"#bd3786\"],[0.5555555555555556,\"#d8576b\"],[0.6666666666666666,\"#ed7953\"],[0.7777777777777778,\"#fb9f3a\"],[0.8888888888888888,\"#fdca26\"],[1.0,\"#f0f921\"]],\"type\":\"histogram2dcontour\"}],\"histogram2d\":[{\"colorbar\":{\"outlinewidth\":0,\"ticks\":\"\"},\"colorscale\":[[0.0,\"#0d0887\"],[0.1111111111111111,\"#46039f\"],[0.2222222222222222,\"#7201a8\"],[0.3333333333333333,\"#9c179e\"],[0.4444444444444444,\"#bd3786\"],[0.5555555555555556,\"#d8576b\"],[0.6666666666666666,\"#ed7953\"],[0.7777777777777778,\"#fb9f3a\"],[0.8888888888888888,\"#fdca26\"],[1.0,\"#f0f921\"]],\"type\":\"histogram2d\"}],\"histogram\":[{\"marker\":{\"pattern\":{\"fillmode\":\"overlay\",\"size\":10,\"solidity\":0.2}},\"type\":\"histogram\"}],\"mesh3d\":[{\"colorbar\":{\"outlinewidth\":0,\"ticks\":\"\"},\"type\":\"mesh3d\"}],\"parcoords\":[{\"line\":{\"colorbar\":{\"outlinewidth\":0,\"ticks\":\"\"}},\"type\":\"parcoords\"}],\"pie\":[{\"automargin\":true,\"type\":\"pie\"}],\"scatter3d\":[{\"line\":{\"colorbar\":{\"outlinewidth\":0,\"ticks\":\"\"}},\"marker\":{\"colorbar\":{\"outlinewidth\":0,\"ticks\":\"\"}},\"type\":\"scatter3d\"}],\"scattercarpet\":[{\"marker\":{\"colorbar\":{\"outlinewidth\":0,\"ticks\":\"\"}},\"type\":\"scattercarpet\"}],\"scattergeo\":[{\"marker\":{\"colorbar\":{\"outlinewidth\":0,\"ticks\":\"\"}},\"type\":\"scattergeo\"}],\"scattergl\":[{\"marker\":{\"colorbar\":{\"outlinewidth\":0,\"ticks\":\"\"}},\"type\":\"scattergl\"}],\"scattermapbox\":[{\"marker\":{\"colorbar\":{\"outlinewidth\":0,\"ticks\":\"\"}},\"type\":\"scattermapbox\"}],\"scattermap\":[{\"marker\":{\"colorbar\":{\"outlinewidth\":0,\"ticks\":\"\"}},\"type\":\"scattermap\"}],\"scatterpolargl\":[{\"marker\":{\"colorbar\":{\"outlinewidth\":0,\"ticks\":\"\"}},\"type\":\"scatterpolargl\"}],\"scatterpolar\":[{\"marker\":{\"colorbar\":{\"outlinewidth\":0,\"ticks\":\"\"}},\"type\":\"scatterpolar\"}],\"scatter\":[{\"fillpattern\":{\"fillmode\":\"overlay\",\"size\":10,\"solidity\":0.2},\"type\":\"scatter\"}],\"scatterternary\":[{\"marker\":{\"colorbar\":{\"outlinewidth\":0,\"ticks\":\"\"}},\"type\":\"scatterternary\"}],\"surface\":[{\"colorbar\":{\"outlinewidth\":0,\"ticks\":\"\"},\"colorscale\":[[0.0,\"#0d0887\"],[0.1111111111111111,\"#46039f\"],[0.2222222222222222,\"#7201a8\"],[0.3333333333333333,\"#9c179e\"],[0.4444444444444444,\"#bd3786\"],[0.5555555555555556,\"#d8576b\"],[0.6666666666666666,\"#ed7953\"],[0.7777777777777778,\"#fb9f3a\"],[0.8888888888888888,\"#fdca26\"],[1.0,\"#f0f921\"]],\"type\":\"surface\"}],\"table\":[{\"cells\":{\"fill\":{\"color\":\"#EBF0F8\"},\"line\":{\"color\":\"white\"}},\"header\":{\"fill\":{\"color\":\"#C8D4E3\"},\"line\":{\"color\":\"white\"}},\"type\":\"table\"}]},\"layout\":{\"annotationdefaults\":{\"arrowcolor\":\"#2a3f5f\",\"arrowhead\":0,\"arrowwidth\":1},\"autotypenumbers\":\"strict\",\"coloraxis\":{\"colorbar\":{\"outlinewidth\":0,\"ticks\":\"\"}},\"colorscale\":{\"diverging\":[[0,\"#8e0152\"],[0.1,\"#c51b7d\"],[0.2,\"#de77ae\"],[0.3,\"#f1b6da\"],[0.4,\"#fde0ef\"],[0.5,\"#f7f7f7\"],[0.6,\"#e6f5d0\"],[0.7,\"#b8e186\"],[0.8,\"#7fbc41\"],[0.9,\"#4d9221\"],[1,\"#276419\"]],\"sequential\":[[0.0,\"#0d0887\"],[0.1111111111111111,\"#46039f\"],[0.2222222222222222,\"#7201a8\"],[0.3333333333333333,\"#9c179e\"],[0.4444444444444444,\"#bd3786\"],[0.5555555555555556,\"#d8576b\"],[0.6666666666666666,\"#ed7953\"],[0.7777777777777778,\"#fb9f3a\"],[0.8888888888888888,\"#fdca26\"],[1.0,\"#f0f921\"]],\"sequentialminus\":[[0.0,\"#0d0887\"],[0.1111111111111111,\"#46039f\"],[0.2222222222222222,\"#7201a8\"],[0.3333333333333333,\"#9c179e\"],[0.4444444444444444,\"#bd3786\"],[0.5555555555555556,\"#d8576b\"],[0.6666666666666666,\"#ed7953\"],[0.7777777777777778,\"#fb9f3a\"],[0.8888888888888888,\"#fdca26\"],[1.0,\"#f0f921\"]]},\"colorway\":[\"#636efa\",\"#EF553B\",\"#00cc96\",\"#ab63fa\",\"#FFA15A\",\"#19d3f3\",\"#FF6692\",\"#B6E880\",\"#FF97FF\",\"#FECB52\"],\"font\":{\"color\":\"#2a3f5f\"},\"geo\":{\"bgcolor\":\"white\",\"lakecolor\":\"white\",\"landcolor\":\"#E5ECF6\",\"showlakes\":true,\"showland\":true,\"subunitcolor\":\"white\"},\"hoverlabel\":{\"align\":\"left\"},\"hovermode\":\"closest\",\"mapbox\":{\"style\":\"light\"},\"paper_bgcolor\":\"white\",\"plot_bgcolor\":\"#E5ECF6\",\"polar\":{\"angularaxis\":{\"gridcolor\":\"white\",\"linecolor\":\"white\",\"ticks\":\"\"},\"bgcolor\":\"#E5ECF6\",\"radialaxis\":{\"gridcolor\":\"white\",\"linecolor\":\"white\",\"ticks\":\"\"}},\"scene\":{\"xaxis\":{\"backgroundcolor\":\"#E5ECF6\",\"gridcolor\":\"white\",\"gridwidth\":2,\"linecolor\":\"white\",\"showbackground\":true,\"ticks\":\"\",\"zerolinecolor\":\"white\"},\"yaxis\":{\"backgroundcolor\":\"#E5ECF6\",\"gridcolor\":\"white\",\"gridwidth\":2,\"linecolor\":\"white\",\"showbackground\":true,\"ticks\":\"\",\"zerolinecolor\":\"white\"},\"zaxis\":{\"backgroundcolor\":\"#E5ECF6\",\"gridcolor\":\"white\",\"gridwidth\":2,\"linecolor\":\"white\",\"showbackground\":true,\"ticks\":\"\",\"zerolinecolor\":\"white\"}},\"shapedefaults\":{\"line\":{\"color\":\"#2a3f5f\"}},\"ternary\":{\"aaxis\":{\"gridcolor\":\"white\",\"linecolor\":\"white\",\"ticks\":\"\"},\"baxis\":{\"gridcolor\":\"white\",\"linecolor\":\"white\",\"ticks\":\"\"},\"bgcolor\":\"#E5ECF6\",\"caxis\":{\"gridcolor\":\"white\",\"linecolor\":\"white\",\"ticks\":\"\"}},\"title\":{\"x\":0.05},\"xaxis\":{\"automargin\":true,\"gridcolor\":\"white\",\"linecolor\":\"white\",\"ticks\":\"\",\"title\":{\"standoff\":15},\"zerolinecolor\":\"white\",\"zerolinewidth\":2},\"yaxis\":{\"automargin\":true,\"gridcolor\":\"white\",\"linecolor\":\"white\",\"ticks\":\"\",\"title\":{\"standoff\":15},\"zerolinecolor\":\"white\",\"zerolinewidth\":2}}},\"title\":{\"text\":\"Moving Averages\"},\"xaxis\":{\"anchor\":\"y\",\"domain\":[0.0,1.0],\"title\":{\"text\":\"Date_new\"}},\"yaxis\":{\"anchor\":\"x\",\"domain\":[0.0,1.0],\"title\":{\"text\":\"value\"}}},                        {\"responsive\": true}                    ).then(function(){\n",
       "                            \n",
       "var gd = document.getElementById('1462f341-eeb4-4bcb-b566-2d461a09ca7a');\n",
       "var x = new MutationObserver(function (mutations, observer) {{\n",
       "        var display = window.getComputedStyle(gd).display;\n",
       "        if (!display || display === 'none') {{\n",
       "            console.log([gd, 'removed!']);\n",
       "            Plotly.purge(gd);\n",
       "            observer.disconnect();\n",
       "        }}\n",
       "}});\n",
       "\n",
       "// Listen for the removal of the full notebook cells\n",
       "var notebookContainer = gd.closest('#notebook-container');\n",
       "if (notebookContainer) {{\n",
       "    x.observe(notebookContainer, {childList: true});\n",
       "}}\n",
       "\n",
       "// Listen for the clearing of the current output cell\n",
       "var outputEl = gd.closest('.output');\n",
       "if (outputEl) {{\n",
       "    x.observe(outputEl, {childList: true});\n",
       "}}\n",
       "\n",
       "                        })                };            </script>        </div>"
      ]
     },
     "metadata": {},
     "output_type": "display_data"
    }
   ],
   "source": [
    "# Chart - 7 visualization code\n",
    "\n",
    "\n",
    "fig = px.line(df, x='Date_new', y=['Close','MA_3', 'MA_5'], title='Moving Averages')\n",
    "fig.update_traces(mode='lines+markers')\n",
    "iplot(fig)"
   ]
  },
  {
   "cell_type": "markdown",
   "metadata": {
    "id": "t27r6nlMphqO"
   },
   "source": [
    "##### 1. Why did you pick the specific chart?"
   ]
  },
  {
   "cell_type": "markdown",
   "metadata": {
    "id": "iv6ro40sphqO"
   },
   "source": [
    "Answer Here."
   ]
  },
  {
   "cell_type": "markdown",
   "metadata": {
    "id": "r2jJGEOYphqO"
   },
   "source": [
    "##### 2. What is/are the insight(s) found from the chart?"
   ]
  },
  {
   "cell_type": "markdown",
   "metadata": {
    "id": "Po6ZPi4hphqO"
   },
   "source": [
    "Answer Here"
   ]
  },
  {
   "cell_type": "markdown",
   "metadata": {
    "id": "b0JNsNcRphqO"
   },
   "source": [
    "##### 3. Will the gained insights help creating a positive business impact? \n",
    "Are there any insights that lead to negative growth? Justify with specific reason."
   ]
  },
  {
   "cell_type": "markdown",
   "metadata": {
    "id": "xvSq8iUTphqO"
   },
   "source": [
    "Answer Here"
   ]
  },
  {
   "cell_type": "markdown",
   "metadata": {
    "id": "BZR9WyysphqO"
   },
   "source": [
    "#### Chart - 8"
   ]
  },
  {
   "cell_type": "code",
   "execution_count": 39,
   "metadata": {
    "id": "TdPTWpAVphqO"
   },
   "outputs": [
    {
     "data": {
      "image/png": "[encoded data removed]",
      "text/plain": [
       "<Figure size 800x600 with 2 Axes>"
      ]
     },
     "metadata": {},
     "output_type": "display_data"
    }
   ],
   "source": [
    "# Chart - 8 visualization code\n",
    "numeric_df = df[['Open', 'High', 'Low', 'Close']]\n",
    "plt.figure(figsize=(8,6))\n",
    "sns.heatmap(numeric_df.corr(), annot=True, cmap='coolwarm')\n",
    "plt.title('Price Correlations')\n",
    "plt.show()"
   ]
  },
  {
   "cell_type": "markdown",
   "metadata": {
    "id": "jj7wYXLtphqO"
   },
   "source": [
    "##### 1. Why did you pick the specific chart?"
   ]
  },
  {
   "cell_type": "markdown",
   "metadata": {
    "id": "Ob8u6rCTphqO"
   },
   "source": [
    "Answer Here."
   ]
  },
  {
   "cell_type": "markdown",
   "metadata": {
    "id": "eZrbJ2SmphqO"
   },
   "source": [
    "##### 2. What is/are the insight(s) found from the chart?"
   ]
  },
  {
   "cell_type": "markdown",
   "metadata": {
    "id": "mZtgC_hjphqO"
   },
   "source": [
    "Answer Here"
   ]
  },
  {
   "cell_type": "markdown",
   "metadata": {
    "id": "rFu4xreNphqO"
   },
   "source": [
    "##### 3. Will the gained insights help creating a positive business impact? \n",
    "Are there any insights that lead to negative growth? Justify with specific reason."
   ]
  },
  {
   "cell_type": "markdown",
   "metadata": {
    "id": "ey_0qi68phqO"
   },
   "source": [
    "Answer Here"
   ]
  },
  {
   "cell_type": "markdown",
   "metadata": {
    "id": "YJ55k-q6phqO"
   },
   "source": [
    "#### Chart - 9"
   ]
  },
  {
   "cell_type": "code",
   "execution_count": 43,
   "metadata": {
    "id": "B2aS4O1ophqO"
   },
   "outputs": [],
   "source": [
    "# Chart - 9 visualization code\n",
    "\n"
   ]
  },
  {
   "cell_type": "markdown",
   "metadata": {
    "id": "gCFgpxoyphqP"
   },
   "source": [
    "##### 1. Why did you pick the specific chart?"
   ]
  },
  {
   "cell_type": "markdown",
   "metadata": {
    "id": "TVxDimi2phqP"
   },
   "source": [
    "Answer Here."
   ]
  },
  {
   "cell_type": "markdown",
   "metadata": {
    "id": "OVtJsKN_phqQ"
   },
   "source": [
    "##### 2. What is/are the insight(s) found from the chart?"
   ]
  },
  {
   "cell_type": "markdown",
   "metadata": {
    "id": "ngGi97qjphqQ"
   },
   "source": [
    "Answer Here"
   ]
  },
  {
   "cell_type": "markdown",
   "metadata": {
    "id": "lssrdh5qphqQ"
   },
   "source": [
    "##### 3. Will the gained insights help creating a positive business impact? \n",
    "Are there any insights that lead to negative growth? Justify with specific reason."
   ]
  },
  {
   "cell_type": "markdown",
   "metadata": {
    "id": "tBpY5ekJphqQ"
   },
   "source": [
    "Answer Here"
   ]
  },
  {
   "cell_type": "markdown",
   "metadata": {
    "id": "U2RJ9gkRphqQ"
   },
   "source": [
    "#### Chart - 10"
   ]
  },
  {
   "cell_type": "code",
   "execution_count": null,
   "metadata": {
    "id": "GM7a4YP4phqQ"
   },
   "outputs": [],
   "source": [
    "# Chart - 10 visualization code"
   ]
  },
  {
   "cell_type": "markdown",
   "metadata": {
    "id": "1M8mcRywphqQ"
   },
   "source": [
    "##### 1. Why did you pick the specific chart?"
   ]
  },
  {
   "cell_type": "markdown",
   "metadata": {
    "id": "8agQvks0phqQ"
   },
   "source": [
    "Answer Here."
   ]
  },
  {
   "cell_type": "markdown",
   "metadata": {
    "id": "tgIPom80phqQ"
   },
   "source": [
    "##### 2. What is/are the insight(s) found from the chart?"
   ]
  },
  {
   "cell_type": "markdown",
   "metadata": {
    "id": "Qp13pnNzphqQ"
   },
   "source": [
    "Answer Here"
   ]
  },
  {
   "cell_type": "markdown",
   "metadata": {
    "id": "JMzcOPDDphqR"
   },
   "source": [
    "##### 3. Will the gained insights help creating a positive business impact? \n",
    "Are there any insights that lead to negative growth? Justify with specific reason."
   ]
  },
  {
   "cell_type": "markdown",
   "metadata": {
    "id": "R4Ka1PC2phqR"
   },
   "source": [
    "Answer Here"
   ]
  },
  {
   "cell_type": "markdown",
   "metadata": {
    "id": "x-EpHcCOp1ci"
   },
   "source": [
    "#### Chart - 11"
   ]
  },
  {
   "cell_type": "code",
   "execution_count": null,
   "metadata": {
    "id": "mAQTIvtqp1cj"
   },
   "outputs": [],
   "source": [
    "# Chart - 11 visualization code"
   ]
  },
  {
   "cell_type": "markdown",
   "metadata": {
    "id": "X_VqEhTip1ck"
   },
   "source": [
    "##### 1. Why did you pick the specific chart?"
   ]
  },
  {
   "cell_type": "markdown",
   "metadata": {
    "id": "-vsMzt_np1ck"
   },
   "source": [
    "Answer Here."
   ]
  },
  {
   "cell_type": "markdown",
   "metadata": {
    "id": "8zGJKyg5p1ck"
   },
   "source": [
    "##### 2. What is/are the insight(s) found from the chart?"
   ]
  },
  {
   "cell_type": "markdown",
   "metadata": {
    "id": "ZYdMsrqVp1ck"
   },
   "source": [
    "Answer Here"
   ]
  },
  {
   "cell_type": "markdown",
   "metadata": {
    "id": "PVzmfK_Ep1ck"
   },
   "source": [
    "##### 3. Will the gained insights help creating a positive business impact? \n",
    "Are there any insights that lead to negative growth? Justify with specific reason."
   ]
  },
  {
   "cell_type": "markdown",
   "metadata": {
    "id": "druuKYZpp1ck"
   },
   "source": [
    "Answer Here"
   ]
  },
  {
   "cell_type": "markdown",
   "metadata": {
    "id": "n3dbpmDWp1ck"
   },
   "source": [
    "#### Chart - 12"
   ]
  },
  {
   "cell_type": "code",
   "execution_count": null,
   "metadata": {
    "id": "bwevp1tKp1ck"
   },
   "outputs": [],
   "source": [
    "# Chart - 12 visualization code"
   ]
  },
  {
   "cell_type": "markdown",
   "metadata": {
    "id": "ylSl6qgtp1ck"
   },
   "source": [
    "##### 1. Why did you pick the specific chart?"
   ]
  },
  {
   "cell_type": "markdown",
   "metadata": {
    "id": "m2xqNkiQp1ck"
   },
   "source": [
    "Answer Here."
   ]
  },
  {
   "cell_type": "markdown",
   "metadata": {
    "id": "ZWILFDl5p1ck"
   },
   "source": [
    "##### 2. What is/are the insight(s) found from the chart?"
   ]
  },
  {
   "cell_type": "markdown",
   "metadata": {
    "id": "x-lUsV2mp1ck"
   },
   "source": [
    "Answer Here"
   ]
  },
  {
   "cell_type": "markdown",
   "metadata": {
    "id": "M7G43BXep1ck"
   },
   "source": [
    "##### 3. Will the gained insights help creating a positive business impact? \n",
    "Are there any insights that lead to negative growth? Justify with specific reason."
   ]
  },
  {
   "cell_type": "markdown",
   "metadata": {
    "id": "5wwDJXsLp1cl"
   },
   "source": [
    "Answer Here"
   ]
  },
  {
   "cell_type": "markdown",
   "metadata": {
    "id": "Ag9LCva-p1cl"
   },
   "source": [
    "#### Chart - 13"
   ]
  },
  {
   "cell_type": "code",
   "execution_count": null,
   "metadata": {
    "id": "EUfxeq9-p1cl"
   },
   "outputs": [],
   "source": [
    "# Chart - 13 visualization code"
   ]
  },
  {
   "cell_type": "markdown",
   "metadata": {
    "id": "E6MkPsBcp1cl"
   },
   "source": [
    "##### 1. Why did you pick the specific chart?"
   ]
  },
  {
   "cell_type": "markdown",
   "metadata": {
    "id": "V22bRsFWp1cl"
   },
   "source": [
    "Answer Here."
   ]
  },
  {
   "cell_type": "markdown",
   "metadata": {
    "id": "2cELzS2fp1cl"
   },
   "source": [
    "##### 2. What is/are the insight(s) found from the chart?"
   ]
  },
  {
   "cell_type": "markdown",
   "metadata": {
    "id": "ozQPc2_Ip1cl"
   },
   "source": [
    "Answer Here"
   ]
  },
  {
   "cell_type": "markdown",
   "metadata": {
    "id": "3MPXvC8up1cl"
   },
   "source": [
    "##### 3. Will the gained insights help creating a positive business impact? \n",
    "Are there any insights that lead to negative growth? Justify with specific reason."
   ]
  },
  {
   "cell_type": "markdown",
   "metadata": {
    "id": "GL8l1tdLp1cl"
   },
   "source": [
    "Answer Here"
   ]
  },
  {
   "cell_type": "markdown",
   "metadata": {
    "id": "NC_X3p0fY2L0"
   },
   "source": [
    "#### Chart - 14 - Correlation Heatmap"
   ]
  },
  {
   "cell_type": "code",
   "execution_count": null,
   "metadata": {
    "id": "xyC9zolEZNRQ"
   },
   "outputs": [],
   "source": [
    "# Correlation Heatmap visualization code"
   ]
  },
  {
   "cell_type": "markdown",
   "metadata": {
    "id": "UV0SzAkaZNRQ"
   },
   "source": [
    "##### 1. Why did you pick the specific chart?"
   ]
  },
  {
   "cell_type": "markdown",
   "metadata": {
    "id": "DVPuT8LYZNRQ"
   },
   "source": [
    "Answer Here."
   ]
  },
  {
   "cell_type": "markdown",
   "metadata": {
    "id": "YPEH6qLeZNRQ"
   },
   "source": [
    "##### 2. What is/are the insight(s) found from the chart?"
   ]
  },
  {
   "cell_type": "markdown",
   "metadata": {
    "id": "bfSqtnDqZNRR"
   },
   "source": [
    "Answer Here"
   ]
  },
  {
   "cell_type": "markdown",
   "metadata": {
    "id": "q29F0dvdveiT"
   },
   "source": [
    "#### Chart - 15 - Pair Plot "
   ]
  },
  {
   "cell_type": "code",
   "execution_count": null,
   "metadata": {
    "id": "o58-TEIhveiU"
   },
   "outputs": [],
   "source": [
    "# Pair Plot visualization code"
   ]
  },
  {
   "cell_type": "markdown",
   "metadata": {
    "id": "EXh0U9oCveiU"
   },
   "source": [
    "##### 1. Why did you pick the specific chart?"
   ]
  },
  {
   "cell_type": "markdown",
   "metadata": {
    "id": "eMmPjTByveiU"
   },
   "source": [
    "Answer Here."
   ]
  },
  {
   "cell_type": "markdown",
   "metadata": {
    "id": "22aHeOlLveiV"
   },
   "source": [
    "##### 2. What is/are the insight(s) found from the chart?"
   ]
  },
  {
   "cell_type": "markdown",
   "metadata": {
    "id": "uPQ8RGwHveiV"
   },
   "source": [
    "Answer Here"
   ]
  },
  {
   "cell_type": "markdown",
   "metadata": {
    "id": "g-ATYxFrGrvw"
   },
   "source": [
    "## ***5. Hypothesis Testing***"
   ]
  },
  {
   "cell_type": "markdown",
   "metadata": {
    "id": "Yfr_Vlr8HBkt"
   },
   "source": [
    "### Based on your chart experiments, define three hypothetical statements from the dataset. In the next three questions, perform hypothesis testing to obtain final conclusion about the statements through your code and statistical testing."
   ]
  },
  {
   "cell_type": "markdown",
   "metadata": {
    "id": "-7MS06SUHkB-"
   },
   "source": [
    "Answer Here."
   ]
  },
  {
   "cell_type": "markdown",
   "metadata": {
    "id": "8yEUt7NnHlrM"
   },
   "source": [
    "### Hypothetical Statement - 1"
   ]
  },
  {
   "cell_type": "markdown",
   "metadata": {
    "id": "tEA2Xm5dHt1r"
   },
   "source": [
    "#### 1. State Your research hypothesis as a null hypothesis and alternate hypothesis."
   ]
  },
  {
   "cell_type": "markdown",
   "metadata": {
    "id": "HI9ZP0laH0D-"
   },
   "source": [
    "Answer Here."
   ]
  },
  {
   "cell_type": "markdown",
   "metadata": {
    "id": "I79__PHVH19G"
   },
   "source": [
    "#### 2. Perform an appropriate statistical test."
   ]
  },
  {
   "cell_type": "code",
   "execution_count": null,
   "metadata": {
    "id": "oZrfquKtyian"
   },
   "outputs": [],
   "source": [
    "# Perform Statistical Test to obtain P-Value"
   ]
  },
  {
   "cell_type": "markdown",
   "metadata": {
    "id": "Ou-I18pAyIpj"
   },
   "source": [
    "##### Which statistical test have you done to obtain P-Value?"
   ]
  },
  {
   "cell_type": "markdown",
   "metadata": {
    "id": "s2U0kk00ygSB"
   },
   "source": [
    "Answer Here."
   ]
  },
  {
   "cell_type": "markdown",
   "metadata": {
    "id": "fF3858GYyt-u"
   },
   "source": [
    "##### Why did you choose the specific statistical test?"
   ]
  },
  {
   "cell_type": "markdown",
   "metadata": {
    "id": "HO4K0gP5y3B4"
   },
   "source": [
    "Answer Here."
   ]
  },
  {
   "cell_type": "markdown",
   "metadata": {
    "id": "4_0_7-oCpUZd"
   },
   "source": [
    "### Hypothetical Statement - 2"
   ]
  },
  {
   "cell_type": "markdown",
   "metadata": {
    "id": "hwyV_J3ipUZe"
   },
   "source": [
    "#### 1. State Your research hypothesis as a null hypothesis and alternate hypothesis."
   ]
  },
  {
   "cell_type": "markdown",
   "metadata": {
    "id": "FnpLGJ-4pUZe"
   },
   "source": [
    "Answer Here."
   ]
  },
  {
   "cell_type": "markdown",
   "metadata": {
    "id": "3yB-zSqbpUZe"
   },
   "source": [
    "#### 2. Perform an appropriate statistical test."
   ]
  },
  {
   "cell_type": "code",
   "execution_count": null,
   "metadata": {
    "id": "sWxdNTXNpUZe"
   },
   "outputs": [],
   "source": [
    "# Perform Statistical Test to obtain P-Value"
   ]
  },
  {
   "cell_type": "markdown",
   "metadata": {
    "id": "dEUvejAfpUZe"
   },
   "source": [
    "##### Which statistical test have you done to obtain P-Value?"
   ]
  },
  {
   "cell_type": "markdown",
   "metadata": {
    "id": "oLDrPz7HpUZf"
   },
   "source": [
    "Answer Here."
   ]
  },
  {
   "cell_type": "markdown",
   "metadata": {
    "id": "Fd15vwWVpUZf"
   },
   "source": [
    "##### Why did you choose the specific statistical test?"
   ]
  },
  {
   "cell_type": "markdown",
   "metadata": {
    "id": "4xOGYyiBpUZf"
   },
   "source": [
    "Answer Here."
   ]
  },
  {
   "cell_type": "markdown",
   "metadata": {
    "id": "bn_IUdTipZyH"
   },
   "source": [
    "### Hypothetical Statement - 3"
   ]
  },
  {
   "cell_type": "markdown",
   "metadata": {
    "id": "49K5P_iCpZyH"
   },
   "source": [
    "#### 1. State Your research hypothesis as a null hypothesis and alternate hypothesis."
   ]
  },
  {
   "cell_type": "markdown",
   "metadata": {
    "id": "7gWI5rT9pZyH"
   },
   "source": [
    "Answer Here."
   ]
  },
  {
   "cell_type": "markdown",
   "metadata": {
    "id": "Nff-vKELpZyI"
   },
   "source": [
    "#### 2. Perform an appropriate statistical test."
   ]
  },
  {
   "cell_type": "code",
   "execution_count": null,
   "metadata": {
    "id": "s6AnJQjtpZyI"
   },
   "outputs": [],
   "source": [
    "# Perform Statistical Test to obtain P-Value"
   ]
  },
  {
   "cell_type": "markdown",
   "metadata": {
    "id": "kLW572S8pZyI"
   },
   "source": [
    "##### Which statistical test have you done to obtain P-Value?"
   ]
  },
  {
   "cell_type": "markdown",
   "metadata": {
    "id": "ytWJ8v15pZyI"
   },
   "source": [
    "Answer Here."
   ]
  },
  {
   "cell_type": "markdown",
   "metadata": {
    "id": "dWbDXHzopZyI"
   },
   "source": [
    "##### Why did you choose the specific statistical test?"
   ]
  },
  {
   "cell_type": "markdown",
   "metadata": {
    "id": "M99G98V6pZyI"
   },
   "source": [
    "Answer Here."
   ]
  },
  {
   "cell_type": "markdown",
   "metadata": {
    "id": "yLjJCtPM0KBk"
   },
   "source": [
    "## ***6. Feature Engineering & Data Pre-processing***"
   ]
  },
  {
   "cell_type": "markdown",
   "metadata": {
    "id": "xiyOF9F70UgQ"
   },
   "source": [
    "### 1. Handling Missing Values"
   ]
  },
  {
   "cell_type": "code",
   "execution_count": null,
   "metadata": {
    "id": "iRsAHk1K0fpS"
   },
   "outputs": [],
   "source": [
    "# Handling Missing Values & Missing Value Imputation"
   ]
  },
  {
   "cell_type": "markdown",
   "metadata": {
    "id": "7wuGOrhz0itI"
   },
   "source": [
    "#### What all missing value imputation techniques have you used and why did you use those techniques?"
   ]
  },
  {
   "cell_type": "markdown",
   "metadata": {
    "id": "1ixusLtI0pqI"
   },
   "source": [
    "Answer Here."
   ]
  },
  {
   "cell_type": "markdown",
   "metadata": {
    "id": "id1riN9m0vUs"
   },
   "source": [
    "### 2. Handling Outliers"
   ]
  },
  {
   "cell_type": "code",
   "execution_count": null,
   "metadata": {
    "id": "M6w2CzZf04JK"
   },
   "outputs": [],
   "source": [
    "# Handling Outliers & Outlier treatments"
   ]
  },
  {
   "cell_type": "markdown",
   "metadata": {
    "id": "578E2V7j08f6"
   },
   "source": [
    "##### What all outlier treatment techniques have you used and why did you use those techniques?"
   ]
  },
  {
   "cell_type": "markdown",
   "metadata": {
    "id": "uGZz5OrT1HH-"
   },
   "source": [
    "Answer Here."
   ]
  },
  {
   "cell_type": "markdown",
   "metadata": {
    "id": "89xtkJwZ18nB"
   },
   "source": [
    "### 3. Categorical Encoding"
   ]
  },
  {
   "cell_type": "code",
   "execution_count": null,
   "metadata": {
    "id": "21JmIYMG2hEo"
   },
   "outputs": [],
   "source": [
    "# Encode your categorical columns"
   ]
  },
  {
   "cell_type": "markdown",
   "metadata": {
    "id": "67NQN5KX2AMe"
   },
   "source": [
    "#### What all categorical encoding techniques have you used & why did you use those techniques?"
   ]
  },
  {
   "cell_type": "markdown",
   "metadata": {
    "id": "UDaue5h32n_G"
   },
   "source": [
    "Answer Here."
   ]
  },
  {
   "cell_type": "markdown",
   "metadata": {
    "id": "Iwf50b-R2tYG"
   },
   "source": [
    "### 4. Textual Data Preprocessing \n",
    "(It's mandatory for textual dataset i.e., NLP, Sentiment Analysis, Text Clustering etc.)"
   ]
  },
  {
   "cell_type": "markdown",
   "metadata": {
    "id": "GMQiZwjn3iu7"
   },
   "source": [
    "#### 1. Expand Contraction"
   ]
  },
  {
   "cell_type": "code",
   "execution_count": null,
   "metadata": {
    "id": "PTouz10C3oNN"
   },
   "outputs": [],
   "source": [
    "# Expand Contraction\n"
   ]
  },
  {
   "cell_type": "markdown",
   "metadata": {
    "id": "WVIkgGqN3qsr"
   },
   "source": [
    "#### 2. Lower Casing"
   ]
  },
  {
   "cell_type": "code",
   "execution_count": null,
   "metadata": {
    "id": "88JnJ1jN3w7j"
   },
   "outputs": [],
   "source": [
    "# Lower Casing"
   ]
  },
  {
   "cell_type": "markdown",
   "metadata": {
    "id": "XkPnILGE3zoT"
   },
   "source": [
    "#### 3. Removing Punctuations"
   ]
  },
  {
   "cell_type": "code",
   "execution_count": null,
   "metadata": {
    "id": "vqbBqNaA33c0"
   },
   "outputs": [],
   "source": [
    "# Remove Punctuations"
   ]
  },
  {
   "cell_type": "markdown",
   "metadata": {
    "id": "Hlsf0x5436Go"
   },
   "source": [
    "#### 4. Removing URLs & Removing words and digits contain digits."
   ]
  },
  {
   "cell_type": "code",
   "execution_count": null,
   "metadata": {
    "id": "2sxKgKxu4Ip3"
   },
   "outputs": [],
   "source": [
    "# Remove URLs & Remove words and digits contain digits"
   ]
  },
  {
   "cell_type": "markdown",
   "metadata": {
    "id": "mT9DMSJo4nBL"
   },
   "source": [
    "#### 5. Removing Stopwords & Removing White spaces"
   ]
  },
  {
   "cell_type": "code",
   "execution_count": null,
   "metadata": {
    "id": "T2LSJh154s8W"
   },
   "outputs": [],
   "source": [
    "# Remove Stopwords"
   ]
  },
  {
   "cell_type": "code",
   "execution_count": null,
   "metadata": {
    "id": "EgLJGffy4vm0"
   },
   "outputs": [],
   "source": [
    "# Remove White spaces"
   ]
  },
  {
   "cell_type": "markdown",
   "metadata": {
    "id": "c49ITxTc407N"
   },
   "source": [
    "#### 6. Rephrase Text"
   ]
  },
  {
   "cell_type": "code",
   "execution_count": null,
   "metadata": {
    "id": "foqY80Qu48N2"
   },
   "outputs": [],
   "source": [
    "# Rephrase Text"
   ]
  },
  {
   "cell_type": "markdown",
   "metadata": {
    "id": "OeJFEK0N496M"
   },
   "source": [
    "#### 7. Tokenization"
   ]
  },
  {
   "cell_type": "code",
   "execution_count": null,
   "metadata": {
    "id": "ijx1rUOS5CUU"
   },
   "outputs": [],
   "source": [
    "# Tokenization"
   ]
  },
  {
   "cell_type": "markdown",
   "metadata": {
    "id": "9ExmJH0g5HBk"
   },
   "source": [
    "#### 8. Text Normalization"
   ]
  },
  {
   "cell_type": "code",
   "execution_count": null,
   "metadata": {
    "id": "AIJ1a-Zc5PY8"
   },
   "outputs": [],
   "source": [
    "# Normalizing Text (i.e., Stemming, Lemmatization etc.)"
   ]
  },
  {
   "cell_type": "markdown",
   "metadata": {
    "id": "cJNqERVU536h"
   },
   "source": [
    "##### Which text normalization technique have you used and why?"
   ]
  },
  {
   "cell_type": "markdown",
   "metadata": {
    "id": "Z9jKVxE06BC1"
   },
   "source": [
    "Answer Here."
   ]
  },
  {
   "cell_type": "markdown",
   "metadata": {
    "id": "k5UmGsbsOxih"
   },
   "source": [
    "#### 9. Part of speech tagging"
   ]
  },
  {
   "cell_type": "code",
   "execution_count": null,
   "metadata": {
    "id": "btT3ZJBAO6Ik"
   },
   "outputs": [],
   "source": [
    "# POS Taging"
   ]
  },
  {
   "cell_type": "markdown",
   "metadata": {
    "id": "T0VqWOYE6DLQ"
   },
   "source": [
    "#### 10. Text Vectorization"
   ]
  },
  {
   "cell_type": "code",
   "execution_count": null,
   "metadata": {
    "id": "yBRtdhth6JDE"
   },
   "outputs": [],
   "source": [
    "# Vectorizing Text"
   ]
  },
  {
   "cell_type": "markdown",
   "metadata": {
    "id": "qBMux9mC6MCf"
   },
   "source": [
    "##### Which text vectorization technique have you used and why?"
   ]
  },
  {
   "cell_type": "markdown",
   "metadata": {
    "id": "su2EnbCh6UKQ"
   },
   "source": [
    "Answer Here."
   ]
  },
  {
   "cell_type": "markdown",
   "metadata": {
    "id": "-oLEiFgy-5Pf"
   },
   "source": [
    "### 4. Feature Manipulation & Selection"
   ]
  },
  {
   "cell_type": "markdown",
   "metadata": {
    "id": "C74aWNz2AliB"
   },
   "source": [
    "#### 1. Feature Manipulation"
   ]
  },
  {
   "cell_type": "code",
   "execution_count": null,
   "metadata": {
    "id": "h1qC4yhBApWC"
   },
   "outputs": [],
   "source": [
    "# Manipulate Features to minimize feature correlation and create new features"
   ]
  },
  {
   "cell_type": "markdown",
   "metadata": {
    "id": "2DejudWSA-a0"
   },
   "source": [
    "#### 2. Feature Selection"
   ]
  },
  {
   "cell_type": "code",
   "execution_count": null,
   "metadata": {
    "id": "YLhe8UmaBCEE"
   },
   "outputs": [],
   "source": [
    "# Select your features wisely to avoid overfitting"
   ]
  },
  {
   "cell_type": "markdown",
   "metadata": {
    "id": "pEMng2IbBLp7"
   },
   "source": [
    "##### What all feature selection methods have you used  and why?"
   ]
  },
  {
   "cell_type": "markdown",
   "metadata": {
    "id": "rb2Lh6Z8BgGs"
   },
   "source": [
    "Answer Here."
   ]
  },
  {
   "cell_type": "markdown",
   "metadata": {
    "id": "rAdphbQ9Bhjc"
   },
   "source": [
    "##### Which all features you found important and why?"
   ]
  },
  {
   "cell_type": "markdown",
   "metadata": {
    "id": "fGgaEstsBnaf"
   },
   "source": [
    "Answer Here."
   ]
  },
  {
   "cell_type": "markdown",
   "metadata": {
    "id": "TNVZ9zx19K6k"
   },
   "source": [
    "### 5. Data Transformation"
   ]
  },
  {
   "cell_type": "markdown",
   "metadata": {
    "id": "nqoHp30x9hH9"
   },
   "source": [
    "#### Do you think that your data needs to be transformed? If yes, which transformation have you used. Explain Why?"
   ]
  },
  {
   "cell_type": "code",
   "execution_count": null,
   "metadata": {
    "id": "I6quWQ1T9rtH"
   },
   "outputs": [],
   "source": [
    "# Transform Your data"
   ]
  },
  {
   "cell_type": "markdown",
   "metadata": {
    "id": "rMDnDkt2B6du"
   },
   "source": [
    "### 6. Data Scaling"
   ]
  },
  {
   "cell_type": "code",
   "execution_count": null,
   "metadata": {
    "id": "dL9LWpySC6x_"
   },
   "outputs": [],
   "source": [
    "# Scaling your data"
   ]
  },
  {
   "cell_type": "markdown",
   "metadata": {
    "id": "yiiVWRdJDDil"
   },
   "source": [
    "##### Which method have you used to scale you data and why?"
   ]
  },
  {
   "cell_type": "markdown",
   "metadata": {
    "id": "1UUpS68QDMuG"
   },
   "source": [
    "### 7. Dimesionality Reduction"
   ]
  },
  {
   "cell_type": "markdown",
   "metadata": {
    "id": "kexQrXU-DjzY"
   },
   "source": [
    "##### Do you think that dimensionality reduction is needed? Explain Why?"
   ]
  },
  {
   "cell_type": "markdown",
   "metadata": {
    "id": "GGRlBsSGDtTQ"
   },
   "source": [
    "Answer Here."
   ]
  },
  {
   "cell_type": "code",
   "execution_count": null,
   "metadata": {
    "id": "kQfvxBBHDvCa"
   },
   "outputs": [],
   "source": [
    "# DImensionality Reduction (If needed)"
   ]
  },
  {
   "cell_type": "markdown",
   "metadata": {
    "id": "T5CmagL3EC8N"
   },
   "source": [
    "##### Which dimensionality reduction technique have you used and why? (If dimensionality reduction done on dataset.)"
   ]
  },
  {
   "cell_type": "markdown",
   "metadata": {
    "id": "ZKr75IDuEM7t"
   },
   "source": [
    "Answer Here."
   ]
  },
  {
   "cell_type": "markdown",
   "metadata": {
    "id": "BhH2vgX9EjGr"
   },
   "source": [
    "### 8. Data Splitting"
   ]
  },
  {
   "cell_type": "code",
   "execution_count": null,
   "metadata": {
    "id": "0CTyd2UwEyNM"
   },
   "outputs": [],
   "source": [
    "# Split your data to train and test. Choose Splitting ratio wisely."
   ]
  },
  {
   "cell_type": "markdown",
   "metadata": {
    "id": "qjKvONjwE8ra"
   },
   "source": [
    "##### What data splitting ratio have you used and why? "
   ]
  },
  {
   "cell_type": "markdown",
   "metadata": {
    "id": "Y2lJ8cobFDb_"
   },
   "source": [
    "Answer Here."
   ]
  },
  {
   "cell_type": "markdown",
   "metadata": {
    "id": "P1XJ9OREExlT"
   },
   "source": [
    "### 9. Handling Imbalanced Dataset"
   ]
  },
  {
   "cell_type": "markdown",
   "metadata": {
    "id": "VFOzZv6IFROw"
   },
   "source": [
    "##### Do you think the dataset is imbalanced? Explain Why."
   ]
  },
  {
   "cell_type": "markdown",
   "metadata": {
    "id": "GeKDIv7pFgcC"
   },
   "source": [
    "Answer Here."
   ]
  },
  {
   "cell_type": "code",
   "execution_count": null,
   "metadata": {
    "id": "nQsRhhZLFiDs"
   },
   "outputs": [],
   "source": [
    "# Handling Imbalanced Dataset (If needed)"
   ]
  },
  {
   "cell_type": "markdown",
   "metadata": {
    "id": "TIqpNgepFxVj"
   },
   "source": [
    "##### What technique did you use to handle the imbalance dataset and why? (If needed to be balanced)"
   ]
  },
  {
   "cell_type": "markdown",
   "metadata": {
    "id": "qbet1HwdGDTz"
   },
   "source": [
    "Answer Here."
   ]
  },
  {
   "cell_type": "markdown",
   "metadata": {
    "id": "VfCC591jGiD4"
   },
   "source": [
    "## ***7. ML Model Implementation***"
   ]
  },
  {
   "cell_type": "markdown",
   "metadata": {
    "id": "OB4l2ZhMeS1U"
   },
   "source": [
    "### ML Model - 1"
   ]
  },
  {
   "cell_type": "code",
   "execution_count": null,
   "metadata": {
    "id": "7ebyywQieS1U"
   },
   "outputs": [],
   "source": [
    "# ML Model - 1 Implementation\n",
    "\n",
    "# Fit the Algorithm\n",
    "\n",
    "# Predict on the model"
   ]
  },
  {
   "cell_type": "markdown",
   "metadata": {
    "id": "ArJBuiUVfxKd"
   },
   "source": [
    "#### 1. Explain the ML Model used and it's performance using Evaluation metric Score Chart."
   ]
  },
  {
   "cell_type": "code",
   "execution_count": null,
   "metadata": {
    "id": "rqD5ZohzfxKe"
   },
   "outputs": [],
   "source": [
    "# Visualizing evaluation Metric Score chart"
   ]
  },
  {
   "cell_type": "markdown",
   "metadata": {
    "id": "4qY1EAkEfxKe"
   },
   "source": [
    "#### 2. Cross- Validation & Hyperparameter Tuning"
   ]
  },
  {
   "cell_type": "code",
   "execution_count": null,
   "metadata": {
    "id": "Dy61ujd6fxKe"
   },
   "outputs": [],
   "source": [
    "# ML Model - 1 Implementation with hyperparameter optimization techniques (i.e., GridSearch CV, RandomSearch CV, Bayesian Optimization etc.)\n",
    "\n",
    "# Fit the Algorithm\n",
    "\n",
    "# Predict on the model"
   ]
  },
  {
   "cell_type": "markdown",
   "metadata": {
    "id": "PiV4Ypx8fxKe"
   },
   "source": [
    "##### Which hyperparameter optimization technique have you used and why?"
   ]
  },
  {
   "cell_type": "markdown",
   "metadata": {
    "id": "negyGRa7fxKf"
   },
   "source": [
    "Answer Here."
   ]
  },
  {
   "cell_type": "markdown",
   "metadata": {
    "id": "TfvqoZmBfxKf"
   },
   "source": [
    "##### Have you seen any improvement? Note down the improvement with updates Evaluation metric Score Chart."
   ]
  },
  {
   "cell_type": "markdown",
   "metadata": {
    "id": "OaLui8CcfxKf"
   },
   "source": [
    "Answer Here."
   ]
  },
  {
   "cell_type": "markdown",
   "metadata": {
    "id": "dJ2tPlVmpsJ0"
   },
   "source": [
    "### ML Model - 2"
   ]
  },
  {
   "cell_type": "markdown",
   "metadata": {
    "id": "JWYfwnehpsJ1"
   },
   "source": [
    "#### 1. Explain the ML Model used and it's performance using Evaluation metric Score Chart."
   ]
  },
  {
   "cell_type": "code",
   "execution_count": null,
   "metadata": {
    "id": "yEl-hgQWpsJ1"
   },
   "outputs": [],
   "source": [
    "# Visualizing evaluation Metric Score chart"
   ]
  },
  {
   "cell_type": "markdown",
   "metadata": {
    "id": "-jK_YjpMpsJ2"
   },
   "source": [
    "#### 2. Cross- Validation & Hyperparameter Tuning"
   ]
  },
  {
   "cell_type": "code",
   "execution_count": null,
   "metadata": {
    "id": "Dn0EOfS6psJ2"
   },
   "outputs": [],
   "source": [
    "# ML Model - 1 Implementation with hyperparameter optimization techniques (i.e., GridSearch CV, RandomSearch CV, Bayesian Optimization etc.)\n",
    "\n",
    "# Fit the Algorithm\n",
    "\n",
    "# Predict on the model"
   ]
  },
  {
   "cell_type": "markdown",
   "metadata": {
    "id": "HAih1iBOpsJ2"
   },
   "source": [
    "##### Which hyperparameter optimization technique have you used and why?"
   ]
  },
  {
   "cell_type": "markdown",
   "metadata": {
    "id": "9kBgjYcdpsJ2"
   },
   "source": [
    "Answer Here."
   ]
  },
  {
   "cell_type": "markdown",
   "metadata": {
    "id": "zVGeBEFhpsJ2"
   },
   "source": [
    "##### Have you seen any improvement? Note down the improvement with updates Evaluation metric Score Chart."
   ]
  },
  {
   "cell_type": "markdown",
   "metadata": {
    "id": "74yRdG6UpsJ3"
   },
   "source": [
    "Answer Here."
   ]
  },
  {
   "cell_type": "markdown",
   "metadata": {
    "id": "bmKjuQ-FpsJ3"
   },
   "source": [
    "#### 3. Explain each evaluation metric's indication towards business and the business impact pf the ML model used."
   ]
  },
  {
   "cell_type": "markdown",
   "metadata": {
    "id": "BDKtOrBQpsJ3"
   },
   "source": [
    "Answer Here."
   ]
  },
  {
   "cell_type": "markdown",
   "metadata": {
    "id": "Fze-IPXLpx6K"
   },
   "source": [
    "### ML Model - 3"
   ]
  },
  {
   "cell_type": "code",
   "execution_count": null,
   "metadata": {
    "id": "FFrSXAtrpx6M"
   },
   "outputs": [],
   "source": [
    "# ML Model - 3 Implementation\n",
    "\n",
    "# Fit the Algorithm\n",
    "\n",
    "# Predict on the model"
   ]
  },
  {
   "cell_type": "markdown",
   "metadata": {
    "id": "7AN1z2sKpx6M"
   },
   "source": [
    "#### 1. Explain the ML Model used and it's performance using Evaluation metric Score Chart."
   ]
  },
  {
   "cell_type": "code",
   "execution_count": null,
   "metadata": {
    "id": "xIY4lxxGpx6M"
   },
   "outputs": [],
   "source": [
    "# Visualizing evaluation Metric Score chart"
   ]
  },
  {
   "cell_type": "markdown",
   "metadata": {
    "id": "9PIHJqyupx6M"
   },
   "source": [
    "#### 2. Cross- Validation & Hyperparameter Tuning"
   ]
  },
  {
   "cell_type": "code",
   "execution_count": null,
   "metadata": {
    "id": "eSVXuaSKpx6M"
   },
   "outputs": [],
   "source": [
    "# ML Model - 3 Implementation with hyperparameter optimization techniques (i.e., GridSearch CV, RandomSearch CV, Bayesian Optimization etc.)\n",
    "\n",
    "# Fit the Algorithm\n",
    "\n",
    "# Predict on the model"
   ]
  },
  {
   "cell_type": "markdown",
   "metadata": {
    "id": "_-qAgymDpx6N"
   },
   "source": [
    "##### Which hyperparameter optimization technique have you used and why?"
   ]
  },
  {
   "cell_type": "markdown",
   "metadata": {
    "id": "lQMffxkwpx6N"
   },
   "source": [
    "Answer Here."
   ]
  },
  {
   "cell_type": "markdown",
   "metadata": {
    "id": "Z-hykwinpx6N"
   },
   "source": [
    "##### Have you seen any improvement? Note down the improvement with updates Evaluation metric Score Chart."
   ]
  },
  {
   "cell_type": "markdown",
   "metadata": {
    "id": "MzVzZC6opx6N"
   },
   "source": [
    "Answer Here."
   ]
  },
  {
   "cell_type": "markdown",
   "metadata": {
    "id": "h_CCil-SKHpo"
   },
   "source": [
    "### 1. Which Evaluation metrics did you consider for a positive business impact and why?"
   ]
  },
  {
   "cell_type": "markdown",
   "metadata": {
    "id": "jHVz9hHDKFms"
   },
   "source": [
    "Answer Here."
   ]
  },
  {
   "cell_type": "markdown",
   "metadata": {
    "id": "cBFFvTBNJzUa"
   },
   "source": [
    "### 2. Which ML model did you choose from the above created models as your final prediction model and why?"
   ]
  },
  {
   "cell_type": "markdown",
   "metadata": {
    "id": "6ksF5Q1LKTVm"
   },
   "source": [
    "Answer Here."
   ]
  },
  {
   "cell_type": "markdown",
   "metadata": {
    "id": "HvGl1hHyA_VK"
   },
   "source": [
    "### 3. Explain the model which you have used and the feature importance using any model explainability tool?"
   ]
  },
  {
   "cell_type": "markdown",
   "metadata": {
    "id": "YnvVTiIxBL-C"
   },
   "source": [
    "Answer Here."
   ]
  },
  {
   "cell_type": "markdown",
   "metadata": {
    "id": "EyNgTHvd2WFk"
   },
   "source": [
    "## ***8.*** ***Future Work (Optional)***"
   ]
  },
  {
   "cell_type": "markdown",
   "metadata": {
    "id": "KH5McJBi2d8v"
   },
   "source": [
    "### 1. Save the best performing ml model in a pickle file or joblib file format for deployment process.\n"
   ]
  },
  {
   "cell_type": "code",
   "execution_count": null,
   "metadata": {
    "id": "bQIANRl32f4J"
   },
   "outputs": [],
   "source": [
    "# Save the File"
   ]
  },
  {
   "cell_type": "markdown",
   "metadata": {
    "id": "iW_Lq9qf2h6X"
   },
   "source": [
    "### 2. Again Load the saved model file and try to predict unseen data for a sanity check.\n"
   ]
  },
  {
   "cell_type": "code",
   "execution_count": null,
   "metadata": {
    "id": "oEXk9ydD2nVC"
   },
   "outputs": [],
   "source": [
    "# Load the File and predict unseen data."
   ]
  },
  {
   "cell_type": "markdown",
   "metadata": {
    "id": "-Kee-DAl2viO"
   },
   "source": [
    "### ***Congrats! Your model is successfully created and ready for deployment on a live server for a real user interaction !!!***"
   ]
  },
  {
   "cell_type": "markdown",
   "metadata": {
    "id": "gCX9965dhzqZ"
   },
   "source": [
    "# **Conclusion**"
   ]
  },
  {
   "cell_type": "markdown",
   "metadata": {
    "id": "Fjb1IsQkh3yE"
   },
   "source": [
    "Write the conclusion here."
   ]
  },
  {
   "cell_type": "markdown",
   "metadata": {
    "id": "gIfDvo9L0UH2"
   },
   "source": [
    "### ***Hurrah! You have successfully completed your Machine Learning Capstone Project !!!***"
   ]
  },
  {
   "cell_type": "code",
   "execution_count": null,
   "metadata": {},
   "outputs": [],
   "source": []
  }
 ],
 "metadata": {
  "colab": {
   "authorship_tag": "ABX9TyOeo+PWt+R5bUCtbj195tjB",
   "collapsed_sections": [
    "vncDsAP0Gaoa",
    "FJNUwmbgGyua",
    "w6K7xa23Elo4",
    "yQaldy8SH6Dl",
    "mDgbUHAGgjLW",
    "O_i_v8NEhb9l",
    "HhfV-JJviCcP",
    "Y3lxredqlCYt",
    "3RnN4peoiCZX",
    "x71ZqKXriCWQ",
    "7hBIi_osiCS2",
    "JlHwYmJAmNHm",
    "35m5QtbWiB9F",
    "PoPl-ycgm1ru",
    "H0kj-8xxnORC",
    "nA9Y7ga8ng1Z",
    "PBTbrJXOngz2",
    "u3PMJOP6ngxN",
    "dauF4eBmngu3",
    "bKJF3rekwFvQ",
    "MSa1f5Uengrz",
    "GF8Ens_Soomf",
    "0wOQAZs5pc--",
    "K5QZ13OEpz2H",
    "lQ7QKXXCp7Bj",
    "448CDAPjqfQr",
    "KSlN3yHqYklG",
    "t6dVpIINYklI",
    "ijmpgYnKYklI",
    "-JiQyfWJYklI",
    "EM7whBJCYoAo",
    "fge-S5ZAYoAp",
    "85gYPyotYoAp",
    "RoGjAbkUYoAp",
    "4Of9eVA-YrdM",
    "iky9q4vBYrdO",
    "F6T5p64dYrdO",
    "y-Ehk30pYrdP",
    "bamQiAODYuh1",
    "QHF8YVU7Yuh3",
    "GwzvFGzlYuh3",
    "qYpmQ266Yuh3",
    "OH-pJp9IphqM",
    "bbFf2-_FphqN",
    "_ouA3fa0phqN",
    "Seke61FWphqN",
    "PIIx-8_IphqN",
    "t27r6nlMphqO",
    "r2jJGEOYphqO",
    "b0JNsNcRphqO",
    "BZR9WyysphqO",
    "jj7wYXLtphqO",
    "eZrbJ2SmphqO",
    "rFu4xreNphqO",
    "YJ55k-q6phqO",
    "gCFgpxoyphqP",
    "OVtJsKN_phqQ",
    "lssrdh5qphqQ",
    "U2RJ9gkRphqQ",
    "1M8mcRywphqQ",
    "tgIPom80phqQ",
    "JMzcOPDDphqR",
    "x-EpHcCOp1ci",
    "X_VqEhTip1ck",
    "8zGJKyg5p1ck",
    "PVzmfK_Ep1ck",
    "n3dbpmDWp1ck",
    "ylSl6qgtp1ck",
    "ZWILFDl5p1ck",
    "M7G43BXep1ck",
    "Ag9LCva-p1cl",
    "E6MkPsBcp1cl",
    "2cELzS2fp1cl",
    "3MPXvC8up1cl",
    "NC_X3p0fY2L0",
    "UV0SzAkaZNRQ",
    "YPEH6qLeZNRQ",
    "q29F0dvdveiT",
    "EXh0U9oCveiU",
    "22aHeOlLveiV",
    "g-ATYxFrGrvw",
    "Yfr_Vlr8HBkt",
    "8yEUt7NnHlrM",
    "tEA2Xm5dHt1r",
    "I79__PHVH19G",
    "Ou-I18pAyIpj",
    "fF3858GYyt-u",
    "4_0_7-oCpUZd",
    "hwyV_J3ipUZe",
    "3yB-zSqbpUZe",
    "dEUvejAfpUZe",
    "Fd15vwWVpUZf",
    "bn_IUdTipZyH",
    "49K5P_iCpZyH",
    "Nff-vKELpZyI",
    "kLW572S8pZyI",
    "dWbDXHzopZyI",
    "yLjJCtPM0KBk",
    "xiyOF9F70UgQ",
    "7wuGOrhz0itI",
    "id1riN9m0vUs",
    "578E2V7j08f6",
    "89xtkJwZ18nB",
    "67NQN5KX2AMe",
    "Iwf50b-R2tYG",
    "GMQiZwjn3iu7",
    "WVIkgGqN3qsr",
    "XkPnILGE3zoT",
    "Hlsf0x5436Go",
    "mT9DMSJo4nBL",
    "c49ITxTc407N",
    "OeJFEK0N496M",
    "9ExmJH0g5HBk",
    "cJNqERVU536h",
    "k5UmGsbsOxih",
    "T0VqWOYE6DLQ",
    "qBMux9mC6MCf",
    "-oLEiFgy-5Pf",
    "C74aWNz2AliB",
    "2DejudWSA-a0",
    "pEMng2IbBLp7",
    "rAdphbQ9Bhjc",
    "TNVZ9zx19K6k",
    "nqoHp30x9hH9",
    "rMDnDkt2B6du",
    "yiiVWRdJDDil",
    "1UUpS68QDMuG",
    "kexQrXU-DjzY",
    "T5CmagL3EC8N",
    "BhH2vgX9EjGr",
    "qjKvONjwE8ra",
    "P1XJ9OREExlT",
    "VFOzZv6IFROw",
    "TIqpNgepFxVj",
    "VfCC591jGiD4",
    "OB4l2ZhMeS1U",
    "ArJBuiUVfxKd",
    "4qY1EAkEfxKe",
    "PiV4Ypx8fxKe",
    "TfvqoZmBfxKf",
    "dJ2tPlVmpsJ0",
    "JWYfwnehpsJ1",
    "-jK_YjpMpsJ2",
    "HAih1iBOpsJ2",
    "zVGeBEFhpsJ2",
    "bmKjuQ-FpsJ3",
    "Fze-IPXLpx6K",
    "7AN1z2sKpx6M",
    "9PIHJqyupx6M",
    "_-qAgymDpx6N",
    "Z-hykwinpx6N",
    "h_CCil-SKHpo",
    "cBFFvTBNJzUa",
    "HvGl1hHyA_VK",
    "EyNgTHvd2WFk",
    "KH5McJBi2d8v",
    "iW_Lq9qf2h6X",
    "-Kee-DAl2viO",
    "gCX9965dhzqZ",
    "gIfDvo9L0UH2"
   ],
   "private_outputs": true,
   "provenance": []
  },
  "kernelspec": {
   "display_name": ".venv",
   "language": "python",
   "name": "python3"
  },
  "language_info": {
   "codemirror_mode": {
    "name": "ipython",
    "version": 3
   },
   "file_extension": ".py",
   "mimetype": "text/x-python",
   "name": "python",
   "nbconvert_exporter": "python",
   "pygments_lexer": "ipython3",
   "version": "3.9.6"
  }
 },
 "nbformat": 4,
 "nbformat_minor": 0
}
